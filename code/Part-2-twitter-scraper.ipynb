{
 "cells": [
  {
   "cell_type": "markdown",
   "metadata": {},
   "source": [
    "# RGR Stock Price Forecasting Project - Part 2\n",
    "\n",
    "Author: Jack Wang\n",
    "\n",
    "---\n",
    "\n",
    "## Problem Statement\n",
    "\n",
    "Stock prices are hard to predict because they are not only affected by the performance of the underlying companies but also the expectations from the general public. As known, the stock price of firearm companies are highly correlated to the public opinions toward gun control. My model intends to predict the stock price of one of the largest firearm company in the states, RGR (Sturm, Ruger & Co., firearm company), by using its historical stock price, public opinions toward gun control, and its financial reports to SEC. \n",
    "\n",
    "## Executive Summary\n",
    "\n",
    "The goal of my projcet is to build a **time series regression model** that predicts the stock price of RGR. The data I am using would be historical stock price from [Yahoo Finance](https://finance.yahoo.com/quote/RGR/history?p=RGR), twitter posts scraped from [twitter](https://twitter.com/), subreddit posts mentioned about gun control, and also the financial reports to [SEC](https://www.sec.gov/cgi-bin/browse-edgar?action=getcompany&CIK=0000095029&type=&dateb=&owner=exclude&count=100). I will do sentiment analysis on the text data and time series modeling on the historical stock price data. The model will be evaluated using MSE.\n",
    "\n",
    "## Content\n",
    "\n",
    "This project consists of 7 Jupyter notebooks:\n",
    "- Part-1-stock-price-data\n",
    "- ***Part-2-twitter-scraper***\n",
    "- Part-3-twitter-data-cleaning\n",
    "- Part-4-reddit-data-scraper\n",
    "- Part-5-reddit-data-cleaning\n",
    "- Part-6-sec-data-cleaning\n",
    "- Part-7-modeling-and-evaluation\n",
    "\n",
    "\n",
    "---\n"
   ]
  },
  {
   "cell_type": "markdown",
   "metadata": {},
   "source": [
    "**Since the Twitter API has limitation on requests, I will be using [twitterscraper](https://github.com/taspinar/twitterscraper) created by taspinar on GitHub to collect my Twitter data.**"
   ]
  },
  {
   "cell_type": "markdown",
   "metadata": {},
   "source": [
    "### Twitter scraper"
   ]
  },
  {
   "cell_type": "code",
   "execution_count": 1,
   "metadata": {},
   "outputs": [],
   "source": [
    "!pip install twitterscraper"
   ]
  },
  {
   "cell_type": "code",
   "execution_count": 2,
   "metadata": {
    "scrolled": false
   },
   "outputs": [
    {
     "name": "stderr",
     "output_type": "stream",
     "text": [
      "INFO: {'User-Agent': 'Mozilla/5.0 (Windows; U; Windows NT 6.1; rv:2.2) Gecko/20110201'}\n"
     ]
    }
   ],
   "source": [
    "from twitterscraper import query_tweets\n",
    "import pandas as pd\n",
    "import datetime, time\n",
    "import re\n",
    "from nltk.tokenize import RegexpTokenizer\n",
    "from nltk.sentiment.vader import SentimentIntensityAnalyzer"
   ]
  },
  {
   "cell_type": "code",
   "execution_count": 3,
   "metadata": {},
   "outputs": [],
   "source": [
    "# Keywords I want to search for\n",
    "query_string = f'\"gun ban\" OR \"gun control\" OR \"firearm control\" OR'\\\n",
    "               f' \"gun-control\" OR \"firearm-control\" OR \"gun reform\" OR \"gun-reform\" OR'\\\n",
    "               f' \"firearm-reform\" OR \"firearm reform\" -filter:retweets'\n",
    "\n",
    "query_string"
   ]
  },
  {
   "cell_type": "code",
   "execution_count": 5,
   "metadata": {
    "scrolled": true
   },
   "outputs": [
    {
     "name": "stderr",
     "output_type": "stream",
     "text": [
      "INFO: queries: ['\"gun ban\" OR \"gun control\" OR \"firearm control\" OR \"gun-control\" OR \"firearm-control\" OR \"gun reform\" OR \"gun-reform\" OR \"firearm-reform\" OR \"firearm reform\" -filter:retweets since:2016-11-10 until:2016-11-11', '\"gun ban\" OR \"gun control\" OR \"firearm control\" OR \"gun-control\" OR \"firearm-control\" OR \"gun reform\" OR \"gun-reform\" OR \"firearm-reform\" OR \"firearm reform\" -filter:retweets since:2016-11-11 until:2016-11-12']\n",
      "INFO: Querying \"gun ban\" OR \"gun control\" OR \"firearm control\" OR \"gun-control\" OR \"firearm-control\" OR \"gun reform\" OR \"gun-reform\" OR \"firearm-reform\" OR \"firearm reform\" -filter:retweets since:2016-11-11 until:2016-11-12\n",
      "INFO: Querying \"gun ban\" OR \"gun control\" OR \"firearm control\" OR \"gun-control\" OR \"firearm-control\" OR \"gun reform\" OR \"gun-reform\" OR \"firearm-reform\" OR \"firearm reform\" -filter:retweets since:2016-11-10 until:2016-11-11\n",
      "INFO: Scraping tweets from https://twitter.com/search?f=tweets&vertical=default&q=\"gun%20ban\"%20OR%20\"gun%20control\"%20OR%20\"firearm%20control\"%20OR%20\"gun-control\"%20OR%20\"firearm-control\"%20OR%20\"gun%20reform\"%20OR%20\"gun-reform\"%20OR%20\"firearm-reform\"%20OR%20\"firearm%20reform\"%20-filter%3Aretweets%20since%3A2016-11-11%20until%3A2016-11-12&l=en\n",
      "INFO: Scraping tweets from https://twitter.com/search?f=tweets&vertical=default&q=\"gun%20ban\"%20OR%20\"gun%20control\"%20OR%20\"firearm%20control\"%20OR%20\"gun-control\"%20OR%20\"firearm-control\"%20OR%20\"gun%20reform\"%20OR%20\"gun-reform\"%20OR%20\"firearm-reform\"%20OR%20\"firearm%20reform\"%20-filter%3Aretweets%20since%3A2016-11-10%20until%3A2016-11-11&l=en\n",
      "INFO: Using proxy 202.3.72.17:56242\n",
      "INFO: Using proxy 202.3.72.17:56242\n",
      "INFO: Scraping tweets from https://twitter.com/i/search/timeline?f=tweets&vertical=default&include_available_features=1&include_entities=1&reset_error_state=false&src=typd&max_position=TWEET-797221388624900096-797226824493395968&q=\"gun%20ban\"%20OR%20\"gun%20control\"%20OR%20\"firearm%20control\"%20OR%20\"gun-control\"%20OR%20\"firearm-control\"%20OR%20\"gun%20reform\"%20OR%20\"gun-reform\"%20OR%20\"firearm-reform\"%20OR%20\"firearm%20reform\"%20-filter%3Aretweets%20since%3A2016-11-11%20until%3A2016-11-12&l=en\n",
      "INFO: Using proxy 182.48.82.94:23500\n",
      "INFO: Scraping tweets from https://twitter.com/i/search/timeline?f=tweets&vertical=default&include_available_features=1&include_entities=1&reset_error_state=false&src=typd&max_position=TWEET-796860942025981952-796864797342072832&q=\"gun%20ban\"%20OR%20\"gun%20control\"%20OR%20\"firearm%20control\"%20OR%20\"gun-control\"%20OR%20\"firearm-control\"%20OR%20\"gun%20reform\"%20OR%20\"gun-reform\"%20OR%20\"firearm-reform\"%20OR%20\"firearm%20reform\"%20-filter%3Aretweets%20since%3A2016-11-10%20until%3A2016-11-11&l=en\n",
      "INFO: Using proxy 182.48.82.94:23500\n",
      "INFO: Scraping tweets from https://twitter.com/i/search/timeline?f=tweets&vertical=default&include_available_features=1&include_entities=1&reset_error_state=false&src=typd&max_position=thGAVUV0VFVBaAwKXFoaimkBYWgMC79dXkqJAWEjUAFQAlAFUAFQAA&q=\"gun%20ban\"%20OR%20\"gun%20control\"%20OR%20\"firearm%20control\"%20OR%20\"gun-control\"%20OR%20\"firearm-control\"%20OR%20\"gun%20reform\"%20OR%20\"gun-reform\"%20OR%20\"firearm-reform\"%20OR%20\"firearm%20reform\"%20-filter%3Aretweets%20since%3A2016-11-11%20until%3A2016-11-12&l=en\n",
      "INFO: Using proxy 190.157.247.65:53281\n",
      "INFO: Scraping tweets from https://twitter.com/i/search/timeline?f=tweets&vertical=default&include_available_features=1&include_entities=1&reset_error_state=false&src=typd&max_position=thGAVUV0VFVBaAgLyNwbOCjxYWgIC0ufWThI8WEjUAFQAlAFUAFQAA&q=\"gun%20ban\"%20OR%20\"gun%20control\"%20OR%20\"firearm%20control\"%20OR%20\"gun-control\"%20OR%20\"firearm-control\"%20OR%20\"gun%20reform\"%20OR%20\"gun-reform\"%20OR%20\"firearm-reform\"%20OR%20\"firearm%20reform\"%20-filter%3Aretweets%20since%3A2016-11-10%20until%3A2016-11-11&l=en\n",
      "INFO: Using proxy 190.157.247.65:53281\n",
      "INFO: Scraping tweets from https://twitter.com/i/search/timeline?f=tweets&vertical=default&include_available_features=1&include_entities=1&reset_error_state=false&src=typd&max_position=thGAVUV0VFVBaAwLDV5rClkBYWgMC79dXkqJAWEjUAFQAlAFUAFQAA&q=\"gun%20ban\"%20OR%20\"gun%20control\"%20OR%20\"firearm%20control\"%20OR%20\"gun-control\"%20OR%20\"firearm-control\"%20OR%20\"gun%20reform\"%20OR%20\"gun-reform\"%20OR%20\"firearm-reform\"%20OR%20\"firearm%20reform\"%20-filter%3Aretweets%20since%3A2016-11-11%20until%3A2016-11-12&l=en\n",
      "INFO: Using proxy 103.216.82.50:53281\n",
      "INFO: Scraping tweets from https://twitter.com/i/search/timeline?f=tweets&vertical=default&include_available_features=1&include_entities=1&reset_error_state=false&src=typd&max_position=thGAVUV0VFVBaEwLrJicP_jhYWgIC0ufWThI8WEjUAFQAlAFUAFQAA&q=\"gun%20ban\"%20OR%20\"gun%20control\"%20OR%20\"firearm%20control\"%20OR%20\"gun-control\"%20OR%20\"firearm-control\"%20OR%20\"gun%20reform\"%20OR%20\"gun-reform\"%20OR%20\"firearm-reform\"%20OR%20\"firearm%20reform\"%20-filter%3Aretweets%20since%3A2016-11-10%20until%3A2016-11-11&l=en\n",
      "INFO: Using proxy 103.216.82.50:53281\n",
      "INFO: Scraping tweets from https://twitter.com/i/search/timeline?f=tweets&vertical=default&include_available_features=1&include_entities=1&reset_error_state=false&src=typd&max_position=thGAVUV0VFVBaIwLuxuqGikBYWgMC79dXkqJAWEjUAFQAlAFUAFQAA&q=\"gun%20ban\"%20OR%20\"gun%20control\"%20OR%20\"firearm%20control\"%20OR%20\"gun-control\"%20OR%20\"firearm-control\"%20OR%20\"gun%20reform\"%20OR%20\"gun-reform\"%20OR%20\"firearm-reform\"%20OR%20\"firearm%20reform\"%20-filter%3Aretweets%20since%3A2016-11-11%20until%3A2016-11-12&l=en\n",
      "INFO: Using proxy 103.240.206.198:35101\n",
      "INFO: Scraping tweets from https://twitter.com/i/search/timeline?f=tweets&vertical=default&include_available_features=1&include_entities=1&reset_error_state=false&src=typd&max_position=thGAVUV0VFVBaAgLKtzcX9jhYWgIC0ufWThI8WEjUAFQAlAFUAFQAA&q=\"gun%20ban\"%20OR%20\"gun%20control\"%20OR%20\"firearm%20control\"%20OR%20\"gun-control\"%20OR%20\"firearm-control\"%20OR%20\"gun%20reform\"%20OR%20\"gun-reform\"%20OR%20\"firearm-reform\"%20OR%20\"firearm%20reform\"%20-filter%3Aretweets%20since%3A2016-11-10%20until%3A2016-11-11&l=en\n",
      "INFO: Using proxy 103.240.206.198:35101\n",
      "INFO: Scraping tweets from https://twitter.com/i/search/timeline?f=tweets&vertical=default&include_available_features=1&include_entities=1&reset_error_state=false&src=typd&max_position=thGAVUV0VFVBaAgKLh7ZL8jhYWgIC0ufWThI8WEjUAFQAlAFUAFQAA&q=\"gun%20ban\"%20OR%20\"gun%20control\"%20OR%20\"firearm%20control\"%20OR%20\"gun-control\"%20OR%20\"firearm-control\"%20OR%20\"gun%20reform\"%20OR%20\"gun-reform\"%20OR%20\"firearm-reform\"%20OR%20\"firearm%20reform\"%20-filter%3Aretweets%20since%3A2016-11-10%20until%3A2016-11-11&l=en\n",
      "INFO: Using proxy 118.172.51.84:30383\n",
      "INFO: Scraping tweets from https://twitter.com/i/search/timeline?f=tweets&vertical=default&include_available_features=1&include_entities=1&reset_error_state=false&src=typd&max_position=thGAVUV0VFVBaAwLqJzcaekBYWgMC79dXkqJAWEjUAFQAlAFUAFQAA&q=\"gun%20ban\"%20OR%20\"gun%20control\"%20OR%20\"firearm%20control\"%20OR%20\"gun-control\"%20OR%20\"firearm-control\"%20OR%20\"gun%20reform\"%20OR%20\"gun-reform\"%20OR%20\"firearm-reform\"%20OR%20\"firearm%20reform\"%20-filter%3Aretweets%20since%3A2016-11-11%20until%3A2016-11-12&l=en\n",
      "INFO: Using proxy 118.172.51.84:30383\n",
      "INFO: Scraping tweets from https://twitter.com/i/search/timeline?f=tweets&vertical=default&include_available_features=1&include_entities=1&reset_error_state=false&src=typd&max_position=thGAVUV0VFVBaAgKrVj5b6jhYWgIC0ufWThI8WEjUAFQAlAFUAFQAA&q=\"gun%20ban\"%20OR%20\"gun%20control\"%20OR%20\"firearm%20control\"%20OR%20\"gun-control\"%20OR%20\"firearm-control\"%20OR%20\"gun%20reform\"%20OR%20\"gun-reform\"%20OR%20\"firearm-reform\"%20OR%20\"firearm%20reform\"%20-filter%3Aretweets%20since%3A2016-11-10%20until%3A2016-11-11&l=en\n",
      "INFO: Using proxy 203.196.32.61:45305\n",
      "INFO: Scraping tweets from https://twitter.com/i/search/timeline?f=tweets&vertical=default&include_available_features=1&include_entities=1&reset_error_state=false&src=typd&max_position=thGAVUV0VFVBaAwLeFoYqbkBYWgMC79dXkqJAWEjUAFQAlAFUAFQAA&q=\"gun%20ban\"%20OR%20\"gun%20control\"%20OR%20\"firearm%20control\"%20OR%20\"gun-control\"%20OR%20\"firearm-control\"%20OR%20\"gun%20reform\"%20OR%20\"gun-reform\"%20OR%20\"firearm-reform\"%20OR%20\"firearm%20reform\"%20-filter%3Aretweets%20since%3A2016-11-11%20until%3A2016-11-12&l=en\n",
      "INFO: Using proxy 203.196.32.61:45305\n"
     ]
    },
    {
     "name": "stderr",
     "output_type": "stream",
     "text": [
      "INFO: Scraping tweets from https://twitter.com/i/search/timeline?f=tweets&vertical=default&include_available_features=1&include_entities=1&reset_error_state=false&src=typd&max_position=thGAVUV0VFVBaAwLvpgZ_4jhYWgIC0ufWThI8WEjUAFQAlAFUAFQAA&q=\"gun%20ban\"%20OR%20\"gun%20control\"%20OR%20\"firearm%20control\"%20OR%20\"gun-control\"%20OR%20\"firearm-control\"%20OR%20\"gun%20reform\"%20OR%20\"gun-reform\"%20OR%20\"firearm-reform\"%20OR%20\"firearm%20reform\"%20-filter%3Aretweets%20since%3A2016-11-10%20until%3A2016-11-11&l=en\n",
      "INFO: Using proxy 188.163.170.130:41209\n",
      "INFO: Scraping tweets from https://twitter.com/i/search/timeline?f=tweets&vertical=default&include_available_features=1&include_entities=1&reset_error_state=false&src=typd&max_position=thGAVUV0VFVBaAgLLd796XkBYWgMC79dXkqJAWEjUAFQAlAFUAFQAA&q=\"gun%20ban\"%20OR%20\"gun%20control\"%20OR%20\"firearm%20control\"%20OR%20\"gun-control\"%20OR%20\"firearm-control\"%20OR%20\"gun%20reform\"%20OR%20\"gun-reform\"%20OR%20\"firearm-reform\"%20OR%20\"firearm%20reform\"%20-filter%3Aretweets%20since%3A2016-11-11%20until%3A2016-11-12&l=en\n",
      "INFO: Using proxy 188.163.170.130:41209\n",
      "INFO: Scraping tweets from https://twitter.com/i/search/timeline?f=tweets&vertical=default&include_available_features=1&include_entities=1&reset_error_state=false&src=typd&max_position=thGAVUV0VFVBaAgLKRivGSkBYWgMC79dXkqJAWEjUAFQAlAFUAFQAA&q=\"gun%20ban\"%20OR%20\"gun%20control\"%20OR%20\"firearm%20control\"%20OR%20\"gun-control\"%20OR%20\"firearm-control\"%20OR%20\"gun%20reform\"%20OR%20\"gun-reform\"%20OR%20\"firearm-reform\"%20OR%20\"firearm%20reform\"%20-filter%3Aretweets%20since%3A2016-11-11%20until%3A2016-11-12&l=en\n",
      "INFO: Using proxy 191.103.254.125:51869\n",
      "INFO: Scraping tweets from https://twitter.com/i/search/timeline?f=tweets&vertical=default&include_available_features=1&include_entities=1&reset_error_state=false&src=typd&max_position=thGAVUV0VFVBaAgLyBu9z1jhYWgIC0ufWThI8WEjUAFQAlAFUAFQAA&q=\"gun%20ban\"%20OR%20\"gun%20control\"%20OR%20\"firearm%20control\"%20OR%20\"gun-control\"%20OR%20\"firearm-control\"%20OR%20\"gun%20reform\"%20OR%20\"gun-reform\"%20OR%20\"firearm-reform\"%20OR%20\"firearm%20reform\"%20-filter%3Aretweets%20since%3A2016-11-10%20until%3A2016-11-11&l=en\n",
      "INFO: Using proxy 191.103.254.125:51869\n",
      "INFO: Scraping tweets from https://twitter.com/i/search/timeline?f=tweets&vertical=default&include_available_features=1&include_entities=1&reset_error_state=false&src=typd&max_position=thGAVUV0VFVBaAgKChpv-PkBYWgMC79dXkqJAWEjUAFQAlAFUAFQAA&q=\"gun%20ban\"%20OR%20\"gun%20control\"%20OR%20\"firearm%20control\"%20OR%20\"gun-control\"%20OR%20\"firearm-control\"%20OR%20\"gun%20reform\"%20OR%20\"gun-reform\"%20OR%20\"firearm-reform\"%20OR%20\"firearm%20reform\"%20-filter%3Aretweets%20since%3A2016-11-11%20until%3A2016-11-12&l=en\n",
      "INFO: Using proxy 81.223.122.78:37091\n",
      "INFO: Scraping tweets from https://twitter.com/i/search/timeline?f=tweets&vertical=default&include_available_features=1&include_entities=1&reset_error_state=false&src=typd&max_position=thGAVUV0VFVBaAgLitt5LzjhYWgIC0ufWThI8WEjUAFQAlAFUAFQAA&q=\"gun%20ban\"%20OR%20\"gun%20control\"%20OR%20\"firearm%20control\"%20OR%20\"gun-control\"%20OR%20\"firearm-control\"%20OR%20\"gun%20reform\"%20OR%20\"gun-reform\"%20OR%20\"firearm-reform\"%20OR%20\"firearm%20reform\"%20-filter%3Aretweets%20since%3A2016-11-10%20until%3A2016-11-11&l=en\n",
      "INFO: Using proxy 81.223.122.78:37091\n",
      "INFO: Scraping tweets from https://twitter.com/i/search/timeline?f=tweets&vertical=default&include_available_features=1&include_entities=1&reset_error_state=false&src=typd&max_position=thGAVUV0VFVBaAwLfxjJ2NkBYWgMC79dXkqJAWEjUAFQAlAFUAFQAA&q=\"gun%20ban\"%20OR%20\"gun%20control\"%20OR%20\"firearm%20control\"%20OR%20\"gun-control\"%20OR%20\"firearm-control\"%20OR%20\"gun%20reform\"%20OR%20\"gun-reform\"%20OR%20\"firearm-reform\"%20OR%20\"firearm%20reform\"%20-filter%3Aretweets%20since%3A2016-11-11%20until%3A2016-11-12&l=en\n",
      "INFO: Using proxy 85.238.167.170:37322\n",
      "INFO: Scraping tweets from https://twitter.com/i/search/timeline?f=tweets&vertical=default&include_available_features=1&include_entities=1&reset_error_state=false&src=typd&max_position=thGAVUV0VFVBaAgKXt6LLxjhYWgIC0ufWThI8WEjUAFQAlAFUAFQAA&q=\"gun%20ban\"%20OR%20\"gun%20control\"%20OR%20\"firearm%20control\"%20OR%20\"gun-control\"%20OR%20\"firearm-control\"%20OR%20\"gun%20reform\"%20OR%20\"gun-reform\"%20OR%20\"firearm-reform\"%20OR%20\"firearm%20reform\"%20-filter%3Aretweets%20since%3A2016-11-10%20until%3A2016-11-11&l=en\n",
      "INFO: Using proxy 85.238.167.170:37322\n",
      "INFO: Scraping tweets from https://twitter.com/i/search/timeline?f=tweets&vertical=default&include_available_features=1&include_entities=1&reset_error_state=false&src=typd&max_position=thGAVUV0VFVBaCgKWZiZTwjhYWgIC0ufWThI8WEjUAFQAlAFUAFQAA&q=\"gun%20ban\"%20OR%20\"gun%20control\"%20OR%20\"firearm%20control\"%20OR%20\"gun-control\"%20OR%20\"firearm-control\"%20OR%20\"gun%20reform\"%20OR%20\"gun-reform\"%20OR%20\"firearm-reform\"%20OR%20\"firearm%20reform\"%20-filter%3Aretweets%20since%3A2016-11-10%20until%3A2016-11-11&l=en\n",
      "INFO: Using proxy 161.202.226.194:8123\n",
      "INFO: Scraping tweets from https://twitter.com/i/search/timeline?f=tweets&vertical=default&include_available_features=1&include_entities=1&reset_error_state=false&src=typd&max_position=thGAVUV0VFVBaAwKjl5fCIkBYWgMC79dXkqJAWEjUAFQAlAFUAFQAA&q=\"gun%20ban\"%20OR%20\"gun%20control\"%20OR%20\"firearm%20control\"%20OR%20\"gun-control\"%20OR%20\"firearm-control\"%20OR%20\"gun%20reform\"%20OR%20\"gun-reform\"%20OR%20\"firearm-reform\"%20OR%20\"firearm%20reform\"%20-filter%3Aretweets%20since%3A2016-11-11%20until%3A2016-11-12&l=en\n",
      "INFO: Using proxy 161.202.226.194:8123\n",
      "INFO: Scraping tweets from https://twitter.com/i/search/timeline?f=tweets&vertical=default&include_available_features=1&include_entities=1&reset_error_state=false&src=typd&max_position=thGAVUV0VFVBaAgKnh8rTujhYWgIC0ufWThI8WEjUAFQAlAFUAFQAA&q=\"gun%20ban\"%20OR%20\"gun%20control\"%20OR%20\"firearm%20control\"%20OR%20\"gun-control\"%20OR%20\"firearm-control\"%20OR%20\"gun%20reform\"%20OR%20\"gun-reform\"%20OR%20\"firearm-reform\"%20OR%20\"firearm%20reform\"%20-filter%3Aretweets%20since%3A2016-11-10%20until%3A2016-11-11&l=en\n",
      "INFO: Using proxy 161.202.226.195:80\n",
      "INFO: Scraping tweets from https://twitter.com/i/search/timeline?f=tweets&vertical=default&include_available_features=1&include_entities=1&reset_error_state=false&src=typd&max_position=thGAVUV0VFVBaAgLi5nNiGkBYWgMC79dXkqJAWEjUAFQAlAFUAFQAA&q=\"gun%20ban\"%20OR%20\"gun%20control\"%20OR%20\"firearm%20control\"%20OR%20\"gun-control\"%20OR%20\"firearm-control\"%20OR%20\"gun%20reform\"%20OR%20\"gun-reform\"%20OR%20\"firearm-reform\"%20OR%20\"firearm%20reform\"%20-filter%3Aretweets%20since%3A2016-11-11%20until%3A2016-11-12&l=en\n",
      "INFO: Using proxy 161.202.226.195:80\n",
      "INFO: Scraping tweets from https://twitter.com/i/search/timeline?f=tweets&vertical=default&include_available_features=1&include_entities=1&reset_error_state=false&src=typd&max_position=thGAVUV0VFVBaAgLGJ4JXtjhYWgIC0ufWThI8WEjUAFQAlAFUAFQAA&q=\"gun%20ban\"%20OR%20\"gun%20control\"%20OR%20\"firearm%20control\"%20OR%20\"gun-control\"%20OR%20\"firearm-control\"%20OR%20\"gun%20reform\"%20OR%20\"gun-reform\"%20OR%20\"firearm-reform\"%20OR%20\"firearm%20reform\"%20-filter%3Aretweets%20since%3A2016-11-10%20until%3A2016-11-11&l=en\n",
      "INFO: Using proxy 186.225.63.134:38459\n",
      "INFO: Scraping tweets from https://twitter.com/i/search/timeline?f=tweets&vertical=default&include_available_features=1&include_entities=1&reset_error_state=false&src=typd&max_position=thGAVUV0VFVBaAwLDhooeDkBYWgMC79dXkqJAWEjUAFQAlAFUAFQAA&q=\"gun%20ban\"%20OR%20\"gun%20control\"%20OR%20\"firearm%20control\"%20OR%20\"gun-control\"%20OR%20\"firearm-control\"%20OR%20\"gun%20reform\"%20OR%20\"gun-reform\"%20OR%20\"firearm-reform\"%20OR%20\"firearm%20reform\"%20-filter%3Aretweets%20since%3A2016-11-11%20until%3A2016-11-12&l=en\n",
      "INFO: Using proxy 186.225.63.134:38459\n",
      "INFO: Scraping tweets from https://twitter.com/i/search/timeline?f=tweets&vertical=default&include_available_features=1&include_entities=1&reset_error_state=false&src=typd&max_position=thGAVUV0VFVBaAwLrF4YvrjhYWgIC0ufWThI8WEjUAFQAlAFUAFQAA&q=\"gun%20ban\"%20OR%20\"gun%20control\"%20OR%20\"firearm%20control\"%20OR%20\"gun-control\"%20OR%20\"firearm-control\"%20OR%20\"gun%20reform\"%20OR%20\"gun-reform\"%20OR%20\"firearm-reform\"%20OR%20\"firearm%20reform\"%20-filter%3Aretweets%20since%3A2016-11-10%20until%3A2016-11-11&l=en\n"
     ]
    },
    {
     "name": "stderr",
     "output_type": "stream",
     "text": [
      "INFO: Using proxy 159.224.220.63:44299\n",
      "INFO: Scraping tweets from https://twitter.com/i/search/timeline?f=tweets&vertical=default&include_available_features=1&include_entities=1&reset_error_state=false&src=typd&max_position=thGAVUV0VFVBaCgLzdqez_jxYWgMC79dXkqJAWEjUAFQAlAFUAFQAA&q=\"gun%20ban\"%20OR%20\"gun%20control\"%20OR%20\"firearm%20control\"%20OR%20\"gun-control\"%20OR%20\"firearm-control\"%20OR%20\"gun%20reform\"%20OR%20\"gun-reform\"%20OR%20\"firearm-reform\"%20OR%20\"firearm%20reform\"%20-filter%3Aretweets%20since%3A2016-11-11%20until%3A2016-11-12&l=en\n",
      "INFO: Using proxy 159.224.220.63:44299\n",
      "INFO: Scraping tweets from https://twitter.com/i/search/timeline?f=tweets&vertical=default&include_available_features=1&include_entities=1&reset_error_state=false&src=typd&max_position=thGAVUV0VFVBaAgKnJkLLojhYWgIC0ufWThI8WEjUAFQAlAFUAFQAA&q=\"gun%20ban\"%20OR%20\"gun%20control\"%20OR%20\"firearm%20control\"%20OR%20\"gun-control\"%20OR%20\"firearm-control\"%20OR%20\"gun%20reform\"%20OR%20\"gun-reform\"%20OR%20\"firearm-reform\"%20OR%20\"firearm%20reform\"%20-filter%3Aretweets%20since%3A2016-11-10%20until%3A2016-11-11&l=en\n",
      "INFO: Using proxy 202.83.121.90:80\n",
      "INFO: Scraping tweets from https://twitter.com/i/search/timeline?f=tweets&vertical=default&include_available_features=1&include_entities=1&reset_error_state=false&src=typd&max_position=thGAVUV0VFVBaGwLDxjpX9jxYWgMC79dXkqJAWEjUAFQAlAFUAFQAA&q=\"gun%20ban\"%20OR%20\"gun%20control\"%20OR%20\"firearm%20control\"%20OR%20\"gun-control\"%20OR%20\"firearm-control\"%20OR%20\"gun%20reform\"%20OR%20\"gun-reform\"%20OR%20\"firearm-reform\"%20OR%20\"firearm%20reform\"%20-filter%3Aretweets%20since%3A2016-11-11%20until%3A2016-11-12&l=en\n",
      "INFO: Using proxy 202.83.121.90:80\n",
      "INFO: Scraping tweets from https://twitter.com/i/search/timeline?f=tweets&vertical=default&include_available_features=1&include_entities=1&reset_error_state=false&src=typd&max_position=thGAVUV0VFVBaAwKiNhYDnjhYWgIC0ufWThI8WEjUAFQAlAFUAFQAA&q=\"gun%20ban\"%20OR%20\"gun%20control\"%20OR%20\"firearm%20control\"%20OR%20\"gun-control\"%20OR%20\"firearm-control\"%20OR%20\"gun%20reform\"%20OR%20\"gun-reform\"%20OR%20\"firearm-reform\"%20OR%20\"firearm%20reform\"%20-filter%3Aretweets%20since%3A2016-11-10%20until%3A2016-11-11&l=en\n",
      "INFO: Using proxy 180.250.131.94:31734\n",
      "INFO: Scraping tweets from https://twitter.com/i/search/timeline?f=tweets&vertical=default&include_available_features=1&include_entities=1&reset_error_state=false&src=typd&max_position=thGAVUV0VFVBaAwLql-5L7jxYWgMC79dXkqJAWEjUAFQAlAFUAFQAA&q=\"gun%20ban\"%20OR%20\"gun%20control\"%20OR%20\"firearm%20control\"%20OR%20\"gun-control\"%20OR%20\"firearm-control\"%20OR%20\"gun%20reform\"%20OR%20\"gun-reform\"%20OR%20\"firearm-reform\"%20OR%20\"firearm%20reform\"%20-filter%3Aretweets%20since%3A2016-11-11%20until%3A2016-11-12&l=en\n",
      "INFO: Using proxy 180.250.131.94:31734\n",
      "INFO: Scraping tweets from https://twitter.com/i/search/timeline?f=tweets&vertical=default&include_available_features=1&include_entities=1&reset_error_state=false&src=typd&max_position=thGAVUV0VFVBaCgKKR3LTljhYWgIC0ufWThI8WEjUAFQAlAFUAFQAA&q=\"gun%20ban\"%20OR%20\"gun%20control\"%20OR%20\"firearm%20control\"%20OR%20\"gun-control\"%20OR%20\"firearm-control\"%20OR%20\"gun%20reform\"%20OR%20\"gun-reform\"%20OR%20\"firearm-reform\"%20OR%20\"firearm%20reform\"%20-filter%3Aretweets%20since%3A2016-11-10%20until%3A2016-11-11&l=en\n",
      "INFO: Using proxy 103.87.169.241:50310\n",
      "INFO: Scraping tweets from https://twitter.com/i/search/timeline?f=tweets&vertical=default&include_available_features=1&include_entities=1&reset_error_state=false&src=typd&max_position=thGAVUV0VFVBaEgLTZjYb4jxYWgMC79dXkqJAWEjUAFQAlAFUAFQAA&q=\"gun%20ban\"%20OR%20\"gun%20control\"%20OR%20\"firearm%20control\"%20OR%20\"gun-control\"%20OR%20\"firearm-control\"%20OR%20\"gun%20reform\"%20OR%20\"gun-reform\"%20OR%20\"firearm-reform\"%20OR%20\"firearm%20reform\"%20-filter%3Aretweets%20since%3A2016-11-11%20until%3A2016-11-12&l=en\n",
      "INFO: Using proxy 103.87.169.241:50310\n",
      "INFO: Scraping tweets from https://twitter.com/i/search/timeline?f=tweets&vertical=default&include_available_features=1&include_entities=1&reset_error_state=false&src=typd&max_position=thGAVUV0VFVBaCwKTJrJHjjhYWgIC0ufWThI8WEjUAFQAlAFUAFQAA&q=\"gun%20ban\"%20OR%20\"gun%20control\"%20OR%20\"firearm%20control\"%20OR%20\"gun-control\"%20OR%20\"firearm-control\"%20OR%20\"gun%20reform\"%20OR%20\"gun-reform\"%20OR%20\"firearm-reform\"%20OR%20\"firearm%20reform\"%20-filter%3Aretweets%20since%3A2016-11-10%20until%3A2016-11-11&l=en\n",
      "INFO: Using proxy 23.244.28.27:3128\n",
      "INFO: Scraping tweets from https://twitter.com/i/search/timeline?f=tweets&vertical=default&include_available_features=1&include_entities=1&reset_error_state=false&src=typd&max_position=thGAVUV0VFVBaAgLHJjMv1jxYWgMC79dXkqJAWEjUAFQAlAFUAFQAA&q=\"gun%20ban\"%20OR%20\"gun%20control\"%20OR%20\"firearm%20control\"%20OR%20\"gun-control\"%20OR%20\"firearm-control\"%20OR%20\"gun%20reform\"%20OR%20\"gun-reform\"%20OR%20\"firearm-reform\"%20OR%20\"firearm%20reform\"%20-filter%3Aretweets%20since%3A2016-11-11%20until%3A2016-11-12&l=en\n",
      "INFO: Using proxy 23.244.28.27:3128\n",
      "INFO: Scraping tweets from https://twitter.com/i/search/timeline?f=tweets&vertical=default&include_available_features=1&include_entities=1&reset_error_state=false&src=typd&max_position=thGAVUV0VFVBaCgLjFv9PhjhYWgIC0ufWThI8WEjUAFQAlAFUAFQAA&q=\"gun%20ban\"%20OR%20\"gun%20control\"%20OR%20\"firearm%20control\"%20OR%20\"gun-control\"%20OR%20\"firearm-control\"%20OR%20\"gun%20reform\"%20OR%20\"gun-reform\"%20OR%20\"firearm-reform\"%20OR%20\"firearm%20reform\"%20-filter%3Aretweets%20since%3A2016-11-10%20until%3A2016-11-11&l=en\n",
      "INFO: Using proxy 185.54.237.114:3128\n",
      "INFO: Scraping tweets from https://twitter.com/i/search/timeline?f=tweets&vertical=default&include_available_features=1&include_entities=1&reset_error_state=false&src=typd&max_position=thGAVUV0VFVBaAgKLVo9HzjxYWgMC79dXkqJAWEjUAFQAlAFUAFQAA&q=\"gun%20ban\"%20OR%20\"gun%20control\"%20OR%20\"firearm%20control\"%20OR%20\"gun-control\"%20OR%20\"firearm-control\"%20OR%20\"gun%20reform\"%20OR%20\"gun-reform\"%20OR%20\"firearm-reform\"%20OR%20\"firearm%20reform\"%20-filter%3Aretweets%20since%3A2016-11-11%20until%3A2016-11-12&l=en\n",
      "INFO: Using proxy 185.54.237.114:3128\n",
      "INFO: Scraping tweets from https://twitter.com/i/search/timeline?f=tweets&vertical=default&include_available_features=1&include_entities=1&reset_error_state=false&src=typd&max_position=thGAVUV0VFVBaAwLDtwonfjhYWgIC0ufWThI8WEjUAFQAlAFUAFQAA&q=\"gun%20ban\"%20OR%20\"gun%20control\"%20OR%20\"firearm%20control\"%20OR%20\"gun-control\"%20OR%20\"firearm-control\"%20OR%20\"gun%20reform\"%20OR%20\"gun-reform\"%20OR%20\"firearm-reform\"%20OR%20\"firearm%20reform\"%20-filter%3Aretweets%20since%3A2016-11-10%20until%3A2016-11-11&l=en\n",
      "INFO: Using proxy 202.182.121.205:8080\n",
      "INFO: Scraping tweets from https://twitter.com/i/search/timeline?f=tweets&vertical=default&include_available_features=1&include_entities=1&reset_error_state=false&src=typd&max_position=thGAVUV0VFVBaEgLSp0enwjxYWgMC79dXkqJAWEjUAFQAlAFUAFQAA&q=\"gun%20ban\"%20OR%20\"gun%20control\"%20OR%20\"firearm%20control\"%20OR%20\"gun-control\"%20OR%20\"firearm-control\"%20OR%20\"gun%20reform\"%20OR%20\"gun-reform\"%20OR%20\"firearm-reform\"%20OR%20\"firearm%20reform\"%20-filter%3Aretweets%20since%3A2016-11-11%20until%3A2016-11-12&l=en\n",
      "INFO: Using proxy 202.182.121.205:8080\n",
      "INFO: Scraping tweets from https://twitter.com/i/search/timeline?f=tweets&vertical=default&include_available_features=1&include_entities=1&reset_error_state=false&src=typd&max_position=thGAVUV0VFVBaAwLqRy-3cjhYWgIC0ufWThI8WEjUAFQAlAFUAFQAA&q=\"gun%20ban\"%20OR%20\"gun%20control\"%20OR%20\"firearm%20control\"%20OR%20\"gun-control\"%20OR%20\"firearm-control\"%20OR%20\"gun%20reform\"%20OR%20\"gun-reform\"%20OR%20\"firearm-reform\"%20OR%20\"firearm%20reform\"%20-filter%3Aretweets%20since%3A2016-11-10%20until%3A2016-11-11&l=en\n",
      "INFO: Using proxy 88.247.10.31:8080\n",
      "INFO: Scraping tweets from https://twitter.com/i/search/timeline?f=tweets&vertical=default&include_available_features=1&include_entities=1&reset_error_state=false&src=typd&max_position=thGAVUV0VFVBaAwKjBw7bvjxYWgMC79dXkqJAWEjUAFQAlAFUAFQAA&q=\"gun%20ban\"%20OR%20\"gun%20control\"%20OR%20\"firearm%20control\"%20OR%20\"gun-control\"%20OR%20\"firearm-control\"%20OR%20\"gun%20reform\"%20OR%20\"gun-reform\"%20OR%20\"firearm-reform\"%20OR%20\"firearm%20reform\"%20-filter%3Aretweets%20since%3A2016-11-11%20until%3A2016-11-12&l=en\n"
     ]
    },
    {
     "name": "stderr",
     "output_type": "stream",
     "text": [
      "INFO: Using proxy 88.247.10.31:8080\n",
      "INFO: Scraping tweets from https://twitter.com/i/search/timeline?f=tweets&vertical=default&include_available_features=1&include_entities=1&reset_error_state=false&src=typd&max_position=thGAVUV0VFVBaAgLjNzajbjhYWgIC0ufWThI8WEjUAFQAlAFUAFQAA&q=\"gun%20ban\"%20OR%20\"gun%20control\"%20OR%20\"firearm%20control\"%20OR%20\"gun-control\"%20OR%20\"firearm-control\"%20OR%20\"gun%20reform\"%20OR%20\"gun-reform\"%20OR%20\"firearm-reform\"%20OR%20\"firearm%20reform\"%20-filter%3Aretweets%20since%3A2016-11-10%20until%3A2016-11-11&l=en\n",
      "INFO: Using proxy 114.134.191.194:31867\n",
      "INFO: Scraping tweets from https://twitter.com/i/search/timeline?f=tweets&vertical=default&include_available_features=1&include_entities=1&reset_error_state=false&src=typd&max_position=thGAVUV0VFVBaAgLy5hLjujxYWgMC79dXkqJAWEjUAFQAlAFUAFQAA&q=\"gun%20ban\"%20OR%20\"gun%20control\"%20OR%20\"firearm%20control\"%20OR%20\"gun-control\"%20OR%20\"firearm-control\"%20OR%20\"gun%20reform\"%20OR%20\"gun-reform\"%20OR%20\"firearm-reform\"%20OR%20\"firearm%20reform\"%20-filter%3Aretweets%20since%3A2016-11-11%20until%3A2016-11-12&l=en\n",
      "INFO: Using proxy 114.134.191.194:31867\n",
      "INFO: Scraping tweets from https://twitter.com/i/search/timeline?f=tweets&vertical=default&include_available_features=1&include_entities=1&reset_error_state=false&src=typd&max_position=thGAVUV0VFVBaAwKTh_dnZjhYWgIC0ufWThI8WEjUAFQAlAFUAFQAA&q=\"gun%20ban\"%20OR%20\"gun%20control\"%20OR%20\"firearm%20control\"%20OR%20\"gun-control\"%20OR%20\"firearm-control\"%20OR%20\"gun%20reform\"%20OR%20\"gun-reform\"%20OR%20\"firearm-reform\"%20OR%20\"firearm%20reform\"%20-filter%3Aretweets%20since%3A2016-11-10%20until%3A2016-11-11&l=en\n",
      "INFO: Using proxy 139.180.131.138:3128\n",
      "INFO: Scraping tweets from https://twitter.com/i/search/timeline?f=tweets&vertical=default&include_available_features=1&include_entities=1&reset_error_state=false&src=typd&max_position=thGAVUV0VFVBaAwLv1-aPsjxYWgMC79dXkqJAWEjUAFQAlAFUAFQAA&q=\"gun%20ban\"%20OR%20\"gun%20control\"%20OR%20\"firearm%20control\"%20OR%20\"gun-control\"%20OR%20\"firearm-control\"%20OR%20\"gun%20reform\"%20OR%20\"gun-reform\"%20OR%20\"firearm-reform\"%20OR%20\"firearm%20reform\"%20-filter%3Aretweets%20since%3A2016-11-11%20until%3A2016-11-12&l=en\n",
      "INFO: Using proxy 139.180.131.138:3128\n",
      "INFO: Scraping tweets from https://twitter.com/i/search/timeline?f=tweets&vertical=default&include_available_features=1&include_entities=1&reset_error_state=false&src=typd&max_position=thGAVUV0VFVBaAgLSpttzYjhYWgIC0ufWThI8WEjUAFQAlAFUAFQAA&q=\"gun%20ban\"%20OR%20\"gun%20control\"%20OR%20\"firearm%20control\"%20OR%20\"gun-control\"%20OR%20\"firearm-control\"%20OR%20\"gun%20reform\"%20OR%20\"gun-reform\"%20OR%20\"firearm-reform\"%20OR%20\"firearm%20reform\"%20-filter%3Aretweets%20since%3A2016-11-10%20until%3A2016-11-11&l=en\n",
      "INFO: Using proxy 173.212.202.65:80\n",
      "INFO: Scraping tweets from https://twitter.com/i/search/timeline?f=tweets&vertical=default&include_available_features=1&include_entities=1&reset_error_state=false&src=typd&max_position=thGAVUV0VFVBaAwKiR3OnpjxYWgMC79dXkqJAWEjUAFQAlAFUAFQAA&q=\"gun%20ban\"%20OR%20\"gun%20control\"%20OR%20\"firearm%20control\"%20OR%20\"gun-control\"%20OR%20\"firearm-control\"%20OR%20\"gun%20reform\"%20OR%20\"gun-reform\"%20OR%20\"firearm-reform\"%20OR%20\"firearm%20reform\"%20-filter%3Aretweets%20since%3A2016-11-11%20until%3A2016-11-12&l=en\n",
      "INFO: Using proxy 173.212.202.65:80\n",
      "INFO: Scraping tweets from https://twitter.com/i/search/timeline?f=tweets&vertical=default&include_available_features=1&include_entities=1&reset_error_state=false&src=typd&max_position=thGAVUV0VFVBaCgLGJ0vjWjhYWgIC0ufWThI8WEjUAFQAlAFUAFQAA&q=\"gun%20ban\"%20OR%20\"gun%20control\"%20OR%20\"firearm%20control\"%20OR%20\"gun-control\"%20OR%20\"firearm-control\"%20OR%20\"gun%20reform\"%20OR%20\"gun-reform\"%20OR%20\"firearm-reform\"%20OR%20\"firearm%20reform\"%20-filter%3Aretweets%20since%3A2016-11-10%20until%3A2016-11-11&l=en\n",
      "INFO: Using proxy 95.67.65.18:53281\n",
      "INFO: Scraping tweets from https://twitter.com/i/search/timeline?f=tweets&vertical=default&include_available_features=1&include_entities=1&reset_error_state=false&src=typd&max_position=thGAVUV0VFVBaAwKXx4dPnjxYWgMC79dXkqJAWEjUAFQAlAFUAFQAA&q=\"gun%20ban\"%20OR%20\"gun%20control\"%20OR%20\"firearm%20control\"%20OR%20\"gun-control\"%20OR%20\"firearm-control\"%20OR%20\"gun%20reform\"%20OR%20\"gun-reform\"%20OR%20\"firearm-reform\"%20OR%20\"firearm%20reform\"%20-filter%3Aretweets%20since%3A2016-11-11%20until%3A2016-11-12&l=en\n",
      "INFO: Using proxy 95.67.65.18:53281\n",
      "INFO: Scraping tweets from https://twitter.com/i/search/timeline?f=tweets&vertical=default&include_available_features=1&include_entities=1&reset_error_state=false&src=typd&max_position=thGAVUV0VFVBaAgKqtn47VjhYWgIC0ufWThI8WEjUAFQAlAFUAFQAA&q=\"gun%20ban\"%20OR%20\"gun%20control\"%20OR%20\"firearm%20control\"%20OR%20\"gun-control\"%20OR%20\"firearm-control\"%20OR%20\"gun%20reform\"%20OR%20\"gun-reform\"%20OR%20\"firearm-reform\"%20OR%20\"firearm%20reform\"%20-filter%3Aretweets%20since%3A2016-11-10%20until%3A2016-11-11&l=en\n",
      "INFO: Using proxy 78.57.192.253:41091\n",
      "INFO: Scraping tweets from https://twitter.com/i/search/timeline?f=tweets&vertical=default&include_available_features=1&include_entities=1&reset_error_state=false&src=typd&max_position=thGAVUV0VFVBaAwKK9kPbljxYWgMC79dXkqJAWEjUAFQAlAFUAFQAA&q=\"gun%20ban\"%20OR%20\"gun%20control\"%20OR%20\"firearm%20control\"%20OR%20\"gun-control\"%20OR%20\"firearm-control\"%20OR%20\"gun%20reform\"%20OR%20\"gun-reform\"%20OR%20\"firearm-reform\"%20OR%20\"firearm%20reform\"%20-filter%3Aretweets%20since%3A2016-11-11%20until%3A2016-11-12&l=en\n",
      "INFO: Using proxy 78.57.192.253:41091\n",
      "INFO: Scraping tweets from https://twitter.com/i/search/timeline?f=tweets&vertical=default&include_available_features=1&include_entities=1&reset_error_state=false&src=typd&max_position=thGAVUV0VFVBaAwKixj_zTjhYWgIC0ufWThI8WEjUAFQAlAFUAFQAA&q=\"gun%20ban\"%20OR%20\"gun%20control\"%20OR%20\"firearm%20control\"%20OR%20\"gun-control\"%20OR%20\"firearm-control\"%20OR%20\"gun%20reform\"%20OR%20\"gun-reform\"%20OR%20\"firearm-reform\"%20OR%20\"firearm%20reform\"%20-filter%3Aretweets%20since%3A2016-11-10%20until%3A2016-11-11&l=en\n",
      "INFO: Using proxy 91.203.114.105:56200\n",
      "INFO: Scraping tweets from https://twitter.com/i/search/timeline?f=tweets&vertical=default&include_available_features=1&include_entities=1&reset_error_state=false&src=typd&max_position=thGAVUV0VFVBaIgKq12bPkjxYWgMC79dXkqJAWEjUAFQAlAFUAFQAA&q=\"gun%20ban\"%20OR%20\"gun%20control\"%20OR%20\"firearm%20control\"%20OR%20\"gun-control\"%20OR%20\"firearm-control\"%20OR%20\"gun%20reform\"%20OR%20\"gun-reform\"%20OR%20\"firearm-reform\"%20OR%20\"firearm%20reform\"%20-filter%3Aretweets%20since%3A2016-11-11%20until%3A2016-11-12&l=en\n",
      "INFO: Using proxy 91.203.114.105:56200\n",
      "INFO: Scraping tweets from https://twitter.com/i/search/timeline?f=tweets&vertical=default&include_available_features=1&include_entities=1&reset_error_state=false&src=typd&max_position=thGAVUV0VFVBaAgLTNuazSjhYWgIC0ufWThI8WEjUAFQAlAFUAFQAA&q=\"gun%20ban\"%20OR%20\"gun%20control\"%20OR%20\"firearm%20control\"%20OR%20\"gun-control\"%20OR%20\"firearm-control\"%20OR%20\"gun%20reform\"%20OR%20\"gun-reform\"%20OR%20\"firearm-reform\"%20OR%20\"firearm%20reform\"%20-filter%3Aretweets%20since%3A2016-11-10%20until%3A2016-11-11&l=en\n",
      "INFO: Using proxy 189.204.241.44:56792\n",
      "INFO: Scraping tweets from https://twitter.com/i/search/timeline?f=tweets&vertical=default&include_available_features=1&include_entities=1&reset_error_state=false&src=typd&max_position=thGAVUV0VFVBaCwLDByOjhjxYWgMC79dXkqJAWEjUAFQAlAFUAFQAA&q=\"gun%20ban\"%20OR%20\"gun%20control\"%20OR%20\"firearm%20control\"%20OR%20\"gun-control\"%20OR%20\"firearm-control\"%20OR%20\"gun%20reform\"%20OR%20\"gun-reform\"%20OR%20\"firearm-reform\"%20OR%20\"firearm%20reform\"%20-filter%3Aretweets%20since%3A2016-11-11%20until%3A2016-11-12&l=en\n",
      "INFO: Using proxy 189.204.241.44:56792\n",
      "INFO: Scraping tweets from https://twitter.com/i/search/timeline?f=tweets&vertical=default&include_available_features=1&include_entities=1&reset_error_state=false&src=typd&max_position=thGAVUV0VFVBaAwLjFhMXQjhYWgIC0ufWThI8WEjUAFQAlAFUAFQAA&q=\"gun%20ban\"%20OR%20\"gun%20control\"%20OR%20\"firearm%20control\"%20OR%20\"gun-control\"%20OR%20\"firearm-control\"%20OR%20\"gun%20reform\"%20OR%20\"gun-reform\"%20OR%20\"firearm-reform\"%20OR%20\"firearm%20reform\"%20-filter%3Aretweets%20since%3A2016-11-10%20until%3A2016-11-11&l=en\n"
     ]
    },
    {
     "name": "stderr",
     "output_type": "stream",
     "text": [
      "INFO: Using proxy 88.118.134.214:38662\n",
      "INFO: Scraping tweets from https://twitter.com/i/search/timeline?f=tweets&vertical=default&include_available_features=1&include_entities=1&reset_error_state=false&src=typd&max_position=thGAVUV0VFVBaIgLKJ7YzfjxYWgMC79dXkqJAWEjUAFQAlAFUAFQAA&q=\"gun%20ban\"%20OR%20\"gun%20control\"%20OR%20\"firearm%20control\"%20OR%20\"gun-control\"%20OR%20\"firearm-control\"%20OR%20\"gun%20reform\"%20OR%20\"gun-reform\"%20OR%20\"firearm-reform\"%20OR%20\"firearm%20reform\"%20-filter%3Aretweets%20since%3A2016-11-11%20until%3A2016-11-12&l=en\n",
      "INFO: Using proxy 88.118.134.214:38662\n",
      "INFO: Scraping tweets from https://twitter.com/i/search/timeline?f=tweets&vertical=default&include_available_features=1&include_entities=1&reset_error_state=false&src=typd&max_position=thGAVUV0VFVBaSwLvFzLDOjhYWgIC0ufWThI8WEjUAFQAlAFUAFQAA&q=\"gun%20ban\"%20OR%20\"gun%20control\"%20OR%20\"firearm%20control\"%20OR%20\"gun-control\"%20OR%20\"firearm-control\"%20OR%20\"gun%20reform\"%20OR%20\"gun-reform\"%20OR%20\"firearm-reform\"%20OR%20\"firearm%20reform\"%20-filter%3Aretweets%20since%3A2016-11-10%20until%3A2016-11-11&l=en\n",
      "INFO: Using proxy 182.93.85.222:59736\n",
      "INFO: Scraping tweets from https://twitter.com/i/search/timeline?f=tweets&vertical=default&include_available_features=1&include_entities=1&reset_error_state=false&src=typd&max_position=thGAVUV0VFVBaAgLL9_vTajxYWgMC79dXkqJAWEjUAFQAlAFUAFQAA&q=\"gun%20ban\"%20OR%20\"gun%20control\"%20OR%20\"firearm%20control\"%20OR%20\"gun-control\"%20OR%20\"firearm-control\"%20OR%20\"gun%20reform\"%20OR%20\"gun-reform\"%20OR%20\"firearm-reform\"%20OR%20\"firearm%20reform\"%20-filter%3Aretweets%20since%3A2016-11-11%20until%3A2016-11-12&l=en\n",
      "INFO: Using proxy 182.93.85.222:59736\n",
      "INFO: Scraping tweets from https://twitter.com/i/search/timeline?f=tweets&vertical=default&include_available_features=1&include_entities=1&reset_error_state=false&src=typd&max_position=thGAVUV0VFVBaAgLyZwczMjhYWgIC0ufWThI8WEjUAFQAlAFUAFQAA&q=\"gun%20ban\"%20OR%20\"gun%20control\"%20OR%20\"firearm%20control\"%20OR%20\"gun-control\"%20OR%20\"firearm-control\"%20OR%20\"gun%20reform\"%20OR%20\"gun-reform\"%20OR%20\"firearm-reform\"%20OR%20\"firearm%20reform\"%20-filter%3Aretweets%20since%3A2016-11-10%20until%3A2016-11-11&l=en\n",
      "INFO: Using proxy 137.59.163.50:61082\n",
      "INFO: Scraping tweets from https://twitter.com/i/search/timeline?f=tweets&vertical=default&include_available_features=1&include_entities=1&reset_error_state=false&src=typd&max_position=thGAVUV0VFVBaAgLiB9ILUjxYWgMC79dXkqJAWEjUAFQAlAFUAFQAA&q=\"gun%20ban\"%20OR%20\"gun%20control\"%20OR%20\"firearm%20control\"%20OR%20\"gun-control\"%20OR%20\"firearm-control\"%20OR%20\"gun%20reform\"%20OR%20\"gun-reform\"%20OR%20\"firearm-reform\"%20OR%20\"firearm%20reform\"%20-filter%3Aretweets%20since%3A2016-11-11%20until%3A2016-11-12&l=en\n",
      "INFO: Using proxy 137.59.163.50:61082\n",
      "INFO: Scraping tweets from https://twitter.com/i/search/timeline?f=tweets&vertical=default&include_available_features=1&include_entities=1&reset_error_state=false&src=typd&max_position=thGAVUV0VFVBaAwKK9i5jMjhYWgIC0ufWThI8WEjUAFQAlAFUAFQAA&q=\"gun%20ban\"%20OR%20\"gun%20control\"%20OR%20\"firearm%20control\"%20OR%20\"gun-control\"%20OR%20\"firearm-control\"%20OR%20\"gun%20reform\"%20OR%20\"gun-reform\"%20OR%20\"firearm-reform\"%20OR%20\"firearm%20reform\"%20-filter%3Aretweets%20since%3A2016-11-10%20until%3A2016-11-11&l=en\n",
      "INFO: Using proxy 95.87.14.47:45522\n",
      "INFO: Scraping tweets from https://twitter.com/i/search/timeline?f=tweets&vertical=default&include_available_features=1&include_entities=1&reset_error_state=false&src=typd&max_position=thGAVUV0VFVBaEwKPRoN7MjxYWgMC79dXkqJAWEjUAFQAlAFUAFQAA&q=\"gun%20ban\"%20OR%20\"gun%20control\"%20OR%20\"firearm%20control\"%20OR%20\"gun-control\"%20OR%20\"firearm-control\"%20OR%20\"gun%20reform\"%20OR%20\"gun-reform\"%20OR%20\"firearm-reform\"%20OR%20\"firearm%20reform\"%20-filter%3Aretweets%20since%3A2016-11-11%20until%3A2016-11-12&l=en\n",
      "INFO: Using proxy 95.87.14.47:45522\n",
      "INFO: Scraping tweets from https://twitter.com/i/search/timeline?f=tweets&vertical=default&include_available_features=1&include_entities=1&reset_error_state=false&src=typd&max_position=thGAVUV0VFVBaAwKPB6N_KjhYWgIC0ufWThI8WEjUAFQAlAFUAFQAA&q=\"gun%20ban\"%20OR%20\"gun%20control\"%20OR%20\"firearm%20control\"%20OR%20\"gun-control\"%20OR%20\"firearm-control\"%20OR%20\"gun%20reform\"%20OR%20\"gun-reform\"%20OR%20\"firearm-reform\"%20OR%20\"firearm%20reform\"%20-filter%3Aretweets%20since%3A2016-11-10%20until%3A2016-11-11&l=en\n",
      "INFO: Using proxy 190.147.137.66:31616\n",
      "INFO: Scraping tweets from https://twitter.com/i/search/timeline?f=tweets&vertical=default&include_available_features=1&include_entities=1&reset_error_state=false&src=typd&max_position=thGAVUV0VFVBaAgLiR6ty-jxYWgMC79dXkqJAWEjUAFQAlAFUAFQAA&q=\"gun%20ban\"%20OR%20\"gun%20control\"%20OR%20\"firearm%20control\"%20OR%20\"gun-control\"%20OR%20\"firearm-control\"%20OR%20\"gun%20reform\"%20OR%20\"gun-reform\"%20OR%20\"firearm-reform\"%20OR%20\"firearm%20reform\"%20-filter%3Aretweets%20since%3A2016-11-11%20until%3A2016-11-12&l=en\n",
      "INFO: Using proxy 190.147.137.66:31616\n",
      "INFO: Scraping tweets from https://twitter.com/i/search/timeline?f=tweets&vertical=default&include_available_features=1&include_entities=1&reset_error_state=false&src=typd&max_position=thGAVUV0VFVBaAgLGVv_zIjhYWgIC0ufWThI8WEjUAFQAlAFUAFQAA&q=\"gun%20ban\"%20OR%20\"gun%20control\"%20OR%20\"firearm%20control\"%20OR%20\"gun-control\"%20OR%20\"firearm-control\"%20OR%20\"gun%20reform\"%20OR%20\"gun-reform\"%20OR%20\"firearm-reform\"%20OR%20\"firearm%20reform\"%20-filter%3Aretweets%20since%3A2016-11-10%20until%3A2016-11-11&l=en\n",
      "INFO: Using proxy 212.95.180.50:53281\n",
      "INFO: Scraping tweets from https://twitter.com/i/search/timeline?f=tweets&vertical=default&include_available_features=1&include_entities=1&reset_error_state=false&src=typd&max_position=thGAVUV0VFVBaAwKTt8vK2jxYWgMC79dXkqJAWEjUAFQAlAFUAFQAA&q=\"gun%20ban\"%20OR%20\"gun%20control\"%20OR%20\"firearm%20control\"%20OR%20\"gun-control\"%20OR%20\"firearm-control\"%20OR%20\"gun%20reform\"%20OR%20\"gun-reform\"%20OR%20\"firearm-reform\"%20OR%20\"firearm%20reform\"%20-filter%3Aretweets%20since%3A2016-11-11%20until%3A2016-11-12&l=en\n",
      "INFO: Using proxy 212.95.180.50:53281\n",
      "INFO: Scraping tweets from https://twitter.com/i/search/timeline?f=tweets&vertical=default&include_available_features=1&include_entities=1&reset_error_state=false&src=typd&max_position=thGAVUV0VFVBaAwKS5s4DIjhYWgIC0ufWThI8WEjUAFQAlAFUAFQAA&q=\"gun%20ban\"%20OR%20\"gun%20control\"%20OR%20\"firearm%20control\"%20OR%20\"gun-control\"%20OR%20\"firearm-control\"%20OR%20\"gun%20reform\"%20OR%20\"gun-reform\"%20OR%20\"firearm-reform\"%20OR%20\"firearm%20reform\"%20-filter%3Aretweets%20since%3A2016-11-10%20until%3A2016-11-11&l=en\n",
      "INFO: Using proxy 110.76.128.53:47079\n",
      "INFO: Scraping tweets from https://twitter.com/i/search/timeline?f=tweets&vertical=default&include_available_features=1&include_entities=1&reset_error_state=false&src=typd&max_position=thGAVUV0VFVBaAwLDV_62xjxYWgMC79dXkqJAWEjUAFQAlAFUAFQAA&q=\"gun%20ban\"%20OR%20\"gun%20control\"%20OR%20\"firearm%20control\"%20OR%20\"gun-control\"%20OR%20\"firearm-control\"%20OR%20\"gun%20reform\"%20OR%20\"gun-reform\"%20OR%20\"firearm-reform\"%20OR%20\"firearm%20reform\"%20-filter%3Aretweets%20since%3A2016-11-11%20until%3A2016-11-12&l=en\n",
      "INFO: Scraping tweets from https://twitter.com/i/search/timeline?f=tweets&vertical=default&include_available_features=1&include_entities=1&reset_error_state=false&src=typd&max_position=thGAVUV0VFVBaCgLyZxInHjhYWgIC0ufWThI8WEjUAFQAlAFUAFQAA&q=\"gun%20ban\"%20OR%20\"gun%20control\"%20OR%20\"firearm%20control\"%20OR%20\"gun-control\"%20OR%20\"firearm-control\"%20OR%20\"gun%20reform\"%20OR%20\"gun-reform\"%20OR%20\"firearm-reform\"%20OR%20\"firearm%20reform\"%20-filter%3Aretweets%20since%3A2016-11-10%20until%3A2016-11-11&l=en\n",
      "INFO: Using proxy 110.76.128.53:47079\n",
      "INFO: Using proxy 203.172.185.122:55482\n",
      "INFO: Scraping tweets from https://twitter.com/i/search/timeline?f=tweets&vertical=default&include_available_features=1&include_entities=1&reset_error_state=false&src=typd&max_position=thGAVUV0VFVBaAgKLJw6WrjxYWgMC79dXkqJAWEjUAFQAlAFUAFQAA&q=\"gun%20ban\"%20OR%20\"gun%20control\"%20OR%20\"firearm%20control\"%20OR%20\"gun-control\"%20OR%20\"firearm-control\"%20OR%20\"gun%20reform\"%20OR%20\"gun-reform\"%20OR%20\"firearm-reform\"%20OR%20\"firearm%20reform\"%20-filter%3Aretweets%20since%3A2016-11-11%20until%3A2016-11-12&l=en\n"
     ]
    },
    {
     "name": "stderr",
     "output_type": "stream",
     "text": [
      "INFO: Using proxy 203.172.185.122:55482\n",
      "INFO: Scraping tweets from https://twitter.com/i/search/timeline?f=tweets&vertical=default&include_available_features=1&include_entities=1&reset_error_state=false&src=typd&max_position=thGAVUV0VFVBaAgLi979LEjhYWgIC0ufWThI8WEjUAFQAlAFUAFQAA&q=\"gun%20ban\"%20OR%20\"gun%20control\"%20OR%20\"firearm%20control\"%20OR%20\"gun-control\"%20OR%20\"firearm-control\"%20OR%20\"gun%20reform\"%20OR%20\"gun-reform\"%20OR%20\"firearm-reform\"%20OR%20\"firearm%20reform\"%20-filter%3Aretweets%20since%3A2016-11-10%20until%3A2016-11-11&l=en\n",
      "INFO: Using proxy 194.183.168.129:31385\n",
      "INFO: Scraping tweets from https://twitter.com/i/search/timeline?f=tweets&vertical=default&include_available_features=1&include_entities=1&reset_error_state=false&src=typd&max_position=thGAVUV0VFVBaAgLKxj8WnjxYWgMC79dXkqJAWEjUAFQAlAFUAFQAA&q=\"gun%20ban\"%20OR%20\"gun%20control\"%20OR%20\"firearm%20control\"%20OR%20\"gun-control\"%20OR%20\"firearm-control\"%20OR%20\"gun%20reform\"%20OR%20\"gun-reform\"%20OR%20\"firearm-reform\"%20OR%20\"firearm%20reform\"%20-filter%3Aretweets%20since%3A2016-11-11%20until%3A2016-11-12&l=en\n",
      "INFO: Scraping tweets from https://twitter.com/i/search/timeline?f=tweets&vertical=default&include_available_features=1&include_entities=1&reset_error_state=false&src=typd&max_position=thGAVUV0VFVBaAgLGJgbnDjhYWgIC0ufWThI8WEjUAFQAlAFUAFQAA&q=\"gun%20ban\"%20OR%20\"gun%20control\"%20OR%20\"firearm%20control\"%20OR%20\"gun-control\"%20OR%20\"firearm-control\"%20OR%20\"gun%20reform\"%20OR%20\"gun-reform\"%20OR%20\"firearm-reform\"%20OR%20\"firearm%20reform\"%20-filter%3Aretweets%20since%3A2016-11-10%20until%3A2016-11-11&l=en\n",
      "INFO: Using proxy 103.83.205.57:33759\n",
      "INFO: Using proxy 194.183.168.129:31385\n",
      "INFO: Scraping tweets from https://twitter.com/i/search/timeline?f=tweets&vertical=default&include_available_features=1&include_entities=1&reset_error_state=false&src=typd&max_position=thGAVUV0VFVBaAgLiN_vKijxYWgMC79dXkqJAWEjUAFQAlAFUAFQAA&q=\"gun%20ban\"%20OR%20\"gun%20control\"%20OR%20\"firearm%20control\"%20OR%20\"gun-control\"%20OR%20\"firearm-control\"%20OR%20\"gun%20reform\"%20OR%20\"gun-reform\"%20OR%20\"firearm-reform\"%20OR%20\"firearm%20reform\"%20-filter%3Aretweets%20since%3A2016-11-11%20until%3A2016-11-12&l=en\n",
      "INFO: Using proxy 103.83.205.57:33759\n",
      "INFO: Scraping tweets from https://twitter.com/i/search/timeline?f=tweets&vertical=default&include_available_features=1&include_entities=1&reset_error_state=false&src=typd&max_position=thGAVUV0VFVBaIgLS504vAjhYWgIC0ufWThI8WEjUAFQAlAFUAFQAA&q=\"gun%20ban\"%20OR%20\"gun%20control\"%20OR%20\"firearm%20control\"%20OR%20\"gun-control\"%20OR%20\"firearm-control\"%20OR%20\"gun%20reform\"%20OR%20\"gun-reform\"%20OR%20\"firearm-reform\"%20OR%20\"firearm%20reform\"%20-filter%3Aretweets%20since%3A2016-11-10%20until%3A2016-11-11&l=en\n",
      "INFO: Using proxy 103.250.166.16:48340\n",
      "INFO: Scraping tweets from https://twitter.com/i/search/timeline?f=tweets&vertical=default&include_available_features=1&include_entities=1&reset_error_state=false&src=typd&max_position=thGAVUV0VFVBaAwLvV3P-9jhYWgIC0ufWThI8WEjUAFQAlAFUAFQAA&q=\"gun%20ban\"%20OR%20\"gun%20control\"%20OR%20\"firearm%20control\"%20OR%20\"gun-control\"%20OR%20\"firearm-control\"%20OR%20\"gun%20reform\"%20OR%20\"gun-reform\"%20OR%20\"firearm-reform\"%20OR%20\"firearm%20reform\"%20-filter%3Aretweets%20since%3A2016-11-10%20until%3A2016-11-11&l=en\n",
      "INFO: Using proxy 177.44.88.168:33922\n",
      "INFO: Scraping tweets from https://twitter.com/i/search/timeline?f=tweets&vertical=default&include_available_features=1&include_entities=1&reset_error_state=false&src=typd&max_position=thGAVUV0VFVBaAwLityIKfjxYWgMC79dXkqJAWEjUAFQAlAFUAFQAA&q=\"gun%20ban\"%20OR%20\"gun%20control\"%20OR%20\"firearm%20control\"%20OR%20\"gun-control\"%20OR%20\"firearm-control\"%20OR%20\"gun%20reform\"%20OR%20\"gun-reform\"%20OR%20\"firearm-reform\"%20OR%20\"firearm%20reform\"%20-filter%3Aretweets%20since%3A2016-11-11%20until%3A2016-11-12&l=en\n",
      "INFO: Using proxy 103.250.166.16:48340\n",
      "INFO: Scraping tweets from https://twitter.com/i/search/timeline?f=tweets&vertical=default&include_available_features=1&include_entities=1&reset_error_state=false&src=typd&max_position=thGAVUV0VFVBaCwLDt87ycjxYWgMC79dXkqJAWEjUAFQAlAFUAFQAA&q=\"gun%20ban\"%20OR%20\"gun%20control\"%20OR%20\"firearm%20control\"%20OR%20\"gun-control\"%20OR%20\"firearm-control\"%20OR%20\"gun%20reform\"%20OR%20\"gun-reform\"%20OR%20\"firearm-reform\"%20OR%20\"firearm%20reform\"%20-filter%3Aretweets%20since%3A2016-11-11%20until%3A2016-11-12&l=en\n",
      "INFO: Using proxy 177.44.88.168:33922\n",
      "INFO: Scraping tweets from https://twitter.com/i/search/timeline?f=tweets&vertical=default&include_available_features=1&include_entities=1&reset_error_state=false&src=typd&max_position=thGAVUV0VFVBaAgLLJlo27jhYWgIC0ufWThI8WEjUAFQAlAFUAFQAA&q=\"gun%20ban\"%20OR%20\"gun%20control\"%20OR%20\"firearm%20control\"%20OR%20\"gun-control\"%20OR%20\"firearm-control\"%20OR%20\"gun%20reform\"%20OR%20\"gun-reform\"%20OR%20\"firearm-reform\"%20OR%20\"firearm%20reform\"%20-filter%3Aretweets%20since%3A2016-11-10%20until%3A2016-11-11&l=en\n",
      "INFO: Using proxy 213.159.248.165:61184\n",
      "INFO: Scraping tweets from https://twitter.com/i/search/timeline?f=tweets&vertical=default&include_available_features=1&include_entities=1&reset_error_state=false&src=typd&max_position=thGAVUV0VFVBaAgLiF0dO3jhYWgIC0ufWThI8WEjUAFQAlAFUAFQAA&q=\"gun%20ban\"%20OR%20\"gun%20control\"%20OR%20\"firearm%20control\"%20OR%20\"gun-control\"%20OR%20\"firearm-control\"%20OR%20\"gun%20reform\"%20OR%20\"gun-reform\"%20OR%20\"firearm-reform\"%20OR%20\"firearm%20reform\"%20-filter%3Aretweets%20since%3A2016-11-10%20until%3A2016-11-11&l=en\n",
      "INFO: Using proxy 41.180.65.27:45160\n",
      "INFO: Scraping tweets from https://twitter.com/i/search/timeline?f=tweets&vertical=default&include_available_features=1&include_entities=1&reset_error_state=false&src=typd&max_position=thGAVUV0VFVBaAwLCx5qGajxYWgMC79dXkqJAWEjUAFQAlAFUAFQAA&q=\"gun%20ban\"%20OR%20\"gun%20control\"%20OR%20\"firearm%20control\"%20OR%20\"gun-control\"%20OR%20\"firearm-control\"%20OR%20\"gun%20reform\"%20OR%20\"gun-reform\"%20OR%20\"firearm-reform\"%20OR%20\"firearm%20reform\"%20-filter%3Aretweets%20since%3A2016-11-11%20until%3A2016-11-12&l=en\n",
      "INFO: Using proxy 213.159.248.165:61184\n",
      "INFO: Scraping tweets from https://twitter.com/i/search/timeline?f=tweets&vertical=default&include_available_features=1&include_entities=1&reset_error_state=false&src=typd&max_position=thGAVUV0VFVBaAwLv5y5myjhYWgIC0ufWThI8WEjUAFQAlAFUAFQAA&q=\"gun%20ban\"%20OR%20\"gun%20control\"%20OR%20\"firearm%20control\"%20OR%20\"gun-control\"%20OR%20\"firearm-control\"%20OR%20\"gun%20reform\"%20OR%20\"gun-reform\"%20OR%20\"firearm-reform\"%20OR%20\"firearm%20reform\"%20-filter%3Aretweets%20since%3A2016-11-10%20until%3A2016-11-11&l=en\n",
      "INFO: Using proxy 74.84.255.88:53281\n",
      "INFO: Scraping tweets from https://twitter.com/i/search/timeline?f=tweets&vertical=default&include_available_features=1&include_entities=1&reset_error_state=false&src=typd&max_position=thGAVUV0VFVBaAgKW5nfuXjxYWgMC79dXkqJAWEjUAFQAlAFUAFQAA&q=\"gun%20ban\"%20OR%20\"gun%20control\"%20OR%20\"firearm%20control\"%20OR%20\"gun-control\"%20OR%20\"firearm-control\"%20OR%20\"gun%20reform\"%20OR%20\"gun-reform\"%20OR%20\"firearm-reform\"%20OR%20\"firearm%20reform\"%20-filter%3Aretweets%20since%3A2016-11-11%20until%3A2016-11-12&l=en\n",
      "INFO: Using proxy 41.180.65.27:45160\n",
      "INFO: Scraping tweets from https://twitter.com/i/search/timeline?f=tweets&vertical=default&include_available_features=1&include_entities=1&reset_error_state=false&src=typd&max_position=thGAVUV0VFVBaAwLjFjdCUjxYWgMC79dXkqJAWEjUAFQAlAFUAFQAA&q=\"gun%20ban\"%20OR%20\"gun%20control\"%20OR%20\"firearm%20control\"%20OR%20\"gun-control\"%20OR%20\"firearm-control\"%20OR%20\"gun%20reform\"%20OR%20\"gun-reform\"%20OR%20\"firearm-reform\"%20OR%20\"firearm%20reform\"%20-filter%3Aretweets%20since%3A2016-11-11%20until%3A2016-11-12&l=en\n",
      "INFO: Using proxy 74.84.255.88:53281\n",
      "INFO: Scraping tweets from https://twitter.com/i/search/timeline?f=tweets&vertical=default&include_available_features=1&include_entities=1&reset_error_state=false&src=typd&max_position=thGAVUV0VFVBaAgLGRiNCujhYWgIC0ufWThI8WEjUAFQAlAFUAFQAA&q=\"gun%20ban\"%20OR%20\"gun%20control\"%20OR%20\"firearm%20control\"%20OR%20\"gun-control\"%20OR%20\"firearm-control\"%20OR%20\"gun%20reform\"%20OR%20\"gun-reform\"%20OR%20\"firearm-reform\"%20OR%20\"firearm%20reform\"%20-filter%3Aretweets%20since%3A2016-11-10%20until%3A2016-11-11&l=en\n"
     ]
    },
    {
     "name": "stderr",
     "output_type": "stream",
     "text": [
      "INFO: Using proxy 109.74.142.138:53281\n",
      "INFO: Scraping tweets from https://twitter.com/i/search/timeline?f=tweets&vertical=default&include_available_features=1&include_entities=1&reset_error_state=false&src=typd&max_position=thGAVUV0VFVBaCwLD98NiSjxYWgMC79dXkqJAWEjUAFQAlAFUAFQAA&q=\"gun%20ban\"%20OR%20\"gun%20control\"%20OR%20\"firearm%20control\"%20OR%20\"gun-control\"%20OR%20\"firearm-control\"%20OR%20\"gun%20reform\"%20OR%20\"gun-reform\"%20OR%20\"firearm-reform\"%20OR%20\"firearm%20reform\"%20-filter%3Aretweets%20since%3A2016-11-11%20until%3A2016-11-12&l=en\n",
      "INFO: Using proxy 109.74.142.138:53281\n",
      "INFO: Scraping tweets from https://twitter.com/i/search/timeline?f=tweets&vertical=default&include_available_features=1&include_entities=1&reset_error_state=false&src=typd&max_position=thGAVUV0VFVBaAwLDl8oOqjhYWgIC0ufWThI8WEjUAFQAlAFUAFQAA&q=\"gun%20ban\"%20OR%20\"gun%20control\"%20OR%20\"firearm%20control\"%20OR%20\"gun-control\"%20OR%20\"firearm-control\"%20OR%20\"gun%20reform\"%20OR%20\"gun-reform\"%20OR%20\"firearm-reform\"%20OR%20\"firearm%20reform\"%20-filter%3Aretweets%20since%3A2016-11-10%20until%3A2016-11-11&l=en\n",
      "INFO: Using proxy 181.196.254.202:53281\n",
      "INFO: Scraping tweets from https://twitter.com/i/search/timeline?f=tweets&vertical=default&include_available_features=1&include_entities=1&reset_error_state=false&src=typd&max_position=thGAVUV0VFVBaCgLGBweCQjxYWgMC79dXkqJAWEjUAFQAlAFUAFQAA&q=\"gun%20ban\"%20OR%20\"gun%20control\"%20OR%20\"firearm%20control\"%20OR%20\"gun-control\"%20OR%20\"firearm-control\"%20OR%20\"gun%20reform\"%20OR%20\"gun-reform\"%20OR%20\"firearm-reform\"%20OR%20\"firearm%20reform\"%20-filter%3Aretweets%20since%3A2016-11-11%20until%3A2016-11-12&l=en\n",
      "INFO: Using proxy 181.196.254.202:53281\n",
      "INFO: Scraping tweets from https://twitter.com/i/search/timeline?f=tweets&vertical=default&include_available_features=1&include_entities=1&reset_error_state=false&src=typd&max_position=thGAVUV0VFVBaCgLiZ-6SkjhYWgIC0ufWThI8WEjUAFQAlAFUAFQAA&q=\"gun%20ban\"%20OR%20\"gun%20control\"%20OR%20\"firearm%20control\"%20OR%20\"gun-control\"%20OR%20\"firearm-control\"%20OR%20\"gun%20reform\"%20OR%20\"gun-reform\"%20OR%20\"firearm-reform\"%20OR%20\"firearm%20reform\"%20-filter%3Aretweets%20since%3A2016-11-10%20until%3A2016-11-11&l=en\n",
      "INFO: Using proxy 45.70.218.102:38739\n",
      "INFO: Scraping tweets from https://twitter.com/i/search/timeline?f=tweets&vertical=default&include_available_features=1&include_entities=1&reset_error_state=false&src=typd&max_position=thGAVUV0VFVBaAwKThv6qOjxYWgMC79dXkqJAWEjUAFQAlAFUAFQAA&q=\"gun%20ban\"%20OR%20\"gun%20control\"%20OR%20\"firearm%20control\"%20OR%20\"gun-control\"%20OR%20\"firearm-control\"%20OR%20\"gun%20reform\"%20OR%20\"gun-reform\"%20OR%20\"firearm-reform\"%20OR%20\"firearm%20reform\"%20-filter%3Aretweets%20since%3A2016-11-11%20until%3A2016-11-12&l=en\n",
      "INFO: Using proxy 45.70.218.102:38739\n",
      "INFO: Scraping tweets from https://twitter.com/i/search/timeline?f=tweets&vertical=default&include_available_features=1&include_entities=1&reset_error_state=false&src=typd&max_position=thGAVUV0VFVBaAgLTNusKcjhYWgIC0ufWThI8WEjUAFQAlAFUAFQAA&q=\"gun%20ban\"%20OR%20\"gun%20control\"%20OR%20\"firearm%20control\"%20OR%20\"gun-control\"%20OR%20\"firearm-control\"%20OR%20\"gun%20reform\"%20OR%20\"gun-reform\"%20OR%20\"firearm-reform\"%20OR%20\"firearm%20reform\"%20-filter%3Aretweets%20since%3A2016-11-10%20until%3A2016-11-11&l=en\n",
      "INFO: Using proxy 190.131.223.210:46418\n",
      "INFO: Scraping tweets from https://twitter.com/i/search/timeline?f=tweets&vertical=default&include_available_features=1&include_entities=1&reset_error_state=false&src=typd&max_position=thGAVUV0VFVBaCgLGtwqOMjxYWgMC79dXkqJAWEjUAFQAlAFUAFQAA&q=\"gun%20ban\"%20OR%20\"gun%20control\"%20OR%20\"firearm%20control\"%20OR%20\"gun-control\"%20OR%20\"firearm-control\"%20OR%20\"gun%20reform\"%20OR%20\"gun-reform\"%20OR%20\"firearm-reform\"%20OR%20\"firearm%20reform\"%20-filter%3Aretweets%20since%3A2016-11-11%20until%3A2016-11-12&l=en\n",
      "INFO: Using proxy 190.131.223.210:46418\n",
      "INFO: Scraping tweets from https://twitter.com/i/search/timeline?f=tweets&vertical=default&include_available_features=1&include_entities=1&reset_error_state=false&src=typd&max_position=thGAVUV0VFVBaAgLTxzsOXjhYWgIC0ufWThI8WEjUAFQAlAFUAFQAA&q=\"gun%20ban\"%20OR%20\"gun%20control\"%20OR%20\"firearm%20control\"%20OR%20\"gun-control\"%20OR%20\"firearm-control\"%20OR%20\"gun%20reform\"%20OR%20\"gun-reform\"%20OR%20\"firearm-reform\"%20OR%20\"firearm%20reform\"%20-filter%3Aretweets%20since%3A2016-11-10%20until%3A2016-11-11&l=en\n",
      "INFO: Using proxy 188.235.8.5:37789\n",
      "INFO: Scraping tweets from https://twitter.com/i/search/timeline?f=tweets&vertical=default&include_available_features=1&include_entities=1&reset_error_state=false&src=typd&max_position=thGAVUV0VFVBaAwLfpufaKjxYWgMC79dXkqJAWEjUAFQAlAFUAFQAA&q=\"gun%20ban\"%20OR%20\"gun%20control\"%20OR%20\"firearm%20control\"%20OR%20\"gun-control\"%20OR%20\"firearm-control\"%20OR%20\"gun%20reform\"%20OR%20\"gun-reform\"%20OR%20\"firearm-reform\"%20OR%20\"firearm%20reform\"%20-filter%3Aretweets%20since%3A2016-11-11%20until%3A2016-11-12&l=en\n",
      "INFO: Using proxy 188.235.8.5:37789\n",
      "INFO: Scraping tweets from https://twitter.com/i/search/timeline?f=tweets&vertical=default&include_available_features=1&include_entities=1&reset_error_state=false&src=typd&max_position=thGAVUV0VFVBaAgKKttqSQjhYWgIC0ufWThI8WEjUAFQAlAFUAFQAA&q=\"gun%20ban\"%20OR%20\"gun%20control\"%20OR%20\"firearm%20control\"%20OR%20\"gun-control\"%20OR%20\"firearm-control\"%20OR%20\"gun%20reform\"%20OR%20\"gun-reform\"%20OR%20\"firearm-reform\"%20OR%20\"firearm%20reform\"%20-filter%3Aretweets%20since%3A2016-11-10%20until%3A2016-11-11&l=en\n",
      "INFO: Using proxy 177.101.137.129:58613\n",
      "INFO: Scraping tweets from https://twitter.com/i/search/timeline?f=tweets&vertical=default&include_available_features=1&include_entities=1&reset_error_state=false&src=typd&max_position=thGAVUV0VFVBaEgLTB8ZqJjxYWgMC79dXkqJAWEjUAFQAlAFUAFQAA&q=\"gun%20ban\"%20OR%20\"gun%20control\"%20OR%20\"firearm%20control\"%20OR%20\"gun-control\"%20OR%20\"firearm-control\"%20OR%20\"gun%20reform\"%20OR%20\"gun-reform\"%20OR%20\"firearm-reform\"%20OR%20\"firearm%20reform\"%20-filter%3Aretweets%20since%3A2016-11-11%20until%3A2016-11-12&l=en\n",
      "INFO: Using proxy 177.101.137.129:58613\n",
      "INFO: Scraping tweets from https://twitter.com/i/search/timeline?f=tweets&vertical=default&include_available_features=1&include_entities=1&reset_error_state=false&src=typd&max_position=thGAVUV0VFVBaAwLrR65KNjhYWgIC0ufWThI8WEjUAFQAlAFUAFQAA&q=\"gun%20ban\"%20OR%20\"gun%20control\"%20OR%20\"firearm%20control\"%20OR%20\"gun-control\"%20OR%20\"firearm-control\"%20OR%20\"gun%20reform\"%20OR%20\"gun-reform\"%20OR%20\"firearm-reform\"%20OR%20\"firearm%20reform\"%20-filter%3Aretweets%20since%3A2016-11-10%20until%3A2016-11-11&l=en\n",
      "INFO: Using proxy 1.20.99.89:32963\n",
      "INFO: Scraping tweets from https://twitter.com/i/search/timeline?f=tweets&vertical=default&include_available_features=1&include_entities=1&reset_error_state=false&src=typd&max_position=thGAVUV0VFVBaAwKTBrOWHjxYWgMC79dXkqJAWEjUAFQAlAFUAFQAA&q=\"gun%20ban\"%20OR%20\"gun%20control\"%20OR%20\"firearm%20control\"%20OR%20\"gun-control\"%20OR%20\"firearm-control\"%20OR%20\"gun%20reform\"%20OR%20\"gun-reform\"%20OR%20\"firearm-reform\"%20OR%20\"firearm%20reform\"%20-filter%3Aretweets%20since%3A2016-11-11%20until%3A2016-11-12&l=en\n",
      "INFO: Using proxy 1.20.99.89:32963\n",
      "INFO: Scraping tweets from https://twitter.com/i/search/timeline?f=tweets&vertical=default&include_available_features=1&include_entities=1&reset_error_state=false&src=typd&max_position=thGAVUV0VFVBaAwKLJ-YiKjhYWgIC0ufWThI8WEjUAFQAlAFUAFQAA&q=\"gun%20ban\"%20OR%20\"gun%20control\"%20OR%20\"firearm%20control\"%20OR%20\"gun-control\"%20OR%20\"firearm-control\"%20OR%20\"gun%20reform\"%20OR%20\"gun-reform\"%20OR%20\"firearm-reform\"%20OR%20\"firearm%20reform\"%20-filter%3Aretweets%20since%3A2016-11-10%20until%3A2016-11-11&l=en\n",
      "INFO: Using proxy 103.9.190.206:42726\n",
      "INFO: Scraping tweets from https://twitter.com/i/search/timeline?f=tweets&vertical=default&include_available_features=1&include_entities=1&reset_error_state=false&src=typd&max_position=thGAVUV0VFVBaIgLKt8sGGjxYWgMC79dXkqJAWEjUAFQAlAFUAFQAA&q=\"gun%20ban\"%20OR%20\"gun%20control\"%20OR%20\"firearm%20control\"%20OR%20\"gun-control\"%20OR%20\"firearm-control\"%20OR%20\"gun%20reform\"%20OR%20\"gun-reform\"%20OR%20\"firearm-reform\"%20OR%20\"firearm%20reform\"%20-filter%3Aretweets%20since%3A2016-11-11%20until%3A2016-11-12&l=en\n"
     ]
    },
    {
     "name": "stderr",
     "output_type": "stream",
     "text": [
      "INFO: Using proxy 103.9.190.206:42726\n",
      "INFO: Scraping tweets from https://twitter.com/i/search/timeline?f=tweets&vertical=default&include_available_features=1&include_entities=1&reset_error_state=false&src=typd&max_position=thGAVUV0VFVBaAwKPJgfaHjhYWgIC0ufWThI8WEjUAFQAlAFUAFQAA&q=\"gun%20ban\"%20OR%20\"gun%20control\"%20OR%20\"firearm%20control\"%20OR%20\"gun-control\"%20OR%20\"firearm-control\"%20OR%20\"gun%20reform\"%20OR%20\"gun-reform\"%20OR%20\"firearm-reform\"%20OR%20\"firearm%20reform\"%20-filter%3Aretweets%20since%3A2016-11-10%20until%3A2016-11-11&l=en\n",
      "INFO: Using proxy 117.54.250.58:38508\n",
      "INFO: Scraping tweets from https://twitter.com/i/search/timeline?f=tweets&vertical=default&include_available_features=1&include_entities=1&reset_error_state=false&src=typd&max_position=thGAVUV0VFVBaAgLT18YSFjhYWgIC0ufWThI8WEjUAFQAlAFUAFQAA&q=\"gun%20ban\"%20OR%20\"gun%20control\"%20OR%20\"firearm%20control\"%20OR%20\"gun-control\"%20OR%20\"firearm-control\"%20OR%20\"gun%20reform\"%20OR%20\"gun-reform\"%20OR%20\"firearm-reform\"%20OR%20\"firearm%20reform\"%20-filter%3Aretweets%20since%3A2016-11-10%20until%3A2016-11-11&l=en\n",
      "INFO: Using proxy 175.106.17.98:8080\n",
      "INFO: Scraping tweets from https://twitter.com/i/search/timeline?f=tweets&vertical=default&include_available_features=1&include_entities=1&reset_error_state=false&src=typd&max_position=thGAVUV0VFVBaEwLDN-9CEjxYWgMC79dXkqJAWEjUAFQAlAFUAFQAA&q=\"gun%20ban\"%20OR%20\"gun%20control\"%20OR%20\"firearm%20control\"%20OR%20\"gun-control\"%20OR%20\"firearm-control\"%20OR%20\"gun%20reform\"%20OR%20\"gun-reform\"%20OR%20\"firearm-reform\"%20OR%20\"firearm%20reform\"%20-filter%3Aretweets%20since%3A2016-11-11%20until%3A2016-11-12&l=en\n",
      "INFO: Using proxy 117.54.250.58:38508\n",
      "INFO: Scraping tweets from https://twitter.com/i/search/timeline?f=tweets&vertical=default&include_available_features=1&include_entities=1&reset_error_state=false&src=typd&max_position=thGAVUV0VFVBaAgLGRsqiEjxYWgMC79dXkqJAWEjUAFQAlAFUAFQAA&q=\"gun%20ban\"%20OR%20\"gun%20control\"%20OR%20\"firearm%20control\"%20OR%20\"gun-control\"%20OR%20\"firearm-control\"%20OR%20\"gun%20reform\"%20OR%20\"gun-reform\"%20OR%20\"firearm-reform\"%20OR%20\"firearm%20reform\"%20-filter%3Aretweets%20since%3A2016-11-11%20until%3A2016-11-12&l=en\n",
      "INFO: Using proxy 175.106.17.98:8080\n",
      "INFO: Twitter returned : 'has_more_items' \n",
      "INFO: Got 1017 tweets for \"gun%20ban\"%20OR%20\"gun%20control\"%20OR%20\"firearm%20control\"%20OR%20\"gun-control\"%20OR%20\"firearm-control\"%20OR%20\"gun%20reform\"%20OR%20\"gun-reform\"%20OR%20\"firearm-reform\"%20OR%20\"firearm%20reform\"%20-filter%3Aretweets%20since%3A2016-11-11%20until%3A2016-11-12.\n",
      "INFO: Got 1017 tweets (1017 new).\n",
      "INFO: Scraping tweets from https://twitter.com/i/search/timeline?f=tweets&vertical=default&include_available_features=1&include_entities=1&reset_error_state=false&src=typd&max_position=thGAVUV0VFVBaAgLTxiZSCjhYWgIC0ufWThI8WEjUAFQAlAFUAFQAA&q=\"gun%20ban\"%20OR%20\"gun%20control\"%20OR%20\"firearm%20control\"%20OR%20\"gun-control\"%20OR%20\"firearm-control\"%20OR%20\"gun%20reform\"%20OR%20\"gun-reform\"%20OR%20\"firearm-reform\"%20OR%20\"firearm%20reform\"%20-filter%3Aretweets%20since%3A2016-11-10%20until%3A2016-11-11&l=en\n",
      "INFO: Using proxy 118.97.100.83:35220\n",
      "INFO: Scraping tweets from https://twitter.com/i/search/timeline?f=tweets&vertical=default&include_available_features=1&include_entities=1&reset_error_state=false&src=typd&max_position=thGAVUV0VFVBaCwKihk4z_jRYWgIC0ufWThI8WEjUAFQAlAFUAFQAA&q=\"gun%20ban\"%20OR%20\"gun%20control\"%20OR%20\"firearm%20control\"%20OR%20\"gun-control\"%20OR%20\"firearm-control\"%20OR%20\"gun%20reform\"%20OR%20\"gun-reform\"%20OR%20\"firearm-reform\"%20OR%20\"firearm%20reform\"%20-filter%3Aretweets%20since%3A2016-11-10%20until%3A2016-11-11&l=en\n",
      "INFO: Using proxy 24.106.221.230:53281\n",
      "INFO: Scraping tweets from https://twitter.com/i/search/timeline?f=tweets&vertical=default&include_available_features=1&include_entities=1&reset_error_state=false&src=typd&max_position=thGAVUV0VFVBaCgLL9sOH8jRYWgIC0ufWThI8WEjUAFQAlAFUAFQAA&q=\"gun%20ban\"%20OR%20\"gun%20control\"%20OR%20\"firearm%20control\"%20OR%20\"gun-control\"%20OR%20\"firearm-control\"%20OR%20\"gun%20reform\"%20OR%20\"gun-reform\"%20OR%20\"firearm-reform\"%20OR%20\"firearm%20reform\"%20-filter%3Aretweets%20since%3A2016-11-10%20until%3A2016-11-11&l=en\n",
      "INFO: Using proxy 202.152.38.75:52740\n",
      "INFO: Scraping tweets from https://twitter.com/i/search/timeline?f=tweets&vertical=default&include_available_features=1&include_entities=1&reset_error_state=false&src=typd&max_position=thGAVUV0VFVBaAwKTFjZL6jRYWgIC0ufWThI8WEjUAFQAlAFUAFQAA&q=\"gun%20ban\"%20OR%20\"gun%20control\"%20OR%20\"firearm%20control\"%20OR%20\"gun-control\"%20OR%20\"firearm-control\"%20OR%20\"gun%20reform\"%20OR%20\"gun-reform\"%20OR%20\"firearm-reform\"%20OR%20\"firearm%20reform\"%20-filter%3Aretweets%20since%3A2016-11-10%20until%3A2016-11-11&l=en\n",
      "INFO: Using proxy 182.253.82.154:44170\n",
      "INFO: Scraping tweets from https://twitter.com/i/search/timeline?f=tweets&vertical=default&include_available_features=1&include_entities=1&reset_error_state=false&src=typd&max_position=thGAVUV0VFVBaAwLrNzOv3jRYWgIC0ufWThI8WEjUAFQAlAFUAFQAA&q=\"gun%20ban\"%20OR%20\"gun%20control\"%20OR%20\"firearm%20control\"%20OR%20\"gun-control\"%20OR%20\"firearm-control\"%20OR%20\"gun%20reform\"%20OR%20\"gun-reform\"%20OR%20\"firearm-reform\"%20OR%20\"firearm%20reform\"%20-filter%3Aretweets%20since%3A2016-11-10%20until%3A2016-11-11&l=en\n",
      "INFO: Using proxy 204.15.243.233:47342\n",
      "INFO: Scraping tweets from https://twitter.com/i/search/timeline?f=tweets&vertical=default&include_available_features=1&include_entities=1&reset_error_state=false&src=typd&max_position=thGAVUV0VFVBaCgKX1r8_2jRYWgIC0ufWThI8WEjUAFQAlAFUAFQAA&q=\"gun%20ban\"%20OR%20\"gun%20control\"%20OR%20\"firearm%20control\"%20OR%20\"gun-control\"%20OR%20\"firearm-control\"%20OR%20\"gun%20reform\"%20OR%20\"gun-reform\"%20OR%20\"firearm-reform\"%20OR%20\"firearm%20reform\"%20-filter%3Aretweets%20since%3A2016-11-10%20until%3A2016-11-11&l=en\n",
      "INFO: Using proxy 62.85.57.43:53281\n",
      "INFO: Scraping tweets from https://twitter.com/i/search/timeline?f=tweets&vertical=default&include_available_features=1&include_entities=1&reset_error_state=false&src=typd&max_position=thGAVUV0VFVBaAwLDJ1OP0jRYWgIC0ufWThI8WEjUAFQAlAFUAFQAA&q=\"gun%20ban\"%20OR%20\"gun%20control\"%20OR%20\"firearm%20control\"%20OR%20\"gun-control\"%20OR%20\"firearm-control\"%20OR%20\"gun%20reform\"%20OR%20\"gun-reform\"%20OR%20\"firearm-reform\"%20OR%20\"firearm%20reform\"%20-filter%3Aretweets%20since%3A2016-11-10%20until%3A2016-11-11&l=en\n",
      "INFO: Using proxy 41.193.12.50:42313\n",
      "INFO: Scraping tweets from https://twitter.com/i/search/timeline?f=tweets&vertical=default&include_available_features=1&include_entities=1&reset_error_state=false&src=typd&max_position=thGAVUV0VFVBaAwLu9naLyjRYWgIC0ufWThI8WEjUAFQAlAFUAFQAA&q=\"gun%20ban\"%20OR%20\"gun%20control\"%20OR%20\"firearm%20control\"%20OR%20\"gun-control\"%20OR%20\"firearm-control\"%20OR%20\"gun%20reform\"%20OR%20\"gun-reform\"%20OR%20\"firearm-reform\"%20OR%20\"firearm%20reform\"%20-filter%3Aretweets%20since%3A2016-11-10%20until%3A2016-11-11&l=en\n",
      "INFO: Using proxy 178.124.172.23:3128\n",
      "INFO: Scraping tweets from https://twitter.com/i/search/timeline?f=tweets&vertical=default&include_available_features=1&include_entities=1&reset_error_state=false&src=typd&max_position=thGAVUV0VFVBaAwKSNr9vwjRYWgIC0ufWThI8WEjUAFQAlAFUAFQAA&q=\"gun%20ban\"%20OR%20\"gun%20control\"%20OR%20\"firearm%20control\"%20OR%20\"gun-control\"%20OR%20\"firearm-control\"%20OR%20\"gun%20reform\"%20OR%20\"gun-reform\"%20OR%20\"firearm-reform\"%20OR%20\"firearm%20reform\"%20-filter%3Aretweets%20since%3A2016-11-10%20until%3A2016-11-11&l=en\n",
      "INFO: Using proxy 45.112.57.110:56363\n",
      "INFO: Scraping tweets from https://twitter.com/i/search/timeline?f=tweets&vertical=default&include_available_features=1&include_entities=1&reset_error_state=false&src=typd&max_position=thGAVUV0VFVBaAwLrJ1ZbvjRYWgIC0ufWThI8WEjUAFQAlAFUAFQAA&q=\"gun%20ban\"%20OR%20\"gun%20control\"%20OR%20\"firearm%20control\"%20OR%20\"gun-control\"%20OR%20\"firearm-control\"%20OR%20\"gun%20reform\"%20OR%20\"gun-reform\"%20OR%20\"firearm-reform\"%20OR%20\"firearm%20reform\"%20-filter%3Aretweets%20since%3A2016-11-10%20until%3A2016-11-11&l=en\n",
      "INFO: Using proxy 203.185.55.217:443\n",
      "INFO: Scraping tweets from https://twitter.com/i/search/timeline?f=tweets&vertical=default&include_available_features=1&include_entities=1&reset_error_state=false&src=typd&max_position=thGAVUV0VFVBaAwLqZ58TtjRYWgIC0ufWThI8WEjUAFQAlAFUAFQAA&q=\"gun%20ban\"%20OR%20\"gun%20control\"%20OR%20\"firearm%20control\"%20OR%20\"gun-control\"%20OR%20\"firearm-control\"%20OR%20\"gun%20reform\"%20OR%20\"gun-reform\"%20OR%20\"firearm-reform\"%20OR%20\"firearm%20reform\"%20-filter%3Aretweets%20since%3A2016-11-10%20until%3A2016-11-11&l=en\n"
     ]
    },
    {
     "name": "stderr",
     "output_type": "stream",
     "text": [
      "INFO: Using proxy 158.69.62.238:3128\n",
      "INFO: Scraping tweets from https://twitter.com/i/search/timeline?f=tweets&vertical=default&include_available_features=1&include_entities=1&reset_error_state=false&src=typd&max_position=thGAVUV0VFVBaAgLy1ibDrjRYWgIC0ufWThI8WEjUAFQAlAFUAFQAA&q=\"gun%20ban\"%20OR%20\"gun%20control\"%20OR%20\"firearm%20control\"%20OR%20\"gun-control\"%20OR%20\"firearm-control\"%20OR%20\"gun%20reform\"%20OR%20\"gun-reform\"%20OR%20\"firearm-reform\"%20OR%20\"firearm%20reform\"%20-filter%3Aretweets%20since%3A2016-11-10%20until%3A2016-11-11&l=en\n",
      "INFO: Using proxy 34.68.165.19:80\n",
      "INFO: Scraping tweets from https://twitter.com/i/search/timeline?f=tweets&vertical=default&include_available_features=1&include_entities=1&reset_error_state=false&src=typd&max_position=thGAVUV0VFVBaEwLeV9O_ojRYWgIC0ufWThI8WEjUAFQAlAFUAFQAA&q=\"gun%20ban\"%20OR%20\"gun%20control\"%20OR%20\"firearm%20control\"%20OR%20\"gun-control\"%20OR%20\"firearm-control\"%20OR%20\"gun%20reform\"%20OR%20\"gun-reform\"%20OR%20\"firearm-reform\"%20OR%20\"firearm%20reform\"%20-filter%3Aretweets%20since%3A2016-11-10%20until%3A2016-11-11&l=en\n",
      "INFO: Using proxy 148.77.34.196:50991\n",
      "INFO: Scraping tweets from https://twitter.com/i/search/timeline?f=tweets&vertical=default&include_available_features=1&include_entities=1&reset_error_state=false&src=typd&max_position=thGAVUV0VFVBaAwLjR0vrnjRYWgIC0ufWThI8WEjUAFQAlAFUAFQAA&q=\"gun%20ban\"%20OR%20\"gun%20control\"%20OR%20\"firearm%20control\"%20OR%20\"gun-control\"%20OR%20\"firearm-control\"%20OR%20\"gun%20reform\"%20OR%20\"gun-reform\"%20OR%20\"firearm-reform\"%20OR%20\"firearm%20reform\"%20-filter%3Aretweets%20since%3A2016-11-10%20until%3A2016-11-11&l=en\n",
      "INFO: Using proxy 190.214.27.106:48586\n",
      "INFO: Scraping tweets from https://twitter.com/i/search/timeline?f=tweets&vertical=default&include_available_features=1&include_entities=1&reset_error_state=false&src=typd&max_position=thGAVUV0VFVBaAwLvxm67mjRYWgIC0ufWThI8WEjUAFQAlAFUAFQAA&q=\"gun%20ban\"%20OR%20\"gun%20control\"%20OR%20\"firearm%20control\"%20OR%20\"gun-control\"%20OR%20\"firearm-control\"%20OR%20\"gun%20reform\"%20OR%20\"gun-reform\"%20OR%20\"firearm-reform\"%20OR%20\"firearm%20reform\"%20-filter%3Aretweets%20since%3A2016-11-10%20until%3A2016-11-11&l=en\n",
      "INFO: Using proxy 139.255.99.163:50031\n",
      "INFO: Scraping tweets from https://twitter.com/i/search/timeline?f=tweets&vertical=default&include_available_features=1&include_entities=1&reset_error_state=false&src=typd&max_position=thGAVUV0VFVBaAgLjZ-8nljRYWgIC0ufWThI8WEjUAFQAlAFUAFQAA&q=\"gun%20ban\"%20OR%20\"gun%20control\"%20OR%20\"firearm%20control\"%20OR%20\"gun-control\"%20OR%20\"firearm-control\"%20OR%20\"gun%20reform\"%20OR%20\"gun-reform\"%20OR%20\"firearm-reform\"%20OR%20\"firearm%20reform\"%20-filter%3Aretweets%20since%3A2016-11-10%20until%3A2016-11-11&l=en\n",
      "INFO: Using proxy 54.71.56.180:80\n",
      "INFO: Scraping tweets from https://twitter.com/i/search/timeline?f=tweets&vertical=default&include_available_features=1&include_entities=1&reset_error_state=false&src=typd&max_position=thGAVUV0VFVBaAgKK9sb_kjRYWgIC0ufWThI8WEjUAFQAlAFUAFQAA&q=\"gun%20ban\"%20OR%20\"gun%20control\"%20OR%20\"firearm%20control\"%20OR%20\"gun-control\"%20OR%20\"firearm-control\"%20OR%20\"gun%20reform\"%20OR%20\"gun-reform\"%20OR%20\"firearm-reform\"%20OR%20\"firearm%20reform\"%20-filter%3Aretweets%20since%3A2016-11-10%20until%3A2016-11-11&l=en\n",
      "INFO: Using proxy 72.44.21.146:54021\n",
      "INFO: Scraping tweets from https://twitter.com/i/search/timeline?f=tweets&vertical=default&include_available_features=1&include_entities=1&reset_error_state=false&src=typd&max_position=thGAVUV0VFVBaCgKKp0_fijRYWgIC0ufWThI8WEjUAFQAlAFUAFQAA&q=\"gun%20ban\"%20OR%20\"gun%20control\"%20OR%20\"firearm%20control\"%20OR%20\"gun-control\"%20OR%20\"firearm-control\"%20OR%20\"gun%20reform\"%20OR%20\"gun-reform\"%20OR%20\"firearm-reform\"%20OR%20\"firearm%20reform\"%20-filter%3Aretweets%20since%3A2016-11-10%20until%3A2016-11-11&l=en\n",
      "INFO: Using proxy 180.183.26.215:3128\n",
      "INFO: Scraping tweets from https://twitter.com/i/search/timeline?f=tweets&vertical=default&include_available_features=1&include_entities=1&reset_error_state=false&src=typd&max_position=thGAVUV0VFVBaAgLLpzOHgjRYWgIC0ufWThI8WEjUAFQAlAFUAFQAA&q=\"gun%20ban\"%20OR%20\"gun%20control\"%20OR%20\"firearm%20control\"%20OR%20\"gun-control\"%20OR%20\"firearm-control\"%20OR%20\"gun%20reform\"%20OR%20\"gun-reform\"%20OR%20\"firearm-reform\"%20OR%20\"firearm%20reform\"%20-filter%3Aretweets%20since%3A2016-11-10%20until%3A2016-11-11&l=en\n",
      "INFO: Using proxy 118.175.93.94:30613\n",
      "INFO: Scraping tweets from https://twitter.com/i/search/timeline?f=tweets&vertical=default&include_available_features=1&include_entities=1&reset_error_state=false&src=typd&max_position=thGAVUV0VFVBaAwLCdw8DfjRYWgIC0ufWThI8WEjUAFQAlAFUAFQAA&q=\"gun%20ban\"%20OR%20\"gun%20control\"%20OR%20\"firearm%20control\"%20OR%20\"gun-control\"%20OR%20\"firearm-control\"%20OR%20\"gun%20reform\"%20OR%20\"gun-reform\"%20OR%20\"firearm-reform\"%20OR%20\"firearm%20reform\"%20-filter%3Aretweets%20since%3A2016-11-10%20until%3A2016-11-11&l=en\n",
      "INFO: Using proxy 50.233.228.147:8080\n",
      "INFO: Twitter returned : 'has_more_items' \n",
      "INFO: Got 1431 tweets for \"gun%20ban\"%20OR%20\"gun%20control\"%20OR%20\"firearm%20control\"%20OR%20\"gun-control\"%20OR%20\"firearm-control\"%20OR%20\"gun%20reform\"%20OR%20\"gun-reform\"%20OR%20\"firearm-reform\"%20OR%20\"firearm%20reform\"%20-filter%3Aretweets%20since%3A2016-11-10%20until%3A2016-11-11.\n",
      "INFO: Got 2448 tweets (1431 new).\n"
     ]
    },
    {
     "name": "stdout",
     "output_type": "stream",
     "text": [
      "1.279092220465342\n"
     ]
    }
   ],
   "source": [
    "# initialize a time counter\n",
    "t0 = time.time()\n",
    "\n",
    "# set empty lists that we will fill with tweet data\n",
    "text = []\n",
    "times = []\n",
    "\n",
    "# scrape twitter for tweets containing certain keywords \n",
    "list_of_tweets = query_tweets(query_string,\n",
    "                        begindate = datetime.date(2019,11,1), #Set up time range here\n",
    "                        enddate = datetime.date(2019,12,1),\n",
    "                        poolsize = 2,\n",
    "                        lang=\"en\"\n",
    "                       )\n",
    "\n",
    "# loop through each tweet to grab data and append the data to their respective lists\n",
    "for tweet in list_of_tweets:\n",
    "    text.append(tweet.text)\n",
    "    times.append(tweet.timestamp)\n",
    "\n",
    "# build the dataframe\n",
    "df = pd.DataFrame({\n",
    "    'tweet': text,\n",
    "    'time_stamp': times\n",
    "})\n",
    "\n",
    "print((time.time()-t0)/60)"
   ]
  },
  {
   "cell_type": "code",
   "execution_count": 8,
   "metadata": {
    "scrolled": true
   },
   "outputs": [],
   "source": [
    "df = df.drop_duplicates()"
   ]
  },
  {
   "cell_type": "code",
   "execution_count": 9,
   "metadata": {},
   "outputs": [],
   "source": [
    "# remove any twitter pic urls\n",
    "df['tweet'] = [re.sub(r'pic.twitter.com\\S+', '', post).strip() for post in df['tweet']]\n",
    "\n",
    "# remove any http urls\n",
    "df['tweet'] = [re.sub(r'http\\S+', '', post).strip() for post in df['tweet']]\n",
    "\n",
    "# instatiate the tokenizer\n",
    "tknr = RegexpTokenizer(r'[a-zA-Z&0-9]+')\n",
    "\n",
    "# start with empty lists\n",
    "tokens = []\n",
    "\n",
    "# fill the list with tokenized versions of each post title\n",
    "for post in df['tweet']:\n",
    "    tokens.append(\" \".join(tknr.tokenize(post.lower())))\n",
    "df['tweet'] = tokens\n",
    "\n",
    "# add a word count column\n",
    "df['tweet_word_count'] = df['tweet'].apply(lambda post: len(post.split()))\n",
    "\n",
    "# compound score added\n",
    "sia = SentimentIntensityAnalyzer()\n",
    "\n",
    "# create function to return compound score\n",
    "def get_compound(text):\n",
    "    return sia.polarity_scores(text)['compound']\n",
    "\n",
    "# add compound score features for title and tac column\n",
    "df['compound'] = df['tweet'].map(lambda x : get_compound(x))"
   ]
  },
  {
   "cell_type": "code",
   "execution_count": 12,
   "metadata": {},
   "outputs": [],
   "source": [
    "df = df.sort_values(by = 'time_stamp')"
   ]
  },
  {
   "cell_type": "code",
   "execution_count": 14,
   "metadata": {},
   "outputs": [
    {
     "data": {
      "text/plain": [
       "(2400, 4)"
      ]
     },
     "execution_count": 14,
     "metadata": {},
     "output_type": "execute_result"
    }
   ],
   "source": [
    "df.shape"
   ]
  },
  {
   "cell_type": "code",
   "execution_count": 15,
   "metadata": {},
   "outputs": [],
   "source": [
    "# save the dataframe file\n",
    "df.to_csv('../data/twitter_2019_11.csv', index=False)"
   ]
  }
 ],
 "metadata": {
  "kernelspec": {
   "display_name": "Python 3",
   "language": "python",
   "name": "python3"
  },
  "language_info": {
   "codemirror_mode": {
    "name": "ipython",
    "version": 3
   },
   "file_extension": ".py",
   "mimetype": "text/x-python",
   "name": "python",
   "nbconvert_exporter": "python",
   "pygments_lexer": "ipython3",
   "version": "3.7.3"
  }
 },
 "nbformat": 4,
 "nbformat_minor": 2
}
