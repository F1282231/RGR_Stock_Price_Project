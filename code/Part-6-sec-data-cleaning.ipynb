{
 "cells": [
  {
   "cell_type": "markdown",
   "metadata": {},
   "source": [
    "# RGR Stock Price Forecasting Project - Part 6\n",
    "\n",
    "Author: Jack Wang\n",
    "\n",
    "---\n",
    "\n",
    "## Problem Statement\n",
    "\n",
    "Stock prices are hard to predict because they are not only affected by the performance of the underlying companies but also the expectations from the general public. As known, the stock price of firearm companies are highly correlated to the public opinions toward gun control. My model intends to predict the stock price of one of the largest firearm company in the states, RGR (Sturm, Ruger & Co., firearm company), by using its historical stock price, public opinions toward gun control, and its financial reports to SEC. \n",
    "\n",
    "## Executive Summary\n",
    "\n",
    "The goal of my projcet is to build a **time series regression model** that predicts the stock price of RGR. The data I am using would be historical stock price from [Yahoo Finance](https://finance.yahoo.com/quote/RGR/history?p=RGR), twitter posts scraped from [twitter](https://twitter.com/), subreddit posts mentioned about gun control, and also the financial reports to [SEC](https://www.sec.gov/cgi-bin/browse-edgar?action=getcompany&CIK=0000095029&type=&dateb=&owner=exclude&count=100). I will do sentiment analysis on the text data and time series modeling on the historical stock price data. The model will be evaluated using MSE.\n",
    "\n",
    "## Content\n",
    "\n",
    "This project consists of 7 Jupyter notebooks:\n",
    "- Part-1-stock-price-data\n",
    "- Part-2-twitter-scraper\n",
    "- Part-3-twitter-data-cleaning\n",
    "- Part-4-reddit-data-scraper\n",
    "- Part-5-reddit-data-cleaning\n",
    "- ***Part-6-sec-data-cleaning***\n",
    "- Part-7-modeling-and-evaluation\n",
    "\n",
    "\n",
    "---\n"
   ]
  },
  {
   "cell_type": "markdown",
   "metadata": {},
   "source": [
    "**All public companies in the US are required to submit financial statements or public annoucement to SEC. So I collected the reports (10K, 10Q, 8K) from [SEC](https://www.sec.gov/cgi-bin/browse-edgar?action=getcompany&CIK=0000095029&type=&dateb=&owner=exclude&count=100) and implement them to the model.**"
   ]
  },
  {
   "cell_type": "code",
   "execution_count": 1,
   "metadata": {},
   "outputs": [],
   "source": [
    "import pandas as pd\n",
    "import numpy as np\n",
    "from datetime import datetime"
   ]
  },
  {
   "cell_type": "code",
   "execution_count": 3,
   "metadata": {},
   "outputs": [],
   "source": [
    "df = pd.read_csv(\"../data/sec/SEC.csv\")"
   ]
  },
  {
   "cell_type": "code",
   "execution_count": 4,
   "metadata": {},
   "outputs": [],
   "source": [
    "# Convert datetime\n",
    "\n",
    "df['Filing Date']= pd.to_datetime(df['Filing Date'])\n",
    "df['date']= pd.to_datetime(df['Filing Date']).dt.date\n",
    "\n",
    "# Select only 8K, 10K, and 10Q\n",
    "\n",
    "df = df.loc[(df['Filings']=='8-K')|(df['Filings']=='10-K')|(df['Filings']=='10-Q'),:]\n",
    "\n",
    "# Get dummies\n",
    "\n",
    "df = pd.get_dummies(df,columns=['Filings'])\n",
    "df = df.reset_index(drop=True)\n",
    "df = df[5:54].copy()\n",
    "df = df.reset_index(drop=True)\n",
    "df = df.drop(columns='Filing Date')\n",
    "\n",
    "# Rename\n",
    "df.columns = ['date', '10-k', '10-q', '8-k']\n",
    "df = df.groupby('date').sum()\n",
    "\n",
    "# Include date column\n",
    "\n",
    "df['date'] = df.inde"
   ]
  },
  {
   "cell_type": "code",
   "execution_count": 16,
   "metadata": {},
   "outputs": [],
   "source": [
    "df.to_csv(\"../data/sec/sec_data.csv\",index=False)"
   ]
  }
 ],
 "metadata": {
  "kernelspec": {
   "display_name": "Python 3",
   "language": "python",
   "name": "python3"
  },
  "language_info": {
   "codemirror_mode": {
    "name": "ipython",
    "version": 3
   },
   "file_extension": ".py",
   "mimetype": "text/x-python",
   "name": "python",
   "nbconvert_exporter": "python",
   "pygments_lexer": "ipython3",
   "version": "3.7.3"
  }
 },
 "nbformat": 4,
 "nbformat_minor": 2
}
