{
 "cells": [
  {
   "cell_type": "markdown",
   "metadata": {},
   "source": [
    "# RGR Stock Price Forecasting Project\n",
    "\n",
    "Author: Jack Wang\n",
    "\n",
    "---\n",
    "\n",
    "## Problem Statement\n",
    "\n",
    "Stock prices are hard to predict because they are not only affected by the performance of the underlying companies but also the expectations from the general public. As known, the stock price of firearm companies are highly correlated to the public opinions toward gun ban. My model intends to predict the stock price of one of the largest firearm company in the states, RGR (Sturm, Ruger & Co., firearm company), by using its historical stock price and public opinions toward gun ban. \n",
    "\n",
    "## Executive Summary\n",
    "\n",
    "The goal of my projcet is to build a **time series regression model** that predicts the stock price of RGR. The data I am using would be historical stock price from Yahoo Finance, twitter posts scraped from [twitter](https://twitter.com/), and also the news articles from major news website. I will perform NPL on the text data and time series modeling on the historical stock price data. The model will be evaluated using R^2 score.\n",
    "\n",
    "## Content\n",
    "\n",
    "This project consists of 5 Jupyter notebooks:\n",
    "- ***Part-1-stock-price-data***\n",
    "- Part-2-twitter-scraper\n",
    "- Part-3-twitter-data-cleaning\n",
    "- Part-4-reddit-data-scraper\n",
    "- Part-5-reddit-data-cleaning\n",
    "    - [Example](#Most-Frequent-Words-in-Title-and-Content)\n",
    "- Part-6-Conclusion-and-Discussion\n",
    "\n",
    "\n",
    "---\n"
   ]
  },
  {
   "cell_type": "code",
   "execution_count": 268,
   "metadata": {},
   "outputs": [],
   "source": [
    "import pandas as pd\n",
    "import numpy as np\n",
    "import matplotlib.pyplot as plt\n",
    "import seaborn as sns\n",
    "import statsmodels.api as sm\n",
    "import itertools\n",
    "\n",
    "# from datetime import datetime\n",
    "# from sklearn.model_selection import train_test_split\n",
    "from sklearn.metrics import mean_squared_error\n",
    "# from statsmodels.tsa.seasonal import seasonal_decompose\n",
    "# from statsmodels.tsa.stattools import adfuller\n",
    "\n",
    "\n",
    "# %matplotlib inline\n",
    "\n",
    "# # This will allow us to avoid a FutureWarning when plotting.\n",
    "# from pandas.plotting import register_matplotlib_converters\n",
    "# register_matplotlib_converters()\n",
    "\n",
    "plt.style.use('fivethirtyeight')"
   ]
  },
  {
   "cell_type": "code",
   "execution_count": 226,
   "metadata": {},
   "outputs": [],
   "source": [
    "df_twitter = pd.read_csv(\"../data/twitter/twitter.csv\")\n",
    "df_reddit = pd.read_csv(\"../data/reddit/reddit.csv\")\n",
    "df_sec = pd.read_csv(\"../data/sec/sec_data.csv\")\n",
    "df_rgr = pd.read_csv(\"../data/stock_price/stock_price_2014_to_2019.csv\")"
   ]
  },
  {
   "cell_type": "code",
   "execution_count": 227,
   "metadata": {},
   "outputs": [],
   "source": [
    "df_rgr = df_rgr.loc[:,['Date', 'Open']]"
   ]
  },
  {
   "cell_type": "code",
   "execution_count": 228,
   "metadata": {},
   "outputs": [],
   "source": [
    "df_rgr.columns = ['date', 'open_price']"
   ]
  },
  {
   "cell_type": "code",
   "execution_count": 229,
   "metadata": {},
   "outputs": [],
   "source": [
    "df_rgr = df_rgr.iloc[693:1446].reset_index(drop=True)"
   ]
  },
  {
   "cell_type": "code",
   "execution_count": 238,
   "metadata": {},
   "outputs": [],
   "source": [
    "df_final = pd.merge(df_rgr, df_twitter, how='outer')"
   ]
  },
  {
   "cell_type": "code",
   "execution_count": 239,
   "metadata": {},
   "outputs": [],
   "source": [
    "df_final = pd.merge(df_final, df_reddit, how = 'outer')"
   ]
  },
  {
   "cell_type": "code",
   "execution_count": 240,
   "metadata": {},
   "outputs": [],
   "source": [
    "df_final = pd.merge(df_final, df_sec, how = 'outer' )"
   ]
  },
  {
   "cell_type": "code",
   "execution_count": 241,
   "metadata": {},
   "outputs": [],
   "source": [
    "df_final['date'] = pd.to_datetime(df_final['date'])"
   ]
  },
  {
   "cell_type": "code",
   "execution_count": 242,
   "metadata": {},
   "outputs": [],
   "source": [
    "df_final = df_final.set_index('date')"
   ]
  },
  {
   "cell_type": "code",
   "execution_count": 243,
   "metadata": {},
   "outputs": [],
   "source": [
    "df_final = df_final.sort_index()"
   ]
  },
  {
   "cell_type": "code",
   "execution_count": 244,
   "metadata": {},
   "outputs": [
    {
     "data": {
      "text/plain": [
       "(1095, 21)"
      ]
     },
     "execution_count": 244,
     "metadata": {},
     "output_type": "execute_result"
    }
   ],
   "source": [
    "df_final.shape"
   ]
  },
  {
   "cell_type": "code",
   "execution_count": 247,
   "metadata": {},
   "outputs": [],
   "source": [
    "df_final = df_final.fillna(0)"
   ]
  },
  {
   "cell_type": "code",
   "execution_count": 250,
   "metadata": {},
   "outputs": [],
   "source": [
    "df_final = df_final[df_final['open_price']!=0]"
   ]
  },
  {
   "cell_type": "code",
   "execution_count": 251,
   "metadata": {},
   "outputs": [
    {
     "data": {
      "text/html": [
       "<div>\n",
       "<style scoped>\n",
       "    .dataframe tbody tr th:only-of-type {\n",
       "        vertical-align: middle;\n",
       "    }\n",
       "\n",
       "    .dataframe tbody tr th {\n",
       "        vertical-align: top;\n",
       "    }\n",
       "\n",
       "    .dataframe thead th {\n",
       "        text-align: right;\n",
       "    }\n",
       "</style>\n",
       "<table border=\"1\" class=\"dataframe\">\n",
       "  <thead>\n",
       "    <tr style=\"text-align: right;\">\n",
       "      <th></th>\n",
       "      <th>open_price</th>\n",
       "      <th>tweet_word_count_sum</th>\n",
       "      <th>tweet_compound_score_sum</th>\n",
       "      <th>tweets_sum</th>\n",
       "      <th>tweet_word_count_mean</th>\n",
       "      <th>tweet_compound_score_mean</th>\n",
       "      <th>redd_gun_score_mean</th>\n",
       "      <th>redd_gun_comment_mean</th>\n",
       "      <th>redd_gun_compound_mean</th>\n",
       "      <th>redd_gun_score_sum</th>\n",
       "      <th>...</th>\n",
       "      <th>redd_gun_post_count</th>\n",
       "      <th>redd_pol_score_mean</th>\n",
       "      <th>redd_pol_comment_mean</th>\n",
       "      <th>redd_pol_compound_mean</th>\n",
       "      <th>redd_pol_score_sum</th>\n",
       "      <th>redd_pol_comment_sum</th>\n",
       "      <th>redd_pol_post_count</th>\n",
       "      <th>10-k</th>\n",
       "      <th>10-q</th>\n",
       "      <th>8-k</th>\n",
       "    </tr>\n",
       "    <tr>\n",
       "      <th>date</th>\n",
       "      <th></th>\n",
       "      <th></th>\n",
       "      <th></th>\n",
       "      <th></th>\n",
       "      <th></th>\n",
       "      <th></th>\n",
       "      <th></th>\n",
       "      <th></th>\n",
       "      <th></th>\n",
       "      <th></th>\n",
       "      <th></th>\n",
       "      <th></th>\n",
       "      <th></th>\n",
       "      <th></th>\n",
       "      <th></th>\n",
       "      <th></th>\n",
       "      <th></th>\n",
       "      <th></th>\n",
       "      <th></th>\n",
       "      <th></th>\n",
       "      <th></th>\n",
       "    </tr>\n",
       "  </thead>\n",
       "  <tbody>\n",
       "    <tr>\n",
       "      <td>2016-10-03</td>\n",
       "      <td>57.790001</td>\n",
       "      <td>18548</td>\n",
       "      <td>-401.5402</td>\n",
       "      <td>1133</td>\n",
       "      <td>16.370697</td>\n",
       "      <td>-0.354404</td>\n",
       "      <td>0.0</td>\n",
       "      <td>0.0</td>\n",
       "      <td>0.0000</td>\n",
       "      <td>0.0</td>\n",
       "      <td>...</td>\n",
       "      <td>0.0</td>\n",
       "      <td>0.000000</td>\n",
       "      <td>0.0</td>\n",
       "      <td>0.000000</td>\n",
       "      <td>0.0</td>\n",
       "      <td>0.0</td>\n",
       "      <td>0.0</td>\n",
       "      <td>0.0</td>\n",
       "      <td>0.0</td>\n",
       "      <td>0.0</td>\n",
       "    </tr>\n",
       "    <tr>\n",
       "      <td>2016-10-04</td>\n",
       "      <td>57.470001</td>\n",
       "      <td>16554</td>\n",
       "      <td>-356.2059</td>\n",
       "      <td>1017</td>\n",
       "      <td>16.277286</td>\n",
       "      <td>-0.350252</td>\n",
       "      <td>0.0</td>\n",
       "      <td>0.0</td>\n",
       "      <td>0.0000</td>\n",
       "      <td>0.0</td>\n",
       "      <td>...</td>\n",
       "      <td>0.0</td>\n",
       "      <td>0.000000</td>\n",
       "      <td>0.0</td>\n",
       "      <td>0.000000</td>\n",
       "      <td>0.0</td>\n",
       "      <td>0.0</td>\n",
       "      <td>0.0</td>\n",
       "      <td>0.0</td>\n",
       "      <td>0.0</td>\n",
       "      <td>0.0</td>\n",
       "    </tr>\n",
       "    <tr>\n",
       "      <td>2016-10-05</td>\n",
       "      <td>57.330002</td>\n",
       "      <td>19727</td>\n",
       "      <td>-338.7394</td>\n",
       "      <td>1194</td>\n",
       "      <td>16.521776</td>\n",
       "      <td>-0.283701</td>\n",
       "      <td>0.0</td>\n",
       "      <td>0.0</td>\n",
       "      <td>0.0000</td>\n",
       "      <td>0.0</td>\n",
       "      <td>...</td>\n",
       "      <td>0.0</td>\n",
       "      <td>0.000000</td>\n",
       "      <td>0.0</td>\n",
       "      <td>0.000000</td>\n",
       "      <td>0.0</td>\n",
       "      <td>0.0</td>\n",
       "      <td>0.0</td>\n",
       "      <td>0.0</td>\n",
       "      <td>0.0</td>\n",
       "      <td>0.0</td>\n",
       "    </tr>\n",
       "    <tr>\n",
       "      <td>2016-10-06</td>\n",
       "      <td>56.400002</td>\n",
       "      <td>12924</td>\n",
       "      <td>-220.6480</td>\n",
       "      <td>807</td>\n",
       "      <td>16.014870</td>\n",
       "      <td>-0.273418</td>\n",
       "      <td>0.0</td>\n",
       "      <td>7.0</td>\n",
       "      <td>-0.7184</td>\n",
       "      <td>0.0</td>\n",
       "      <td>...</td>\n",
       "      <td>1.0</td>\n",
       "      <td>2.000000</td>\n",
       "      <td>5.0</td>\n",
       "      <td>-0.195800</td>\n",
       "      <td>4.0</td>\n",
       "      <td>10.0</td>\n",
       "      <td>2.0</td>\n",
       "      <td>0.0</td>\n",
       "      <td>0.0</td>\n",
       "      <td>0.0</td>\n",
       "    </tr>\n",
       "    <tr>\n",
       "      <td>2016-10-07</td>\n",
       "      <td>56.020000</td>\n",
       "      <td>9767</td>\n",
       "      <td>-210.2939</td>\n",
       "      <td>613</td>\n",
       "      <td>15.933116</td>\n",
       "      <td>-0.343057</td>\n",
       "      <td>1.0</td>\n",
       "      <td>1.0</td>\n",
       "      <td>-0.1280</td>\n",
       "      <td>1.0</td>\n",
       "      <td>...</td>\n",
       "      <td>1.0</td>\n",
       "      <td>0.000000</td>\n",
       "      <td>3.0</td>\n",
       "      <td>0.361200</td>\n",
       "      <td>0.0</td>\n",
       "      <td>3.0</td>\n",
       "      <td>1.0</td>\n",
       "      <td>0.0</td>\n",
       "      <td>0.0</td>\n",
       "      <td>0.0</td>\n",
       "    </tr>\n",
       "    <tr>\n",
       "      <td>...</td>\n",
       "      <td>...</td>\n",
       "      <td>...</td>\n",
       "      <td>...</td>\n",
       "      <td>...</td>\n",
       "      <td>...</td>\n",
       "      <td>...</td>\n",
       "      <td>...</td>\n",
       "      <td>...</td>\n",
       "      <td>...</td>\n",
       "      <td>...</td>\n",
       "      <td>...</td>\n",
       "      <td>...</td>\n",
       "      <td>...</td>\n",
       "      <td>...</td>\n",
       "      <td>...</td>\n",
       "      <td>...</td>\n",
       "      <td>...</td>\n",
       "      <td>...</td>\n",
       "      <td>...</td>\n",
       "      <td>...</td>\n",
       "      <td>...</td>\n",
       "    </tr>\n",
       "    <tr>\n",
       "      <td>2019-09-24</td>\n",
       "      <td>41.680000</td>\n",
       "      <td>115463</td>\n",
       "      <td>-1185.5061</td>\n",
       "      <td>3796</td>\n",
       "      <td>30.417018</td>\n",
       "      <td>-0.312304</td>\n",
       "      <td>0.0</td>\n",
       "      <td>0.0</td>\n",
       "      <td>0.0000</td>\n",
       "      <td>0.0</td>\n",
       "      <td>...</td>\n",
       "      <td>0.0</td>\n",
       "      <td>16.666667</td>\n",
       "      <td>17.0</td>\n",
       "      <td>-0.068367</td>\n",
       "      <td>50.0</td>\n",
       "      <td>51.0</td>\n",
       "      <td>3.0</td>\n",
       "      <td>0.0</td>\n",
       "      <td>0.0</td>\n",
       "      <td>0.0</td>\n",
       "    </tr>\n",
       "    <tr>\n",
       "      <td>2019-09-25</td>\n",
       "      <td>41.560001</td>\n",
       "      <td>96800</td>\n",
       "      <td>-993.2352</td>\n",
       "      <td>3213</td>\n",
       "      <td>30.127607</td>\n",
       "      <td>-0.309130</td>\n",
       "      <td>0.0</td>\n",
       "      <td>0.0</td>\n",
       "      <td>0.0000</td>\n",
       "      <td>0.0</td>\n",
       "      <td>...</td>\n",
       "      <td>0.0</td>\n",
       "      <td>0.000000</td>\n",
       "      <td>0.0</td>\n",
       "      <td>0.000000</td>\n",
       "      <td>0.0</td>\n",
       "      <td>0.0</td>\n",
       "      <td>0.0</td>\n",
       "      <td>0.0</td>\n",
       "      <td>0.0</td>\n",
       "      <td>0.0</td>\n",
       "    </tr>\n",
       "    <tr>\n",
       "      <td>2019-09-26</td>\n",
       "      <td>41.470001</td>\n",
       "      <td>100093</td>\n",
       "      <td>-1024.4333</td>\n",
       "      <td>3372</td>\n",
       "      <td>29.683571</td>\n",
       "      <td>-0.303806</td>\n",
       "      <td>0.0</td>\n",
       "      <td>0.0</td>\n",
       "      <td>0.0000</td>\n",
       "      <td>0.0</td>\n",
       "      <td>...</td>\n",
       "      <td>0.0</td>\n",
       "      <td>0.000000</td>\n",
       "      <td>0.0</td>\n",
       "      <td>0.000000</td>\n",
       "      <td>0.0</td>\n",
       "      <td>0.0</td>\n",
       "      <td>0.0</td>\n",
       "      <td>0.0</td>\n",
       "      <td>0.0</td>\n",
       "      <td>0.0</td>\n",
       "    </tr>\n",
       "    <tr>\n",
       "      <td>2019-09-27</td>\n",
       "      <td>41.180000</td>\n",
       "      <td>108463</td>\n",
       "      <td>-1056.7549</td>\n",
       "      <td>3650</td>\n",
       "      <td>29.715890</td>\n",
       "      <td>-0.289522</td>\n",
       "      <td>9.0</td>\n",
       "      <td>8.0</td>\n",
       "      <td>0.1531</td>\n",
       "      <td>9.0</td>\n",
       "      <td>...</td>\n",
       "      <td>1.0</td>\n",
       "      <td>349.000000</td>\n",
       "      <td>22.0</td>\n",
       "      <td>-0.743000</td>\n",
       "      <td>349.0</td>\n",
       "      <td>22.0</td>\n",
       "      <td>1.0</td>\n",
       "      <td>0.0</td>\n",
       "      <td>0.0</td>\n",
       "      <td>0.0</td>\n",
       "    </tr>\n",
       "    <tr>\n",
       "      <td>2019-09-30</td>\n",
       "      <td>42.000000</td>\n",
       "      <td>71519</td>\n",
       "      <td>-721.8923</td>\n",
       "      <td>2364</td>\n",
       "      <td>30.253384</td>\n",
       "      <td>-0.305369</td>\n",
       "      <td>0.0</td>\n",
       "      <td>0.0</td>\n",
       "      <td>0.0000</td>\n",
       "      <td>0.0</td>\n",
       "      <td>...</td>\n",
       "      <td>0.0</td>\n",
       "      <td>0.000000</td>\n",
       "      <td>0.0</td>\n",
       "      <td>0.000000</td>\n",
       "      <td>0.0</td>\n",
       "      <td>0.0</td>\n",
       "      <td>0.0</td>\n",
       "      <td>0.0</td>\n",
       "      <td>0.0</td>\n",
       "      <td>0.0</td>\n",
       "    </tr>\n",
       "  </tbody>\n",
       "</table>\n",
       "<p>753 rows × 21 columns</p>\n",
       "</div>"
      ],
      "text/plain": [
       "            open_price  tweet_word_count_sum  tweet_compound_score_sum  \\\n",
       "date                                                                     \n",
       "2016-10-03   57.790001                 18548                 -401.5402   \n",
       "2016-10-04   57.470001                 16554                 -356.2059   \n",
       "2016-10-05   57.330002                 19727                 -338.7394   \n",
       "2016-10-06   56.400002                 12924                 -220.6480   \n",
       "2016-10-07   56.020000                  9767                 -210.2939   \n",
       "...                ...                   ...                       ...   \n",
       "2019-09-24   41.680000                115463                -1185.5061   \n",
       "2019-09-25   41.560001                 96800                 -993.2352   \n",
       "2019-09-26   41.470001                100093                -1024.4333   \n",
       "2019-09-27   41.180000                108463                -1056.7549   \n",
       "2019-09-30   42.000000                 71519                 -721.8923   \n",
       "\n",
       "            tweets_sum  tweet_word_count_mean  tweet_compound_score_mean  \\\n",
       "date                                                                       \n",
       "2016-10-03        1133              16.370697                  -0.354404   \n",
       "2016-10-04        1017              16.277286                  -0.350252   \n",
       "2016-10-05        1194              16.521776                  -0.283701   \n",
       "2016-10-06         807              16.014870                  -0.273418   \n",
       "2016-10-07         613              15.933116                  -0.343057   \n",
       "...                ...                    ...                        ...   \n",
       "2019-09-24        3796              30.417018                  -0.312304   \n",
       "2019-09-25        3213              30.127607                  -0.309130   \n",
       "2019-09-26        3372              29.683571                  -0.303806   \n",
       "2019-09-27        3650              29.715890                  -0.289522   \n",
       "2019-09-30        2364              30.253384                  -0.305369   \n",
       "\n",
       "            redd_gun_score_mean  redd_gun_comment_mean  \\\n",
       "date                                                     \n",
       "2016-10-03                  0.0                    0.0   \n",
       "2016-10-04                  0.0                    0.0   \n",
       "2016-10-05                  0.0                    0.0   \n",
       "2016-10-06                  0.0                    7.0   \n",
       "2016-10-07                  1.0                    1.0   \n",
       "...                         ...                    ...   \n",
       "2019-09-24                  0.0                    0.0   \n",
       "2019-09-25                  0.0                    0.0   \n",
       "2019-09-26                  0.0                    0.0   \n",
       "2019-09-27                  9.0                    8.0   \n",
       "2019-09-30                  0.0                    0.0   \n",
       "\n",
       "            redd_gun_compound_mean  redd_gun_score_sum  ...  \\\n",
       "date                                                    ...   \n",
       "2016-10-03                  0.0000                 0.0  ...   \n",
       "2016-10-04                  0.0000                 0.0  ...   \n",
       "2016-10-05                  0.0000                 0.0  ...   \n",
       "2016-10-06                 -0.7184                 0.0  ...   \n",
       "2016-10-07                 -0.1280                 1.0  ...   \n",
       "...                            ...                 ...  ...   \n",
       "2019-09-24                  0.0000                 0.0  ...   \n",
       "2019-09-25                  0.0000                 0.0  ...   \n",
       "2019-09-26                  0.0000                 0.0  ...   \n",
       "2019-09-27                  0.1531                 9.0  ...   \n",
       "2019-09-30                  0.0000                 0.0  ...   \n",
       "\n",
       "            redd_gun_post_count  redd_pol_score_mean  redd_pol_comment_mean  \\\n",
       "date                                                                          \n",
       "2016-10-03                  0.0             0.000000                    0.0   \n",
       "2016-10-04                  0.0             0.000000                    0.0   \n",
       "2016-10-05                  0.0             0.000000                    0.0   \n",
       "2016-10-06                  1.0             2.000000                    5.0   \n",
       "2016-10-07                  1.0             0.000000                    3.0   \n",
       "...                         ...                  ...                    ...   \n",
       "2019-09-24                  0.0            16.666667                   17.0   \n",
       "2019-09-25                  0.0             0.000000                    0.0   \n",
       "2019-09-26                  0.0             0.000000                    0.0   \n",
       "2019-09-27                  1.0           349.000000                   22.0   \n",
       "2019-09-30                  0.0             0.000000                    0.0   \n",
       "\n",
       "            redd_pol_compound_mean  redd_pol_score_sum  redd_pol_comment_sum  \\\n",
       "date                                                                           \n",
       "2016-10-03                0.000000                 0.0                   0.0   \n",
       "2016-10-04                0.000000                 0.0                   0.0   \n",
       "2016-10-05                0.000000                 0.0                   0.0   \n",
       "2016-10-06               -0.195800                 4.0                  10.0   \n",
       "2016-10-07                0.361200                 0.0                   3.0   \n",
       "...                            ...                 ...                   ...   \n",
       "2019-09-24               -0.068367                50.0                  51.0   \n",
       "2019-09-25                0.000000                 0.0                   0.0   \n",
       "2019-09-26                0.000000                 0.0                   0.0   \n",
       "2019-09-27               -0.743000               349.0                  22.0   \n",
       "2019-09-30                0.000000                 0.0                   0.0   \n",
       "\n",
       "            redd_pol_post_count  10-k  10-q  8-k  \n",
       "date                                              \n",
       "2016-10-03                  0.0   0.0   0.0  0.0  \n",
       "2016-10-04                  0.0   0.0   0.0  0.0  \n",
       "2016-10-05                  0.0   0.0   0.0  0.0  \n",
       "2016-10-06                  2.0   0.0   0.0  0.0  \n",
       "2016-10-07                  1.0   0.0   0.0  0.0  \n",
       "...                         ...   ...   ...  ...  \n",
       "2019-09-24                  3.0   0.0   0.0  0.0  \n",
       "2019-09-25                  0.0   0.0   0.0  0.0  \n",
       "2019-09-26                  0.0   0.0   0.0  0.0  \n",
       "2019-09-27                  1.0   0.0   0.0  0.0  \n",
       "2019-09-30                  0.0   0.0   0.0  0.0  \n",
       "\n",
       "[753 rows x 21 columns]"
      ]
     },
     "execution_count": 251,
     "metadata": {},
     "output_type": "execute_result"
    }
   ],
   "source": [
    "df_final"
   ]
  },
  {
   "cell_type": "markdown",
   "metadata": {},
   "source": [
    "**GrideSearch over SARIMA**"
   ]
  },
  {
   "cell_type": "code",
   "execution_count": 380,
   "metadata": {},
   "outputs": [],
   "source": [
    "train = df_final['2016':'2018']\n",
    "test = df_final['2019']"
   ]
  },
  {
   "cell_type": "code",
   "execution_count": 381,
   "metadata": {},
   "outputs": [
    {
     "data": {
      "text/html": [
       "<div>\n",
       "<style scoped>\n",
       "    .dataframe tbody tr th:only-of-type {\n",
       "        vertical-align: middle;\n",
       "    }\n",
       "\n",
       "    .dataframe tbody tr th {\n",
       "        vertical-align: top;\n",
       "    }\n",
       "\n",
       "    .dataframe thead th {\n",
       "        text-align: right;\n",
       "    }\n",
       "</style>\n",
       "<table border=\"1\" class=\"dataframe\">\n",
       "  <thead>\n",
       "    <tr style=\"text-align: right;\">\n",
       "      <th></th>\n",
       "      <th>open_price</th>\n",
       "      <th>tweet_word_count_sum</th>\n",
       "      <th>tweet_compound_score_sum</th>\n",
       "      <th>tweets_sum</th>\n",
       "      <th>tweet_word_count_mean</th>\n",
       "      <th>tweet_compound_score_mean</th>\n",
       "      <th>redd_gun_score_mean</th>\n",
       "      <th>redd_gun_comment_mean</th>\n",
       "      <th>redd_gun_compound_mean</th>\n",
       "      <th>redd_gun_score_sum</th>\n",
       "      <th>...</th>\n",
       "      <th>redd_gun_post_count</th>\n",
       "      <th>redd_pol_score_mean</th>\n",
       "      <th>redd_pol_comment_mean</th>\n",
       "      <th>redd_pol_compound_mean</th>\n",
       "      <th>redd_pol_score_sum</th>\n",
       "      <th>redd_pol_comment_sum</th>\n",
       "      <th>redd_pol_post_count</th>\n",
       "      <th>10-k</th>\n",
       "      <th>10-q</th>\n",
       "      <th>8-k</th>\n",
       "    </tr>\n",
       "  </thead>\n",
       "  <tbody>\n",
       "    <tr>\n",
       "      <td>open_price</td>\n",
       "      <td>1.000000</td>\n",
       "      <td>-0.135835</td>\n",
       "      <td>0.124171</td>\n",
       "      <td>-0.133505</td>\n",
       "      <td>0.166185</td>\n",
       "      <td>0.187183</td>\n",
       "      <td>0.007457</td>\n",
       "      <td>-0.029288</td>\n",
       "      <td>0.095432</td>\n",
       "      <td>-0.003126</td>\n",
       "      <td>...</td>\n",
       "      <td>-0.108268</td>\n",
       "      <td>-0.007994</td>\n",
       "      <td>0.048663</td>\n",
       "      <td>-0.004408</td>\n",
       "      <td>-0.127915</td>\n",
       "      <td>-0.095157</td>\n",
       "      <td>-0.198909</td>\n",
       "      <td>-0.075070</td>\n",
       "      <td>0.039278</td>\n",
       "      <td>0.069770</td>\n",
       "    </tr>\n",
       "    <tr>\n",
       "      <td>tweet_word_count_sum</td>\n",
       "      <td>-0.135835</td>\n",
       "      <td>1.000000</td>\n",
       "      <td>-0.974359</td>\n",
       "      <td>0.979522</td>\n",
       "      <td>0.230546</td>\n",
       "      <td>-0.094229</td>\n",
       "      <td>0.100555</td>\n",
       "      <td>0.159950</td>\n",
       "      <td>-0.185772</td>\n",
       "      <td>0.108999</td>\n",
       "      <td>...</td>\n",
       "      <td>0.399339</td>\n",
       "      <td>0.139536</td>\n",
       "      <td>0.126963</td>\n",
       "      <td>-0.150374</td>\n",
       "      <td>0.704454</td>\n",
       "      <td>0.733261</td>\n",
       "      <td>0.766612</td>\n",
       "      <td>0.109585</td>\n",
       "      <td>-0.020880</td>\n",
       "      <td>0.063358</td>\n",
       "    </tr>\n",
       "    <tr>\n",
       "      <td>tweet_compound_score_sum</td>\n",
       "      <td>0.124171</td>\n",
       "      <td>-0.974359</td>\n",
       "      <td>1.000000</td>\n",
       "      <td>-0.996970</td>\n",
       "      <td>-0.168852</td>\n",
       "      <td>0.132607</td>\n",
       "      <td>-0.135916</td>\n",
       "      <td>-0.167656</td>\n",
       "      <td>0.183301</td>\n",
       "      <td>-0.148373</td>\n",
       "      <td>...</td>\n",
       "      <td>-0.443484</td>\n",
       "      <td>-0.138188</td>\n",
       "      <td>-0.130718</td>\n",
       "      <td>0.144904</td>\n",
       "      <td>-0.724142</td>\n",
       "      <td>-0.784857</td>\n",
       "      <td>-0.763330</td>\n",
       "      <td>-0.087173</td>\n",
       "      <td>0.020466</td>\n",
       "      <td>-0.067876</td>\n",
       "    </tr>\n",
       "    <tr>\n",
       "      <td>tweets_sum</td>\n",
       "      <td>-0.133505</td>\n",
       "      <td>0.979522</td>\n",
       "      <td>-0.996970</td>\n",
       "      <td>1.000000</td>\n",
       "      <td>0.186559</td>\n",
       "      <td>-0.109294</td>\n",
       "      <td>0.142738</td>\n",
       "      <td>0.182500</td>\n",
       "      <td>-0.195304</td>\n",
       "      <td>0.155854</td>\n",
       "      <td>...</td>\n",
       "      <td>0.465010</td>\n",
       "      <td>0.141320</td>\n",
       "      <td>0.130870</td>\n",
       "      <td>-0.152334</td>\n",
       "      <td>0.732296</td>\n",
       "      <td>0.784138</td>\n",
       "      <td>0.800232</td>\n",
       "      <td>0.099947</td>\n",
       "      <td>-0.021251</td>\n",
       "      <td>0.075179</td>\n",
       "    </tr>\n",
       "    <tr>\n",
       "      <td>tweet_word_count_mean</td>\n",
       "      <td>0.166185</td>\n",
       "      <td>0.230546</td>\n",
       "      <td>-0.168852</td>\n",
       "      <td>0.186559</td>\n",
       "      <td>1.000000</td>\n",
       "      <td>0.141567</td>\n",
       "      <td>-0.001287</td>\n",
       "      <td>0.019187</td>\n",
       "      <td>-0.031032</td>\n",
       "      <td>-0.019736</td>\n",
       "      <td>...</td>\n",
       "      <td>0.026325</td>\n",
       "      <td>0.125619</td>\n",
       "      <td>0.156444</td>\n",
       "      <td>-0.160998</td>\n",
       "      <td>0.140924</td>\n",
       "      <td>0.152488</td>\n",
       "      <td>0.198581</td>\n",
       "      <td>0.001317</td>\n",
       "      <td>-0.009244</td>\n",
       "      <td>-0.040790</td>\n",
       "    </tr>\n",
       "    <tr>\n",
       "      <td>tweet_compound_score_mean</td>\n",
       "      <td>0.187183</td>\n",
       "      <td>-0.094229</td>\n",
       "      <td>0.132607</td>\n",
       "      <td>-0.109294</td>\n",
       "      <td>0.141567</td>\n",
       "      <td>1.000000</td>\n",
       "      <td>-0.025809</td>\n",
       "      <td>-0.005880</td>\n",
       "      <td>-0.003679</td>\n",
       "      <td>-0.022504</td>\n",
       "      <td>...</td>\n",
       "      <td>-0.016321</td>\n",
       "      <td>-0.024405</td>\n",
       "      <td>0.002668</td>\n",
       "      <td>0.084735</td>\n",
       "      <td>-0.043286</td>\n",
       "      <td>-0.074498</td>\n",
       "      <td>-0.017401</td>\n",
       "      <td>-0.012782</td>\n",
       "      <td>0.048337</td>\n",
       "      <td>0.044311</td>\n",
       "    </tr>\n",
       "    <tr>\n",
       "      <td>redd_gun_score_mean</td>\n",
       "      <td>0.007457</td>\n",
       "      <td>0.100555</td>\n",
       "      <td>-0.135916</td>\n",
       "      <td>0.142738</td>\n",
       "      <td>-0.001287</td>\n",
       "      <td>-0.025809</td>\n",
       "      <td>1.000000</td>\n",
       "      <td>0.336530</td>\n",
       "      <td>-0.069250</td>\n",
       "      <td>0.937540</td>\n",
       "      <td>...</td>\n",
       "      <td>0.376987</td>\n",
       "      <td>-0.006260</td>\n",
       "      <td>-0.000632</td>\n",
       "      <td>-0.048394</td>\n",
       "      <td>0.021164</td>\n",
       "      <td>0.075627</td>\n",
       "      <td>0.287083</td>\n",
       "      <td>-0.003889</td>\n",
       "      <td>-0.007309</td>\n",
       "      <td>-0.014916</td>\n",
       "    </tr>\n",
       "    <tr>\n",
       "      <td>redd_gun_comment_mean</td>\n",
       "      <td>-0.029288</td>\n",
       "      <td>0.159950</td>\n",
       "      <td>-0.167656</td>\n",
       "      <td>0.182500</td>\n",
       "      <td>0.019187</td>\n",
       "      <td>-0.005880</td>\n",
       "      <td>0.336530</td>\n",
       "      <td>1.000000</td>\n",
       "      <td>-0.415773</td>\n",
       "      <td>0.330954</td>\n",
       "      <td>...</td>\n",
       "      <td>0.549512</td>\n",
       "      <td>0.010775</td>\n",
       "      <td>0.009008</td>\n",
       "      <td>-0.056734</td>\n",
       "      <td>0.177999</td>\n",
       "      <td>0.155664</td>\n",
       "      <td>0.257976</td>\n",
       "      <td>-0.017297</td>\n",
       "      <td>-0.032504</td>\n",
       "      <td>-0.017403</td>\n",
       "    </tr>\n",
       "    <tr>\n",
       "      <td>redd_gun_compound_mean</td>\n",
       "      <td>0.095432</td>\n",
       "      <td>-0.185772</td>\n",
       "      <td>0.183301</td>\n",
       "      <td>-0.195304</td>\n",
       "      <td>-0.031032</td>\n",
       "      <td>-0.003679</td>\n",
       "      <td>-0.069250</td>\n",
       "      <td>-0.415773</td>\n",
       "      <td>1.000000</td>\n",
       "      <td>-0.032658</td>\n",
       "      <td>...</td>\n",
       "      <td>-0.572305</td>\n",
       "      <td>0.001475</td>\n",
       "      <td>-0.023200</td>\n",
       "      <td>0.071595</td>\n",
       "      <td>-0.104368</td>\n",
       "      <td>-0.153425</td>\n",
       "      <td>-0.228289</td>\n",
       "      <td>0.022129</td>\n",
       "      <td>0.041585</td>\n",
       "      <td>0.028504</td>\n",
       "    </tr>\n",
       "    <tr>\n",
       "      <td>redd_gun_score_sum</td>\n",
       "      <td>-0.003126</td>\n",
       "      <td>0.108999</td>\n",
       "      <td>-0.148373</td>\n",
       "      <td>0.155854</td>\n",
       "      <td>-0.019736</td>\n",
       "      <td>-0.022504</td>\n",
       "      <td>0.937540</td>\n",
       "      <td>0.330954</td>\n",
       "      <td>-0.032658</td>\n",
       "      <td>1.000000</td>\n",
       "      <td>...</td>\n",
       "      <td>0.384186</td>\n",
       "      <td>-0.003565</td>\n",
       "      <td>-0.002406</td>\n",
       "      <td>-0.033276</td>\n",
       "      <td>0.025942</td>\n",
       "      <td>0.080788</td>\n",
       "      <td>0.308117</td>\n",
       "      <td>-0.002810</td>\n",
       "      <td>-0.005281</td>\n",
       "      <td>-0.010787</td>\n",
       "    </tr>\n",
       "    <tr>\n",
       "      <td>redd_gun_comment_sum</td>\n",
       "      <td>-0.034427</td>\n",
       "      <td>0.209521</td>\n",
       "      <td>-0.246893</td>\n",
       "      <td>0.263137</td>\n",
       "      <td>-0.009904</td>\n",
       "      <td>-0.019199</td>\n",
       "      <td>0.799918</td>\n",
       "      <td>0.719644</td>\n",
       "      <td>-0.220893</td>\n",
       "      <td>0.862044</td>\n",
       "      <td>...</td>\n",
       "      <td>0.635904</td>\n",
       "      <td>0.013943</td>\n",
       "      <td>0.012043</td>\n",
       "      <td>-0.061797</td>\n",
       "      <td>0.165927</td>\n",
       "      <td>0.190266</td>\n",
       "      <td>0.423701</td>\n",
       "      <td>-0.010980</td>\n",
       "      <td>-0.020634</td>\n",
       "      <td>-0.003319</td>\n",
       "    </tr>\n",
       "    <tr>\n",
       "      <td>redd_gun_post_count</td>\n",
       "      <td>-0.108268</td>\n",
       "      <td>0.399339</td>\n",
       "      <td>-0.443484</td>\n",
       "      <td>0.465010</td>\n",
       "      <td>0.026325</td>\n",
       "      <td>-0.016321</td>\n",
       "      <td>0.376987</td>\n",
       "      <td>0.549512</td>\n",
       "      <td>-0.572305</td>\n",
       "      <td>0.384186</td>\n",
       "      <td>...</td>\n",
       "      <td>1.000000</td>\n",
       "      <td>0.037169</td>\n",
       "      <td>0.035962</td>\n",
       "      <td>-0.087687</td>\n",
       "      <td>0.303621</td>\n",
       "      <td>0.357829</td>\n",
       "      <td>0.564819</td>\n",
       "      <td>-0.024791</td>\n",
       "      <td>-0.046587</td>\n",
       "      <td>0.028914</td>\n",
       "    </tr>\n",
       "    <tr>\n",
       "      <td>redd_pol_score_mean</td>\n",
       "      <td>-0.007994</td>\n",
       "      <td>0.139536</td>\n",
       "      <td>-0.138188</td>\n",
       "      <td>0.141320</td>\n",
       "      <td>0.125619</td>\n",
       "      <td>-0.024405</td>\n",
       "      <td>-0.006260</td>\n",
       "      <td>0.010775</td>\n",
       "      <td>0.001475</td>\n",
       "      <td>-0.003565</td>\n",
       "      <td>...</td>\n",
       "      <td>0.037169</td>\n",
       "      <td>1.000000</td>\n",
       "      <td>0.800562</td>\n",
       "      <td>-0.217686</td>\n",
       "      <td>0.394604</td>\n",
       "      <td>0.329109</td>\n",
       "      <td>0.141812</td>\n",
       "      <td>0.003407</td>\n",
       "      <td>-0.021114</td>\n",
       "      <td>-0.008993</td>\n",
       "    </tr>\n",
       "    <tr>\n",
       "      <td>redd_pol_comment_mean</td>\n",
       "      <td>0.048663</td>\n",
       "      <td>0.126963</td>\n",
       "      <td>-0.130718</td>\n",
       "      <td>0.130870</td>\n",
       "      <td>0.156444</td>\n",
       "      <td>0.002668</td>\n",
       "      <td>-0.000632</td>\n",
       "      <td>0.009008</td>\n",
       "      <td>-0.023200</td>\n",
       "      <td>-0.002406</td>\n",
       "      <td>...</td>\n",
       "      <td>0.035962</td>\n",
       "      <td>0.800562</td>\n",
       "      <td>1.000000</td>\n",
       "      <td>-0.335480</td>\n",
       "      <td>0.304808</td>\n",
       "      <td>0.386398</td>\n",
       "      <td>0.141843</td>\n",
       "      <td>0.013127</td>\n",
       "      <td>-0.032228</td>\n",
       "      <td>-0.017329</td>\n",
       "    </tr>\n",
       "    <tr>\n",
       "      <td>redd_pol_compound_mean</td>\n",
       "      <td>-0.004408</td>\n",
       "      <td>-0.150374</td>\n",
       "      <td>0.144904</td>\n",
       "      <td>-0.152334</td>\n",
       "      <td>-0.160998</td>\n",
       "      <td>0.084735</td>\n",
       "      <td>-0.048394</td>\n",
       "      <td>-0.056734</td>\n",
       "      <td>0.071595</td>\n",
       "      <td>-0.033276</td>\n",
       "      <td>...</td>\n",
       "      <td>-0.087687</td>\n",
       "      <td>-0.217686</td>\n",
       "      <td>-0.335480</td>\n",
       "      <td>1.000000</td>\n",
       "      <td>-0.125147</td>\n",
       "      <td>-0.166988</td>\n",
       "      <td>-0.212111</td>\n",
       "      <td>-0.006011</td>\n",
       "      <td>0.051101</td>\n",
       "      <td>0.028062</td>\n",
       "    </tr>\n",
       "    <tr>\n",
       "      <td>redd_pol_score_sum</td>\n",
       "      <td>-0.127915</td>\n",
       "      <td>0.704454</td>\n",
       "      <td>-0.724142</td>\n",
       "      <td>0.732296</td>\n",
       "      <td>0.140924</td>\n",
       "      <td>-0.043286</td>\n",
       "      <td>0.021164</td>\n",
       "      <td>0.177999</td>\n",
       "      <td>-0.104368</td>\n",
       "      <td>0.025942</td>\n",
       "      <td>...</td>\n",
       "      <td>0.303621</td>\n",
       "      <td>0.394604</td>\n",
       "      <td>0.304808</td>\n",
       "      <td>-0.125147</td>\n",
       "      <td>1.000000</td>\n",
       "      <td>0.879975</td>\n",
       "      <td>0.714436</td>\n",
       "      <td>0.071761</td>\n",
       "      <td>-0.021052</td>\n",
       "      <td>0.051611</td>\n",
       "    </tr>\n",
       "    <tr>\n",
       "      <td>redd_pol_comment_sum</td>\n",
       "      <td>-0.095157</td>\n",
       "      <td>0.733261</td>\n",
       "      <td>-0.784857</td>\n",
       "      <td>0.784138</td>\n",
       "      <td>0.152488</td>\n",
       "      <td>-0.074498</td>\n",
       "      <td>0.075627</td>\n",
       "      <td>0.155664</td>\n",
       "      <td>-0.153425</td>\n",
       "      <td>0.080788</td>\n",
       "      <td>...</td>\n",
       "      <td>0.357829</td>\n",
       "      <td>0.329109</td>\n",
       "      <td>0.386398</td>\n",
       "      <td>-0.166988</td>\n",
       "      <td>0.879975</td>\n",
       "      <td>1.000000</td>\n",
       "      <td>0.740057</td>\n",
       "      <td>0.124325</td>\n",
       "      <td>-0.026373</td>\n",
       "      <td>0.072193</td>\n",
       "    </tr>\n",
       "    <tr>\n",
       "      <td>redd_pol_post_count</td>\n",
       "      <td>-0.198909</td>\n",
       "      <td>0.766612</td>\n",
       "      <td>-0.763330</td>\n",
       "      <td>0.800232</td>\n",
       "      <td>0.198581</td>\n",
       "      <td>-0.017401</td>\n",
       "      <td>0.287083</td>\n",
       "      <td>0.257976</td>\n",
       "      <td>-0.228289</td>\n",
       "      <td>0.308117</td>\n",
       "      <td>...</td>\n",
       "      <td>0.564819</td>\n",
       "      <td>0.141812</td>\n",
       "      <td>0.141843</td>\n",
       "      <td>-0.212111</td>\n",
       "      <td>0.714436</td>\n",
       "      <td>0.740057</td>\n",
       "      <td>1.000000</td>\n",
       "      <td>0.181680</td>\n",
       "      <td>-0.036234</td>\n",
       "      <td>0.112764</td>\n",
       "    </tr>\n",
       "    <tr>\n",
       "      <td>10-k</td>\n",
       "      <td>-0.075070</td>\n",
       "      <td>0.109585</td>\n",
       "      <td>-0.087173</td>\n",
       "      <td>0.099947</td>\n",
       "      <td>0.001317</td>\n",
       "      <td>-0.012782</td>\n",
       "      <td>-0.003889</td>\n",
       "      <td>-0.017297</td>\n",
       "      <td>0.022129</td>\n",
       "      <td>-0.002810</td>\n",
       "      <td>...</td>\n",
       "      <td>-0.024791</td>\n",
       "      <td>0.003407</td>\n",
       "      <td>0.013127</td>\n",
       "      <td>-0.006011</td>\n",
       "      <td>0.071761</td>\n",
       "      <td>0.124325</td>\n",
       "      <td>0.181680</td>\n",
       "      <td>1.000000</td>\n",
       "      <td>-0.006676</td>\n",
       "      <td>0.256238</td>\n",
       "    </tr>\n",
       "    <tr>\n",
       "      <td>10-q</td>\n",
       "      <td>0.039278</td>\n",
       "      <td>-0.020880</td>\n",
       "      <td>0.020466</td>\n",
       "      <td>-0.021251</td>\n",
       "      <td>-0.009244</td>\n",
       "      <td>0.048337</td>\n",
       "      <td>-0.007309</td>\n",
       "      <td>-0.032504</td>\n",
       "      <td>0.041585</td>\n",
       "      <td>-0.005281</td>\n",
       "      <td>...</td>\n",
       "      <td>-0.046587</td>\n",
       "      <td>-0.021114</td>\n",
       "      <td>-0.032228</td>\n",
       "      <td>0.051101</td>\n",
       "      <td>-0.021052</td>\n",
       "      <td>-0.026373</td>\n",
       "      <td>-0.036234</td>\n",
       "      <td>-0.006676</td>\n",
       "      <td>1.000000</td>\n",
       "      <td>0.481521</td>\n",
       "    </tr>\n",
       "    <tr>\n",
       "      <td>8-k</td>\n",
       "      <td>0.069770</td>\n",
       "      <td>0.063358</td>\n",
       "      <td>-0.067876</td>\n",
       "      <td>0.075179</td>\n",
       "      <td>-0.040790</td>\n",
       "      <td>0.044311</td>\n",
       "      <td>-0.014916</td>\n",
       "      <td>-0.017403</td>\n",
       "      <td>0.028504</td>\n",
       "      <td>-0.010787</td>\n",
       "      <td>...</td>\n",
       "      <td>0.028914</td>\n",
       "      <td>-0.008993</td>\n",
       "      <td>-0.017329</td>\n",
       "      <td>0.028062</td>\n",
       "      <td>0.051611</td>\n",
       "      <td>0.072193</td>\n",
       "      <td>0.112764</td>\n",
       "      <td>0.256238</td>\n",
       "      <td>0.481521</td>\n",
       "      <td>1.000000</td>\n",
       "    </tr>\n",
       "  </tbody>\n",
       "</table>\n",
       "<p>21 rows × 21 columns</p>\n",
       "</div>"
      ],
      "text/plain": [
       "                           open_price  tweet_word_count_sum  \\\n",
       "open_price                   1.000000             -0.135835   \n",
       "tweet_word_count_sum        -0.135835              1.000000   \n",
       "tweet_compound_score_sum     0.124171             -0.974359   \n",
       "tweets_sum                  -0.133505              0.979522   \n",
       "tweet_word_count_mean        0.166185              0.230546   \n",
       "tweet_compound_score_mean    0.187183             -0.094229   \n",
       "redd_gun_score_mean          0.007457              0.100555   \n",
       "redd_gun_comment_mean       -0.029288              0.159950   \n",
       "redd_gun_compound_mean       0.095432             -0.185772   \n",
       "redd_gun_score_sum          -0.003126              0.108999   \n",
       "redd_gun_comment_sum        -0.034427              0.209521   \n",
       "redd_gun_post_count         -0.108268              0.399339   \n",
       "redd_pol_score_mean         -0.007994              0.139536   \n",
       "redd_pol_comment_mean        0.048663              0.126963   \n",
       "redd_pol_compound_mean      -0.004408             -0.150374   \n",
       "redd_pol_score_sum          -0.127915              0.704454   \n",
       "redd_pol_comment_sum        -0.095157              0.733261   \n",
       "redd_pol_post_count         -0.198909              0.766612   \n",
       "10-k                        -0.075070              0.109585   \n",
       "10-q                         0.039278             -0.020880   \n",
       "8-k                          0.069770              0.063358   \n",
       "\n",
       "                           tweet_compound_score_sum  tweets_sum  \\\n",
       "open_price                                 0.124171   -0.133505   \n",
       "tweet_word_count_sum                      -0.974359    0.979522   \n",
       "tweet_compound_score_sum                   1.000000   -0.996970   \n",
       "tweets_sum                                -0.996970    1.000000   \n",
       "tweet_word_count_mean                     -0.168852    0.186559   \n",
       "tweet_compound_score_mean                  0.132607   -0.109294   \n",
       "redd_gun_score_mean                       -0.135916    0.142738   \n",
       "redd_gun_comment_mean                     -0.167656    0.182500   \n",
       "redd_gun_compound_mean                     0.183301   -0.195304   \n",
       "redd_gun_score_sum                        -0.148373    0.155854   \n",
       "redd_gun_comment_sum                      -0.246893    0.263137   \n",
       "redd_gun_post_count                       -0.443484    0.465010   \n",
       "redd_pol_score_mean                       -0.138188    0.141320   \n",
       "redd_pol_comment_mean                     -0.130718    0.130870   \n",
       "redd_pol_compound_mean                     0.144904   -0.152334   \n",
       "redd_pol_score_sum                        -0.724142    0.732296   \n",
       "redd_pol_comment_sum                      -0.784857    0.784138   \n",
       "redd_pol_post_count                       -0.763330    0.800232   \n",
       "10-k                                      -0.087173    0.099947   \n",
       "10-q                                       0.020466   -0.021251   \n",
       "8-k                                       -0.067876    0.075179   \n",
       "\n",
       "                           tweet_word_count_mean  tweet_compound_score_mean  \\\n",
       "open_price                              0.166185                   0.187183   \n",
       "tweet_word_count_sum                    0.230546                  -0.094229   \n",
       "tweet_compound_score_sum               -0.168852                   0.132607   \n",
       "tweets_sum                              0.186559                  -0.109294   \n",
       "tweet_word_count_mean                   1.000000                   0.141567   \n",
       "tweet_compound_score_mean               0.141567                   1.000000   \n",
       "redd_gun_score_mean                    -0.001287                  -0.025809   \n",
       "redd_gun_comment_mean                   0.019187                  -0.005880   \n",
       "redd_gun_compound_mean                 -0.031032                  -0.003679   \n",
       "redd_gun_score_sum                     -0.019736                  -0.022504   \n",
       "redd_gun_comment_sum                   -0.009904                  -0.019199   \n",
       "redd_gun_post_count                     0.026325                  -0.016321   \n",
       "redd_pol_score_mean                     0.125619                  -0.024405   \n",
       "redd_pol_comment_mean                   0.156444                   0.002668   \n",
       "redd_pol_compound_mean                 -0.160998                   0.084735   \n",
       "redd_pol_score_sum                      0.140924                  -0.043286   \n",
       "redd_pol_comment_sum                    0.152488                  -0.074498   \n",
       "redd_pol_post_count                     0.198581                  -0.017401   \n",
       "10-k                                    0.001317                  -0.012782   \n",
       "10-q                                   -0.009244                   0.048337   \n",
       "8-k                                    -0.040790                   0.044311   \n",
       "\n",
       "                           redd_gun_score_mean  redd_gun_comment_mean  \\\n",
       "open_price                            0.007457              -0.029288   \n",
       "tweet_word_count_sum                  0.100555               0.159950   \n",
       "tweet_compound_score_sum             -0.135916              -0.167656   \n",
       "tweets_sum                            0.142738               0.182500   \n",
       "tweet_word_count_mean                -0.001287               0.019187   \n",
       "tweet_compound_score_mean            -0.025809              -0.005880   \n",
       "redd_gun_score_mean                   1.000000               0.336530   \n",
       "redd_gun_comment_mean                 0.336530               1.000000   \n",
       "redd_gun_compound_mean               -0.069250              -0.415773   \n",
       "redd_gun_score_sum                    0.937540               0.330954   \n",
       "redd_gun_comment_sum                  0.799918               0.719644   \n",
       "redd_gun_post_count                   0.376987               0.549512   \n",
       "redd_pol_score_mean                  -0.006260               0.010775   \n",
       "redd_pol_comment_mean                -0.000632               0.009008   \n",
       "redd_pol_compound_mean               -0.048394              -0.056734   \n",
       "redd_pol_score_sum                    0.021164               0.177999   \n",
       "redd_pol_comment_sum                  0.075627               0.155664   \n",
       "redd_pol_post_count                   0.287083               0.257976   \n",
       "10-k                                 -0.003889              -0.017297   \n",
       "10-q                                 -0.007309              -0.032504   \n",
       "8-k                                  -0.014916              -0.017403   \n",
       "\n",
       "                           redd_gun_compound_mean  redd_gun_score_sum  ...  \\\n",
       "open_price                               0.095432           -0.003126  ...   \n",
       "tweet_word_count_sum                    -0.185772            0.108999  ...   \n",
       "tweet_compound_score_sum                 0.183301           -0.148373  ...   \n",
       "tweets_sum                              -0.195304            0.155854  ...   \n",
       "tweet_word_count_mean                   -0.031032           -0.019736  ...   \n",
       "tweet_compound_score_mean               -0.003679           -0.022504  ...   \n",
       "redd_gun_score_mean                     -0.069250            0.937540  ...   \n",
       "redd_gun_comment_mean                   -0.415773            0.330954  ...   \n",
       "redd_gun_compound_mean                   1.000000           -0.032658  ...   \n",
       "redd_gun_score_sum                      -0.032658            1.000000  ...   \n",
       "redd_gun_comment_sum                    -0.220893            0.862044  ...   \n",
       "redd_gun_post_count                     -0.572305            0.384186  ...   \n",
       "redd_pol_score_mean                      0.001475           -0.003565  ...   \n",
       "redd_pol_comment_mean                   -0.023200           -0.002406  ...   \n",
       "redd_pol_compound_mean                   0.071595           -0.033276  ...   \n",
       "redd_pol_score_sum                      -0.104368            0.025942  ...   \n",
       "redd_pol_comment_sum                    -0.153425            0.080788  ...   \n",
       "redd_pol_post_count                     -0.228289            0.308117  ...   \n",
       "10-k                                     0.022129           -0.002810  ...   \n",
       "10-q                                     0.041585           -0.005281  ...   \n",
       "8-k                                      0.028504           -0.010787  ...   \n",
       "\n",
       "                           redd_gun_post_count  redd_pol_score_mean  \\\n",
       "open_price                           -0.108268            -0.007994   \n",
       "tweet_word_count_sum                  0.399339             0.139536   \n",
       "tweet_compound_score_sum             -0.443484            -0.138188   \n",
       "tweets_sum                            0.465010             0.141320   \n",
       "tweet_word_count_mean                 0.026325             0.125619   \n",
       "tweet_compound_score_mean            -0.016321            -0.024405   \n",
       "redd_gun_score_mean                   0.376987            -0.006260   \n",
       "redd_gun_comment_mean                 0.549512             0.010775   \n",
       "redd_gun_compound_mean               -0.572305             0.001475   \n",
       "redd_gun_score_sum                    0.384186            -0.003565   \n",
       "redd_gun_comment_sum                  0.635904             0.013943   \n",
       "redd_gun_post_count                   1.000000             0.037169   \n",
       "redd_pol_score_mean                   0.037169             1.000000   \n",
       "redd_pol_comment_mean                 0.035962             0.800562   \n",
       "redd_pol_compound_mean               -0.087687            -0.217686   \n",
       "redd_pol_score_sum                    0.303621             0.394604   \n",
       "redd_pol_comment_sum                  0.357829             0.329109   \n",
       "redd_pol_post_count                   0.564819             0.141812   \n",
       "10-k                                 -0.024791             0.003407   \n",
       "10-q                                 -0.046587            -0.021114   \n",
       "8-k                                   0.028914            -0.008993   \n",
       "\n",
       "                           redd_pol_comment_mean  redd_pol_compound_mean  \\\n",
       "open_price                              0.048663               -0.004408   \n",
       "tweet_word_count_sum                    0.126963               -0.150374   \n",
       "tweet_compound_score_sum               -0.130718                0.144904   \n",
       "tweets_sum                              0.130870               -0.152334   \n",
       "tweet_word_count_mean                   0.156444               -0.160998   \n",
       "tweet_compound_score_mean               0.002668                0.084735   \n",
       "redd_gun_score_mean                    -0.000632               -0.048394   \n",
       "redd_gun_comment_mean                   0.009008               -0.056734   \n",
       "redd_gun_compound_mean                 -0.023200                0.071595   \n",
       "redd_gun_score_sum                     -0.002406               -0.033276   \n",
       "redd_gun_comment_sum                    0.012043               -0.061797   \n",
       "redd_gun_post_count                     0.035962               -0.087687   \n",
       "redd_pol_score_mean                     0.800562               -0.217686   \n",
       "redd_pol_comment_mean                   1.000000               -0.335480   \n",
       "redd_pol_compound_mean                 -0.335480                1.000000   \n",
       "redd_pol_score_sum                      0.304808               -0.125147   \n",
       "redd_pol_comment_sum                    0.386398               -0.166988   \n",
       "redd_pol_post_count                     0.141843               -0.212111   \n",
       "10-k                                    0.013127               -0.006011   \n",
       "10-q                                   -0.032228                0.051101   \n",
       "8-k                                    -0.017329                0.028062   \n",
       "\n",
       "                           redd_pol_score_sum  redd_pol_comment_sum  \\\n",
       "open_price                          -0.127915             -0.095157   \n",
       "tweet_word_count_sum                 0.704454              0.733261   \n",
       "tweet_compound_score_sum            -0.724142             -0.784857   \n",
       "tweets_sum                           0.732296              0.784138   \n",
       "tweet_word_count_mean                0.140924              0.152488   \n",
       "tweet_compound_score_mean           -0.043286             -0.074498   \n",
       "redd_gun_score_mean                  0.021164              0.075627   \n",
       "redd_gun_comment_mean                0.177999              0.155664   \n",
       "redd_gun_compound_mean              -0.104368             -0.153425   \n",
       "redd_gun_score_sum                   0.025942              0.080788   \n",
       "redd_gun_comment_sum                 0.165927              0.190266   \n",
       "redd_gun_post_count                  0.303621              0.357829   \n",
       "redd_pol_score_mean                  0.394604              0.329109   \n",
       "redd_pol_comment_mean                0.304808              0.386398   \n",
       "redd_pol_compound_mean              -0.125147             -0.166988   \n",
       "redd_pol_score_sum                   1.000000              0.879975   \n",
       "redd_pol_comment_sum                 0.879975              1.000000   \n",
       "redd_pol_post_count                  0.714436              0.740057   \n",
       "10-k                                 0.071761              0.124325   \n",
       "10-q                                -0.021052             -0.026373   \n",
       "8-k                                  0.051611              0.072193   \n",
       "\n",
       "                           redd_pol_post_count      10-k      10-q       8-k  \n",
       "open_price                           -0.198909 -0.075070  0.039278  0.069770  \n",
       "tweet_word_count_sum                  0.766612  0.109585 -0.020880  0.063358  \n",
       "tweet_compound_score_sum             -0.763330 -0.087173  0.020466 -0.067876  \n",
       "tweets_sum                            0.800232  0.099947 -0.021251  0.075179  \n",
       "tweet_word_count_mean                 0.198581  0.001317 -0.009244 -0.040790  \n",
       "tweet_compound_score_mean            -0.017401 -0.012782  0.048337  0.044311  \n",
       "redd_gun_score_mean                   0.287083 -0.003889 -0.007309 -0.014916  \n",
       "redd_gun_comment_mean                 0.257976 -0.017297 -0.032504 -0.017403  \n",
       "redd_gun_compound_mean               -0.228289  0.022129  0.041585  0.028504  \n",
       "redd_gun_score_sum                    0.308117 -0.002810 -0.005281 -0.010787  \n",
       "redd_gun_comment_sum                  0.423701 -0.010980 -0.020634 -0.003319  \n",
       "redd_gun_post_count                   0.564819 -0.024791 -0.046587  0.028914  \n",
       "redd_pol_score_mean                   0.141812  0.003407 -0.021114 -0.008993  \n",
       "redd_pol_comment_mean                 0.141843  0.013127 -0.032228 -0.017329  \n",
       "redd_pol_compound_mean               -0.212111 -0.006011  0.051101  0.028062  \n",
       "redd_pol_score_sum                    0.714436  0.071761 -0.021052  0.051611  \n",
       "redd_pol_comment_sum                  0.740057  0.124325 -0.026373  0.072193  \n",
       "redd_pol_post_count                   1.000000  0.181680 -0.036234  0.112764  \n",
       "10-k                                  0.181680  1.000000 -0.006676  0.256238  \n",
       "10-q                                 -0.036234 -0.006676  1.000000  0.481521  \n",
       "8-k                                   0.112764  0.256238  0.481521  1.000000  \n",
       "\n",
       "[21 rows x 21 columns]"
      ]
     },
     "execution_count": 381,
     "metadata": {},
     "output_type": "execute_result"
    }
   ],
   "source": [
    "train.corr()"
   ]
  },
  {
   "cell_type": "code",
   "execution_count": 382,
   "metadata": {},
   "outputs": [
    {
     "data": {
      "text/plain": [
       "<matplotlib.axes._subplots.AxesSubplot at 0x12fe41390>"
      ]
     },
     "execution_count": 382,
     "metadata": {},
     "output_type": "execute_result"
    },
    {
     "data": {
      "image/png": "[encoded data removed]",
      "text/plain": [
       "<Figure size 432x288 with 2 Axes>"
      ]
     },
     "metadata": {},
     "output_type": "display_data"
    }
   ],
   "source": [
    "sns.heatmap(train.corr(), cmap = 'coolwarm', vmin = -1, vmax = 1)"
   ]
  },
  {
   "cell_type": "code",
   "execution_count": 383,
   "metadata": {},
   "outputs": [
    {
     "data": {
      "text/plain": [
       "[(0, 0, 0, 5),\n",
       " (0, 0, 1, 5),\n",
       " (0, 1, 0, 5),\n",
       " (0, 1, 1, 5),\n",
       " (1, 0, 0, 5),\n",
       " (1, 0, 1, 5),\n",
       " (1, 1, 0, 5),\n",
       " (1, 1, 1, 5)]"
      ]
     },
     "execution_count": 383,
     "metadata": {},
     "output_type": "execute_result"
    }
   ],
   "source": [
    "p = d = q = range(0, 2)\n",
    "pdq = list(itertools.product(p, d, q))\n",
    "seasonal_pdq = [(x[0], x[1], x[2], 5) for x in list(itertools.product(p, d, q))]\n",
    "\n",
    "seasonal_pdq"
   ]
  },
  {
   "cell_type": "code",
   "execution_count": 384,
   "metadata": {},
   "outputs": [
    {
     "name": "stderr",
     "output_type": "stream",
     "text": [
      "/Users/jackwang/anaconda3/lib/python3.7/site-packages/statsmodels/tsa/base/tsa_model.py:219: ValueWarning: A date index has been provided, but it has no associated frequency information and so will be ignored when e.g. forecasting.\n",
      "  ' ignored when e.g. forecasting.', ValueWarning)\n"
     ]
    },
    {
     "name": "stdout",
     "output_type": "stream",
     "text": [
      "ARIMA(0, 0, 0)x(0, 0, 0, 5) - AIC: 6922.601103158166\n"
     ]
    },
    {
     "name": "stderr",
     "output_type": "stream",
     "text": [
      "/Users/jackwang/anaconda3/lib/python3.7/site-packages/statsmodels/tsa/base/tsa_model.py:219: ValueWarning: A date index has been provided, but it has no associated frequency information and so will be ignored when e.g. forecasting.\n",
      "  ' ignored when e.g. forecasting.', ValueWarning)\n",
      "/Users/jackwang/anaconda3/lib/python3.7/site-packages/statsmodels/base/model.py:512: ConvergenceWarning: Maximum Likelihood optimization failed to converge. Check mle_retvals\n",
      "  \"Check mle_retvals\", ConvergenceWarning)\n",
      "/Users/jackwang/anaconda3/lib/python3.7/site-packages/statsmodels/tsa/base/tsa_model.py:219: ValueWarning: A date index has been provided, but it has no associated frequency information and so will be ignored when e.g. forecasting.\n",
      "  ' ignored when e.g. forecasting.', ValueWarning)\n"
     ]
    },
    {
     "name": "stdout",
     "output_type": "stream",
     "text": [
      "ARIMA(0, 0, 0)x(0, 0, 1, 5) - AIC: 3750.443324262287\n"
     ]
    },
    {
     "name": "stderr",
     "output_type": "stream",
     "text": [
      "/Users/jackwang/anaconda3/lib/python3.7/site-packages/statsmodels/base/model.py:512: ConvergenceWarning: Maximum Likelihood optimization failed to converge. Check mle_retvals\n",
      "  \"Check mle_retvals\", ConvergenceWarning)\n",
      "/Users/jackwang/anaconda3/lib/python3.7/site-packages/statsmodels/tsa/base/tsa_model.py:219: ValueWarning: A date index has been provided, but it has no associated frequency information and so will be ignored when e.g. forecasting.\n",
      "  ' ignored when e.g. forecasting.', ValueWarning)\n"
     ]
    },
    {
     "name": "stdout",
     "output_type": "stream",
     "text": [
      "ARIMA(0, 0, 0)x(0, 1, 0, 5) - AIC: 5616.565306443382\n"
     ]
    },
    {
     "name": "stderr",
     "output_type": "stream",
     "text": [
      "/Users/jackwang/anaconda3/lib/python3.7/site-packages/statsmodels/base/model.py:512: ConvergenceWarning: Maximum Likelihood optimization failed to converge. Check mle_retvals\n",
      "  \"Check mle_retvals\", ConvergenceWarning)\n",
      "/Users/jackwang/anaconda3/lib/python3.7/site-packages/statsmodels/tsa/base/tsa_model.py:219: ValueWarning: A date index has been provided, but it has no associated frequency information and so will be ignored when e.g. forecasting.\n",
      "  ' ignored when e.g. forecasting.', ValueWarning)\n"
     ]
    },
    {
     "name": "stdout",
     "output_type": "stream",
     "text": [
      "ARIMA(0, 0, 0)x(0, 1, 1, 5) - AIC: 2620.9529656487593\n"
     ]
    },
    {
     "name": "stderr",
     "output_type": "stream",
     "text": [
      "/Users/jackwang/anaconda3/lib/python3.7/site-packages/statsmodels/base/model.py:512: ConvergenceWarning: Maximum Likelihood optimization failed to converge. Check mle_retvals\n",
      "  \"Check mle_retvals\", ConvergenceWarning)\n",
      "/Users/jackwang/anaconda3/lib/python3.7/site-packages/statsmodels/tsa/base/tsa_model.py:219: ValueWarning: A date index has been provided, but it has no associated frequency information and so will be ignored when e.g. forecasting.\n",
      "  ' ignored when e.g. forecasting.', ValueWarning)\n"
     ]
    },
    {
     "name": "stdout",
     "output_type": "stream",
     "text": [
      "ARIMA(0, 0, 0)x(1, 0, 0, 5) - AIC: 3595.661913094662\n"
     ]
    },
    {
     "name": "stderr",
     "output_type": "stream",
     "text": [
      "/Users/jackwang/anaconda3/lib/python3.7/site-packages/statsmodels/base/model.py:512: ConvergenceWarning: Maximum Likelihood optimization failed to converge. Check mle_retvals\n",
      "  \"Check mle_retvals\", ConvergenceWarning)\n",
      "/Users/jackwang/anaconda3/lib/python3.7/site-packages/statsmodels/tsa/base/tsa_model.py:219: ValueWarning: A date index has been provided, but it has no associated frequency information and so will be ignored when e.g. forecasting.\n",
      "  ' ignored when e.g. forecasting.', ValueWarning)\n"
     ]
    },
    {
     "name": "stdout",
     "output_type": "stream",
     "text": [
      "ARIMA(0, 0, 0)x(1, 0, 1, 5) - AIC: 3601.4549578292986\n"
     ]
    },
    {
     "name": "stderr",
     "output_type": "stream",
     "text": [
      "/Users/jackwang/anaconda3/lib/python3.7/site-packages/statsmodels/base/model.py:512: ConvergenceWarning: Maximum Likelihood optimization failed to converge. Check mle_retvals\n",
      "  \"Check mle_retvals\", ConvergenceWarning)\n",
      "/Users/jackwang/anaconda3/lib/python3.7/site-packages/statsmodels/tsa/base/tsa_model.py:219: ValueWarning: A date index has been provided, but it has no associated frequency information and so will be ignored when e.g. forecasting.\n",
      "  ' ignored when e.g. forecasting.', ValueWarning)\n"
     ]
    },
    {
     "name": "stdout",
     "output_type": "stream",
     "text": [
      "ARIMA(0, 0, 0)x(1, 1, 0, 5) - AIC: 2618.665161015965\n"
     ]
    },
    {
     "name": "stderr",
     "output_type": "stream",
     "text": [
      "/Users/jackwang/anaconda3/lib/python3.7/site-packages/statsmodels/base/model.py:512: ConvergenceWarning: Maximum Likelihood optimization failed to converge. Check mle_retvals\n",
      "  \"Check mle_retvals\", ConvergenceWarning)\n",
      "/Users/jackwang/anaconda3/lib/python3.7/site-packages/statsmodels/tsa/base/tsa_model.py:219: ValueWarning: A date index has been provided, but it has no associated frequency information and so will be ignored when e.g. forecasting.\n",
      "  ' ignored when e.g. forecasting.', ValueWarning)\n"
     ]
    },
    {
     "name": "stdout",
     "output_type": "stream",
     "text": [
      "ARIMA(0, 0, 0)x(1, 1, 1, 5) - AIC: 2621.365509947672\n"
     ]
    },
    {
     "name": "stderr",
     "output_type": "stream",
     "text": [
      "/Users/jackwang/anaconda3/lib/python3.7/site-packages/statsmodels/base/model.py:512: ConvergenceWarning: Maximum Likelihood optimization failed to converge. Check mle_retvals\n",
      "  \"Check mle_retvals\", ConvergenceWarning)\n",
      "/Users/jackwang/anaconda3/lib/python3.7/site-packages/statsmodels/tsa/base/tsa_model.py:219: ValueWarning: A date index has been provided, but it has no associated frequency information and so will be ignored when e.g. forecasting.\n",
      "  ' ignored when e.g. forecasting.', ValueWarning)\n"
     ]
    },
    {
     "name": "stdout",
     "output_type": "stream",
     "text": [
      "ARIMA(0, 0, 1)x(0, 0, 0, 5) - AIC: 3681.3624573355773\n"
     ]
    },
    {
     "name": "stderr",
     "output_type": "stream",
     "text": [
      "/Users/jackwang/anaconda3/lib/python3.7/site-packages/statsmodels/base/model.py:512: ConvergenceWarning: Maximum Likelihood optimization failed to converge. Check mle_retvals\n",
      "  \"Check mle_retvals\", ConvergenceWarning)\n",
      "/Users/jackwang/anaconda3/lib/python3.7/site-packages/statsmodels/tsa/base/tsa_model.py:219: ValueWarning: A date index has been provided, but it has no associated frequency information and so will be ignored when e.g. forecasting.\n",
      "  ' ignored when e.g. forecasting.', ValueWarning)\n"
     ]
    },
    {
     "name": "stdout",
     "output_type": "stream",
     "text": [
      "ARIMA(0, 0, 1)x(0, 0, 1, 5) - AIC: 3604.23921907936\n"
     ]
    },
    {
     "name": "stderr",
     "output_type": "stream",
     "text": [
      "/Users/jackwang/anaconda3/lib/python3.7/site-packages/statsmodels/base/model.py:512: ConvergenceWarning: Maximum Likelihood optimization failed to converge. Check mle_retvals\n",
      "  \"Check mle_retvals\", ConvergenceWarning)\n",
      "/Users/jackwang/anaconda3/lib/python3.7/site-packages/statsmodels/tsa/base/tsa_model.py:219: ValueWarning: A date index has been provided, but it has no associated frequency information and so will be ignored when e.g. forecasting.\n",
      "  ' ignored when e.g. forecasting.', ValueWarning)\n"
     ]
    },
    {
     "name": "stdout",
     "output_type": "stream",
     "text": [
      "ARIMA(0, 0, 1)x(0, 1, 0, 5) - AIC: 2462.6405998770247\n"
     ]
    },
    {
     "name": "stderr",
     "output_type": "stream",
     "text": [
      "/Users/jackwang/anaconda3/lib/python3.7/site-packages/statsmodels/base/model.py:512: ConvergenceWarning: Maximum Likelihood optimization failed to converge. Check mle_retvals\n",
      "  \"Check mle_retvals\", ConvergenceWarning)\n",
      "/Users/jackwang/anaconda3/lib/python3.7/site-packages/statsmodels/tsa/base/tsa_model.py:219: ValueWarning: A date index has been provided, but it has no associated frequency information and so will be ignored when e.g. forecasting.\n",
      "  ' ignored when e.g. forecasting.', ValueWarning)\n"
     ]
    },
    {
     "name": "stdout",
     "output_type": "stream",
     "text": [
      "ARIMA(0, 0, 1)x(0, 1, 1, 5) - AIC: 2396.416050662762\n",
      "ARIMA(0, 0, 1)x(1, 0, 0, 5) - AIC: 3614.6231073279996\n"
     ]
    },
    {
     "name": "stderr",
     "output_type": "stream",
     "text": [
      "/Users/jackwang/anaconda3/lib/python3.7/site-packages/statsmodels/tsa/base/tsa_model.py:219: ValueWarning: A date index has been provided, but it has no associated frequency information and so will be ignored when e.g. forecasting.\n",
      "  ' ignored when e.g. forecasting.', ValueWarning)\n",
      "/Users/jackwang/anaconda3/lib/python3.7/site-packages/statsmodels/base/model.py:512: ConvergenceWarning: Maximum Likelihood optimization failed to converge. Check mle_retvals\n",
      "  \"Check mle_retvals\", ConvergenceWarning)\n",
      "/Users/jackwang/anaconda3/lib/python3.7/site-packages/statsmodels/tsa/base/tsa_model.py:219: ValueWarning: A date index has been provided, but it has no associated frequency information and so will be ignored when e.g. forecasting.\n",
      "  ' ignored when e.g. forecasting.', ValueWarning)\n"
     ]
    },
    {
     "name": "stdout",
     "output_type": "stream",
     "text": [
      "ARIMA(0, 0, 1)x(1, 0, 1, 5) - AIC: 3563.382990751782\n"
     ]
    },
    {
     "name": "stderr",
     "output_type": "stream",
     "text": [
      "/Users/jackwang/anaconda3/lib/python3.7/site-packages/statsmodels/base/model.py:512: ConvergenceWarning: Maximum Likelihood optimization failed to converge. Check mle_retvals\n",
      "  \"Check mle_retvals\", ConvergenceWarning)\n",
      "/Users/jackwang/anaconda3/lib/python3.7/site-packages/statsmodels/tsa/base/tsa_model.py:219: ValueWarning: A date index has been provided, but it has no associated frequency information and so will be ignored when e.g. forecasting.\n",
      "  ' ignored when e.g. forecasting.', ValueWarning)\n"
     ]
    },
    {
     "name": "stdout",
     "output_type": "stream",
     "text": [
      "ARIMA(0, 0, 1)x(1, 1, 0, 5) - AIC: 2421.1133875719715\n"
     ]
    },
    {
     "name": "stderr",
     "output_type": "stream",
     "text": [
      "/Users/jackwang/anaconda3/lib/python3.7/site-packages/statsmodels/base/model.py:512: ConvergenceWarning: Maximum Likelihood optimization failed to converge. Check mle_retvals\n",
      "  \"Check mle_retvals\", ConvergenceWarning)\n",
      "/Users/jackwang/anaconda3/lib/python3.7/site-packages/statsmodels/tsa/base/tsa_model.py:219: ValueWarning: A date index has been provided, but it has no associated frequency information and so will be ignored when e.g. forecasting.\n",
      "  ' ignored when e.g. forecasting.', ValueWarning)\n"
     ]
    },
    {
     "name": "stdout",
     "output_type": "stream",
     "text": [
      "ARIMA(0, 0, 1)x(1, 1, 1, 5) - AIC: 2398.2498562644632\n"
     ]
    },
    {
     "name": "stderr",
     "output_type": "stream",
     "text": [
      "/Users/jackwang/anaconda3/lib/python3.7/site-packages/statsmodels/base/model.py:512: ConvergenceWarning: Maximum Likelihood optimization failed to converge. Check mle_retvals\n",
      "  \"Check mle_retvals\", ConvergenceWarning)\n",
      "/Users/jackwang/anaconda3/lib/python3.7/site-packages/statsmodels/tsa/base/tsa_model.py:219: ValueWarning: A date index has been provided, but it has no associated frequency information and so will be ignored when e.g. forecasting.\n",
      "  ' ignored when e.g. forecasting.', ValueWarning)\n"
     ]
    },
    {
     "name": "stdout",
     "output_type": "stream",
     "text": [
      "ARIMA(0, 1, 0)x(0, 0, 0, 5) - AIC: 4804.484439191368\n"
     ]
    },
    {
     "name": "stderr",
     "output_type": "stream",
     "text": [
      "/Users/jackwang/anaconda3/lib/python3.7/site-packages/statsmodels/base/model.py:512: ConvergenceWarning: Maximum Likelihood optimization failed to converge. Check mle_retvals\n",
      "  \"Check mle_retvals\", ConvergenceWarning)\n",
      "/Users/jackwang/anaconda3/lib/python3.7/site-packages/statsmodels/tsa/base/tsa_model.py:219: ValueWarning: A date index has been provided, but it has no associated frequency information and so will be ignored when e.g. forecasting.\n",
      "  ' ignored when e.g. forecasting.', ValueWarning)\n"
     ]
    },
    {
     "name": "stdout",
     "output_type": "stream",
     "text": [
      "ARIMA(0, 1, 0)x(0, 0, 1, 5) - AIC: 1789.9489581031949\n"
     ]
    },
    {
     "name": "stderr",
     "output_type": "stream",
     "text": [
      "/Users/jackwang/anaconda3/lib/python3.7/site-packages/statsmodels/base/model.py:512: ConvergenceWarning: Maximum Likelihood optimization failed to converge. Check mle_retvals\n",
      "  \"Check mle_retvals\", ConvergenceWarning)\n",
      "/Users/jackwang/anaconda3/lib/python3.7/site-packages/statsmodels/tsa/base/tsa_model.py:219: ValueWarning: A date index has been provided, but it has no associated frequency information and so will be ignored when e.g. forecasting.\n",
      "  ' ignored when e.g. forecasting.', ValueWarning)\n"
     ]
    },
    {
     "name": "stdout",
     "output_type": "stream",
     "text": [
      "ARIMA(0, 1, 0)x(0, 1, 0, 5) - AIC: 5155.0748606933175\n"
     ]
    },
    {
     "name": "stderr",
     "output_type": "stream",
     "text": [
      "/Users/jackwang/anaconda3/lib/python3.7/site-packages/statsmodels/base/model.py:512: ConvergenceWarning: Maximum Likelihood optimization failed to converge. Check mle_retvals\n",
      "  \"Check mle_retvals\", ConvergenceWarning)\n",
      "/Users/jackwang/anaconda3/lib/python3.7/site-packages/statsmodels/tsa/base/tsa_model.py:219: ValueWarning: A date index has been provided, but it has no associated frequency information and so will be ignored when e.g. forecasting.\n",
      "  ' ignored when e.g. forecasting.', ValueWarning)\n"
     ]
    },
    {
     "name": "stdout",
     "output_type": "stream",
     "text": [
      "ARIMA(0, 1, 0)x(0, 1, 1, 5) - AIC: 1821.1075182987147\n"
     ]
    },
    {
     "name": "stderr",
     "output_type": "stream",
     "text": [
      "/Users/jackwang/anaconda3/lib/python3.7/site-packages/statsmodels/base/model.py:512: ConvergenceWarning: Maximum Likelihood optimization failed to converge. Check mle_retvals\n",
      "  \"Check mle_retvals\", ConvergenceWarning)\n",
      "/Users/jackwang/anaconda3/lib/python3.7/site-packages/statsmodels/tsa/base/tsa_model.py:219: ValueWarning: A date index has been provided, but it has no associated frequency information and so will be ignored when e.g. forecasting.\n",
      "  ' ignored when e.g. forecasting.', ValueWarning)\n"
     ]
    },
    {
     "name": "stdout",
     "output_type": "stream",
     "text": [
      "ARIMA(0, 1, 0)x(1, 0, 0, 5) - AIC: 1791.9700669653469\n"
     ]
    },
    {
     "name": "stderr",
     "output_type": "stream",
     "text": [
      "/Users/jackwang/anaconda3/lib/python3.7/site-packages/statsmodels/base/model.py:512: ConvergenceWarning: Maximum Likelihood optimization failed to converge. Check mle_retvals\n",
      "  \"Check mle_retvals\", ConvergenceWarning)\n",
      "/Users/jackwang/anaconda3/lib/python3.7/site-packages/statsmodels/tsa/base/tsa_model.py:219: ValueWarning: A date index has been provided, but it has no associated frequency information and so will be ignored when e.g. forecasting.\n",
      "  ' ignored when e.g. forecasting.', ValueWarning)\n"
     ]
    },
    {
     "name": "stdout",
     "output_type": "stream",
     "text": [
      "ARIMA(0, 1, 0)x(1, 0, 1, 5) - AIC: 1791.6515008384442\n"
     ]
    },
    {
     "name": "stderr",
     "output_type": "stream",
     "text": [
      "/Users/jackwang/anaconda3/lib/python3.7/site-packages/statsmodels/base/model.py:512: ConvergenceWarning: Maximum Likelihood optimization failed to converge. Check mle_retvals\n",
      "  \"Check mle_retvals\", ConvergenceWarning)\n",
      "/Users/jackwang/anaconda3/lib/python3.7/site-packages/statsmodels/tsa/base/tsa_model.py:219: ValueWarning: A date index has been provided, but it has no associated frequency information and so will be ignored when e.g. forecasting.\n",
      "  ' ignored when e.g. forecasting.', ValueWarning)\n"
     ]
    },
    {
     "name": "stdout",
     "output_type": "stream",
     "text": [
      "ARIMA(0, 1, 0)x(1, 1, 0, 5) - AIC: 1974.1069785036696\n"
     ]
    },
    {
     "name": "stderr",
     "output_type": "stream",
     "text": [
      "/Users/jackwang/anaconda3/lib/python3.7/site-packages/statsmodels/base/model.py:512: ConvergenceWarning: Maximum Likelihood optimization failed to converge. Check mle_retvals\n",
      "  \"Check mle_retvals\", ConvergenceWarning)\n",
      "/Users/jackwang/anaconda3/lib/python3.7/site-packages/statsmodels/tsa/base/tsa_model.py:219: ValueWarning: A date index has been provided, but it has no associated frequency information and so will be ignored when e.g. forecasting.\n",
      "  ' ignored when e.g. forecasting.', ValueWarning)\n"
     ]
    },
    {
     "name": "stdout",
     "output_type": "stream",
     "text": [
      "ARIMA(0, 1, 0)x(1, 1, 1, 5) - AIC: 1838.6859328463806\n"
     ]
    },
    {
     "name": "stderr",
     "output_type": "stream",
     "text": [
      "/Users/jackwang/anaconda3/lib/python3.7/site-packages/statsmodels/base/model.py:512: ConvergenceWarning: Maximum Likelihood optimization failed to converge. Check mle_retvals\n",
      "  \"Check mle_retvals\", ConvergenceWarning)\n",
      "/Users/jackwang/anaconda3/lib/python3.7/site-packages/statsmodels/tsa/base/tsa_model.py:219: ValueWarning: A date index has been provided, but it has no associated frequency information and so will be ignored when e.g. forecasting.\n",
      "  ' ignored when e.g. forecasting.', ValueWarning)\n"
     ]
    },
    {
     "name": "stdout",
     "output_type": "stream",
     "text": [
      "ARIMA(0, 1, 1)x(0, 0, 0, 5) - AIC: 1799.7616091499895\n"
     ]
    },
    {
     "name": "stderr",
     "output_type": "stream",
     "text": [
      "/Users/jackwang/anaconda3/lib/python3.7/site-packages/statsmodels/base/model.py:512: ConvergenceWarning: Maximum Likelihood optimization failed to converge. Check mle_retvals\n",
      "  \"Check mle_retvals\", ConvergenceWarning)\n",
      "/Users/jackwang/anaconda3/lib/python3.7/site-packages/statsmodels/tsa/base/tsa_model.py:219: ValueWarning: A date index has been provided, but it has no associated frequency information and so will be ignored when e.g. forecasting.\n",
      "  ' ignored when e.g. forecasting.', ValueWarning)\n"
     ]
    },
    {
     "name": "stdout",
     "output_type": "stream",
     "text": [
      "ARIMA(0, 1, 1)x(0, 0, 1, 5) - AIC: 1788.5938195276385\n"
     ]
    },
    {
     "name": "stderr",
     "output_type": "stream",
     "text": [
      "/Users/jackwang/anaconda3/lib/python3.7/site-packages/statsmodels/base/model.py:512: ConvergenceWarning: Maximum Likelihood optimization failed to converge. Check mle_retvals\n",
      "  \"Check mle_retvals\", ConvergenceWarning)\n",
      "/Users/jackwang/anaconda3/lib/python3.7/site-packages/statsmodels/tsa/base/tsa_model.py:219: ValueWarning: A date index has been provided, but it has no associated frequency information and so will be ignored when e.g. forecasting.\n",
      "  ' ignored when e.g. forecasting.', ValueWarning)\n"
     ]
    },
    {
     "name": "stdout",
     "output_type": "stream",
     "text": [
      "ARIMA(0, 1, 1)x(0, 1, 0, 5) - AIC: 2179.9739485645796\n"
     ]
    },
    {
     "name": "stderr",
     "output_type": "stream",
     "text": [
      "/Users/jackwang/anaconda3/lib/python3.7/site-packages/statsmodels/base/model.py:512: ConvergenceWarning: Maximum Likelihood optimization failed to converge. Check mle_retvals\n",
      "  \"Check mle_retvals\", ConvergenceWarning)\n",
      "/Users/jackwang/anaconda3/lib/python3.7/site-packages/statsmodels/tsa/base/tsa_model.py:219: ValueWarning: A date index has been provided, but it has no associated frequency information and so will be ignored when e.g. forecasting.\n",
      "  ' ignored when e.g. forecasting.', ValueWarning)\n"
     ]
    },
    {
     "name": "stdout",
     "output_type": "stream",
     "text": [
      "ARIMA(0, 1, 1)x(0, 1, 1, 5) - AIC: 1906.5798526626245\n"
     ]
    },
    {
     "name": "stderr",
     "output_type": "stream",
     "text": [
      "/Users/jackwang/anaconda3/lib/python3.7/site-packages/statsmodels/base/model.py:512: ConvergenceWarning: Maximum Likelihood optimization failed to converge. Check mle_retvals\n",
      "  \"Check mle_retvals\", ConvergenceWarning)\n",
      "/Users/jackwang/anaconda3/lib/python3.7/site-packages/statsmodels/tsa/base/tsa_model.py:219: ValueWarning: A date index has been provided, but it has no associated frequency information and so will be ignored when e.g. forecasting.\n",
      "  ' ignored when e.g. forecasting.', ValueWarning)\n"
     ]
    },
    {
     "name": "stdout",
     "output_type": "stream",
     "text": [
      "ARIMA(0, 1, 1)x(1, 0, 0, 5) - AIC: 1793.2109334217703\n"
     ]
    },
    {
     "name": "stderr",
     "output_type": "stream",
     "text": [
      "/Users/jackwang/anaconda3/lib/python3.7/site-packages/statsmodels/base/model.py:512: ConvergenceWarning: Maximum Likelihood optimization failed to converge. Check mle_retvals\n",
      "  \"Check mle_retvals\", ConvergenceWarning)\n",
      "/Users/jackwang/anaconda3/lib/python3.7/site-packages/statsmodels/tsa/base/tsa_model.py:219: ValueWarning: A date index has been provided, but it has no associated frequency information and so will be ignored when e.g. forecasting.\n",
      "  ' ignored when e.g. forecasting.', ValueWarning)\n"
     ]
    },
    {
     "name": "stdout",
     "output_type": "stream",
     "text": [
      "ARIMA(0, 1, 1)x(1, 0, 1, 5) - AIC: 1790.2312284791656\n"
     ]
    },
    {
     "name": "stderr",
     "output_type": "stream",
     "text": [
      "/Users/jackwang/anaconda3/lib/python3.7/site-packages/statsmodels/base/model.py:512: ConvergenceWarning: Maximum Likelihood optimization failed to converge. Check mle_retvals\n",
      "  \"Check mle_retvals\", ConvergenceWarning)\n",
      "/Users/jackwang/anaconda3/lib/python3.7/site-packages/statsmodels/tsa/base/tsa_model.py:219: ValueWarning: A date index has been provided, but it has no associated frequency information and so will be ignored when e.g. forecasting.\n",
      "  ' ignored when e.g. forecasting.', ValueWarning)\n"
     ]
    },
    {
     "name": "stdout",
     "output_type": "stream",
     "text": [
      "ARIMA(0, 1, 1)x(1, 1, 0, 5) - AIC: 2008.0849844412132\n"
     ]
    },
    {
     "name": "stderr",
     "output_type": "stream",
     "text": [
      "/Users/jackwang/anaconda3/lib/python3.7/site-packages/statsmodels/base/model.py:512: ConvergenceWarning: Maximum Likelihood optimization failed to converge. Check mle_retvals\n",
      "  \"Check mle_retvals\", ConvergenceWarning)\n",
      "/Users/jackwang/anaconda3/lib/python3.7/site-packages/statsmodels/tsa/base/tsa_model.py:219: ValueWarning: A date index has been provided, but it has no associated frequency information and so will be ignored when e.g. forecasting.\n",
      "  ' ignored when e.g. forecasting.', ValueWarning)\n"
     ]
    },
    {
     "name": "stdout",
     "output_type": "stream",
     "text": [
      "ARIMA(0, 1, 1)x(1, 1, 1, 5) - AIC: 1918.3790526816622\n"
     ]
    },
    {
     "name": "stderr",
     "output_type": "stream",
     "text": [
      "/Users/jackwang/anaconda3/lib/python3.7/site-packages/statsmodels/base/model.py:512: ConvergenceWarning: Maximum Likelihood optimization failed to converge. Check mle_retvals\n",
      "  \"Check mle_retvals\", ConvergenceWarning)\n",
      "/Users/jackwang/anaconda3/lib/python3.7/site-packages/statsmodels/tsa/base/tsa_model.py:219: ValueWarning: A date index has been provided, but it has no associated frequency information and so will be ignored when e.g. forecasting.\n",
      "  ' ignored when e.g. forecasting.', ValueWarning)\n"
     ]
    },
    {
     "name": "stdout",
     "output_type": "stream",
     "text": [
      "ARIMA(1, 0, 0)x(0, 0, 0, 5) - AIC: 3425.734080665352\n"
     ]
    },
    {
     "name": "stderr",
     "output_type": "stream",
     "text": [
      "/Users/jackwang/anaconda3/lib/python3.7/site-packages/statsmodels/base/model.py:512: ConvergenceWarning: Maximum Likelihood optimization failed to converge. Check mle_retvals\n",
      "  \"Check mle_retvals\", ConvergenceWarning)\n",
      "/Users/jackwang/anaconda3/lib/python3.7/site-packages/statsmodels/tsa/base/tsa_model.py:219: ValueWarning: A date index has been provided, but it has no associated frequency information and so will be ignored when e.g. forecasting.\n",
      "  ' ignored when e.g. forecasting.', ValueWarning)\n"
     ]
    },
    {
     "name": "stdout",
     "output_type": "stream",
     "text": [
      "ARIMA(1, 0, 0)x(0, 0, 1, 5) - AIC: 3411.4933691044143\n"
     ]
    },
    {
     "name": "stderr",
     "output_type": "stream",
     "text": [
      "/Users/jackwang/anaconda3/lib/python3.7/site-packages/statsmodels/base/model.py:512: ConvergenceWarning: Maximum Likelihood optimization failed to converge. Check mle_retvals\n",
      "  \"Check mle_retvals\", ConvergenceWarning)\n",
      "/Users/jackwang/anaconda3/lib/python3.7/site-packages/statsmodels/tsa/base/tsa_model.py:219: ValueWarning: A date index has been provided, but it has no associated frequency information and so will be ignored when e.g. forecasting.\n",
      "  ' ignored when e.g. forecasting.', ValueWarning)\n"
     ]
    },
    {
     "name": "stdout",
     "output_type": "stream",
     "text": [
      "ARIMA(1, 0, 0)x(0, 1, 0, 5) - AIC: 2191.9941559512986\n"
     ]
    },
    {
     "name": "stderr",
     "output_type": "stream",
     "text": [
      "/Users/jackwang/anaconda3/lib/python3.7/site-packages/statsmodels/base/model.py:512: ConvergenceWarning: Maximum Likelihood optimization failed to converge. Check mle_retvals\n",
      "  \"Check mle_retvals\", ConvergenceWarning)\n",
      "/Users/jackwang/anaconda3/lib/python3.7/site-packages/statsmodels/tsa/base/tsa_model.py:219: ValueWarning: A date index has been provided, but it has no associated frequency information and so will be ignored when e.g. forecasting.\n",
      "  ' ignored when e.g. forecasting.', ValueWarning)\n"
     ]
    },
    {
     "name": "stdout",
     "output_type": "stream",
     "text": [
      "ARIMA(1, 0, 0)x(0, 1, 1, 5) - AIC: 2108.493769113463\n"
     ]
    },
    {
     "name": "stderr",
     "output_type": "stream",
     "text": [
      "/Users/jackwang/anaconda3/lib/python3.7/site-packages/statsmodels/base/model.py:512: ConvergenceWarning: Maximum Likelihood optimization failed to converge. Check mle_retvals\n",
      "  \"Check mle_retvals\", ConvergenceWarning)\n",
      "/Users/jackwang/anaconda3/lib/python3.7/site-packages/statsmodels/tsa/base/tsa_model.py:219: ValueWarning: A date index has been provided, but it has no associated frequency information and so will be ignored when e.g. forecasting.\n",
      "  ' ignored when e.g. forecasting.', ValueWarning)\n"
     ]
    },
    {
     "name": "stdout",
     "output_type": "stream",
     "text": [
      "ARIMA(1, 0, 0)x(1, 0, 0, 5) - AIC: 3559.248848180741\n"
     ]
    },
    {
     "name": "stderr",
     "output_type": "stream",
     "text": [
      "/Users/jackwang/anaconda3/lib/python3.7/site-packages/statsmodels/base/model.py:512: ConvergenceWarning: Maximum Likelihood optimization failed to converge. Check mle_retvals\n",
      "  \"Check mle_retvals\", ConvergenceWarning)\n",
      "/Users/jackwang/anaconda3/lib/python3.7/site-packages/statsmodels/tsa/base/tsa_model.py:219: ValueWarning: A date index has been provided, but it has no associated frequency information and so will be ignored when e.g. forecasting.\n",
      "  ' ignored when e.g. forecasting.', ValueWarning)\n"
     ]
    },
    {
     "name": "stdout",
     "output_type": "stream",
     "text": [
      "ARIMA(1, 0, 0)x(1, 0, 1, 5) - AIC: 3431.9118586178574\n"
     ]
    },
    {
     "name": "stderr",
     "output_type": "stream",
     "text": [
      "/Users/jackwang/anaconda3/lib/python3.7/site-packages/statsmodels/base/model.py:512: ConvergenceWarning: Maximum Likelihood optimization failed to converge. Check mle_retvals\n",
      "  \"Check mle_retvals\", ConvergenceWarning)\n",
      "/Users/jackwang/anaconda3/lib/python3.7/site-packages/statsmodels/tsa/base/tsa_model.py:219: ValueWarning: A date index has been provided, but it has no associated frequency information and so will be ignored when e.g. forecasting.\n",
      "  ' ignored when e.g. forecasting.', ValueWarning)\n"
     ]
    },
    {
     "name": "stdout",
     "output_type": "stream",
     "text": [
      "ARIMA(1, 0, 0)x(1, 1, 0, 5) - AIC: 2133.9056438602884\n"
     ]
    },
    {
     "name": "stderr",
     "output_type": "stream",
     "text": [
      "/Users/jackwang/anaconda3/lib/python3.7/site-packages/statsmodels/base/model.py:512: ConvergenceWarning: Maximum Likelihood optimization failed to converge. Check mle_retvals\n",
      "  \"Check mle_retvals\", ConvergenceWarning)\n",
      "/Users/jackwang/anaconda3/lib/python3.7/site-packages/statsmodels/tsa/base/tsa_model.py:219: ValueWarning: A date index has been provided, but it has no associated frequency information and so will be ignored when e.g. forecasting.\n",
      "  ' ignored when e.g. forecasting.', ValueWarning)\n"
     ]
    },
    {
     "name": "stdout",
     "output_type": "stream",
     "text": [
      "ARIMA(1, 0, 0)x(1, 1, 1, 5) - AIC: 2110.73996581886\n"
     ]
    },
    {
     "name": "stderr",
     "output_type": "stream",
     "text": [
      "/Users/jackwang/anaconda3/lib/python3.7/site-packages/statsmodels/base/model.py:512: ConvergenceWarning: Maximum Likelihood optimization failed to converge. Check mle_retvals\n",
      "  \"Check mle_retvals\", ConvergenceWarning)\n",
      "/Users/jackwang/anaconda3/lib/python3.7/site-packages/statsmodels/tsa/base/tsa_model.py:219: ValueWarning: A date index has been provided, but it has no associated frequency information and so will be ignored when e.g. forecasting.\n",
      "  ' ignored when e.g. forecasting.', ValueWarning)\n"
     ]
    },
    {
     "name": "stdout",
     "output_type": "stream",
     "text": [
      "ARIMA(1, 0, 1)x(0, 0, 0, 5) - AIC: 3356.7182752840454\n"
     ]
    },
    {
     "name": "stderr",
     "output_type": "stream",
     "text": [
      "/Users/jackwang/anaconda3/lib/python3.7/site-packages/statsmodels/base/model.py:512: ConvergenceWarning: Maximum Likelihood optimization failed to converge. Check mle_retvals\n",
      "  \"Check mle_retvals\", ConvergenceWarning)\n",
      "/Users/jackwang/anaconda3/lib/python3.7/site-packages/statsmodels/tsa/base/tsa_model.py:219: ValueWarning: A date index has been provided, but it has no associated frequency information and so will be ignored when e.g. forecasting.\n",
      "  ' ignored when e.g. forecasting.', ValueWarning)\n"
     ]
    },
    {
     "name": "stdout",
     "output_type": "stream",
     "text": [
      "ARIMA(1, 0, 1)x(0, 0, 1, 5) - AIC: 3361.3404042526345\n"
     ]
    },
    {
     "name": "stderr",
     "output_type": "stream",
     "text": [
      "/Users/jackwang/anaconda3/lib/python3.7/site-packages/statsmodels/base/model.py:512: ConvergenceWarning: Maximum Likelihood optimization failed to converge. Check mle_retvals\n",
      "  \"Check mle_retvals\", ConvergenceWarning)\n",
      "/Users/jackwang/anaconda3/lib/python3.7/site-packages/statsmodels/tsa/base/tsa_model.py:219: ValueWarning: A date index has been provided, but it has no associated frequency information and so will be ignored when e.g. forecasting.\n",
      "  ' ignored when e.g. forecasting.', ValueWarning)\n"
     ]
    },
    {
     "name": "stdout",
     "output_type": "stream",
     "text": [
      "ARIMA(1, 0, 1)x(0, 1, 0, 5) - AIC: 2189.8694514846193\n"
     ]
    },
    {
     "name": "stderr",
     "output_type": "stream",
     "text": [
      "/Users/jackwang/anaconda3/lib/python3.7/site-packages/statsmodels/base/model.py:512: ConvergenceWarning: Maximum Likelihood optimization failed to converge. Check mle_retvals\n",
      "  \"Check mle_retvals\", ConvergenceWarning)\n",
      "/Users/jackwang/anaconda3/lib/python3.7/site-packages/statsmodels/tsa/base/tsa_model.py:219: ValueWarning: A date index has been provided, but it has no associated frequency information and so will be ignored when e.g. forecasting.\n",
      "  ' ignored when e.g. forecasting.', ValueWarning)\n"
     ]
    },
    {
     "name": "stdout",
     "output_type": "stream",
     "text": [
      "ARIMA(1, 0, 1)x(0, 1, 1, 5) - AIC: 2108.2799539565954\n"
     ]
    },
    {
     "name": "stderr",
     "output_type": "stream",
     "text": [
      "/Users/jackwang/anaconda3/lib/python3.7/site-packages/statsmodels/base/model.py:512: ConvergenceWarning: Maximum Likelihood optimization failed to converge. Check mle_retvals\n",
      "  \"Check mle_retvals\", ConvergenceWarning)\n",
      "/Users/jackwang/anaconda3/lib/python3.7/site-packages/statsmodels/tsa/base/tsa_model.py:219: ValueWarning: A date index has been provided, but it has no associated frequency information and so will be ignored when e.g. forecasting.\n",
      "  ' ignored when e.g. forecasting.', ValueWarning)\n"
     ]
    },
    {
     "name": "stdout",
     "output_type": "stream",
     "text": [
      "ARIMA(1, 0, 1)x(1, 0, 0, 5) - AIC: 3540.9737390441087\n"
     ]
    },
    {
     "name": "stderr",
     "output_type": "stream",
     "text": [
      "/Users/jackwang/anaconda3/lib/python3.7/site-packages/statsmodels/base/model.py:512: ConvergenceWarning: Maximum Likelihood optimization failed to converge. Check mle_retvals\n",
      "  \"Check mle_retvals\", ConvergenceWarning)\n",
      "/Users/jackwang/anaconda3/lib/python3.7/site-packages/statsmodels/tsa/base/tsa_model.py:219: ValueWarning: A date index has been provided, but it has no associated frequency information and so will be ignored when e.g. forecasting.\n",
      "  ' ignored when e.g. forecasting.', ValueWarning)\n"
     ]
    },
    {
     "name": "stdout",
     "output_type": "stream",
     "text": [
      "ARIMA(1, 0, 1)x(1, 0, 1, 5) - AIC: 3393.0254904199383\n"
     ]
    },
    {
     "name": "stderr",
     "output_type": "stream",
     "text": [
      "/Users/jackwang/anaconda3/lib/python3.7/site-packages/statsmodels/base/model.py:512: ConvergenceWarning: Maximum Likelihood optimization failed to converge. Check mle_retvals\n",
      "  \"Check mle_retvals\", ConvergenceWarning)\n",
      "/Users/jackwang/anaconda3/lib/python3.7/site-packages/statsmodels/tsa/base/tsa_model.py:219: ValueWarning: A date index has been provided, but it has no associated frequency information and so will be ignored when e.g. forecasting.\n",
      "  ' ignored when e.g. forecasting.', ValueWarning)\n"
     ]
    },
    {
     "name": "stdout",
     "output_type": "stream",
     "text": [
      "ARIMA(1, 0, 1)x(1, 1, 0, 5) - AIC: 2136.1470138635177\n"
     ]
    },
    {
     "name": "stderr",
     "output_type": "stream",
     "text": [
      "/Users/jackwang/anaconda3/lib/python3.7/site-packages/statsmodels/base/model.py:512: ConvergenceWarning: Maximum Likelihood optimization failed to converge. Check mle_retvals\n",
      "  \"Check mle_retvals\", ConvergenceWarning)\n",
      "/Users/jackwang/anaconda3/lib/python3.7/site-packages/statsmodels/tsa/base/tsa_model.py:219: ValueWarning: A date index has been provided, but it has no associated frequency information and so will be ignored when e.g. forecasting.\n",
      "  ' ignored when e.g. forecasting.', ValueWarning)\n"
     ]
    },
    {
     "name": "stdout",
     "output_type": "stream",
     "text": [
      "ARIMA(1, 0, 1)x(1, 1, 1, 5) - AIC: 2110.581345060025\n"
     ]
    },
    {
     "name": "stderr",
     "output_type": "stream",
     "text": [
      "/Users/jackwang/anaconda3/lib/python3.7/site-packages/statsmodels/base/model.py:512: ConvergenceWarning: Maximum Likelihood optimization failed to converge. Check mle_retvals\n",
      "  \"Check mle_retvals\", ConvergenceWarning)\n",
      "/Users/jackwang/anaconda3/lib/python3.7/site-packages/statsmodels/tsa/base/tsa_model.py:219: ValueWarning: A date index has been provided, but it has no associated frequency information and so will be ignored when e.g. forecasting.\n",
      "  ' ignored when e.g. forecasting.', ValueWarning)\n"
     ]
    },
    {
     "name": "stdout",
     "output_type": "stream",
     "text": [
      "ARIMA(1, 1, 0)x(0, 0, 0, 5) - AIC: 1801.9274148284815\n"
     ]
    },
    {
     "name": "stderr",
     "output_type": "stream",
     "text": [
      "/Users/jackwang/anaconda3/lib/python3.7/site-packages/statsmodels/base/model.py:512: ConvergenceWarning: Maximum Likelihood optimization failed to converge. Check mle_retvals\n",
      "  \"Check mle_retvals\", ConvergenceWarning)\n",
      "/Users/jackwang/anaconda3/lib/python3.7/site-packages/statsmodels/tsa/base/tsa_model.py:219: ValueWarning: A date index has been provided, but it has no associated frequency information and so will be ignored when e.g. forecasting.\n",
      "  ' ignored when e.g. forecasting.', ValueWarning)\n"
     ]
    },
    {
     "name": "stdout",
     "output_type": "stream",
     "text": [
      "ARIMA(1, 1, 0)x(0, 0, 1, 5) - AIC: 1791.1894539897119\n"
     ]
    },
    {
     "name": "stderr",
     "output_type": "stream",
     "text": [
      "/Users/jackwang/anaconda3/lib/python3.7/site-packages/statsmodels/base/model.py:512: ConvergenceWarning: Maximum Likelihood optimization failed to converge. Check mle_retvals\n",
      "  \"Check mle_retvals\", ConvergenceWarning)\n",
      "/Users/jackwang/anaconda3/lib/python3.7/site-packages/statsmodels/tsa/base/tsa_model.py:219: ValueWarning: A date index has been provided, but it has no associated frequency information and so will be ignored when e.g. forecasting.\n",
      "  ' ignored when e.g. forecasting.', ValueWarning)\n"
     ]
    },
    {
     "name": "stdout",
     "output_type": "stream",
     "text": [
      "ARIMA(1, 1, 0)x(0, 1, 0, 5) - AIC: 2182.9005573340355\n"
     ]
    },
    {
     "name": "stderr",
     "output_type": "stream",
     "text": [
      "/Users/jackwang/anaconda3/lib/python3.7/site-packages/statsmodels/base/model.py:512: ConvergenceWarning: Maximum Likelihood optimization failed to converge. Check mle_retvals\n",
      "  \"Check mle_retvals\", ConvergenceWarning)\n",
      "/Users/jackwang/anaconda3/lib/python3.7/site-packages/statsmodels/tsa/base/tsa_model.py:219: ValueWarning: A date index has been provided, but it has no associated frequency information and so will be ignored when e.g. forecasting.\n",
      "  ' ignored when e.g. forecasting.', ValueWarning)\n"
     ]
    },
    {
     "name": "stdout",
     "output_type": "stream",
     "text": [
      "ARIMA(1, 1, 0)x(0, 1, 1, 5) - AIC: 1908.9324015493958\n"
     ]
    },
    {
     "name": "stderr",
     "output_type": "stream",
     "text": [
      "/Users/jackwang/anaconda3/lib/python3.7/site-packages/statsmodels/base/model.py:512: ConvergenceWarning: Maximum Likelihood optimization failed to converge. Check mle_retvals\n",
      "  \"Check mle_retvals\", ConvergenceWarning)\n",
      "/Users/jackwang/anaconda3/lib/python3.7/site-packages/statsmodels/tsa/base/tsa_model.py:219: ValueWarning: A date index has been provided, but it has no associated frequency information and so will be ignored when e.g. forecasting.\n",
      "  ' ignored when e.g. forecasting.', ValueWarning)\n"
     ]
    },
    {
     "name": "stdout",
     "output_type": "stream",
     "text": [
      "ARIMA(1, 1, 0)x(1, 0, 0, 5) - AIC: 1791.0652979685897\n"
     ]
    },
    {
     "name": "stderr",
     "output_type": "stream",
     "text": [
      "/Users/jackwang/anaconda3/lib/python3.7/site-packages/statsmodels/base/model.py:512: ConvergenceWarning: Maximum Likelihood optimization failed to converge. Check mle_retvals\n",
      "  \"Check mle_retvals\", ConvergenceWarning)\n",
      "/Users/jackwang/anaconda3/lib/python3.7/site-packages/statsmodels/tsa/base/tsa_model.py:219: ValueWarning: A date index has been provided, but it has no associated frequency information and so will be ignored when e.g. forecasting.\n",
      "  ' ignored when e.g. forecasting.', ValueWarning)\n"
     ]
    },
    {
     "name": "stdout",
     "output_type": "stream",
     "text": [
      "ARIMA(1, 1, 0)x(1, 0, 1, 5) - AIC: 1792.8674988952553\n"
     ]
    },
    {
     "name": "stderr",
     "output_type": "stream",
     "text": [
      "/Users/jackwang/anaconda3/lib/python3.7/site-packages/statsmodels/base/model.py:512: ConvergenceWarning: Maximum Likelihood optimization failed to converge. Check mle_retvals\n",
      "  \"Check mle_retvals\", ConvergenceWarning)\n",
      "/Users/jackwang/anaconda3/lib/python3.7/site-packages/statsmodels/tsa/base/tsa_model.py:219: ValueWarning: A date index has been provided, but it has no associated frequency information and so will be ignored when e.g. forecasting.\n",
      "  ' ignored when e.g. forecasting.', ValueWarning)\n"
     ]
    },
    {
     "name": "stdout",
     "output_type": "stream",
     "text": [
      "ARIMA(1, 1, 0)x(1, 1, 0, 5) - AIC: 2003.6716044750297\n"
     ]
    },
    {
     "name": "stderr",
     "output_type": "stream",
     "text": [
      "/Users/jackwang/anaconda3/lib/python3.7/site-packages/statsmodels/base/model.py:512: ConvergenceWarning: Maximum Likelihood optimization failed to converge. Check mle_retvals\n",
      "  \"Check mle_retvals\", ConvergenceWarning)\n",
      "/Users/jackwang/anaconda3/lib/python3.7/site-packages/statsmodels/tsa/base/tsa_model.py:219: ValueWarning: A date index has been provided, but it has no associated frequency information and so will be ignored when e.g. forecasting.\n",
      "  ' ignored when e.g. forecasting.', ValueWarning)\n"
     ]
    },
    {
     "name": "stdout",
     "output_type": "stream",
     "text": [
      "ARIMA(1, 1, 0)x(1, 1, 1, 5) - AIC: 1920.909824215394\n"
     ]
    },
    {
     "name": "stderr",
     "output_type": "stream",
     "text": [
      "/Users/jackwang/anaconda3/lib/python3.7/site-packages/statsmodels/base/model.py:512: ConvergenceWarning: Maximum Likelihood optimization failed to converge. Check mle_retvals\n",
      "  \"Check mle_retvals\", ConvergenceWarning)\n",
      "/Users/jackwang/anaconda3/lib/python3.7/site-packages/statsmodels/tsa/base/tsa_model.py:219: ValueWarning: A date index has been provided, but it has no associated frequency information and so will be ignored when e.g. forecasting.\n",
      "  ' ignored when e.g. forecasting.', ValueWarning)\n"
     ]
    },
    {
     "name": "stdout",
     "output_type": "stream",
     "text": [
      "ARIMA(1, 1, 1)x(0, 0, 0, 5) - AIC: 1801.8002670416272\n"
     ]
    },
    {
     "name": "stderr",
     "output_type": "stream",
     "text": [
      "/Users/jackwang/anaconda3/lib/python3.7/site-packages/statsmodels/base/model.py:512: ConvergenceWarning: Maximum Likelihood optimization failed to converge. Check mle_retvals\n",
      "  \"Check mle_retvals\", ConvergenceWarning)\n",
      "/Users/jackwang/anaconda3/lib/python3.7/site-packages/statsmodels/tsa/base/tsa_model.py:219: ValueWarning: A date index has been provided, but it has no associated frequency information and so will be ignored when e.g. forecasting.\n",
      "  ' ignored when e.g. forecasting.', ValueWarning)\n"
     ]
    },
    {
     "name": "stdout",
     "output_type": "stream",
     "text": [
      "ARIMA(1, 1, 1)x(0, 0, 1, 5) - AIC: 1790.6375640804717\n"
     ]
    },
    {
     "name": "stderr",
     "output_type": "stream",
     "text": [
      "/Users/jackwang/anaconda3/lib/python3.7/site-packages/statsmodels/base/model.py:512: ConvergenceWarning: Maximum Likelihood optimization failed to converge. Check mle_retvals\n",
      "  \"Check mle_retvals\", ConvergenceWarning)\n",
      "/Users/jackwang/anaconda3/lib/python3.7/site-packages/statsmodels/tsa/base/tsa_model.py:219: ValueWarning: A date index has been provided, but it has no associated frequency information and so will be ignored when e.g. forecasting.\n",
      "  ' ignored when e.g. forecasting.', ValueWarning)\n"
     ]
    },
    {
     "name": "stdout",
     "output_type": "stream",
     "text": [
      "ARIMA(1, 1, 1)x(0, 1, 0, 5) - AIC: 2181.9242278954644\n"
     ]
    },
    {
     "name": "stderr",
     "output_type": "stream",
     "text": [
      "/Users/jackwang/anaconda3/lib/python3.7/site-packages/statsmodels/base/model.py:512: ConvergenceWarning: Maximum Likelihood optimization failed to converge. Check mle_retvals\n",
      "  \"Check mle_retvals\", ConvergenceWarning)\n"
     ]
    },
    {
     "name": "stdout",
     "output_type": "stream",
     "text": [
      "ARIMA(1, 1, 1)x(0, 1, 1, 5) - AIC: 1908.8757779282541\n"
     ]
    },
    {
     "name": "stderr",
     "output_type": "stream",
     "text": [
      "/Users/jackwang/anaconda3/lib/python3.7/site-packages/statsmodels/tsa/base/tsa_model.py:219: ValueWarning: A date index has been provided, but it has no associated frequency information and so will be ignored when e.g. forecasting.\n",
      "  ' ignored when e.g. forecasting.', ValueWarning)\n",
      "/Users/jackwang/anaconda3/lib/python3.7/site-packages/statsmodels/base/model.py:512: ConvergenceWarning: Maximum Likelihood optimization failed to converge. Check mle_retvals\n",
      "  \"Check mle_retvals\", ConvergenceWarning)\n",
      "/Users/jackwang/anaconda3/lib/python3.7/site-packages/statsmodels/tsa/base/tsa_model.py:219: ValueWarning: A date index has been provided, but it has no associated frequency information and so will be ignored when e.g. forecasting.\n",
      "  ' ignored when e.g. forecasting.', ValueWarning)\n"
     ]
    },
    {
     "name": "stdout",
     "output_type": "stream",
     "text": [
      "ARIMA(1, 1, 1)x(1, 0, 0, 5) - AIC: 1793.0772636791728\n"
     ]
    },
    {
     "name": "stderr",
     "output_type": "stream",
     "text": [
      "/Users/jackwang/anaconda3/lib/python3.7/site-packages/statsmodels/base/model.py:512: ConvergenceWarning: Maximum Likelihood optimization failed to converge. Check mle_retvals\n",
      "  \"Check mle_retvals\", ConvergenceWarning)\n",
      "/Users/jackwang/anaconda3/lib/python3.7/site-packages/statsmodels/tsa/base/tsa_model.py:219: ValueWarning: A date index has been provided, but it has no associated frequency information and so will be ignored when e.g. forecasting.\n",
      "  ' ignored when e.g. forecasting.', ValueWarning)\n"
     ]
    },
    {
     "name": "stdout",
     "output_type": "stream",
     "text": [
      "ARIMA(1, 1, 1)x(1, 0, 1, 5) - AIC: 1792.2656392711738\n"
     ]
    },
    {
     "name": "stderr",
     "output_type": "stream",
     "text": [
      "/Users/jackwang/anaconda3/lib/python3.7/site-packages/statsmodels/base/model.py:512: ConvergenceWarning: Maximum Likelihood optimization failed to converge. Check mle_retvals\n",
      "  \"Check mle_retvals\", ConvergenceWarning)\n",
      "/Users/jackwang/anaconda3/lib/python3.7/site-packages/statsmodels/tsa/base/tsa_model.py:219: ValueWarning: A date index has been provided, but it has no associated frequency information and so will be ignored when e.g. forecasting.\n",
      "  ' ignored when e.g. forecasting.', ValueWarning)\n"
     ]
    },
    {
     "name": "stdout",
     "output_type": "stream",
     "text": [
      "ARIMA(1, 1, 1)x(1, 1, 0, 5) - AIC: 2006.0867517035426\n",
      "ARIMA(1, 1, 1)x(1, 1, 1, 5) - AIC: 1920.66499276727\n"
     ]
    },
    {
     "name": "stderr",
     "output_type": "stream",
     "text": [
      "/Users/jackwang/anaconda3/lib/python3.7/site-packages/statsmodels/base/model.py:512: ConvergenceWarning: Maximum Likelihood optimization failed to converge. Check mle_retvals\n",
      "  \"Check mle_retvals\", ConvergenceWarning)\n"
     ]
    }
   ],
   "source": [
    "for param in pdq:\n",
    "    for param_seasonal in seasonal_pdq:\n",
    "        try:\n",
    "            mod = sm.tsa.statespace.SARIMAX(train['open_price'],\n",
    "                                            train.drop(columns='open_price'),\n",
    "                                            order=param,\n",
    "                                            seasonal_order=param_seasonal,\n",
    "                                            enforce_stationarity=False,\n",
    "                                            enforce_invertibility=False)\n",
    "\n",
    "            results = mod.fit()\n",
    "            print('ARIMA{}x{} - AIC: {}'.format(param, param_seasonal, results.aic))\n",
    "        except:\n",
    "            continue"
   ]
  },
  {
   "cell_type": "markdown",
   "metadata": {},
   "source": [
    "The best SARIMAX model based on AIC score is with (0, 1, 1)X(0, 0, 1, 5)\n",
    "\n",
    "ARIMA(0, 1, 1)x(0, 0, 1, 5) - AIC: 2295.3517542193094\n",
    "ARIMA(0, 1, 1)x(0, 0, 1, 5) - AIC: 1788.5938195276385"
   ]
  },
  {
   "cell_type": "markdown",
   "metadata": {},
   "source": [
    "ARIMA(0, 1, 2)x(1, 0, 2, 5) - AIC: 2280.002803258474"
   ]
  },
  {
   "cell_type": "code",
   "execution_count": 422,
   "metadata": {},
   "outputs": [
    {
     "name": "stderr",
     "output_type": "stream",
     "text": [
      "/Users/jackwang/anaconda3/lib/python3.7/site-packages/statsmodels/tsa/base/tsa_model.py:219: ValueWarning: A date index has been provided, but it has no associated frequency information and so will be ignored when e.g. forecasting.\n",
      "  ' ignored when e.g. forecasting.', ValueWarning)\n"
     ]
    },
    {
     "name": "stdout",
     "output_type": "stream",
     "text": [
      "=============================================================================================\n",
      "                                coef    std err          z      P>|z|      [0.025      0.975]\n",
      "---------------------------------------------------------------------------------------------\n",
      "tweet_word_count_sum      -1.502e-07   1.56e-06     -0.096      0.923   -3.21e-06    2.91e-06\n",
      "tweet_compound_score_sum  -4.047e-05      0.000     -0.118      0.906      -0.001       0.001\n",
      "tweets_sum                 1.004e-05      0.000      0.078      0.938      -0.000       0.000\n",
      "tweet_word_count_mean        -0.0461      0.074     -0.622      0.534      -0.191       0.099\n",
      "tweet_compound_score_mean     1.1020      1.445      0.763      0.446      -1.730       3.934\n",
      "redd_gun_score_mean           0.0085      0.063      0.136      0.892      -0.114       0.131\n",
      "redd_gun_comment_mean         0.0607      0.026      2.368      0.018       0.010       0.111\n",
      "redd_gun_compound_mean        0.3898      0.314      1.240      0.215      -0.226       1.006\n",
      "redd_gun_score_sum            0.0052      0.011      0.473      0.636      -0.016       0.027\n",
      "redd_gun_comment_sum         -0.0674      0.024     -2.759      0.006      -0.115      -0.020\n",
      "redd_gun_post_count           0.1937      0.157      1.233      0.218      -0.114       0.502\n",
      "redd_pol_score_mean          -0.0002      0.000     -0.708      0.479      -0.001       0.000\n",
      "redd_pol_comment_mean         0.0015      0.001      1.170      0.242      -0.001       0.004\n",
      "redd_pol_compound_mean        0.0549      0.167      0.330      0.742      -0.271       0.381\n",
      "redd_pol_score_sum         2.817e-05   4.96e-05      0.567      0.570   -6.91e-05       0.000\n",
      "redd_pol_comment_sum         -0.0002      0.000     -0.543      0.587      -0.001       0.001\n",
      "redd_pol_post_count          -0.0162      0.018     -0.898      0.369      -0.052       0.019\n",
      "10-k                         -1.3096      0.807     -1.624      0.104      -2.890       0.271\n",
      "10-q                          1.3840      0.219      6.332      0.000       0.956       1.812\n",
      "8-k                           0.2643      0.159      1.661      0.097      -0.048       0.576\n",
      "ma.L1                         0.0383      0.038      1.004      0.315      -0.036       0.113\n",
      "ma.S.L5                      -0.0306      0.054     -0.566      0.571      -0.136       0.075\n",
      "sigma2                        1.3345      0.050     26.648      0.000       1.236       1.433\n",
      "=============================================================================================\n"
     ]
    },
    {
     "name": "stderr",
     "output_type": "stream",
     "text": [
      "/Users/jackwang/anaconda3/lib/python3.7/site-packages/statsmodels/base/model.py:512: ConvergenceWarning: Maximum Likelihood optimization failed to converge. Check mle_retvals\n",
      "  \"Check mle_retvals\", ConvergenceWarning)\n"
     ]
    }
   ],
   "source": [
    "mod = sm.tsa.statespace.SARIMAX(endog=train['open_price'],\n",
    "                                exog=train.drop(columns='open_price'),\n",
    "                                order=(0, 1, 1),\n",
    "                                seasonal_order=(0, 0, 1, 5),\n",
    "                                enforce_stationarity=False,\n",
    "                                enforce_invertibility=False)\n",
    "\n",
    "results = mod.fit()\n",
    "\n",
    "print(results.summary().tables[1])"
   ]
  },
  {
   "cell_type": "markdown",
   "metadata": {},
   "source": [
    "**As we can see, the p-value for all features are pretty high. We can conclude this model is performing poorly.**"
   ]
  },
  {
   "cell_type": "code",
   "execution_count": 423,
   "metadata": {},
   "outputs": [
    {
     "data": {
      "image/png": "[encoded data removed]",
      "text/plain": [
       "<Figure size 1080x864 with 4 Axes>"
      ]
     },
     "metadata": {},
     "output_type": "display_data"
    }
   ],
   "source": [
    "results.plot_diagnostics(figsize=(15, 12))\n",
    "plt.show()"
   ]
  },
  {
   "cell_type": "markdown",
   "metadata": {},
   "source": [
    "**The above plot shows that the residuals of our model are not normally distributed well. We should improve on our model. Our ultimate goal is to have uncorrelated residuals and normally distributed residuals.**"
   ]
  },
  {
   "cell_type": "code",
   "execution_count": 424,
   "metadata": {},
   "outputs": [],
   "source": [
    "test_dates = test.index"
   ]
  },
  {
   "cell_type": "code",
   "execution_count": 425,
   "metadata": {},
   "outputs": [
    {
     "data": {
      "text/plain": [
       "565    52.897833\n",
       "566    52.865148\n",
       "567    52.938242\n",
       "568    52.686982\n",
       "569    52.673848\n",
       "         ...    \n",
       "748    52.748423\n",
       "749    52.794428\n",
       "750    52.823142\n",
       "751    53.059061\n",
       "752    52.777065\n",
       "Length: 188, dtype: float64"
      ]
     },
     "execution_count": 425,
     "metadata": {},
     "output_type": "execute_result"
    }
   ],
   "source": [
    "sarima_preds"
   ]
  },
  {
   "cell_type": "code",
   "execution_count": 426,
   "metadata": {},
   "outputs": [
    {
     "data": {
      "text/html": [
       "<div>\n",
       "<style scoped>\n",
       "    .dataframe tbody tr th:only-of-type {\n",
       "        vertical-align: middle;\n",
       "    }\n",
       "\n",
       "    .dataframe tbody tr th {\n",
       "        vertical-align: top;\n",
       "    }\n",
       "\n",
       "    .dataframe thead th {\n",
       "        text-align: right;\n",
       "    }\n",
       "</style>\n",
       "<table border=\"1\" class=\"dataframe\">\n",
       "  <thead>\n",
       "    <tr style=\"text-align: right;\">\n",
       "      <th></th>\n",
       "      <th>open_price</th>\n",
       "      <th>tweet_word_count_sum</th>\n",
       "      <th>tweet_compound_score_sum</th>\n",
       "      <th>tweets_sum</th>\n",
       "      <th>tweet_word_count_mean</th>\n",
       "      <th>tweet_compound_score_mean</th>\n",
       "      <th>redd_gun_score_mean</th>\n",
       "      <th>redd_gun_comment_mean</th>\n",
       "      <th>redd_gun_compound_mean</th>\n",
       "      <th>redd_gun_score_sum</th>\n",
       "      <th>...</th>\n",
       "      <th>redd_gun_post_count</th>\n",
       "      <th>redd_pol_score_mean</th>\n",
       "      <th>redd_pol_comment_mean</th>\n",
       "      <th>redd_pol_compound_mean</th>\n",
       "      <th>redd_pol_score_sum</th>\n",
       "      <th>redd_pol_comment_sum</th>\n",
       "      <th>redd_pol_post_count</th>\n",
       "      <th>10-k</th>\n",
       "      <th>10-q</th>\n",
       "      <th>8-k</th>\n",
       "    </tr>\n",
       "    <tr>\n",
       "      <th>date</th>\n",
       "      <th></th>\n",
       "      <th></th>\n",
       "      <th></th>\n",
       "      <th></th>\n",
       "      <th></th>\n",
       "      <th></th>\n",
       "      <th></th>\n",
       "      <th></th>\n",
       "      <th></th>\n",
       "      <th></th>\n",
       "      <th></th>\n",
       "      <th></th>\n",
       "      <th></th>\n",
       "      <th></th>\n",
       "      <th></th>\n",
       "      <th></th>\n",
       "      <th></th>\n",
       "      <th></th>\n",
       "      <th></th>\n",
       "      <th></th>\n",
       "      <th></th>\n",
       "    </tr>\n",
       "  </thead>\n",
       "  <tbody>\n",
       "    <tr>\n",
       "      <td>2016-10-03</td>\n",
       "      <td>57.790001</td>\n",
       "      <td>18548</td>\n",
       "      <td>-401.5402</td>\n",
       "      <td>1133</td>\n",
       "      <td>16.370697</td>\n",
       "      <td>-0.354404</td>\n",
       "      <td>0.0</td>\n",
       "      <td>0.0</td>\n",
       "      <td>0.0000</td>\n",
       "      <td>0.0</td>\n",
       "      <td>...</td>\n",
       "      <td>0.0</td>\n",
       "      <td>0.0</td>\n",
       "      <td>0.0</td>\n",
       "      <td>0.00000</td>\n",
       "      <td>0.0</td>\n",
       "      <td>0.0</td>\n",
       "      <td>0.0</td>\n",
       "      <td>0.0</td>\n",
       "      <td>0.0</td>\n",
       "      <td>0.0</td>\n",
       "    </tr>\n",
       "    <tr>\n",
       "      <td>2016-10-04</td>\n",
       "      <td>57.470001</td>\n",
       "      <td>16554</td>\n",
       "      <td>-356.2059</td>\n",
       "      <td>1017</td>\n",
       "      <td>16.277286</td>\n",
       "      <td>-0.350252</td>\n",
       "      <td>0.0</td>\n",
       "      <td>0.0</td>\n",
       "      <td>0.0000</td>\n",
       "      <td>0.0</td>\n",
       "      <td>...</td>\n",
       "      <td>0.0</td>\n",
       "      <td>0.0</td>\n",
       "      <td>0.0</td>\n",
       "      <td>0.00000</td>\n",
       "      <td>0.0</td>\n",
       "      <td>0.0</td>\n",
       "      <td>0.0</td>\n",
       "      <td>0.0</td>\n",
       "      <td>0.0</td>\n",
       "      <td>0.0</td>\n",
       "    </tr>\n",
       "    <tr>\n",
       "      <td>2016-10-05</td>\n",
       "      <td>57.330002</td>\n",
       "      <td>19727</td>\n",
       "      <td>-338.7394</td>\n",
       "      <td>1194</td>\n",
       "      <td>16.521776</td>\n",
       "      <td>-0.283701</td>\n",
       "      <td>0.0</td>\n",
       "      <td>0.0</td>\n",
       "      <td>0.0000</td>\n",
       "      <td>0.0</td>\n",
       "      <td>...</td>\n",
       "      <td>0.0</td>\n",
       "      <td>0.0</td>\n",
       "      <td>0.0</td>\n",
       "      <td>0.00000</td>\n",
       "      <td>0.0</td>\n",
       "      <td>0.0</td>\n",
       "      <td>0.0</td>\n",
       "      <td>0.0</td>\n",
       "      <td>0.0</td>\n",
       "      <td>0.0</td>\n",
       "    </tr>\n",
       "    <tr>\n",
       "      <td>2016-10-06</td>\n",
       "      <td>56.400002</td>\n",
       "      <td>12924</td>\n",
       "      <td>-220.6480</td>\n",
       "      <td>807</td>\n",
       "      <td>16.014870</td>\n",
       "      <td>-0.273418</td>\n",
       "      <td>0.0</td>\n",
       "      <td>7.0</td>\n",
       "      <td>-0.7184</td>\n",
       "      <td>0.0</td>\n",
       "      <td>...</td>\n",
       "      <td>1.0</td>\n",
       "      <td>2.0</td>\n",
       "      <td>5.0</td>\n",
       "      <td>-0.19580</td>\n",
       "      <td>4.0</td>\n",
       "      <td>10.0</td>\n",
       "      <td>2.0</td>\n",
       "      <td>0.0</td>\n",
       "      <td>0.0</td>\n",
       "      <td>0.0</td>\n",
       "    </tr>\n",
       "    <tr>\n",
       "      <td>2016-10-07</td>\n",
       "      <td>56.020000</td>\n",
       "      <td>9767</td>\n",
       "      <td>-210.2939</td>\n",
       "      <td>613</td>\n",
       "      <td>15.933116</td>\n",
       "      <td>-0.343057</td>\n",
       "      <td>1.0</td>\n",
       "      <td>1.0</td>\n",
       "      <td>-0.1280</td>\n",
       "      <td>1.0</td>\n",
       "      <td>...</td>\n",
       "      <td>1.0</td>\n",
       "      <td>0.0</td>\n",
       "      <td>3.0</td>\n",
       "      <td>0.36120</td>\n",
       "      <td>0.0</td>\n",
       "      <td>3.0</td>\n",
       "      <td>1.0</td>\n",
       "      <td>0.0</td>\n",
       "      <td>0.0</td>\n",
       "      <td>0.0</td>\n",
       "    </tr>\n",
       "    <tr>\n",
       "      <td>...</td>\n",
       "      <td>...</td>\n",
       "      <td>...</td>\n",
       "      <td>...</td>\n",
       "      <td>...</td>\n",
       "      <td>...</td>\n",
       "      <td>...</td>\n",
       "      <td>...</td>\n",
       "      <td>...</td>\n",
       "      <td>...</td>\n",
       "      <td>...</td>\n",
       "      <td>...</td>\n",
       "      <td>...</td>\n",
       "      <td>...</td>\n",
       "      <td>...</td>\n",
       "      <td>...</td>\n",
       "      <td>...</td>\n",
       "      <td>...</td>\n",
       "      <td>...</td>\n",
       "      <td>...</td>\n",
       "      <td>...</td>\n",
       "      <td>...</td>\n",
       "    </tr>\n",
       "    <tr>\n",
       "      <td>2018-12-24</td>\n",
       "      <td>50.020000</td>\n",
       "      <td>33602</td>\n",
       "      <td>-311.9478</td>\n",
       "      <td>1147</td>\n",
       "      <td>29.295554</td>\n",
       "      <td>-0.271968</td>\n",
       "      <td>0.0</td>\n",
       "      <td>0.0</td>\n",
       "      <td>0.0000</td>\n",
       "      <td>0.0</td>\n",
       "      <td>...</td>\n",
       "      <td>0.0</td>\n",
       "      <td>1.0</td>\n",
       "      <td>138.0</td>\n",
       "      <td>-0.34000</td>\n",
       "      <td>1.0</td>\n",
       "      <td>138.0</td>\n",
       "      <td>1.0</td>\n",
       "      <td>0.0</td>\n",
       "      <td>0.0</td>\n",
       "      <td>0.0</td>\n",
       "    </tr>\n",
       "    <tr>\n",
       "      <td>2018-12-26</td>\n",
       "      <td>50.549999</td>\n",
       "      <td>23512</td>\n",
       "      <td>-224.3712</td>\n",
       "      <td>833</td>\n",
       "      <td>28.225690</td>\n",
       "      <td>-0.269353</td>\n",
       "      <td>0.0</td>\n",
       "      <td>0.0</td>\n",
       "      <td>0.0000</td>\n",
       "      <td>0.0</td>\n",
       "      <td>...</td>\n",
       "      <td>0.0</td>\n",
       "      <td>1.0</td>\n",
       "      <td>19.0</td>\n",
       "      <td>-0.34000</td>\n",
       "      <td>1.0</td>\n",
       "      <td>19.0</td>\n",
       "      <td>1.0</td>\n",
       "      <td>0.0</td>\n",
       "      <td>0.0</td>\n",
       "      <td>0.0</td>\n",
       "    </tr>\n",
       "    <tr>\n",
       "      <td>2018-12-27</td>\n",
       "      <td>51.810001</td>\n",
       "      <td>41232</td>\n",
       "      <td>-475.3081</td>\n",
       "      <td>1420</td>\n",
       "      <td>29.036620</td>\n",
       "      <td>-0.334724</td>\n",
       "      <td>0.0</td>\n",
       "      <td>0.0</td>\n",
       "      <td>0.0000</td>\n",
       "      <td>0.0</td>\n",
       "      <td>...</td>\n",
       "      <td>0.0</td>\n",
       "      <td>0.0</td>\n",
       "      <td>0.0</td>\n",
       "      <td>0.00000</td>\n",
       "      <td>0.0</td>\n",
       "      <td>0.0</td>\n",
       "      <td>0.0</td>\n",
       "      <td>0.0</td>\n",
       "      <td>0.0</td>\n",
       "      <td>0.0</td>\n",
       "    </tr>\n",
       "    <tr>\n",
       "      <td>2018-12-28</td>\n",
       "      <td>52.169998</td>\n",
       "      <td>54610</td>\n",
       "      <td>-712.9452</td>\n",
       "      <td>1925</td>\n",
       "      <td>28.368831</td>\n",
       "      <td>-0.370361</td>\n",
       "      <td>0.0</td>\n",
       "      <td>0.0</td>\n",
       "      <td>0.0000</td>\n",
       "      <td>0.0</td>\n",
       "      <td>...</td>\n",
       "      <td>0.0</td>\n",
       "      <td>1.0</td>\n",
       "      <td>74.0</td>\n",
       "      <td>-0.35015</td>\n",
       "      <td>2.0</td>\n",
       "      <td>148.0</td>\n",
       "      <td>2.0</td>\n",
       "      <td>0.0</td>\n",
       "      <td>0.0</td>\n",
       "      <td>0.0</td>\n",
       "    </tr>\n",
       "    <tr>\n",
       "      <td>2018-12-31</td>\n",
       "      <td>52.740002</td>\n",
       "      <td>54011</td>\n",
       "      <td>-556.1109</td>\n",
       "      <td>1760</td>\n",
       "      <td>30.688068</td>\n",
       "      <td>-0.315972</td>\n",
       "      <td>0.0</td>\n",
       "      <td>0.0</td>\n",
       "      <td>0.0000</td>\n",
       "      <td>0.0</td>\n",
       "      <td>...</td>\n",
       "      <td>0.0</td>\n",
       "      <td>0.0</td>\n",
       "      <td>0.0</td>\n",
       "      <td>0.00000</td>\n",
       "      <td>0.0</td>\n",
       "      <td>0.0</td>\n",
       "      <td>0.0</td>\n",
       "      <td>0.0</td>\n",
       "      <td>0.0</td>\n",
       "      <td>0.0</td>\n",
       "    </tr>\n",
       "  </tbody>\n",
       "</table>\n",
       "<p>565 rows × 21 columns</p>\n",
       "</div>"
      ],
      "text/plain": [
       "            open_price  tweet_word_count_sum  tweet_compound_score_sum  \\\n",
       "date                                                                     \n",
       "2016-10-03   57.790001                 18548                 -401.5402   \n",
       "2016-10-04   57.470001                 16554                 -356.2059   \n",
       "2016-10-05   57.330002                 19727                 -338.7394   \n",
       "2016-10-06   56.400002                 12924                 -220.6480   \n",
       "2016-10-07   56.020000                  9767                 -210.2939   \n",
       "...                ...                   ...                       ...   \n",
       "2018-12-24   50.020000                 33602                 -311.9478   \n",
       "2018-12-26   50.549999                 23512                 -224.3712   \n",
       "2018-12-27   51.810001                 41232                 -475.3081   \n",
       "2018-12-28   52.169998                 54610                 -712.9452   \n",
       "2018-12-31   52.740002                 54011                 -556.1109   \n",
       "\n",
       "            tweets_sum  tweet_word_count_mean  tweet_compound_score_mean  \\\n",
       "date                                                                       \n",
       "2016-10-03        1133              16.370697                  -0.354404   \n",
       "2016-10-04        1017              16.277286                  -0.350252   \n",
       "2016-10-05        1194              16.521776                  -0.283701   \n",
       "2016-10-06         807              16.014870                  -0.273418   \n",
       "2016-10-07         613              15.933116                  -0.343057   \n",
       "...                ...                    ...                        ...   \n",
       "2018-12-24        1147              29.295554                  -0.271968   \n",
       "2018-12-26         833              28.225690                  -0.269353   \n",
       "2018-12-27        1420              29.036620                  -0.334724   \n",
       "2018-12-28        1925              28.368831                  -0.370361   \n",
       "2018-12-31        1760              30.688068                  -0.315972   \n",
       "\n",
       "            redd_gun_score_mean  redd_gun_comment_mean  \\\n",
       "date                                                     \n",
       "2016-10-03                  0.0                    0.0   \n",
       "2016-10-04                  0.0                    0.0   \n",
       "2016-10-05                  0.0                    0.0   \n",
       "2016-10-06                  0.0                    7.0   \n",
       "2016-10-07                  1.0                    1.0   \n",
       "...                         ...                    ...   \n",
       "2018-12-24                  0.0                    0.0   \n",
       "2018-12-26                  0.0                    0.0   \n",
       "2018-12-27                  0.0                    0.0   \n",
       "2018-12-28                  0.0                    0.0   \n",
       "2018-12-31                  0.0                    0.0   \n",
       "\n",
       "            redd_gun_compound_mean  redd_gun_score_sum  ...  \\\n",
       "date                                                    ...   \n",
       "2016-10-03                  0.0000                 0.0  ...   \n",
       "2016-10-04                  0.0000                 0.0  ...   \n",
       "2016-10-05                  0.0000                 0.0  ...   \n",
       "2016-10-06                 -0.7184                 0.0  ...   \n",
       "2016-10-07                 -0.1280                 1.0  ...   \n",
       "...                            ...                 ...  ...   \n",
       "2018-12-24                  0.0000                 0.0  ...   \n",
       "2018-12-26                  0.0000                 0.0  ...   \n",
       "2018-12-27                  0.0000                 0.0  ...   \n",
       "2018-12-28                  0.0000                 0.0  ...   \n",
       "2018-12-31                  0.0000                 0.0  ...   \n",
       "\n",
       "            redd_gun_post_count  redd_pol_score_mean  redd_pol_comment_mean  \\\n",
       "date                                                                          \n",
       "2016-10-03                  0.0                  0.0                    0.0   \n",
       "2016-10-04                  0.0                  0.0                    0.0   \n",
       "2016-10-05                  0.0                  0.0                    0.0   \n",
       "2016-10-06                  1.0                  2.0                    5.0   \n",
       "2016-10-07                  1.0                  0.0                    3.0   \n",
       "...                         ...                  ...                    ...   \n",
       "2018-12-24                  0.0                  1.0                  138.0   \n",
       "2018-12-26                  0.0                  1.0                   19.0   \n",
       "2018-12-27                  0.0                  0.0                    0.0   \n",
       "2018-12-28                  0.0                  1.0                   74.0   \n",
       "2018-12-31                  0.0                  0.0                    0.0   \n",
       "\n",
       "            redd_pol_compound_mean  redd_pol_score_sum  redd_pol_comment_sum  \\\n",
       "date                                                                           \n",
       "2016-10-03                 0.00000                 0.0                   0.0   \n",
       "2016-10-04                 0.00000                 0.0                   0.0   \n",
       "2016-10-05                 0.00000                 0.0                   0.0   \n",
       "2016-10-06                -0.19580                 4.0                  10.0   \n",
       "2016-10-07                 0.36120                 0.0                   3.0   \n",
       "...                            ...                 ...                   ...   \n",
       "2018-12-24                -0.34000                 1.0                 138.0   \n",
       "2018-12-26                -0.34000                 1.0                  19.0   \n",
       "2018-12-27                 0.00000                 0.0                   0.0   \n",
       "2018-12-28                -0.35015                 2.0                 148.0   \n",
       "2018-12-31                 0.00000                 0.0                   0.0   \n",
       "\n",
       "            redd_pol_post_count  10-k  10-q  8-k  \n",
       "date                                              \n",
       "2016-10-03                  0.0   0.0   0.0  0.0  \n",
       "2016-10-04                  0.0   0.0   0.0  0.0  \n",
       "2016-10-05                  0.0   0.0   0.0  0.0  \n",
       "2016-10-06                  2.0   0.0   0.0  0.0  \n",
       "2016-10-07                  1.0   0.0   0.0  0.0  \n",
       "...                         ...   ...   ...  ...  \n",
       "2018-12-24                  1.0   0.0   0.0  0.0  \n",
       "2018-12-26                  1.0   0.0   0.0  0.0  \n",
       "2018-12-27                  0.0   0.0   0.0  0.0  \n",
       "2018-12-28                  2.0   0.0   0.0  0.0  \n",
       "2018-12-31                  0.0   0.0   0.0  0.0  \n",
       "\n",
       "[565 rows x 21 columns]"
      ]
     },
     "execution_count": 426,
     "metadata": {},
     "output_type": "execute_result"
    }
   ],
   "source": [
    "train"
   ]
  },
  {
   "cell_type": "code",
   "execution_count": 427,
   "metadata": {},
   "outputs": [],
   "source": [
    "start = test_dates[0]\n",
    "end = test_dates[-1]"
   ]
  },
  {
   "cell_type": "code",
   "execution_count": 428,
   "metadata": {},
   "outputs": [
    {
     "data": {
      "text/plain": [
       "565"
      ]
     },
     "execution_count": 428,
     "metadata": {},
     "output_type": "execute_result"
    }
   ],
   "source": [
    "results.nobs"
   ]
  },
  {
   "cell_type": "code",
   "execution_count": 450,
   "metadata": {},
   "outputs": [
    {
     "name": "stderr",
     "output_type": "stream",
     "text": [
      "/Users/jackwang/anaconda3/lib/python3.7/site-packages/statsmodels/tsa/base/tsa_model.py:576: ValueWarning: No supported index is available. Prediction results will be given with an integer index beginning at `start`.\n",
      "  ValueWarning)\n"
     ]
    }
   ],
   "source": [
    "pred = results.get_prediction(start = results.nobs, \n",
    "                               end = results.nobs+187, \n",
    "                               exog=test.drop(columns='open_price'))\n",
    "\n",
    "pred_ci = preds.conf_int()\n"
   ]
  },
  {
   "cell_type": "code",
   "execution_count": 456,
   "metadata": {},
   "outputs": [
    {
     "data": {
      "text/plain": [
       "565    50.696528\n",
       "566    49.583451\n",
       "567    48.879093\n",
       "568    48.064743\n",
       "569    47.533517\n",
       "         ...    \n",
       "748    21.824537\n",
       "749    21.786706\n",
       "750    21.731810\n",
       "751    21.884343\n",
       "752    21.519183\n",
       "Name: lower open_price, Length: 188, dtype: float64"
      ]
     },
     "execution_count": 456,
     "metadata": {},
     "output_type": "execute_result"
    }
   ],
   "source": [
    "pred_ci.iloc[:,0]"
   ]
  },
  {
   "cell_type": "code",
   "execution_count": 460,
   "metadata": {},
   "outputs": [
    {
     "data": {
      "image/png": "[encoded data removed]",
      "text/plain": [
       "<Figure size 1440x720 with 1 Axes>"
      ]
     },
     "metadata": {},
     "output_type": "display_data"
    }
   ],
   "source": [
    "# Set figure size.\n",
    "plt.figure(figsize=(20,10))\n",
    "\n",
    "# Plot training data.\n",
    "plt.plot(train.index, pd.DataFrame(train['open_price']), color = 'blue')\n",
    "\n",
    "# Plot testing data.\n",
    "plt.plot(test.index, pd.DataFrame(test['open_price']), color = 'orange')\n",
    "\n",
    "# Plot predicted test values.\n",
    "plt.plot(test.index, pd.DataFrame(pred.predicted_mean), color = 'green')\n",
    "\n",
    "# CI\n",
    "plt.plot(test.index, pd.DataFrame(pred_ci.iloc[:,0]), color = 'grey')\n",
    "plt.plot(test.index, pd.DataFrame(pred_ci.iloc[:,1]), color = 'grey')\n",
    "\n",
    "\n",
    "\n",
    "# Set label.\n",
    "plt.title(label = 'SARIMAX(1,0,0) Predictions', fontsize=24)\n",
    "\n",
    "# Resize tick marks.\n",
    "plt.xticks(fontsize=20)\n",
    "plt.yticks(fontsize=20);"
   ]
  },
  {
   "cell_type": "code",
   "execution_count": 438,
   "metadata": {},
   "outputs": [
    {
     "name": "stderr",
     "output_type": "stream",
     "text": [
      "/Users/jackwang/anaconda3/lib/python3.7/site-packages/statsmodels/tsa/base/tsa_model.py:576: ValueWarning: No supported index is available. Prediction results will be given with an integer index beginning at `start`.\n",
      "  ValueWarning)\n"
     ]
    }
   ],
   "source": [
    "sarima_preds = results.predict(start = results.nobs, \n",
    "                               end = results.nobs+187, \n",
    "                               exog=test.drop(columns='open_price'),\n",
    "                               dynamic=True)\n",
    "\n"
   ]
  },
  {
   "cell_type": "code",
   "execution_count": 434,
   "metadata": {},
   "outputs": [
    {
     "data": {
      "image/png": "[encoded data removed]",
      "text/plain": [
       "<Figure size 1440x720 with 1 Axes>"
      ]
     },
     "metadata": {},
     "output_type": "display_data"
    }
   ],
   "source": [
    "# Set figure size.\n",
    "plt.figure(figsize=(20,10))\n",
    "\n",
    "# Plot training data.\n",
    "#plt.plot(train.index, pd.DataFrame(train['open_price']), color = 'blue')\n",
    "\n",
    "# Plot testing data.\n",
    "plt.plot(test.index, pd.DataFrame(test['open_price']), color = 'orange')\n",
    "\n",
    "# Plot predicted test values.\n",
    "plt.plot(test.index, pd.DataFrame(sarima_preds), color = 'green')\n",
    "\n",
    "# Set label.\n",
    "plt.title(label = 'SARIMAX(1,0,0) Predictions', fontsize=24)\n",
    "\n",
    "# Resize tick marks.\n",
    "plt.xticks(fontsize=20)\n",
    "plt.yticks(fontsize=20);"
   ]
  },
  {
   "cell_type": "code",
   "execution_count": 431,
   "metadata": {},
   "outputs": [
    {
     "data": {
      "text/plain": [
       "29.023850355201922"
      ]
     },
     "execution_count": 431,
     "metadata": {},
     "output_type": "execute_result"
    }
   ],
   "source": [
    "# MSE\n",
    "mean_squared_error(pd.DataFrame(test['open_price']), sarima_preds)"
   ]
  },
  {
   "cell_type": "code",
   "execution_count": null,
   "metadata": {},
   "outputs": [],
   "source": []
  },
  {
   "cell_type": "code",
   "execution_count": null,
   "metadata": {},
   "outputs": [],
   "source": []
  },
  {
   "cell_type": "code",
   "execution_count": 464,
   "metadata": {},
   "outputs": [
    {
     "ename": "KeyError",
     "evalue": "\"['tweet_word_count_sum' 'tweet_compound_score_sum' 'tweets_sum'\\n 'redd_gun_score_mean' 'redd_gun_score_sum'] not found in axis\"",
     "output_type": "error",
     "traceback": [
      "\u001b[0;31m---------------------------------------------------------------------------\u001b[0m",
      "\u001b[0;31mKeyError\u001b[0m                                  Traceback (most recent call last)",
      "\u001b[0;32m<ipython-input-464-a27f134a160b>\u001b[0m in \u001b[0;36m<module>\u001b[0;34m\u001b[0m\n\u001b[0;32m----> 1\u001b[0;31m \u001b[0mtrain\u001b[0m \u001b[0;34m=\u001b[0m \u001b[0mtrain\u001b[0m\u001b[0;34m.\u001b[0m\u001b[0mdrop\u001b[0m\u001b[0;34m(\u001b[0m\u001b[0mcolumns\u001b[0m\u001b[0;34m=\u001b[0m\u001b[0;34m[\u001b[0m\u001b[0;34m'tweet_word_count_sum'\u001b[0m\u001b[0;34m,\u001b[0m \u001b[0;34m'tweet_compound_score_sum'\u001b[0m\u001b[0;34m,\u001b[0m \u001b[0;34m'tweets_sum'\u001b[0m\u001b[0;34m,\u001b[0m \u001b[0;34m'redd_gun_score_mean'\u001b[0m\u001b[0;34m,\u001b[0m \u001b[0;34m'redd_gun_score_sum'\u001b[0m\u001b[0;34m]\u001b[0m\u001b[0;34m)\u001b[0m\u001b[0;34m\u001b[0m\u001b[0;34m\u001b[0m\u001b[0m\n\u001b[0m\u001b[1;32m      2\u001b[0m \u001b[0mtest\u001b[0m \u001b[0;34m=\u001b[0m \u001b[0mtest\u001b[0m\u001b[0;34m.\u001b[0m\u001b[0mdrop\u001b[0m\u001b[0;34m(\u001b[0m\u001b[0mcolumns\u001b[0m\u001b[0;34m=\u001b[0m\u001b[0;34m[\u001b[0m\u001b[0;34m'tweet_word_count_sum'\u001b[0m\u001b[0;34m,\u001b[0m \u001b[0;34m'tweet_compound_score_sum'\u001b[0m\u001b[0;34m,\u001b[0m \u001b[0;34m'tweets_sum'\u001b[0m\u001b[0;34m,\u001b[0m \u001b[0;34m'redd_gun_score_mean'\u001b[0m\u001b[0;34m,\u001b[0m \u001b[0;34m'redd_gun_score_sum'\u001b[0m\u001b[0;34m]\u001b[0m\u001b[0;34m)\u001b[0m\u001b[0;34m\u001b[0m\u001b[0;34m\u001b[0m\u001b[0m\n",
      "\u001b[0;32m~/anaconda3/lib/python3.7/site-packages/pandas/core/frame.py\u001b[0m in \u001b[0;36mdrop\u001b[0;34m(self, labels, axis, index, columns, level, inplace, errors)\u001b[0m\n\u001b[1;32m   4100\u001b[0m             \u001b[0mlevel\u001b[0m\u001b[0;34m=\u001b[0m\u001b[0mlevel\u001b[0m\u001b[0;34m,\u001b[0m\u001b[0;34m\u001b[0m\u001b[0;34m\u001b[0m\u001b[0m\n\u001b[1;32m   4101\u001b[0m             \u001b[0minplace\u001b[0m\u001b[0;34m=\u001b[0m\u001b[0minplace\u001b[0m\u001b[0;34m,\u001b[0m\u001b[0;34m\u001b[0m\u001b[0;34m\u001b[0m\u001b[0m\n\u001b[0;32m-> 4102\u001b[0;31m             \u001b[0merrors\u001b[0m\u001b[0;34m=\u001b[0m\u001b[0merrors\u001b[0m\u001b[0;34m,\u001b[0m\u001b[0;34m\u001b[0m\u001b[0;34m\u001b[0m\u001b[0m\n\u001b[0m\u001b[1;32m   4103\u001b[0m         )\n\u001b[1;32m   4104\u001b[0m \u001b[0;34m\u001b[0m\u001b[0m\n",
      "\u001b[0;32m~/anaconda3/lib/python3.7/site-packages/pandas/core/generic.py\u001b[0m in \u001b[0;36mdrop\u001b[0;34m(self, labels, axis, index, columns, level, inplace, errors)\u001b[0m\n\u001b[1;32m   3912\u001b[0m         \u001b[0;32mfor\u001b[0m \u001b[0maxis\u001b[0m\u001b[0;34m,\u001b[0m \u001b[0mlabels\u001b[0m \u001b[0;32min\u001b[0m \u001b[0maxes\u001b[0m\u001b[0;34m.\u001b[0m\u001b[0mitems\u001b[0m\u001b[0;34m(\u001b[0m\u001b[0;34m)\u001b[0m\u001b[0;34m:\u001b[0m\u001b[0;34m\u001b[0m\u001b[0;34m\u001b[0m\u001b[0m\n\u001b[1;32m   3913\u001b[0m             \u001b[0;32mif\u001b[0m \u001b[0mlabels\u001b[0m \u001b[0;32mis\u001b[0m \u001b[0;32mnot\u001b[0m \u001b[0;32mNone\u001b[0m\u001b[0;34m:\u001b[0m\u001b[0;34m\u001b[0m\u001b[0;34m\u001b[0m\u001b[0m\n\u001b[0;32m-> 3914\u001b[0;31m                 \u001b[0mobj\u001b[0m \u001b[0;34m=\u001b[0m \u001b[0mobj\u001b[0m\u001b[0;34m.\u001b[0m\u001b[0m_drop_axis\u001b[0m\u001b[0;34m(\u001b[0m\u001b[0mlabels\u001b[0m\u001b[0;34m,\u001b[0m \u001b[0maxis\u001b[0m\u001b[0;34m,\u001b[0m \u001b[0mlevel\u001b[0m\u001b[0;34m=\u001b[0m\u001b[0mlevel\u001b[0m\u001b[0;34m,\u001b[0m \u001b[0merrors\u001b[0m\u001b[0;34m=\u001b[0m\u001b[0merrors\u001b[0m\u001b[0;34m)\u001b[0m\u001b[0;34m\u001b[0m\u001b[0;34m\u001b[0m\u001b[0m\n\u001b[0m\u001b[1;32m   3915\u001b[0m \u001b[0;34m\u001b[0m\u001b[0m\n\u001b[1;32m   3916\u001b[0m         \u001b[0;32mif\u001b[0m \u001b[0minplace\u001b[0m\u001b[0;34m:\u001b[0m\u001b[0;34m\u001b[0m\u001b[0;34m\u001b[0m\u001b[0m\n",
      "\u001b[0;32m~/anaconda3/lib/python3.7/site-packages/pandas/core/generic.py\u001b[0m in \u001b[0;36m_drop_axis\u001b[0;34m(self, labels, axis, level, errors)\u001b[0m\n\u001b[1;32m   3944\u001b[0m                 \u001b[0mnew_axis\u001b[0m \u001b[0;34m=\u001b[0m \u001b[0maxis\u001b[0m\u001b[0;34m.\u001b[0m\u001b[0mdrop\u001b[0m\u001b[0;34m(\u001b[0m\u001b[0mlabels\u001b[0m\u001b[0;34m,\u001b[0m \u001b[0mlevel\u001b[0m\u001b[0;34m=\u001b[0m\u001b[0mlevel\u001b[0m\u001b[0;34m,\u001b[0m \u001b[0merrors\u001b[0m\u001b[0;34m=\u001b[0m\u001b[0merrors\u001b[0m\u001b[0;34m)\u001b[0m\u001b[0;34m\u001b[0m\u001b[0;34m\u001b[0m\u001b[0m\n\u001b[1;32m   3945\u001b[0m             \u001b[0;32melse\u001b[0m\u001b[0;34m:\u001b[0m\u001b[0;34m\u001b[0m\u001b[0;34m\u001b[0m\u001b[0m\n\u001b[0;32m-> 3946\u001b[0;31m                 \u001b[0mnew_axis\u001b[0m \u001b[0;34m=\u001b[0m \u001b[0maxis\u001b[0m\u001b[0;34m.\u001b[0m\u001b[0mdrop\u001b[0m\u001b[0;34m(\u001b[0m\u001b[0mlabels\u001b[0m\u001b[0;34m,\u001b[0m \u001b[0merrors\u001b[0m\u001b[0;34m=\u001b[0m\u001b[0merrors\u001b[0m\u001b[0;34m)\u001b[0m\u001b[0;34m\u001b[0m\u001b[0;34m\u001b[0m\u001b[0m\n\u001b[0m\u001b[1;32m   3947\u001b[0m             \u001b[0mresult\u001b[0m \u001b[0;34m=\u001b[0m \u001b[0mself\u001b[0m\u001b[0;34m.\u001b[0m\u001b[0mreindex\u001b[0m\u001b[0;34m(\u001b[0m\u001b[0;34m**\u001b[0m\u001b[0;34m{\u001b[0m\u001b[0maxis_name\u001b[0m\u001b[0;34m:\u001b[0m \u001b[0mnew_axis\u001b[0m\u001b[0;34m}\u001b[0m\u001b[0;34m)\u001b[0m\u001b[0;34m\u001b[0m\u001b[0;34m\u001b[0m\u001b[0m\n\u001b[1;32m   3948\u001b[0m \u001b[0;34m\u001b[0m\u001b[0m\n",
      "\u001b[0;32m~/anaconda3/lib/python3.7/site-packages/pandas/core/indexes/base.py\u001b[0m in \u001b[0;36mdrop\u001b[0;34m(self, labels, errors)\u001b[0m\n\u001b[1;32m   5338\u001b[0m         \u001b[0;32mif\u001b[0m \u001b[0mmask\u001b[0m\u001b[0;34m.\u001b[0m\u001b[0many\u001b[0m\u001b[0;34m(\u001b[0m\u001b[0;34m)\u001b[0m\u001b[0;34m:\u001b[0m\u001b[0;34m\u001b[0m\u001b[0;34m\u001b[0m\u001b[0m\n\u001b[1;32m   5339\u001b[0m             \u001b[0;32mif\u001b[0m \u001b[0merrors\u001b[0m \u001b[0;34m!=\u001b[0m \u001b[0;34m\"ignore\"\u001b[0m\u001b[0;34m:\u001b[0m\u001b[0;34m\u001b[0m\u001b[0;34m\u001b[0m\u001b[0m\n\u001b[0;32m-> 5340\u001b[0;31m                 \u001b[0;32mraise\u001b[0m \u001b[0mKeyError\u001b[0m\u001b[0;34m(\u001b[0m\u001b[0;34m\"{} not found in axis\"\u001b[0m\u001b[0;34m.\u001b[0m\u001b[0mformat\u001b[0m\u001b[0;34m(\u001b[0m\u001b[0mlabels\u001b[0m\u001b[0;34m[\u001b[0m\u001b[0mmask\u001b[0m\u001b[0;34m]\u001b[0m\u001b[0;34m)\u001b[0m\u001b[0;34m)\u001b[0m\u001b[0;34m\u001b[0m\u001b[0;34m\u001b[0m\u001b[0m\n\u001b[0m\u001b[1;32m   5341\u001b[0m             \u001b[0mindexer\u001b[0m \u001b[0;34m=\u001b[0m \u001b[0mindexer\u001b[0m\u001b[0;34m[\u001b[0m\u001b[0;34m~\u001b[0m\u001b[0mmask\u001b[0m\u001b[0;34m]\u001b[0m\u001b[0;34m\u001b[0m\u001b[0;34m\u001b[0m\u001b[0m\n\u001b[1;32m   5342\u001b[0m         \u001b[0;32mreturn\u001b[0m \u001b[0mself\u001b[0m\u001b[0;34m.\u001b[0m\u001b[0mdelete\u001b[0m\u001b[0;34m(\u001b[0m\u001b[0mindexer\u001b[0m\u001b[0;34m)\u001b[0m\u001b[0;34m\u001b[0m\u001b[0;34m\u001b[0m\u001b[0m\n",
      "\u001b[0;31mKeyError\u001b[0m: \"['tweet_word_count_sum' 'tweet_compound_score_sum' 'tweets_sum'\\n 'redd_gun_score_mean' 'redd_gun_score_sum'] not found in axis\""
     ]
    }
   ],
   "source": [
    "train = train.drop(columns=['tweet_word_count_sum', 'tweet_compound_score_sum', 'tweets_sum', 'redd_gun_score_mean', 'redd_gun_score_sum'])\n",
    "test = test.drop(columns=['tweet_word_count_sum', 'tweet_compound_score_sum', 'tweets_sum', 'redd_gun_score_mean', 'redd_gun_score_sum'])"
   ]
  },
  {
   "cell_type": "code",
   "execution_count": 465,
   "metadata": {},
   "outputs": [],
   "source": [
    "test = test.drop(columns=['tweet_word_count_sum', 'tweet_compound_score_sum', 'tweets_sum', 'redd_gun_score_mean', 'redd_gun_score_sum'])"
   ]
  },
  {
   "cell_type": "code",
   "execution_count": 462,
   "metadata": {},
   "outputs": [
    {
     "name": "stderr",
     "output_type": "stream",
     "text": [
      "/Users/jackwang/anaconda3/lib/python3.7/site-packages/statsmodels/tsa/base/tsa_model.py:219: ValueWarning: A date index has been provided, but it has no associated frequency information and so will be ignored when e.g. forecasting.\n",
      "  ' ignored when e.g. forecasting.', ValueWarning)\n"
     ]
    },
    {
     "name": "stdout",
     "output_type": "stream",
     "text": [
      "ARIMA(0, 0, 0)x(0, 0, 0, 5) - AIC: 3926.0325076780646\n"
     ]
    },
    {
     "name": "stderr",
     "output_type": "stream",
     "text": [
      "/Users/jackwang/anaconda3/lib/python3.7/site-packages/statsmodels/tsa/base/tsa_model.py:219: ValueWarning: A date index has been provided, but it has no associated frequency information and so will be ignored when e.g. forecasting.\n",
      "  ' ignored when e.g. forecasting.', ValueWarning)\n"
     ]
    },
    {
     "name": "stdout",
     "output_type": "stream",
     "text": [
      "ARIMA(0, 0, 0)x(0, 0, 1, 5) - AIC: 3738.787514257587\n"
     ]
    },
    {
     "name": "stderr",
     "output_type": "stream",
     "text": [
      "/Users/jackwang/anaconda3/lib/python3.7/site-packages/statsmodels/tsa/base/tsa_model.py:219: ValueWarning: A date index has been provided, but it has no associated frequency information and so will be ignored when e.g. forecasting.\n",
      "  ' ignored when e.g. forecasting.', ValueWarning)\n",
      "/Users/jackwang/anaconda3/lib/python3.7/site-packages/statsmodels/base/model.py:512: ConvergenceWarning: Maximum Likelihood optimization failed to converge. Check mle_retvals\n",
      "  \"Check mle_retvals\", ConvergenceWarning)\n",
      "/Users/jackwang/anaconda3/lib/python3.7/site-packages/statsmodels/tsa/base/tsa_model.py:219: ValueWarning: A date index has been provided, but it has no associated frequency information and so will be ignored when e.g. forecasting.\n",
      "  ' ignored when e.g. forecasting.', ValueWarning)\n"
     ]
    },
    {
     "name": "stdout",
     "output_type": "stream",
     "text": [
      "ARIMA(0, 0, 0)x(0, 1, 0, 5) - AIC: 3143.403755592778\n",
      "ARIMA(0, 0, 0)x(0, 1, 1, 5) - AIC: 2615.140892968928\n"
     ]
    },
    {
     "name": "stderr",
     "output_type": "stream",
     "text": [
      "/Users/jackwang/anaconda3/lib/python3.7/site-packages/statsmodels/tsa/base/tsa_model.py:219: ValueWarning: A date index has been provided, but it has no associated frequency information and so will be ignored when e.g. forecasting.\n",
      "  ' ignored when e.g. forecasting.', ValueWarning)\n"
     ]
    },
    {
     "name": "stdout",
     "output_type": "stream",
     "text": [
      "ARIMA(0, 0, 0)x(1, 0, 0, 5) - AIC: 3592.634496021934\n"
     ]
    },
    {
     "name": "stderr",
     "output_type": "stream",
     "text": [
      "/Users/jackwang/anaconda3/lib/python3.7/site-packages/statsmodels/tsa/base/tsa_model.py:219: ValueWarning: A date index has been provided, but it has no associated frequency information and so will be ignored when e.g. forecasting.\n",
      "  ' ignored when e.g. forecasting.', ValueWarning)\n",
      "/Users/jackwang/anaconda3/lib/python3.7/site-packages/statsmodels/base/model.py:512: ConvergenceWarning: Maximum Likelihood optimization failed to converge. Check mle_retvals\n",
      "  \"Check mle_retvals\", ConvergenceWarning)\n",
      "/Users/jackwang/anaconda3/lib/python3.7/site-packages/statsmodels/tsa/base/tsa_model.py:219: ValueWarning: A date index has been provided, but it has no associated frequency information and so will be ignored when e.g. forecasting.\n",
      "  ' ignored when e.g. forecasting.', ValueWarning)\n"
     ]
    },
    {
     "name": "stdout",
     "output_type": "stream",
     "text": [
      "ARIMA(0, 0, 0)x(1, 0, 1, 5) - AIC: 3545.7972229824463\n",
      "ARIMA(0, 0, 0)x(1, 1, 0, 5) - AIC: 2613.7802263617937\n"
     ]
    },
    {
     "name": "stderr",
     "output_type": "stream",
     "text": [
      "/Users/jackwang/anaconda3/lib/python3.7/site-packages/statsmodels/tsa/base/tsa_model.py:219: ValueWarning: A date index has been provided, but it has no associated frequency information and so will be ignored when e.g. forecasting.\n",
      "  ' ignored when e.g. forecasting.', ValueWarning)\n"
     ]
    },
    {
     "name": "stdout",
     "output_type": "stream",
     "text": [
      "ARIMA(0, 0, 0)x(1, 1, 1, 5) - AIC: 2615.727280979475\n"
     ]
    },
    {
     "name": "stderr",
     "output_type": "stream",
     "text": [
      "/Users/jackwang/anaconda3/lib/python3.7/site-packages/statsmodels/tsa/base/tsa_model.py:219: ValueWarning: A date index has been provided, but it has no associated frequency information and so will be ignored when e.g. forecasting.\n",
      "  ' ignored when e.g. forecasting.', ValueWarning)\n",
      "/Users/jackwang/anaconda3/lib/python3.7/site-packages/statsmodels/base/model.py:512: ConvergenceWarning: Maximum Likelihood optimization failed to converge. Check mle_retvals\n",
      "  \"Check mle_retvals\", ConvergenceWarning)\n",
      "/Users/jackwang/anaconda3/lib/python3.7/site-packages/statsmodels/tsa/base/tsa_model.py:219: ValueWarning: A date index has been provided, but it has no associated frequency information and so will be ignored when e.g. forecasting.\n",
      "  ' ignored when e.g. forecasting.', ValueWarning)\n"
     ]
    },
    {
     "name": "stdout",
     "output_type": "stream",
     "text": [
      "ARIMA(0, 0, 1)x(0, 0, 0, 5) - AIC: 3680.5293333463746\n"
     ]
    },
    {
     "name": "stderr",
     "output_type": "stream",
     "text": [
      "/Users/jackwang/anaconda3/lib/python3.7/site-packages/statsmodels/base/model.py:512: ConvergenceWarning: Maximum Likelihood optimization failed to converge. Check mle_retvals\n",
      "  \"Check mle_retvals\", ConvergenceWarning)\n",
      "/Users/jackwang/anaconda3/lib/python3.7/site-packages/statsmodels/tsa/base/tsa_model.py:219: ValueWarning: A date index has been provided, but it has no associated frequency information and so will be ignored when e.g. forecasting.\n",
      "  ' ignored when e.g. forecasting.', ValueWarning)\n"
     ]
    },
    {
     "name": "stdout",
     "output_type": "stream",
     "text": [
      "ARIMA(0, 0, 1)x(0, 0, 1, 5) - AIC: 3588.337562197232\n",
      "ARIMA(0, 0, 1)x(0, 1, 0, 5) - AIC: 2444.993370377169\n"
     ]
    },
    {
     "name": "stderr",
     "output_type": "stream",
     "text": [
      "/Users/jackwang/anaconda3/lib/python3.7/site-packages/statsmodels/tsa/base/tsa_model.py:219: ValueWarning: A date index has been provided, but it has no associated frequency information and so will be ignored when e.g. forecasting.\n",
      "  ' ignored when e.g. forecasting.', ValueWarning)\n"
     ]
    },
    {
     "name": "stdout",
     "output_type": "stream",
     "text": [
      "ARIMA(0, 0, 1)x(0, 1, 1, 5) - AIC: 2368.1308650905385\n"
     ]
    },
    {
     "name": "stderr",
     "output_type": "stream",
     "text": [
      "/Users/jackwang/anaconda3/lib/python3.7/site-packages/statsmodels/tsa/base/tsa_model.py:219: ValueWarning: A date index has been provided, but it has no associated frequency information and so will be ignored when e.g. forecasting.\n",
      "  ' ignored when e.g. forecasting.', ValueWarning)\n",
      "/Users/jackwang/anaconda3/lib/python3.7/site-packages/statsmodels/base/model.py:512: ConvergenceWarning: Maximum Likelihood optimization failed to converge. Check mle_retvals\n",
      "  \"Check mle_retvals\", ConvergenceWarning)\n",
      "/Users/jackwang/anaconda3/lib/python3.7/site-packages/statsmodels/tsa/base/tsa_model.py:219: ValueWarning: A date index has been provided, but it has no associated frequency information and so will be ignored when e.g. forecasting.\n",
      "  ' ignored when e.g. forecasting.', ValueWarning)\n"
     ]
    },
    {
     "name": "stdout",
     "output_type": "stream",
     "text": [
      "ARIMA(0, 0, 1)x(1, 0, 0, 5) - AIC: 3575.5487256667993\n"
     ]
    },
    {
     "name": "stderr",
     "output_type": "stream",
     "text": [
      "/Users/jackwang/anaconda3/lib/python3.7/site-packages/statsmodels/base/model.py:512: ConvergenceWarning: Maximum Likelihood optimization failed to converge. Check mle_retvals\n",
      "  \"Check mle_retvals\", ConvergenceWarning)\n",
      "/Users/jackwang/anaconda3/lib/python3.7/site-packages/statsmodels/tsa/base/tsa_model.py:219: ValueWarning: A date index has been provided, but it has no associated frequency information and so will be ignored when e.g. forecasting.\n",
      "  ' ignored when e.g. forecasting.', ValueWarning)\n"
     ]
    },
    {
     "name": "stdout",
     "output_type": "stream",
     "text": [
      "ARIMA(0, 0, 1)x(1, 0, 1, 5) - AIC: 3533.3096295300465\n",
      "ARIMA(0, 0, 1)x(1, 1, 0, 5) - AIC: 2405.699669724856\n"
     ]
    },
    {
     "name": "stderr",
     "output_type": "stream",
     "text": [
      "/Users/jackwang/anaconda3/lib/python3.7/site-packages/statsmodels/tsa/base/tsa_model.py:219: ValueWarning: A date index has been provided, but it has no associated frequency information and so will be ignored when e.g. forecasting.\n",
      "  ' ignored when e.g. forecasting.', ValueWarning)\n"
     ]
    },
    {
     "name": "stdout",
     "output_type": "stream",
     "text": [
      "ARIMA(0, 0, 1)x(1, 1, 1, 5) - AIC: 2369.134262641208\n"
     ]
    },
    {
     "name": "stderr",
     "output_type": "stream",
     "text": [
      "/Users/jackwang/anaconda3/lib/python3.7/site-packages/statsmodels/tsa/base/tsa_model.py:219: ValueWarning: A date index has been provided, but it has no associated frequency information and so will be ignored when e.g. forecasting.\n",
      "  ' ignored when e.g. forecasting.', ValueWarning)\n",
      "/Users/jackwang/anaconda3/lib/python3.7/site-packages/statsmodels/base/model.py:512: ConvergenceWarning: Maximum Likelihood optimization failed to converge. Check mle_retvals\n",
      "  \"Check mle_retvals\", ConvergenceWarning)\n",
      "/Users/jackwang/anaconda3/lib/python3.7/site-packages/statsmodels/tsa/base/tsa_model.py:219: ValueWarning: A date index has been provided, but it has no associated frequency information and so will be ignored when e.g. forecasting.\n",
      "  ' ignored when e.g. forecasting.', ValueWarning)\n"
     ]
    },
    {
     "name": "stdout",
     "output_type": "stream",
     "text": [
      "ARIMA(0, 1, 0)x(0, 0, 0, 5) - AIC: 1926.3959384434395\n",
      "ARIMA(0, 1, 0)x(0, 0, 1, 5) - AIC: 1807.6181679477106\n"
     ]
    },
    {
     "name": "stderr",
     "output_type": "stream",
     "text": [
      "/Users/jackwang/anaconda3/lib/python3.7/site-packages/statsmodels/tsa/base/tsa_model.py:219: ValueWarning: A date index has been provided, but it has no associated frequency information and so will be ignored when e.g. forecasting.\n",
      "  ' ignored when e.g. forecasting.', ValueWarning)\n"
     ]
    },
    {
     "name": "stdout",
     "output_type": "stream",
     "text": [
      "ARIMA(0, 1, 0)x(0, 1, 0, 5) - AIC: 5159.854750759319\n"
     ]
    },
    {
     "name": "stderr",
     "output_type": "stream",
     "text": [
      "/Users/jackwang/anaconda3/lib/python3.7/site-packages/statsmodels/tsa/base/tsa_model.py:219: ValueWarning: A date index has been provided, but it has no associated frequency information and so will be ignored when e.g. forecasting.\n",
      "  ' ignored when e.g. forecasting.', ValueWarning)\n"
     ]
    },
    {
     "name": "stdout",
     "output_type": "stream",
     "text": [
      "ARIMA(0, 1, 0)x(0, 1, 1, 5) - AIC: 1838.5995681105687\n"
     ]
    },
    {
     "name": "stderr",
     "output_type": "stream",
     "text": [
      "/Users/jackwang/anaconda3/lib/python3.7/site-packages/statsmodels/tsa/base/tsa_model.py:219: ValueWarning: A date index has been provided, but it has no associated frequency information and so will be ignored when e.g. forecasting.\n",
      "  ' ignored when e.g. forecasting.', ValueWarning)\n"
     ]
    },
    {
     "name": "stdout",
     "output_type": "stream",
     "text": [
      "ARIMA(0, 1, 0)x(1, 0, 0, 5) - AIC: 1810.6845330367241\n"
     ]
    },
    {
     "name": "stderr",
     "output_type": "stream",
     "text": [
      "/Users/jackwang/anaconda3/lib/python3.7/site-packages/statsmodels/tsa/base/tsa_model.py:219: ValueWarning: A date index has been provided, but it has no associated frequency information and so will be ignored when e.g. forecasting.\n",
      "  ' ignored when e.g. forecasting.', ValueWarning)\n"
     ]
    },
    {
     "name": "stdout",
     "output_type": "stream",
     "text": [
      "ARIMA(0, 1, 0)x(1, 0, 1, 5) - AIC: 1809.7635528972874\n"
     ]
    },
    {
     "name": "stderr",
     "output_type": "stream",
     "text": [
      "/Users/jackwang/anaconda3/lib/python3.7/site-packages/statsmodels/tsa/base/tsa_model.py:219: ValueWarning: A date index has been provided, but it has no associated frequency information and so will be ignored when e.g. forecasting.\n",
      "  ' ignored when e.g. forecasting.', ValueWarning)\n",
      "/Users/jackwang/anaconda3/lib/python3.7/site-packages/statsmodels/base/model.py:512: ConvergenceWarning: Maximum Likelihood optimization failed to converge. Check mle_retvals\n",
      "  \"Check mle_retvals\", ConvergenceWarning)\n",
      "/Users/jackwang/anaconda3/lib/python3.7/site-packages/statsmodels/tsa/base/tsa_model.py:219: ValueWarning: A date index has been provided, but it has no associated frequency information and so will be ignored when e.g. forecasting.\n",
      "  ' ignored when e.g. forecasting.', ValueWarning)\n"
     ]
    },
    {
     "name": "stdout",
     "output_type": "stream",
     "text": [
      "ARIMA(0, 1, 0)x(1, 1, 0, 5) - AIC: 1986.640689125285\n",
      "ARIMA(0, 1, 0)x(1, 1, 1, 5) - AIC: 1855.9340094873833\n"
     ]
    },
    {
     "name": "stderr",
     "output_type": "stream",
     "text": [
      "/Users/jackwang/anaconda3/lib/python3.7/site-packages/statsmodels/tsa/base/tsa_model.py:219: ValueWarning: A date index has been provided, but it has no associated frequency information and so will be ignored when e.g. forecasting.\n",
      "  ' ignored when e.g. forecasting.', ValueWarning)\n"
     ]
    },
    {
     "name": "stdout",
     "output_type": "stream",
     "text": [
      "ARIMA(0, 1, 1)x(0, 0, 0, 5) - AIC: 1817.9546583838044\n"
     ]
    },
    {
     "name": "stderr",
     "output_type": "stream",
     "text": [
      "/Users/jackwang/anaconda3/lib/python3.7/site-packages/statsmodels/tsa/base/tsa_model.py:219: ValueWarning: A date index has been provided, but it has no associated frequency information and so will be ignored when e.g. forecasting.\n",
      "  ' ignored when e.g. forecasting.', ValueWarning)\n"
     ]
    },
    {
     "name": "stdout",
     "output_type": "stream",
     "text": [
      "ARIMA(0, 1, 1)x(0, 0, 1, 5) - AIC: 1806.9638960180498\n"
     ]
    },
    {
     "name": "stderr",
     "output_type": "stream",
     "text": [
      "/Users/jackwang/anaconda3/lib/python3.7/site-packages/statsmodels/tsa/base/tsa_model.py:219: ValueWarning: A date index has been provided, but it has no associated frequency information and so will be ignored when e.g. forecasting.\n",
      "  ' ignored when e.g. forecasting.', ValueWarning)\n",
      "/Users/jackwang/anaconda3/lib/python3.7/site-packages/statsmodels/base/model.py:512: ConvergenceWarning: Maximum Likelihood optimization failed to converge. Check mle_retvals\n",
      "  \"Check mle_retvals\", ConvergenceWarning)\n",
      "/Users/jackwang/anaconda3/lib/python3.7/site-packages/statsmodels/tsa/base/tsa_model.py:219: ValueWarning: A date index has been provided, but it has no associated frequency information and so will be ignored when e.g. forecasting.\n",
      "  ' ignored when e.g. forecasting.', ValueWarning)\n"
     ]
    },
    {
     "name": "stdout",
     "output_type": "stream",
     "text": [
      "ARIMA(0, 1, 1)x(0, 1, 0, 5) - AIC: 2185.394875944138\n"
     ]
    },
    {
     "name": "stderr",
     "output_type": "stream",
     "text": [
      "/Users/jackwang/anaconda3/lib/python3.7/site-packages/statsmodels/base/model.py:512: ConvergenceWarning: Maximum Likelihood optimization failed to converge. Check mle_retvals\n",
      "  \"Check mle_retvals\", ConvergenceWarning)\n",
      "/Users/jackwang/anaconda3/lib/python3.7/site-packages/statsmodels/tsa/base/tsa_model.py:219: ValueWarning: A date index has been provided, but it has no associated frequency information and so will be ignored when e.g. forecasting.\n",
      "  ' ignored when e.g. forecasting.', ValueWarning)\n"
     ]
    },
    {
     "name": "stdout",
     "output_type": "stream",
     "text": [
      "ARIMA(0, 1, 1)x(0, 1, 1, 5) - AIC: 1919.288667916039\n",
      "ARIMA(0, 1, 1)x(1, 0, 0, 5) - AIC: 1812.6850272087413\n"
     ]
    },
    {
     "name": "stderr",
     "output_type": "stream",
     "text": [
      "/Users/jackwang/anaconda3/lib/python3.7/site-packages/statsmodels/tsa/base/tsa_model.py:219: ValueWarning: A date index has been provided, but it has no associated frequency information and so will be ignored when e.g. forecasting.\n",
      "  ' ignored when e.g. forecasting.', ValueWarning)\n"
     ]
    },
    {
     "name": "stdout",
     "output_type": "stream",
     "text": [
      "ARIMA(0, 1, 1)x(1, 0, 1, 5) - AIC: 1808.9205439338143\n"
     ]
    },
    {
     "name": "stderr",
     "output_type": "stream",
     "text": [
      "/Users/jackwang/anaconda3/lib/python3.7/site-packages/statsmodels/tsa/base/tsa_model.py:219: ValueWarning: A date index has been provided, but it has no associated frequency information and so will be ignored when e.g. forecasting.\n",
      "  ' ignored when e.g. forecasting.', ValueWarning)\n",
      "/Users/jackwang/anaconda3/lib/python3.7/site-packages/statsmodels/base/model.py:512: ConvergenceWarning: Maximum Likelihood optimization failed to converge. Check mle_retvals\n",
      "  \"Check mle_retvals\", ConvergenceWarning)\n",
      "/Users/jackwang/anaconda3/lib/python3.7/site-packages/statsmodels/tsa/base/tsa_model.py:219: ValueWarning: A date index has been provided, but it has no associated frequency information and so will be ignored when e.g. forecasting.\n",
      "  ' ignored when e.g. forecasting.', ValueWarning)\n"
     ]
    },
    {
     "name": "stdout",
     "output_type": "stream",
     "text": [
      "ARIMA(0, 1, 1)x(1, 1, 0, 5) - AIC: 2017.9578276999\n",
      "ARIMA(0, 1, 1)x(1, 1, 1, 5) - AIC: 1930.5791213707628\n"
     ]
    },
    {
     "name": "stderr",
     "output_type": "stream",
     "text": [
      "/Users/jackwang/anaconda3/lib/python3.7/site-packages/statsmodels/tsa/base/tsa_model.py:219: ValueWarning: A date index has been provided, but it has no associated frequency information and so will be ignored when e.g. forecasting.\n",
      "  ' ignored when e.g. forecasting.', ValueWarning)\n"
     ]
    },
    {
     "name": "stdout",
     "output_type": "stream",
     "text": [
      "ARIMA(1, 0, 0)x(0, 0, 0, 5) - AIC: 3410.891303065543\n"
     ]
    },
    {
     "name": "stderr",
     "output_type": "stream",
     "text": [
      "/Users/jackwang/anaconda3/lib/python3.7/site-packages/statsmodels/tsa/base/tsa_model.py:219: ValueWarning: A date index has been provided, but it has no associated frequency information and so will be ignored when e.g. forecasting.\n",
      "  ' ignored when e.g. forecasting.', ValueWarning)\n",
      "/Users/jackwang/anaconda3/lib/python3.7/site-packages/statsmodels/base/model.py:512: ConvergenceWarning: Maximum Likelihood optimization failed to converge. Check mle_retvals\n",
      "  \"Check mle_retvals\", ConvergenceWarning)\n",
      "/Users/jackwang/anaconda3/lib/python3.7/site-packages/statsmodels/tsa/base/tsa_model.py:219: ValueWarning: A date index has been provided, but it has no associated frequency information and so will be ignored when e.g. forecasting.\n",
      "  ' ignored when e.g. forecasting.', ValueWarning)\n"
     ]
    },
    {
     "name": "stdout",
     "output_type": "stream",
     "text": [
      "ARIMA(1, 0, 0)x(0, 0, 1, 5) - AIC: 3376.2593081949763\n"
     ]
    },
    {
     "name": "stderr",
     "output_type": "stream",
     "text": [
      "/Users/jackwang/anaconda3/lib/python3.7/site-packages/statsmodels/base/model.py:512: ConvergenceWarning: Maximum Likelihood optimization failed to converge. Check mle_retvals\n",
      "  \"Check mle_retvals\", ConvergenceWarning)\n",
      "/Users/jackwang/anaconda3/lib/python3.7/site-packages/statsmodels/tsa/base/tsa_model.py:219: ValueWarning: A date index has been provided, but it has no associated frequency information and so will be ignored when e.g. forecasting.\n",
      "  ' ignored when e.g. forecasting.', ValueWarning)\n"
     ]
    },
    {
     "name": "stdout",
     "output_type": "stream",
     "text": [
      "ARIMA(1, 0, 0)x(0, 1, 0, 5) - AIC: 2176.1247305529505\n",
      "ARIMA(1, 0, 0)x(0, 1, 1, 5) - AIC: 2031.710697985034\n"
     ]
    },
    {
     "name": "stderr",
     "output_type": "stream",
     "text": [
      "/Users/jackwang/anaconda3/lib/python3.7/site-packages/statsmodels/tsa/base/tsa_model.py:219: ValueWarning: A date index has been provided, but it has no associated frequency information and so will be ignored when e.g. forecasting.\n",
      "  ' ignored when e.g. forecasting.', ValueWarning)\n",
      "/Users/jackwang/anaconda3/lib/python3.7/site-packages/statsmodels/base/model.py:512: ConvergenceWarning: Maximum Likelihood optimization failed to converge. Check mle_retvals\n",
      "  \"Check mle_retvals\", ConvergenceWarning)\n",
      "/Users/jackwang/anaconda3/lib/python3.7/site-packages/statsmodels/tsa/base/tsa_model.py:219: ValueWarning: A date index has been provided, but it has no associated frequency information and so will be ignored when e.g. forecasting.\n",
      "  ' ignored when e.g. forecasting.', ValueWarning)\n"
     ]
    },
    {
     "name": "stdout",
     "output_type": "stream",
     "text": [
      "ARIMA(1, 0, 0)x(1, 0, 0, 5) - AIC: 3397.692646773939\n",
      "ARIMA(1, 0, 0)x(1, 0, 1, 5) - AIC: 3370.078967945814\n"
     ]
    },
    {
     "name": "stderr",
     "output_type": "stream",
     "text": [
      "/Users/jackwang/anaconda3/lib/python3.7/site-packages/statsmodels/tsa/base/tsa_model.py:219: ValueWarning: A date index has been provided, but it has no associated frequency information and so will be ignored when e.g. forecasting.\n",
      "  ' ignored when e.g. forecasting.', ValueWarning)\n"
     ]
    },
    {
     "name": "stdout",
     "output_type": "stream",
     "text": [
      "ARIMA(1, 0, 0)x(1, 1, 0, 5) - AIC: 2116.985488959641\n"
     ]
    },
    {
     "name": "stderr",
     "output_type": "stream",
     "text": [
      "/Users/jackwang/anaconda3/lib/python3.7/site-packages/statsmodels/tsa/base/tsa_model.py:219: ValueWarning: A date index has been provided, but it has no associated frequency information and so will be ignored when e.g. forecasting.\n",
      "  ' ignored when e.g. forecasting.', ValueWarning)\n"
     ]
    },
    {
     "name": "stdout",
     "output_type": "stream",
     "text": [
      "ARIMA(1, 0, 0)x(1, 1, 1, 5) - AIC: 2002.8450907258184\n"
     ]
    },
    {
     "name": "stderr",
     "output_type": "stream",
     "text": [
      "/Users/jackwang/anaconda3/lib/python3.7/site-packages/statsmodels/tsa/base/tsa_model.py:219: ValueWarning: A date index has been provided, but it has no associated frequency information and so will be ignored when e.g. forecasting.\n",
      "  ' ignored when e.g. forecasting.', ValueWarning)\n",
      "/Users/jackwang/anaconda3/lib/python3.7/site-packages/statsmodels/base/model.py:512: ConvergenceWarning: Maximum Likelihood optimization failed to converge. Check mle_retvals\n",
      "  \"Check mle_retvals\", ConvergenceWarning)\n",
      "/Users/jackwang/anaconda3/lib/python3.7/site-packages/statsmodels/tsa/base/tsa_model.py:219: ValueWarning: A date index has been provided, but it has no associated frequency information and so will be ignored when e.g. forecasting.\n",
      "  ' ignored when e.g. forecasting.', ValueWarning)\n"
     ]
    },
    {
     "name": "stdout",
     "output_type": "stream",
     "text": [
      "ARIMA(1, 0, 1)x(0, 0, 0, 5) - AIC: 3317.076322598302\n"
     ]
    },
    {
     "name": "stderr",
     "output_type": "stream",
     "text": [
      "/Users/jackwang/anaconda3/lib/python3.7/site-packages/statsmodels/base/model.py:512: ConvergenceWarning: Maximum Likelihood optimization failed to converge. Check mle_retvals\n",
      "  \"Check mle_retvals\", ConvergenceWarning)\n",
      "/Users/jackwang/anaconda3/lib/python3.7/site-packages/statsmodels/tsa/base/tsa_model.py:219: ValueWarning: A date index has been provided, but it has no associated frequency information and so will be ignored when e.g. forecasting.\n",
      "  ' ignored when e.g. forecasting.', ValueWarning)\n"
     ]
    },
    {
     "name": "stdout",
     "output_type": "stream",
     "text": [
      "ARIMA(1, 0, 1)x(0, 0, 1, 5) - AIC: 3305.5125033040986\n"
     ]
    },
    {
     "name": "stderr",
     "output_type": "stream",
     "text": [
      "/Users/jackwang/anaconda3/lib/python3.7/site-packages/statsmodels/base/model.py:512: ConvergenceWarning: Maximum Likelihood optimization failed to converge. Check mle_retvals\n",
      "  \"Check mle_retvals\", ConvergenceWarning)\n",
      "/Users/jackwang/anaconda3/lib/python3.7/site-packages/statsmodels/tsa/base/tsa_model.py:219: ValueWarning: A date index has been provided, but it has no associated frequency information and so will be ignored when e.g. forecasting.\n",
      "  ' ignored when e.g. forecasting.', ValueWarning)\n"
     ]
    },
    {
     "name": "stdout",
     "output_type": "stream",
     "text": [
      "ARIMA(1, 0, 1)x(0, 1, 0, 5) - AIC: 2173.5233626806594\n",
      "ARIMA(1, 0, 1)x(0, 1, 1, 5) - AIC: 2033.2003616266454\n"
     ]
    },
    {
     "name": "stderr",
     "output_type": "stream",
     "text": [
      "/Users/jackwang/anaconda3/lib/python3.7/site-packages/statsmodels/tsa/base/tsa_model.py:219: ValueWarning: A date index has been provided, but it has no associated frequency information and so will be ignored when e.g. forecasting.\n",
      "  ' ignored when e.g. forecasting.', ValueWarning)\n",
      "/Users/jackwang/anaconda3/lib/python3.7/site-packages/statsmodels/base/model.py:512: ConvergenceWarning: Maximum Likelihood optimization failed to converge. Check mle_retvals\n",
      "  \"Check mle_retvals\", ConvergenceWarning)\n",
      "/Users/jackwang/anaconda3/lib/python3.7/site-packages/statsmodels/tsa/base/tsa_model.py:219: ValueWarning: A date index has been provided, but it has no associated frequency information and so will be ignored when e.g. forecasting.\n",
      "  ' ignored when e.g. forecasting.', ValueWarning)\n"
     ]
    },
    {
     "name": "stdout",
     "output_type": "stream",
     "text": [
      "ARIMA(1, 0, 1)x(1, 0, 0, 5) - AIC: 3368.4834493575645\n",
      "ARIMA(1, 0, 1)x(1, 0, 1, 5) - AIC: 3329.3640091399548\n"
     ]
    },
    {
     "name": "stderr",
     "output_type": "stream",
     "text": [
      "/Users/jackwang/anaconda3/lib/python3.7/site-packages/statsmodels/tsa/base/tsa_model.py:219: ValueWarning: A date index has been provided, but it has no associated frequency information and so will be ignored when e.g. forecasting.\n",
      "  ' ignored when e.g. forecasting.', ValueWarning)\n",
      "/Users/jackwang/anaconda3/lib/python3.7/site-packages/statsmodels/base/model.py:512: ConvergenceWarning: Maximum Likelihood optimization failed to converge. Check mle_retvals\n",
      "  \"Check mle_retvals\", ConvergenceWarning)\n",
      "/Users/jackwang/anaconda3/lib/python3.7/site-packages/statsmodels/tsa/base/tsa_model.py:219: ValueWarning: A date index has been provided, but it has no associated frequency information and so will be ignored when e.g. forecasting.\n",
      "  ' ignored when e.g. forecasting.', ValueWarning)\n"
     ]
    },
    {
     "name": "stdout",
     "output_type": "stream",
     "text": [
      "ARIMA(1, 0, 1)x(1, 1, 0, 5) - AIC: 2042.5267803498487\n",
      "ARIMA(1, 0, 1)x(1, 1, 1, 5) - AIC: 2004.8089494143235\n"
     ]
    },
    {
     "name": "stderr",
     "output_type": "stream",
     "text": [
      "/Users/jackwang/anaconda3/lib/python3.7/site-packages/statsmodels/tsa/base/tsa_model.py:219: ValueWarning: A date index has been provided, but it has no associated frequency information and so will be ignored when e.g. forecasting.\n",
      "  ' ignored when e.g. forecasting.', ValueWarning)\n",
      "/Users/jackwang/anaconda3/lib/python3.7/site-packages/statsmodels/base/model.py:512: ConvergenceWarning: Maximum Likelihood optimization failed to converge. Check mle_retvals\n",
      "  \"Check mle_retvals\", ConvergenceWarning)\n",
      "/Users/jackwang/anaconda3/lib/python3.7/site-packages/statsmodels/tsa/base/tsa_model.py:219: ValueWarning: A date index has been provided, but it has no associated frequency information and so will be ignored when e.g. forecasting.\n",
      "  ' ignored when e.g. forecasting.', ValueWarning)\n"
     ]
    },
    {
     "name": "stdout",
     "output_type": "stream",
     "text": [
      "ARIMA(1, 1, 0)x(0, 0, 0, 5) - AIC: 1820.1520984569881\n",
      "ARIMA(1, 1, 0)x(0, 0, 1, 5) - AIC: 1809.603799774322\n"
     ]
    },
    {
     "name": "stderr",
     "output_type": "stream",
     "text": [
      "/Users/jackwang/anaconda3/lib/python3.7/site-packages/statsmodels/tsa/base/tsa_model.py:219: ValueWarning: A date index has been provided, but it has no associated frequency information and so will be ignored when e.g. forecasting.\n",
      "  ' ignored when e.g. forecasting.', ValueWarning)\n",
      "/Users/jackwang/anaconda3/lib/python3.7/site-packages/statsmodels/base/model.py:512: ConvergenceWarning: Maximum Likelihood optimization failed to converge. Check mle_retvals\n",
      "  \"Check mle_retvals\", ConvergenceWarning)\n",
      "/Users/jackwang/anaconda3/lib/python3.7/site-packages/statsmodels/tsa/base/tsa_model.py:219: ValueWarning: A date index has been provided, but it has no associated frequency information and so will be ignored when e.g. forecasting.\n",
      "  ' ignored when e.g. forecasting.', ValueWarning)\n"
     ]
    },
    {
     "name": "stdout",
     "output_type": "stream",
     "text": [
      "ARIMA(1, 1, 0)x(0, 1, 0, 5) - AIC: 2188.395254261168\n"
     ]
    },
    {
     "name": "stderr",
     "output_type": "stream",
     "text": [
      "/Users/jackwang/anaconda3/lib/python3.7/site-packages/statsmodels/base/model.py:512: ConvergenceWarning: Maximum Likelihood optimization failed to converge. Check mle_retvals\n",
      "  \"Check mle_retvals\", ConvergenceWarning)\n",
      "/Users/jackwang/anaconda3/lib/python3.7/site-packages/statsmodels/tsa/base/tsa_model.py:219: ValueWarning: A date index has been provided, but it has no associated frequency information and so will be ignored when e.g. forecasting.\n",
      "  ' ignored when e.g. forecasting.', ValueWarning)\n"
     ]
    },
    {
     "name": "stdout",
     "output_type": "stream",
     "text": [
      "ARIMA(1, 1, 0)x(0, 1, 1, 5) - AIC: 1921.601672450466\n"
     ]
    },
    {
     "name": "stderr",
     "output_type": "stream",
     "text": [
      "/Users/jackwang/anaconda3/lib/python3.7/site-packages/statsmodels/base/model.py:512: ConvergenceWarning: Maximum Likelihood optimization failed to converge. Check mle_retvals\n",
      "  \"Check mle_retvals\", ConvergenceWarning)\n",
      "/Users/jackwang/anaconda3/lib/python3.7/site-packages/statsmodels/tsa/base/tsa_model.py:219: ValueWarning: A date index has been provided, but it has no associated frequency information and so will be ignored when e.g. forecasting.\n",
      "  ' ignored when e.g. forecasting.', ValueWarning)\n"
     ]
    },
    {
     "name": "stdout",
     "output_type": "stream",
     "text": [
      "ARIMA(1, 1, 0)x(1, 0, 0, 5) - AIC: 1809.582478402977\n",
      "ARIMA(1, 1, 0)x(1, 0, 1, 5) - AIC: 1811.7517172553721\n"
     ]
    },
    {
     "name": "stderr",
     "output_type": "stream",
     "text": [
      "/Users/jackwang/anaconda3/lib/python3.7/site-packages/statsmodels/tsa/base/tsa_model.py:219: ValueWarning: A date index has been provided, but it has no associated frequency information and so will be ignored when e.g. forecasting.\n",
      "  ' ignored when e.g. forecasting.', ValueWarning)\n",
      "/Users/jackwang/anaconda3/lib/python3.7/site-packages/statsmodels/base/model.py:512: ConvergenceWarning: Maximum Likelihood optimization failed to converge. Check mle_retvals\n",
      "  \"Check mle_retvals\", ConvergenceWarning)\n",
      "/Users/jackwang/anaconda3/lib/python3.7/site-packages/statsmodels/tsa/base/tsa_model.py:219: ValueWarning: A date index has been provided, but it has no associated frequency information and so will be ignored when e.g. forecasting.\n",
      "  ' ignored when e.g. forecasting.', ValueWarning)\n"
     ]
    },
    {
     "name": "stdout",
     "output_type": "stream",
     "text": [
      "ARIMA(1, 1, 0)x(1, 1, 0, 5) - AIC: 2014.0538244279035\n",
      "ARIMA(1, 1, 0)x(1, 1, 1, 5) - AIC: 1933.0876457724419\n"
     ]
    },
    {
     "name": "stderr",
     "output_type": "stream",
     "text": [
      "/Users/jackwang/anaconda3/lib/python3.7/site-packages/statsmodels/tsa/base/tsa_model.py:219: ValueWarning: A date index has been provided, but it has no associated frequency information and so will be ignored when e.g. forecasting.\n",
      "  ' ignored when e.g. forecasting.', ValueWarning)\n"
     ]
    },
    {
     "name": "stdout",
     "output_type": "stream",
     "text": [
      "ARIMA(1, 1, 1)x(0, 0, 0, 5) - AIC: 3496.6626270822258\n"
     ]
    },
    {
     "name": "stderr",
     "output_type": "stream",
     "text": [
      "/Users/jackwang/anaconda3/lib/python3.7/site-packages/statsmodels/tsa/base/tsa_model.py:219: ValueWarning: A date index has been provided, but it has no associated frequency information and so will be ignored when e.g. forecasting.\n",
      "  ' ignored when e.g. forecasting.', ValueWarning)\n"
     ]
    },
    {
     "name": "stdout",
     "output_type": "stream",
     "text": [
      "ARIMA(1, 1, 1)x(0, 0, 1, 5) - AIC: 3470.9141919776393\n"
     ]
    },
    {
     "name": "stderr",
     "output_type": "stream",
     "text": [
      "/Users/jackwang/anaconda3/lib/python3.7/site-packages/statsmodels/tsa/base/tsa_model.py:219: ValueWarning: A date index has been provided, but it has no associated frequency information and so will be ignored when e.g. forecasting.\n",
      "  ' ignored when e.g. forecasting.', ValueWarning)\n"
     ]
    },
    {
     "name": "stdout",
     "output_type": "stream",
     "text": [
      "ARIMA(1, 1, 1)x(0, 1, 0, 5) - AIC: 2187.527117644398\n"
     ]
    },
    {
     "name": "stderr",
     "output_type": "stream",
     "text": [
      "/Users/jackwang/anaconda3/lib/python3.7/site-packages/statsmodels/tsa/base/tsa_model.py:219: ValueWarning: A date index has been provided, but it has no associated frequency information and so will be ignored when e.g. forecasting.\n",
      "  ' ignored when e.g. forecasting.', ValueWarning)\n"
     ]
    },
    {
     "name": "stdout",
     "output_type": "stream",
     "text": [
      "ARIMA(1, 1, 1)x(0, 1, 1, 5) - AIC: 1921.665428036765\n"
     ]
    },
    {
     "name": "stderr",
     "output_type": "stream",
     "text": [
      "/Users/jackwang/anaconda3/lib/python3.7/site-packages/statsmodels/tsa/base/tsa_model.py:219: ValueWarning: A date index has been provided, but it has no associated frequency information and so will be ignored when e.g. forecasting.\n",
      "  ' ignored when e.g. forecasting.', ValueWarning)\n"
     ]
    },
    {
     "name": "stdout",
     "output_type": "stream",
     "text": [
      "ARIMA(1, 1, 1)x(1, 0, 0, 5) - AIC: 3477.0849003619874\n"
     ]
    },
    {
     "name": "stderr",
     "output_type": "stream",
     "text": [
      "/Users/jackwang/anaconda3/lib/python3.7/site-packages/statsmodels/tsa/base/tsa_model.py:219: ValueWarning: A date index has been provided, but it has no associated frequency information and so will be ignored when e.g. forecasting.\n",
      "  ' ignored when e.g. forecasting.', ValueWarning)\n"
     ]
    },
    {
     "name": "stdout",
     "output_type": "stream",
     "text": [
      "ARIMA(1, 1, 1)x(1, 0, 1, 5) - AIC: 3473.0656828697165\n"
     ]
    },
    {
     "name": "stderr",
     "output_type": "stream",
     "text": [
      "/Users/jackwang/anaconda3/lib/python3.7/site-packages/statsmodels/tsa/base/tsa_model.py:219: ValueWarning: A date index has been provided, but it has no associated frequency information and so will be ignored when e.g. forecasting.\n",
      "  ' ignored when e.g. forecasting.', ValueWarning)\n"
     ]
    },
    {
     "name": "stdout",
     "output_type": "stream",
     "text": [
      "ARIMA(1, 1, 1)x(1, 1, 0, 5) - AIC: 2016.7020733093486\n"
     ]
    },
    {
     "name": "stderr",
     "output_type": "stream",
     "text": [
      "/Users/jackwang/anaconda3/lib/python3.7/site-packages/statsmodels/tsa/base/tsa_model.py:219: ValueWarning: A date index has been provided, but it has no associated frequency information and so will be ignored when e.g. forecasting.\n",
      "  ' ignored when e.g. forecasting.', ValueWarning)\n"
     ]
    },
    {
     "name": "stdout",
     "output_type": "stream",
     "text": [
      "ARIMA(1, 1, 1)x(1, 1, 1, 5) - AIC: 1933.0137384952995\n"
     ]
    }
   ],
   "source": [
    "for param in pdq:\n",
    "    for param_seasonal in seasonal_pdq:\n",
    "        try:\n",
    "            mod = sm.tsa.statespace.SARIMAX(train['open_price'],\n",
    "                                            train.drop(columns=['open_price']),\n",
    "                                            order=param,\n",
    "                                            seasonal_order=param_seasonal,\n",
    "                                            enforce_stationarity=False,\n",
    "                                            enforce_invertibility=False)\n",
    "\n",
    "            results = mod.fit()\n",
    "            print('ARIMA{}x{} - AIC: {}'.format(param, param_seasonal, results.aic))\n",
    "        except:\n",
    "            continue"
   ]
  },
  {
   "cell_type": "code",
   "execution_count": 463,
   "metadata": {},
   "outputs": [
    {
     "name": "stderr",
     "output_type": "stream",
     "text": [
      "/Users/jackwang/anaconda3/lib/python3.7/site-packages/statsmodels/tsa/base/tsa_model.py:219: ValueWarning: A date index has been provided, but it has no associated frequency information and so will be ignored when e.g. forecasting.\n",
      "  ' ignored when e.g. forecasting.', ValueWarning)\n"
     ]
    },
    {
     "name": "stdout",
     "output_type": "stream",
     "text": [
      "=============================================================================================\n",
      "                                coef    std err          z      P>|z|      [0.025      0.975]\n",
      "---------------------------------------------------------------------------------------------\n",
      "tweet_word_count_mean        -0.0155      0.071     -0.219      0.827      -0.154       0.123\n",
      "tweet_compound_score_mean     0.8081      1.433      0.564      0.573      -2.001       3.617\n",
      "redd_gun_comment_mean        -0.0116      0.014     -0.862      0.389      -0.038       0.015\n",
      "redd_gun_compound_mean        0.0933      0.274      0.340      0.734      -0.445       0.631\n",
      "redd_gun_comment_sum          0.0063      0.008      0.793      0.428      -0.009       0.022\n",
      "redd_gun_post_count           0.0032      0.115      0.028      0.978      -0.221       0.228\n",
      "redd_pol_score_mean          -0.0002      0.000     -0.453      0.650      -0.001       0.001\n",
      "redd_pol_comment_mean         0.0008      0.001      0.592      0.554      -0.002       0.003\n",
      "redd_pol_compound_mean        0.0874      0.172      0.508      0.611      -0.250       0.425\n",
      "redd_pol_score_sum        -7.562e-06   4.51e-05     -0.168      0.867   -9.59e-05    8.08e-05\n",
      "redd_pol_comment_sum          0.0001      0.000      0.502      0.616      -0.000       0.001\n",
      "redd_pol_post_count          -0.0069      0.014     -0.482      0.630      -0.035       0.021\n",
      "10-k                         -1.1943      0.739     -1.616      0.106      -2.642       0.254\n",
      "10-q                          1.2272      0.235      5.212      0.000       0.766       1.689\n",
      "8-k                           0.2656      0.166      1.595      0.111      -0.061       0.592\n",
      "ma.L1                        -0.0004      0.040     -0.011      0.992      -0.078       0.077\n",
      "ma.S.L5                      -0.0060      0.052     -0.116      0.908      -0.108       0.096\n",
      "sigma2                        1.4033      0.050     28.180      0.000       1.306       1.501\n",
      "=============================================================================================\n"
     ]
    }
   ],
   "source": [
    "mod = sm.tsa.statespace.SARIMAX(endog=train['open_price'],\n",
    "                                exog=train.drop(columns='open_price'),\n",
    "                                order=(0, 1, 1),\n",
    "                                seasonal_order=(0, 0, 1, 5),\n",
    "                                enforce_stationarity=False,\n",
    "                                enforce_invertibility=False)\n",
    "\n",
    "results = mod.fit()\n",
    "\n",
    "print(results.summary().tables[1])"
   ]
  },
  {
   "cell_type": "markdown",
   "metadata": {},
   "source": [
    "**As we can see, the p-value for all features are pretty high. We can conclude this model is performing poorly.**"
   ]
  },
  {
   "cell_type": "code",
   "execution_count": 466,
   "metadata": {},
   "outputs": [
    {
     "data": {
      "image/png": "[encoded data removed]",
      "text/plain": [
       "<Figure size 1080x864 with 4 Axes>"
      ]
     },
     "metadata": {},
     "output_type": "display_data"
    }
   ],
   "source": [
    "results.plot_diagnostics(figsize=(15, 12))\n",
    "plt.show()"
   ]
  },
  {
   "cell_type": "markdown",
   "metadata": {},
   "source": [
    "**The above plot shows that the residuals of our model are not normally distributed well. We should improve on our model. Our ultimate goal is to have uncorrelated residuals and normally distributed residuals.**"
   ]
  },
  {
   "cell_type": "code",
   "execution_count": 467,
   "metadata": {},
   "outputs": [],
   "source": [
    "test_dates = test.index"
   ]
  },
  {
   "cell_type": "code",
   "execution_count": 468,
   "metadata": {},
   "outputs": [
    {
     "data": {
      "text/plain": [
       "565    52.960687\n",
       "566    52.847330\n",
       "567    52.901456\n",
       "568    52.723702\n",
       "569    52.751983\n",
       "         ...    \n",
       "748    52.759238\n",
       "749    52.805242\n",
       "750    52.833956\n",
       "751    53.069876\n",
       "752    52.787879\n",
       "Length: 188, dtype: float64"
      ]
     },
     "execution_count": 468,
     "metadata": {},
     "output_type": "execute_result"
    }
   ],
   "source": [
    "sarima_preds"
   ]
  },
  {
   "cell_type": "code",
   "execution_count": 469,
   "metadata": {},
   "outputs": [
    {
     "data": {
      "text/html": [
       "<div>\n",
       "<style scoped>\n",
       "    .dataframe tbody tr th:only-of-type {\n",
       "        vertical-align: middle;\n",
       "    }\n",
       "\n",
       "    .dataframe tbody tr th {\n",
       "        vertical-align: top;\n",
       "    }\n",
       "\n",
       "    .dataframe thead th {\n",
       "        text-align: right;\n",
       "    }\n",
       "</style>\n",
       "<table border=\"1\" class=\"dataframe\">\n",
       "  <thead>\n",
       "    <tr style=\"text-align: right;\">\n",
       "      <th></th>\n",
       "      <th>open_price</th>\n",
       "      <th>tweet_word_count_mean</th>\n",
       "      <th>tweet_compound_score_mean</th>\n",
       "      <th>redd_gun_comment_mean</th>\n",
       "      <th>redd_gun_compound_mean</th>\n",
       "      <th>redd_gun_comment_sum</th>\n",
       "      <th>redd_gun_post_count</th>\n",
       "      <th>redd_pol_score_mean</th>\n",
       "      <th>redd_pol_comment_mean</th>\n",
       "      <th>redd_pol_compound_mean</th>\n",
       "      <th>redd_pol_score_sum</th>\n",
       "      <th>redd_pol_comment_sum</th>\n",
       "      <th>redd_pol_post_count</th>\n",
       "      <th>10-k</th>\n",
       "      <th>10-q</th>\n",
       "      <th>8-k</th>\n",
       "    </tr>\n",
       "    <tr>\n",
       "      <th>date</th>\n",
       "      <th></th>\n",
       "      <th></th>\n",
       "      <th></th>\n",
       "      <th></th>\n",
       "      <th></th>\n",
       "      <th></th>\n",
       "      <th></th>\n",
       "      <th></th>\n",
       "      <th></th>\n",
       "      <th></th>\n",
       "      <th></th>\n",
       "      <th></th>\n",
       "      <th></th>\n",
       "      <th></th>\n",
       "      <th></th>\n",
       "      <th></th>\n",
       "    </tr>\n",
       "  </thead>\n",
       "  <tbody>\n",
       "    <tr>\n",
       "      <td>2016-10-03</td>\n",
       "      <td>57.790001</td>\n",
       "      <td>16.370697</td>\n",
       "      <td>-0.354404</td>\n",
       "      <td>0.0</td>\n",
       "      <td>0.0000</td>\n",
       "      <td>0.0</td>\n",
       "      <td>0.0</td>\n",
       "      <td>0.0</td>\n",
       "      <td>0.0</td>\n",
       "      <td>0.00000</td>\n",
       "      <td>0.0</td>\n",
       "      <td>0.0</td>\n",
       "      <td>0.0</td>\n",
       "      <td>0.0</td>\n",
       "      <td>0.0</td>\n",
       "      <td>0.0</td>\n",
       "    </tr>\n",
       "    <tr>\n",
       "      <td>2016-10-04</td>\n",
       "      <td>57.470001</td>\n",
       "      <td>16.277286</td>\n",
       "      <td>-0.350252</td>\n",
       "      <td>0.0</td>\n",
       "      <td>0.0000</td>\n",
       "      <td>0.0</td>\n",
       "      <td>0.0</td>\n",
       "      <td>0.0</td>\n",
       "      <td>0.0</td>\n",
       "      <td>0.00000</td>\n",
       "      <td>0.0</td>\n",
       "      <td>0.0</td>\n",
       "      <td>0.0</td>\n",
       "      <td>0.0</td>\n",
       "      <td>0.0</td>\n",
       "      <td>0.0</td>\n",
       "    </tr>\n",
       "    <tr>\n",
       "      <td>2016-10-05</td>\n",
       "      <td>57.330002</td>\n",
       "      <td>16.521776</td>\n",
       "      <td>-0.283701</td>\n",
       "      <td>0.0</td>\n",
       "      <td>0.0000</td>\n",
       "      <td>0.0</td>\n",
       "      <td>0.0</td>\n",
       "      <td>0.0</td>\n",
       "      <td>0.0</td>\n",
       "      <td>0.00000</td>\n",
       "      <td>0.0</td>\n",
       "      <td>0.0</td>\n",
       "      <td>0.0</td>\n",
       "      <td>0.0</td>\n",
       "      <td>0.0</td>\n",
       "      <td>0.0</td>\n",
       "    </tr>\n",
       "    <tr>\n",
       "      <td>2016-10-06</td>\n",
       "      <td>56.400002</td>\n",
       "      <td>16.014870</td>\n",
       "      <td>-0.273418</td>\n",
       "      <td>7.0</td>\n",
       "      <td>-0.7184</td>\n",
       "      <td>7.0</td>\n",
       "      <td>1.0</td>\n",
       "      <td>2.0</td>\n",
       "      <td>5.0</td>\n",
       "      <td>-0.19580</td>\n",
       "      <td>4.0</td>\n",
       "      <td>10.0</td>\n",
       "      <td>2.0</td>\n",
       "      <td>0.0</td>\n",
       "      <td>0.0</td>\n",
       "      <td>0.0</td>\n",
       "    </tr>\n",
       "    <tr>\n",
       "      <td>2016-10-07</td>\n",
       "      <td>56.020000</td>\n",
       "      <td>15.933116</td>\n",
       "      <td>-0.343057</td>\n",
       "      <td>1.0</td>\n",
       "      <td>-0.1280</td>\n",
       "      <td>1.0</td>\n",
       "      <td>1.0</td>\n",
       "      <td>0.0</td>\n",
       "      <td>3.0</td>\n",
       "      <td>0.36120</td>\n",
       "      <td>0.0</td>\n",
       "      <td>3.0</td>\n",
       "      <td>1.0</td>\n",
       "      <td>0.0</td>\n",
       "      <td>0.0</td>\n",
       "      <td>0.0</td>\n",
       "    </tr>\n",
       "    <tr>\n",
       "      <td>...</td>\n",
       "      <td>...</td>\n",
       "      <td>...</td>\n",
       "      <td>...</td>\n",
       "      <td>...</td>\n",
       "      <td>...</td>\n",
       "      <td>...</td>\n",
       "      <td>...</td>\n",
       "      <td>...</td>\n",
       "      <td>...</td>\n",
       "      <td>...</td>\n",
       "      <td>...</td>\n",
       "      <td>...</td>\n",
       "      <td>...</td>\n",
       "      <td>...</td>\n",
       "      <td>...</td>\n",
       "      <td>...</td>\n",
       "    </tr>\n",
       "    <tr>\n",
       "      <td>2018-12-24</td>\n",
       "      <td>50.020000</td>\n",
       "      <td>29.295554</td>\n",
       "      <td>-0.271968</td>\n",
       "      <td>0.0</td>\n",
       "      <td>0.0000</td>\n",
       "      <td>0.0</td>\n",
       "      <td>0.0</td>\n",
       "      <td>1.0</td>\n",
       "      <td>138.0</td>\n",
       "      <td>-0.34000</td>\n",
       "      <td>1.0</td>\n",
       "      <td>138.0</td>\n",
       "      <td>1.0</td>\n",
       "      <td>0.0</td>\n",
       "      <td>0.0</td>\n",
       "      <td>0.0</td>\n",
       "    </tr>\n",
       "    <tr>\n",
       "      <td>2018-12-26</td>\n",
       "      <td>50.549999</td>\n",
       "      <td>28.225690</td>\n",
       "      <td>-0.269353</td>\n",
       "      <td>0.0</td>\n",
       "      <td>0.0000</td>\n",
       "      <td>0.0</td>\n",
       "      <td>0.0</td>\n",
       "      <td>1.0</td>\n",
       "      <td>19.0</td>\n",
       "      <td>-0.34000</td>\n",
       "      <td>1.0</td>\n",
       "      <td>19.0</td>\n",
       "      <td>1.0</td>\n",
       "      <td>0.0</td>\n",
       "      <td>0.0</td>\n",
       "      <td>0.0</td>\n",
       "    </tr>\n",
       "    <tr>\n",
       "      <td>2018-12-27</td>\n",
       "      <td>51.810001</td>\n",
       "      <td>29.036620</td>\n",
       "      <td>-0.334724</td>\n",
       "      <td>0.0</td>\n",
       "      <td>0.0000</td>\n",
       "      <td>0.0</td>\n",
       "      <td>0.0</td>\n",
       "      <td>0.0</td>\n",
       "      <td>0.0</td>\n",
       "      <td>0.00000</td>\n",
       "      <td>0.0</td>\n",
       "      <td>0.0</td>\n",
       "      <td>0.0</td>\n",
       "      <td>0.0</td>\n",
       "      <td>0.0</td>\n",
       "      <td>0.0</td>\n",
       "    </tr>\n",
       "    <tr>\n",
       "      <td>2018-12-28</td>\n",
       "      <td>52.169998</td>\n",
       "      <td>28.368831</td>\n",
       "      <td>-0.370361</td>\n",
       "      <td>0.0</td>\n",
       "      <td>0.0000</td>\n",
       "      <td>0.0</td>\n",
       "      <td>0.0</td>\n",
       "      <td>1.0</td>\n",
       "      <td>74.0</td>\n",
       "      <td>-0.35015</td>\n",
       "      <td>2.0</td>\n",
       "      <td>148.0</td>\n",
       "      <td>2.0</td>\n",
       "      <td>0.0</td>\n",
       "      <td>0.0</td>\n",
       "      <td>0.0</td>\n",
       "    </tr>\n",
       "    <tr>\n",
       "      <td>2018-12-31</td>\n",
       "      <td>52.740002</td>\n",
       "      <td>30.688068</td>\n",
       "      <td>-0.315972</td>\n",
       "      <td>0.0</td>\n",
       "      <td>0.0000</td>\n",
       "      <td>0.0</td>\n",
       "      <td>0.0</td>\n",
       "      <td>0.0</td>\n",
       "      <td>0.0</td>\n",
       "      <td>0.00000</td>\n",
       "      <td>0.0</td>\n",
       "      <td>0.0</td>\n",
       "      <td>0.0</td>\n",
       "      <td>0.0</td>\n",
       "      <td>0.0</td>\n",
       "      <td>0.0</td>\n",
       "    </tr>\n",
       "  </tbody>\n",
       "</table>\n",
       "<p>565 rows × 16 columns</p>\n",
       "</div>"
      ],
      "text/plain": [
       "            open_price  tweet_word_count_mean  tweet_compound_score_mean  \\\n",
       "date                                                                       \n",
       "2016-10-03   57.790001              16.370697                  -0.354404   \n",
       "2016-10-04   57.470001              16.277286                  -0.350252   \n",
       "2016-10-05   57.330002              16.521776                  -0.283701   \n",
       "2016-10-06   56.400002              16.014870                  -0.273418   \n",
       "2016-10-07   56.020000              15.933116                  -0.343057   \n",
       "...                ...                    ...                        ...   \n",
       "2018-12-24   50.020000              29.295554                  -0.271968   \n",
       "2018-12-26   50.549999              28.225690                  -0.269353   \n",
       "2018-12-27   51.810001              29.036620                  -0.334724   \n",
       "2018-12-28   52.169998              28.368831                  -0.370361   \n",
       "2018-12-31   52.740002              30.688068                  -0.315972   \n",
       "\n",
       "            redd_gun_comment_mean  redd_gun_compound_mean  \\\n",
       "date                                                        \n",
       "2016-10-03                    0.0                  0.0000   \n",
       "2016-10-04                    0.0                  0.0000   \n",
       "2016-10-05                    0.0                  0.0000   \n",
       "2016-10-06                    7.0                 -0.7184   \n",
       "2016-10-07                    1.0                 -0.1280   \n",
       "...                           ...                     ...   \n",
       "2018-12-24                    0.0                  0.0000   \n",
       "2018-12-26                    0.0                  0.0000   \n",
       "2018-12-27                    0.0                  0.0000   \n",
       "2018-12-28                    0.0                  0.0000   \n",
       "2018-12-31                    0.0                  0.0000   \n",
       "\n",
       "            redd_gun_comment_sum  redd_gun_post_count  redd_pol_score_mean  \\\n",
       "date                                                                         \n",
       "2016-10-03                   0.0                  0.0                  0.0   \n",
       "2016-10-04                   0.0                  0.0                  0.0   \n",
       "2016-10-05                   0.0                  0.0                  0.0   \n",
       "2016-10-06                   7.0                  1.0                  2.0   \n",
       "2016-10-07                   1.0                  1.0                  0.0   \n",
       "...                          ...                  ...                  ...   \n",
       "2018-12-24                   0.0                  0.0                  1.0   \n",
       "2018-12-26                   0.0                  0.0                  1.0   \n",
       "2018-12-27                   0.0                  0.0                  0.0   \n",
       "2018-12-28                   0.0                  0.0                  1.0   \n",
       "2018-12-31                   0.0                  0.0                  0.0   \n",
       "\n",
       "            redd_pol_comment_mean  redd_pol_compound_mean  redd_pol_score_sum  \\\n",
       "date                                                                            \n",
       "2016-10-03                    0.0                 0.00000                 0.0   \n",
       "2016-10-04                    0.0                 0.00000                 0.0   \n",
       "2016-10-05                    0.0                 0.00000                 0.0   \n",
       "2016-10-06                    5.0                -0.19580                 4.0   \n",
       "2016-10-07                    3.0                 0.36120                 0.0   \n",
       "...                           ...                     ...                 ...   \n",
       "2018-12-24                  138.0                -0.34000                 1.0   \n",
       "2018-12-26                   19.0                -0.34000                 1.0   \n",
       "2018-12-27                    0.0                 0.00000                 0.0   \n",
       "2018-12-28                   74.0                -0.35015                 2.0   \n",
       "2018-12-31                    0.0                 0.00000                 0.0   \n",
       "\n",
       "            redd_pol_comment_sum  redd_pol_post_count  10-k  10-q  8-k  \n",
       "date                                                                    \n",
       "2016-10-03                   0.0                  0.0   0.0   0.0  0.0  \n",
       "2016-10-04                   0.0                  0.0   0.0   0.0  0.0  \n",
       "2016-10-05                   0.0                  0.0   0.0   0.0  0.0  \n",
       "2016-10-06                  10.0                  2.0   0.0   0.0  0.0  \n",
       "2016-10-07                   3.0                  1.0   0.0   0.0  0.0  \n",
       "...                          ...                  ...   ...   ...  ...  \n",
       "2018-12-24                 138.0                  1.0   0.0   0.0  0.0  \n",
       "2018-12-26                  19.0                  1.0   0.0   0.0  0.0  \n",
       "2018-12-27                   0.0                  0.0   0.0   0.0  0.0  \n",
       "2018-12-28                 148.0                  2.0   0.0   0.0  0.0  \n",
       "2018-12-31                   0.0                  0.0   0.0   0.0  0.0  \n",
       "\n",
       "[565 rows x 16 columns]"
      ]
     },
     "execution_count": 469,
     "metadata": {},
     "output_type": "execute_result"
    }
   ],
   "source": [
    "train"
   ]
  },
  {
   "cell_type": "code",
   "execution_count": 470,
   "metadata": {},
   "outputs": [],
   "source": [
    "start = test_dates[0]\n",
    "end = test_dates[-1]"
   ]
  },
  {
   "cell_type": "code",
   "execution_count": 471,
   "metadata": {},
   "outputs": [
    {
     "data": {
      "text/plain": [
       "565"
      ]
     },
     "execution_count": 471,
     "metadata": {},
     "output_type": "execute_result"
    }
   ],
   "source": [
    "results.nobs"
   ]
  },
  {
   "cell_type": "code",
   "execution_count": 472,
   "metadata": {},
   "outputs": [
    {
     "name": "stderr",
     "output_type": "stream",
     "text": [
      "/Users/jackwang/anaconda3/lib/python3.7/site-packages/statsmodels/tsa/base/tsa_model.py:576: ValueWarning: No supported index is available. Prediction results will be given with an integer index beginning at `start`.\n",
      "  ValueWarning)\n"
     ]
    }
   ],
   "source": [
    "pred = results.get_prediction(start = results.nobs, \n",
    "                               end = results.nobs+187, \n",
    "                               exog=test.drop(columns='open_price'))\n",
    "\n",
    "pred_ci = preds.conf_int()\n"
   ]
  },
  {
   "cell_type": "code",
   "execution_count": 473,
   "metadata": {},
   "outputs": [
    {
     "data": {
      "text/plain": [
       "565    50.696528\n",
       "566    49.583451\n",
       "567    48.879093\n",
       "568    48.064743\n",
       "569    47.533517\n",
       "         ...    \n",
       "748    21.824537\n",
       "749    21.786706\n",
       "750    21.731810\n",
       "751    21.884343\n",
       "752    21.519183\n",
       "Name: lower open_price, Length: 188, dtype: float64"
      ]
     },
     "execution_count": 473,
     "metadata": {},
     "output_type": "execute_result"
    }
   ],
   "source": [
    "pred_ci.iloc[:,0]"
   ]
  },
  {
   "cell_type": "code",
   "execution_count": 474,
   "metadata": {},
   "outputs": [
    {
     "data": {
      "image/png": "[encoded data removed]",
      "text/plain": [
       "<Figure size 1440x720 with 1 Axes>"
      ]
     },
     "metadata": {},
     "output_type": "display_data"
    }
   ],
   "source": [
    "# Set figure size.\n",
    "plt.figure(figsize=(20,10))\n",
    "\n",
    "# Plot training data.\n",
    "plt.plot(train.index, pd.DataFrame(train['open_price']), color = 'blue')\n",
    "\n",
    "# Plot testing data.\n",
    "plt.plot(test.index, pd.DataFrame(test['open_price']), color = 'orange')\n",
    "\n",
    "# Plot predicted test values.\n",
    "plt.plot(test.index, pd.DataFrame(pred.predicted_mean), color = 'green')\n",
    "\n",
    "# CI\n",
    "plt.plot(test.index, pd.DataFrame(pred_ci.iloc[:,0]), color = 'grey')\n",
    "plt.plot(test.index, pd.DataFrame(pred_ci.iloc[:,1]), color = 'grey')\n",
    "\n",
    "\n",
    "\n",
    "# Set label.\n",
    "plt.title(label = 'SARIMAX(1,0,0) Predictions', fontsize=24)\n",
    "\n",
    "# Resize tick marks.\n",
    "plt.xticks(fontsize=20)\n",
    "plt.yticks(fontsize=20);"
   ]
  },
  {
   "cell_type": "code",
   "execution_count": 478,
   "metadata": {},
   "outputs": [
    {
     "name": "stderr",
     "output_type": "stream",
     "text": [
      "/Users/jackwang/anaconda3/lib/python3.7/site-packages/statsmodels/tsa/base/tsa_model.py:576: ValueWarning: No supported index is available. Prediction results will be given with an integer index beginning at `start`.\n",
      "  ValueWarning)\n"
     ]
    }
   ],
   "source": [
    "sarima_preds = results.predict(start = results.nobs, \n",
    "                               end = results.nobs+187, \n",
    "                               exog=test.drop(columns='open_price'),\n",
    "                               dynamic=False)\n",
    "\n"
   ]
  },
  {
   "cell_type": "code",
   "execution_count": 479,
   "metadata": {},
   "outputs": [
    {
     "data": {
      "image/png": "[encoded data removed]",
      "text/plain": [
       "<Figure size 1440x720 with 1 Axes>"
      ]
     },
     "metadata": {},
     "output_type": "display_data"
    }
   ],
   "source": [
    "# Set figure size.\n",
    "plt.figure(figsize=(20,10))\n",
    "\n",
    "# Plot training data.\n",
    "#plt.plot(train.index, pd.DataFrame(train['open_price']), color = 'blue')\n",
    "\n",
    "# Plot testing data.\n",
    "plt.plot(test.index, pd.DataFrame(test['open_price']), color = 'orange')\n",
    "\n",
    "# Plot predicted test values.\n",
    "plt.plot(test.index, pd.DataFrame(sarima_preds), color = 'green')\n",
    "\n",
    "# Set label.\n",
    "plt.title(label = 'SARIMAX(1,0,0) Predictions', fontsize=24)\n",
    "\n",
    "# Resize tick marks.\n",
    "plt.xticks(fontsize=20)\n",
    "plt.yticks(fontsize=20);"
   ]
  },
  {
   "cell_type": "code",
   "execution_count": 480,
   "metadata": {},
   "outputs": [
    {
     "data": {
      "text/plain": [
       "28.293256983435143"
      ]
     },
     "execution_count": 480,
     "metadata": {},
     "output_type": "execute_result"
    }
   ],
   "source": [
    "# MSE\n",
    "mean_squared_error(pd.DataFrame(test['open_price']), sarima_preds)"
   ]
  },
  {
   "cell_type": "code",
   "execution_count": null,
   "metadata": {},
   "outputs": [],
   "source": []
  }
 ],
 "metadata": {
  "kernelspec": {
   "display_name": "Python 3",
   "language": "python",
   "name": "python3"
  },
  "language_info": {
   "codemirror_mode": {
    "name": "ipython",
    "version": 3
   },
   "file_extension": ".py",
   "mimetype": "text/x-python",
   "name": "python",
   "nbconvert_exporter": "python",
   "pygments_lexer": "ipython3",
   "version": "3.7.3"
  }
 },
 "nbformat": 4,
 "nbformat_minor": 2
}
