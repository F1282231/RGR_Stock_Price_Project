{
 "cells": [
  {
   "cell_type": "markdown",
   "metadata": {},
   "source": [
    "# RGR Stock Price Forecasting Project\n",
    "\n",
    "Author: Jack Wang\n",
    "\n",
    "---\n",
    "\n",
    "## Problem Statement\n",
    "\n",
    "Stock prices are hard to predict because they are not only affected by the performance of the underlying companies but also the expectations from the general public. As known, the stock price of firearm companies are highly correlated to the public opinions toward gun ban. My model intends to predict the stock price of one of the largest firearm company in the states, RGR (Sturm, Ruger & Co., firearm company), by using its historical stock price and public opinions toward gun ban. \n",
    "\n",
    "## Executive Summary\n",
    "\n",
    "The goal of my projcet is to build a **time series regression model** that predicts the stock price of RGR. The data I am using would be historical stock price from Yahoo Finance, twitter posts scraped from [twitter](https://twitter.com/), and also the news articles from major news website. I will perform NPL on the text data and time series modeling on the historical stock price data. The model will be evaluated using R^2 score.\n",
    "\n",
    "## Content\n",
    "\n",
    "This project consists of 5 Jupyter notebooks:\n",
    "- ***Part-1-stock-price-data***\n",
    "- Part-2-twitter-scraper\n",
    "- Part-3-twitter-data-cleaning\n",
    "- Part-4-reddit-data-scraper\n",
    "- Part-5-reddit-data-cleaning\n",
    "    - [Example](#Most-Frequent-Words-in-Title-and-Content)\n",
    "- Part-6-Conclusion-and-Discussion\n",
    "\n",
    "\n",
    "---\n"
   ]
  },
  {
   "cell_type": "code",
   "execution_count": 268,
   "metadata": {},
   "outputs": [],
   "source": [
    "import pandas as pd\n",
    "import numpy as np\n",
    "import matplotlib.pyplot as plt\n",
    "import seaborn as sns\n",
    "import statsmodels.api as sm\n",
    "import itertools\n",
    "\n",
    "# from datetime import datetime\n",
    "# from sklearn.model_selection import train_test_split\n",
    "from sklearn.metrics import mean_squared_error\n",
    "# from statsmodels.tsa.seasonal import seasonal_decompose\n",
    "# from statsmodels.tsa.stattools import adfuller\n",
    "\n",
    "\n",
    "# %matplotlib inline\n",
    "\n",
    "# # This will allow us to avoid a FutureWarning when plotting.\n",
    "# from pandas.plotting import register_matplotlib_converters\n",
    "# register_matplotlib_converters()\n",
    "\n",
    "plt.style.use('fivethirtyeight')"
   ]
  },
  {
   "cell_type": "code",
   "execution_count": 226,
   "metadata": {},
   "outputs": [],
   "source": [
    "df_twitter = pd.read_csv(\"../data/twitter/twitter.csv\")\n",
    "df_reddit = pd.read_csv(\"../data/reddit/reddit.csv\")\n",
    "df_sec = pd.read_csv(\"../data/sec/sec_data.csv\")\n",
    "df_rgr = pd.read_csv(\"../data/stock_price/stock_price_2014_to_2019.csv\")"
   ]
  },
  {
   "cell_type": "code",
   "execution_count": 227,
   "metadata": {},
   "outputs": [],
   "source": [
    "df_rgr = df_rgr.loc[:,['Date', 'Open']]"
   ]
  },
  {
   "cell_type": "code",
   "execution_count": 228,
   "metadata": {},
   "outputs": [],
   "source": [
    "df_rgr.columns = ['date', 'open_price']"
   ]
  },
  {
   "cell_type": "code",
   "execution_count": 229,
   "metadata": {},
   "outputs": [],
   "source": [
    "df_rgr = df_rgr.iloc[693:1446].reset_index(drop=True)"
   ]
  },
  {
   "cell_type": "code",
   "execution_count": 238,
   "metadata": {},
   "outputs": [],
   "source": [
    "df_final = pd.merge(df_rgr, df_twitter, how='outer')"
   ]
  },
  {
   "cell_type": "code",
   "execution_count": 239,
   "metadata": {},
   "outputs": [],
   "source": [
    "df_final = pd.merge(df_final, df_reddit, how = 'outer')"
   ]
  },
  {
   "cell_type": "code",
   "execution_count": 240,
   "metadata": {},
   "outputs": [],
   "source": [
    "df_final = pd.merge(df_final, df_sec, how = 'outer' )"
   ]
  },
  {
   "cell_type": "code",
   "execution_count": 241,
   "metadata": {},
   "outputs": [],
   "source": [
    "df_final['date'] = pd.to_datetime(df_final['date'])"
   ]
  },
  {
   "cell_type": "code",
   "execution_count": 242,
   "metadata": {},
   "outputs": [],
   "source": [
    "df_final = df_final.set_index('date')"
   ]
  },
  {
   "cell_type": "code",
   "execution_count": 243,
   "metadata": {},
   "outputs": [],
   "source": [
    "df_final = df_final.sort_index()"
   ]
  },
  {
   "cell_type": "code",
   "execution_count": 244,
   "metadata": {},
   "outputs": [
    {
     "data": {
      "text/plain": [
       "(1095, 21)"
      ]
     },
     "execution_count": 244,
     "metadata": {},
     "output_type": "execute_result"
    }
   ],
   "source": [
    "df_final.shape"
   ]
  },
  {
   "cell_type": "code",
   "execution_count": 247,
   "metadata": {},
   "outputs": [],
   "source": [
    "df_final = df_final.fillna(0)"
   ]
  },
  {
   "cell_type": "code",
   "execution_count": 250,
   "metadata": {},
   "outputs": [],
   "source": [
    "df_final = df_final[df_final['open_price']!=0]"
   ]
  },
  {
   "cell_type": "code",
   "execution_count": 251,
   "metadata": {},
   "outputs": [
    {
     "data": {
      "text/html": [
       "<div>\n",
       "<style scoped>\n",
       "    .dataframe tbody tr th:only-of-type {\n",
       "        vertical-align: middle;\n",
       "    }\n",
       "\n",
       "    .dataframe tbody tr th {\n",
       "        vertical-align: top;\n",
       "    }\n",
       "\n",
       "    .dataframe thead th {\n",
       "        text-align: right;\n",
       "    }\n",
       "</style>\n",
       "<table border=\"1\" class=\"dataframe\">\n",
       "  <thead>\n",
       "    <tr style=\"text-align: right;\">\n",
       "      <th></th>\n",
       "      <th>open_price</th>\n",
       "      <th>tweet_word_count_sum</th>\n",
       "      <th>tweet_compound_score_sum</th>\n",
       "      <th>tweets_sum</th>\n",
       "      <th>tweet_word_count_mean</th>\n",
       "      <th>tweet_compound_score_mean</th>\n",
       "      <th>redd_gun_score_mean</th>\n",
       "      <th>redd_gun_comment_mean</th>\n",
       "      <th>redd_gun_compound_mean</th>\n",
       "      <th>redd_gun_score_sum</th>\n",
       "      <th>...</th>\n",
       "      <th>redd_gun_post_count</th>\n",
       "      <th>redd_pol_score_mean</th>\n",
       "      <th>redd_pol_comment_mean</th>\n",
       "      <th>redd_pol_compound_mean</th>\n",
       "      <th>redd_pol_score_sum</th>\n",
       "      <th>redd_pol_comment_sum</th>\n",
       "      <th>redd_pol_post_count</th>\n",
       "      <th>10-k</th>\n",
       "      <th>10-q</th>\n",
       "      <th>8-k</th>\n",
       "    </tr>\n",
       "    <tr>\n",
       "      <th>date</th>\n",
       "      <th></th>\n",
       "      <th></th>\n",
       "      <th></th>\n",
       "      <th></th>\n",
       "      <th></th>\n",
       "      <th></th>\n",
       "      <th></th>\n",
       "      <th></th>\n",
       "      <th></th>\n",
       "      <th></th>\n",
       "      <th></th>\n",
       "      <th></th>\n",
       "      <th></th>\n",
       "      <th></th>\n",
       "      <th></th>\n",
       "      <th></th>\n",
       "      <th></th>\n",
       "      <th></th>\n",
       "      <th></th>\n",
       "      <th></th>\n",
       "      <th></th>\n",
       "    </tr>\n",
       "  </thead>\n",
       "  <tbody>\n",
       "    <tr>\n",
       "      <td>2016-10-03</td>\n",
       "      <td>57.790001</td>\n",
       "      <td>18548</td>\n",
       "      <td>-401.5402</td>\n",
       "      <td>1133</td>\n",
       "      <td>16.370697</td>\n",
       "      <td>-0.354404</td>\n",
       "      <td>0.0</td>\n",
       "      <td>0.0</td>\n",
       "      <td>0.0000</td>\n",
       "      <td>0.0</td>\n",
       "      <td>...</td>\n",
       "      <td>0.0</td>\n",
       "      <td>0.000000</td>\n",
       "      <td>0.0</td>\n",
       "      <td>0.000000</td>\n",
       "      <td>0.0</td>\n",
       "      <td>0.0</td>\n",
       "      <td>0.0</td>\n",
       "      <td>0.0</td>\n",
       "      <td>0.0</td>\n",
       "      <td>0.0</td>\n",
       "    </tr>\n",
       "    <tr>\n",
       "      <td>2016-10-04</td>\n",
       "      <td>57.470001</td>\n",
       "      <td>16554</td>\n",
       "      <td>-356.2059</td>\n",
       "      <td>1017</td>\n",
       "      <td>16.277286</td>\n",
       "      <td>-0.350252</td>\n",
       "      <td>0.0</td>\n",
       "      <td>0.0</td>\n",
       "      <td>0.0000</td>\n",
       "      <td>0.0</td>\n",
       "      <td>...</td>\n",
       "      <td>0.0</td>\n",
       "      <td>0.000000</td>\n",
       "      <td>0.0</td>\n",
       "      <td>0.000000</td>\n",
       "      <td>0.0</td>\n",
       "      <td>0.0</td>\n",
       "      <td>0.0</td>\n",
       "      <td>0.0</td>\n",
       "      <td>0.0</td>\n",
       "      <td>0.0</td>\n",
       "    </tr>\n",
       "    <tr>\n",
       "      <td>2016-10-05</td>\n",
       "      <td>57.330002</td>\n",
       "      <td>19727</td>\n",
       "      <td>-338.7394</td>\n",
       "      <td>1194</td>\n",
       "      <td>16.521776</td>\n",
       "      <td>-0.283701</td>\n",
       "      <td>0.0</td>\n",
       "      <td>0.0</td>\n",
       "      <td>0.0000</td>\n",
       "      <td>0.0</td>\n",
       "      <td>...</td>\n",
       "      <td>0.0</td>\n",
       "      <td>0.000000</td>\n",
       "      <td>0.0</td>\n",
       "      <td>0.000000</td>\n",
       "      <td>0.0</td>\n",
       "      <td>0.0</td>\n",
       "      <td>0.0</td>\n",
       "      <td>0.0</td>\n",
       "      <td>0.0</td>\n",
       "      <td>0.0</td>\n",
       "    </tr>\n",
       "    <tr>\n",
       "      <td>2016-10-06</td>\n",
       "      <td>56.400002</td>\n",
       "      <td>12924</td>\n",
       "      <td>-220.6480</td>\n",
       "      <td>807</td>\n",
       "      <td>16.014870</td>\n",
       "      <td>-0.273418</td>\n",
       "      <td>0.0</td>\n",
       "      <td>7.0</td>\n",
       "      <td>-0.7184</td>\n",
       "      <td>0.0</td>\n",
       "      <td>...</td>\n",
       "      <td>1.0</td>\n",
       "      <td>2.000000</td>\n",
       "      <td>5.0</td>\n",
       "      <td>-0.195800</td>\n",
       "      <td>4.0</td>\n",
       "      <td>10.0</td>\n",
       "      <td>2.0</td>\n",
       "      <td>0.0</td>\n",
       "      <td>0.0</td>\n",
       "      <td>0.0</td>\n",
       "    </tr>\n",
       "    <tr>\n",
       "      <td>2016-10-07</td>\n",
       "      <td>56.020000</td>\n",
       "      <td>9767</td>\n",
       "      <td>-210.2939</td>\n",
       "      <td>613</td>\n",
       "      <td>15.933116</td>\n",
       "      <td>-0.343057</td>\n",
       "      <td>1.0</td>\n",
       "      <td>1.0</td>\n",
       "      <td>-0.1280</td>\n",
       "      <td>1.0</td>\n",
       "      <td>...</td>\n",
       "      <td>1.0</td>\n",
       "      <td>0.000000</td>\n",
       "      <td>3.0</td>\n",
       "      <td>0.361200</td>\n",
       "      <td>0.0</td>\n",
       "      <td>3.0</td>\n",
       "      <td>1.0</td>\n",
       "      <td>0.0</td>\n",
       "      <td>0.0</td>\n",
       "      <td>0.0</td>\n",
       "    </tr>\n",
       "    <tr>\n",
       "      <td>...</td>\n",
       "      <td>...</td>\n",
       "      <td>...</td>\n",
       "      <td>...</td>\n",
       "      <td>...</td>\n",
       "      <td>...</td>\n",
       "      <td>...</td>\n",
       "      <td>...</td>\n",
       "      <td>...</td>\n",
       "      <td>...</td>\n",
       "      <td>...</td>\n",
       "      <td>...</td>\n",
       "      <td>...</td>\n",
       "      <td>...</td>\n",
       "      <td>...</td>\n",
       "      <td>...</td>\n",
       "      <td>...</td>\n",
       "      <td>...</td>\n",
       "      <td>...</td>\n",
       "      <td>...</td>\n",
       "      <td>...</td>\n",
       "      <td>...</td>\n",
       "    </tr>\n",
       "    <tr>\n",
       "      <td>2019-09-24</td>\n",
       "      <td>41.680000</td>\n",
       "      <td>115463</td>\n",
       "      <td>-1185.5061</td>\n",
       "      <td>3796</td>\n",
       "      <td>30.417018</td>\n",
       "      <td>-0.312304</td>\n",
       "      <td>0.0</td>\n",
       "      <td>0.0</td>\n",
       "      <td>0.0000</td>\n",
       "      <td>0.0</td>\n",
       "      <td>...</td>\n",
       "      <td>0.0</td>\n",
       "      <td>16.666667</td>\n",
       "      <td>17.0</td>\n",
       "      <td>-0.068367</td>\n",
       "      <td>50.0</td>\n",
       "      <td>51.0</td>\n",
       "      <td>3.0</td>\n",
       "      <td>0.0</td>\n",
       "      <td>0.0</td>\n",
       "      <td>0.0</td>\n",
       "    </tr>\n",
       "    <tr>\n",
       "      <td>2019-09-25</td>\n",
       "      <td>41.560001</td>\n",
       "      <td>96800</td>\n",
       "      <td>-993.2352</td>\n",
       "      <td>3213</td>\n",
       "      <td>30.127607</td>\n",
       "      <td>-0.309130</td>\n",
       "      <td>0.0</td>\n",
       "      <td>0.0</td>\n",
       "      <td>0.0000</td>\n",
       "      <td>0.0</td>\n",
       "      <td>...</td>\n",
       "      <td>0.0</td>\n",
       "      <td>0.000000</td>\n",
       "      <td>0.0</td>\n",
       "      <td>0.000000</td>\n",
       "      <td>0.0</td>\n",
       "      <td>0.0</td>\n",
       "      <td>0.0</td>\n",
       "      <td>0.0</td>\n",
       "      <td>0.0</td>\n",
       "      <td>0.0</td>\n",
       "    </tr>\n",
       "    <tr>\n",
       "      <td>2019-09-26</td>\n",
       "      <td>41.470001</td>\n",
       "      <td>100093</td>\n",
       "      <td>-1024.4333</td>\n",
       "      <td>3372</td>\n",
       "      <td>29.683571</td>\n",
       "      <td>-0.303806</td>\n",
       "      <td>0.0</td>\n",
       "      <td>0.0</td>\n",
       "      <td>0.0000</td>\n",
       "      <td>0.0</td>\n",
       "      <td>...</td>\n",
       "      <td>0.0</td>\n",
       "      <td>0.000000</td>\n",
       "      <td>0.0</td>\n",
       "      <td>0.000000</td>\n",
       "      <td>0.0</td>\n",
       "      <td>0.0</td>\n",
       "      <td>0.0</td>\n",
       "      <td>0.0</td>\n",
       "      <td>0.0</td>\n",
       "      <td>0.0</td>\n",
       "    </tr>\n",
       "    <tr>\n",
       "      <td>2019-09-27</td>\n",
       "      <td>41.180000</td>\n",
       "      <td>108463</td>\n",
       "      <td>-1056.7549</td>\n",
       "      <td>3650</td>\n",
       "      <td>29.715890</td>\n",
       "      <td>-0.289522</td>\n",
       "      <td>9.0</td>\n",
       "      <td>8.0</td>\n",
       "      <td>0.1531</td>\n",
       "      <td>9.0</td>\n",
       "      <td>...</td>\n",
       "      <td>1.0</td>\n",
       "      <td>349.000000</td>\n",
       "      <td>22.0</td>\n",
       "      <td>-0.743000</td>\n",
       "      <td>349.0</td>\n",
       "      <td>22.0</td>\n",
       "      <td>1.0</td>\n",
       "      <td>0.0</td>\n",
       "      <td>0.0</td>\n",
       "      <td>0.0</td>\n",
       "    </tr>\n",
       "    <tr>\n",
       "      <td>2019-09-30</td>\n",
       "      <td>42.000000</td>\n",
       "      <td>71519</td>\n",
       "      <td>-721.8923</td>\n",
       "      <td>2364</td>\n",
       "      <td>30.253384</td>\n",
       "      <td>-0.305369</td>\n",
       "      <td>0.0</td>\n",
       "      <td>0.0</td>\n",
       "      <td>0.0000</td>\n",
       "      <td>0.0</td>\n",
       "      <td>...</td>\n",
       "      <td>0.0</td>\n",
       "      <td>0.000000</td>\n",
       "      <td>0.0</td>\n",
       "      <td>0.000000</td>\n",
       "      <td>0.0</td>\n",
       "      <td>0.0</td>\n",
       "      <td>0.0</td>\n",
       "      <td>0.0</td>\n",
       "      <td>0.0</td>\n",
       "      <td>0.0</td>\n",
       "    </tr>\n",
       "  </tbody>\n",
       "</table>\n",
       "<p>753 rows × 21 columns</p>\n",
       "</div>"
      ],
      "text/plain": [
       "            open_price  tweet_word_count_sum  tweet_compound_score_sum  \\\n",
       "date                                                                     \n",
       "2016-10-03   57.790001                 18548                 -401.5402   \n",
       "2016-10-04   57.470001                 16554                 -356.2059   \n",
       "2016-10-05   57.330002                 19727                 -338.7394   \n",
       "2016-10-06   56.400002                 12924                 -220.6480   \n",
       "2016-10-07   56.020000                  9767                 -210.2939   \n",
       "...                ...                   ...                       ...   \n",
       "2019-09-24   41.680000                115463                -1185.5061   \n",
       "2019-09-25   41.560001                 96800                 -993.2352   \n",
       "2019-09-26   41.470001                100093                -1024.4333   \n",
       "2019-09-27   41.180000                108463                -1056.7549   \n",
       "2019-09-30   42.000000                 71519                 -721.8923   \n",
       "\n",
       "            tweets_sum  tweet_word_count_mean  tweet_compound_score_mean  \\\n",
       "date                                                                       \n",
       "2016-10-03        1133              16.370697                  -0.354404   \n",
       "2016-10-04        1017              16.277286                  -0.350252   \n",
       "2016-10-05        1194              16.521776                  -0.283701   \n",
       "2016-10-06         807              16.014870                  -0.273418   \n",
       "2016-10-07         613              15.933116                  -0.343057   \n",
       "...                ...                    ...                        ...   \n",
       "2019-09-24        3796              30.417018                  -0.312304   \n",
       "2019-09-25        3213              30.127607                  -0.309130   \n",
       "2019-09-26        3372              29.683571                  -0.303806   \n",
       "2019-09-27        3650              29.715890                  -0.289522   \n",
       "2019-09-30        2364              30.253384                  -0.305369   \n",
       "\n",
       "            redd_gun_score_mean  redd_gun_comment_mean  \\\n",
       "date                                                     \n",
       "2016-10-03                  0.0                    0.0   \n",
       "2016-10-04                  0.0                    0.0   \n",
       "2016-10-05                  0.0                    0.0   \n",
       "2016-10-06                  0.0                    7.0   \n",
       "2016-10-07                  1.0                    1.0   \n",
       "...                         ...                    ...   \n",
       "2019-09-24                  0.0                    0.0   \n",
       "2019-09-25                  0.0                    0.0   \n",
       "2019-09-26                  0.0                    0.0   \n",
       "2019-09-27                  9.0                    8.0   \n",
       "2019-09-30                  0.0                    0.0   \n",
       "\n",
       "            redd_gun_compound_mean  redd_gun_score_sum  ...  \\\n",
       "date                                                    ...   \n",
       "2016-10-03                  0.0000                 0.0  ...   \n",
       "2016-10-04                  0.0000                 0.0  ...   \n",
       "2016-10-05                  0.0000                 0.0  ...   \n",
       "2016-10-06                 -0.7184                 0.0  ...   \n",
       "2016-10-07                 -0.1280                 1.0  ...   \n",
       "...                            ...                 ...  ...   \n",
       "2019-09-24                  0.0000                 0.0  ...   \n",
       "2019-09-25                  0.0000                 0.0  ...   \n",
       "2019-09-26                  0.0000                 0.0  ...   \n",
       "2019-09-27                  0.1531                 9.0  ...   \n",
       "2019-09-30                  0.0000                 0.0  ...   \n",
       "\n",
       "            redd_gun_post_count  redd_pol_score_mean  redd_pol_comment_mean  \\\n",
       "date                                                                          \n",
       "2016-10-03                  0.0             0.000000                    0.0   \n",
       "2016-10-04                  0.0             0.000000                    0.0   \n",
       "2016-10-05                  0.0             0.000000                    0.0   \n",
       "2016-10-06                  1.0             2.000000                    5.0   \n",
       "2016-10-07                  1.0             0.000000                    3.0   \n",
       "...                         ...                  ...                    ...   \n",
       "2019-09-24                  0.0            16.666667                   17.0   \n",
       "2019-09-25                  0.0             0.000000                    0.0   \n",
       "2019-09-26                  0.0             0.000000                    0.0   \n",
       "2019-09-27                  1.0           349.000000                   22.0   \n",
       "2019-09-30                  0.0             0.000000                    0.0   \n",
       "\n",
       "            redd_pol_compound_mean  redd_pol_score_sum  redd_pol_comment_sum  \\\n",
       "date                                                                           \n",
       "2016-10-03                0.000000                 0.0                   0.0   \n",
       "2016-10-04                0.000000                 0.0                   0.0   \n",
       "2016-10-05                0.000000                 0.0                   0.0   \n",
       "2016-10-06               -0.195800                 4.0                  10.0   \n",
       "2016-10-07                0.361200                 0.0                   3.0   \n",
       "...                            ...                 ...                   ...   \n",
       "2019-09-24               -0.068367                50.0                  51.0   \n",
       "2019-09-25                0.000000                 0.0                   0.0   \n",
       "2019-09-26                0.000000                 0.0                   0.0   \n",
       "2019-09-27               -0.743000               349.0                  22.0   \n",
       "2019-09-30                0.000000                 0.0                   0.0   \n",
       "\n",
       "            redd_pol_post_count  10-k  10-q  8-k  \n",
       "date                                              \n",
       "2016-10-03                  0.0   0.0   0.0  0.0  \n",
       "2016-10-04                  0.0   0.0   0.0  0.0  \n",
       "2016-10-05                  0.0   0.0   0.0  0.0  \n",
       "2016-10-06                  2.0   0.0   0.0  0.0  \n",
       "2016-10-07                  1.0   0.0   0.0  0.0  \n",
       "...                         ...   ...   ...  ...  \n",
       "2019-09-24                  3.0   0.0   0.0  0.0  \n",
       "2019-09-25                  0.0   0.0   0.0  0.0  \n",
       "2019-09-26                  0.0   0.0   0.0  0.0  \n",
       "2019-09-27                  1.0   0.0   0.0  0.0  \n",
       "2019-09-30                  0.0   0.0   0.0  0.0  \n",
       "\n",
       "[753 rows x 21 columns]"
      ]
     },
     "execution_count": 251,
     "metadata": {},
     "output_type": "execute_result"
    }
   ],
   "source": [
    "df_final"
   ]
  },
  {
   "cell_type": "markdown",
   "metadata": {},
   "source": [
    "**GrideSearch over SARIMA**"
   ]
  },
  {
   "cell_type": "code",
   "execution_count": 253,
   "metadata": {},
   "outputs": [],
   "source": [
    "train = df_final['2016':'2019']\n",
    "test = df_final['2019']"
   ]
  },
  {
   "cell_type": "code",
   "execution_count": 261,
   "metadata": {},
   "outputs": [
    {
     "data": {
      "text/html": [
       "<div>\n",
       "<style scoped>\n",
       "    .dataframe tbody tr th:only-of-type {\n",
       "        vertical-align: middle;\n",
       "    }\n",
       "\n",
       "    .dataframe tbody tr th {\n",
       "        vertical-align: top;\n",
       "    }\n",
       "\n",
       "    .dataframe thead th {\n",
       "        text-align: right;\n",
       "    }\n",
       "</style>\n",
       "<table border=\"1\" class=\"dataframe\">\n",
       "  <thead>\n",
       "    <tr style=\"text-align: right;\">\n",
       "      <th></th>\n",
       "      <th>open_price</th>\n",
       "      <th>tweet_word_count_sum</th>\n",
       "      <th>tweet_compound_score_sum</th>\n",
       "      <th>tweets_sum</th>\n",
       "      <th>tweet_word_count_mean</th>\n",
       "      <th>tweet_compound_score_mean</th>\n",
       "      <th>redd_gun_score_mean</th>\n",
       "      <th>redd_gun_comment_mean</th>\n",
       "      <th>redd_gun_compound_mean</th>\n",
       "      <th>redd_gun_score_sum</th>\n",
       "      <th>...</th>\n",
       "      <th>redd_gun_post_count</th>\n",
       "      <th>redd_pol_score_mean</th>\n",
       "      <th>redd_pol_comment_mean</th>\n",
       "      <th>redd_pol_compound_mean</th>\n",
       "      <th>redd_pol_score_sum</th>\n",
       "      <th>redd_pol_comment_sum</th>\n",
       "      <th>redd_pol_post_count</th>\n",
       "      <th>10-k</th>\n",
       "      <th>10-q</th>\n",
       "      <th>8-k</th>\n",
       "    </tr>\n",
       "  </thead>\n",
       "  <tbody>\n",
       "    <tr>\n",
       "      <td>open_price</td>\n",
       "      <td>1.000000</td>\n",
       "      <td>-0.167241</td>\n",
       "      <td>0.147320</td>\n",
       "      <td>-0.154642</td>\n",
       "      <td>-0.054772</td>\n",
       "      <td>0.184227</td>\n",
       "      <td>-0.072387</td>\n",
       "      <td>-0.077501</td>\n",
       "      <td>0.057869</td>\n",
       "      <td>-0.042843</td>\n",
       "      <td>...</td>\n",
       "      <td>-0.096421</td>\n",
       "      <td>-0.073797</td>\n",
       "      <td>-0.035015</td>\n",
       "      <td>0.051776</td>\n",
       "      <td>-0.155701</td>\n",
       "      <td>-0.119151</td>\n",
       "      <td>-0.208403</td>\n",
       "      <td>-0.026421</td>\n",
       "      <td>0.048007</td>\n",
       "      <td>0.080915</td>\n",
       "    </tr>\n",
       "    <tr>\n",
       "      <td>tweet_word_count_sum</td>\n",
       "      <td>-0.167241</td>\n",
       "      <td>1.000000</td>\n",
       "      <td>-0.976781</td>\n",
       "      <td>0.980468</td>\n",
       "      <td>0.213864</td>\n",
       "      <td>-0.131202</td>\n",
       "      <td>0.056017</td>\n",
       "      <td>0.119796</td>\n",
       "      <td>-0.171733</td>\n",
       "      <td>0.091387</td>\n",
       "      <td>...</td>\n",
       "      <td>0.393387</td>\n",
       "      <td>0.124053</td>\n",
       "      <td>0.066885</td>\n",
       "      <td>-0.145858</td>\n",
       "      <td>0.644708</td>\n",
       "      <td>0.539890</td>\n",
       "      <td>0.776482</td>\n",
       "      <td>0.081154</td>\n",
       "      <td>-0.018459</td>\n",
       "      <td>0.047724</td>\n",
       "    </tr>\n",
       "    <tr>\n",
       "      <td>tweet_compound_score_sum</td>\n",
       "      <td>0.147320</td>\n",
       "      <td>-0.976781</td>\n",
       "      <td>1.000000</td>\n",
       "      <td>-0.996692</td>\n",
       "      <td>-0.155085</td>\n",
       "      <td>0.164066</td>\n",
       "      <td>-0.073360</td>\n",
       "      <td>-0.124456</td>\n",
       "      <td>0.170887</td>\n",
       "      <td>-0.123904</td>\n",
       "      <td>...</td>\n",
       "      <td>-0.431669</td>\n",
       "      <td>-0.119072</td>\n",
       "      <td>-0.064712</td>\n",
       "      <td>0.138033</td>\n",
       "      <td>-0.652388</td>\n",
       "      <td>-0.568352</td>\n",
       "      <td>-0.772492</td>\n",
       "      <td>-0.064012</td>\n",
       "      <td>0.018281</td>\n",
       "      <td>-0.052341</td>\n",
       "    </tr>\n",
       "    <tr>\n",
       "      <td>tweets_sum</td>\n",
       "      <td>-0.154642</td>\n",
       "      <td>0.980468</td>\n",
       "      <td>-0.996692</td>\n",
       "      <td>1.000000</td>\n",
       "      <td>0.167730</td>\n",
       "      <td>-0.137549</td>\n",
       "      <td>0.077156</td>\n",
       "      <td>0.134752</td>\n",
       "      <td>-0.181553</td>\n",
       "      <td>0.131022</td>\n",
       "      <td>...</td>\n",
       "      <td>0.450789</td>\n",
       "      <td>0.119805</td>\n",
       "      <td>0.065124</td>\n",
       "      <td>-0.143675</td>\n",
       "      <td>0.651378</td>\n",
       "      <td>0.569451</td>\n",
       "      <td>0.805812</td>\n",
       "      <td>0.074949</td>\n",
       "      <td>-0.018614</td>\n",
       "      <td>0.059423</td>\n",
       "    </tr>\n",
       "    <tr>\n",
       "      <td>tweet_word_count_mean</td>\n",
       "      <td>-0.054772</td>\n",
       "      <td>0.213864</td>\n",
       "      <td>-0.155085</td>\n",
       "      <td>0.167730</td>\n",
       "      <td>1.000000</td>\n",
       "      <td>0.044520</td>\n",
       "      <td>0.023456</td>\n",
       "      <td>0.021793</td>\n",
       "      <td>0.007803</td>\n",
       "      <td>-0.006249</td>\n",
       "      <td>...</td>\n",
       "      <td>0.004640</td>\n",
       "      <td>0.115416</td>\n",
       "      <td>0.117569</td>\n",
       "      <td>-0.192321</td>\n",
       "      <td>0.131155</td>\n",
       "      <td>0.131982</td>\n",
       "      <td>0.166879</td>\n",
       "      <td>0.008224</td>\n",
       "      <td>-0.011260</td>\n",
       "      <td>-0.039173</td>\n",
       "    </tr>\n",
       "    <tr>\n",
       "      <td>tweet_compound_score_mean</td>\n",
       "      <td>0.184227</td>\n",
       "      <td>-0.131202</td>\n",
       "      <td>0.164066</td>\n",
       "      <td>-0.137549</td>\n",
       "      <td>0.044520</td>\n",
       "      <td>1.000000</td>\n",
       "      <td>-0.004415</td>\n",
       "      <td>-0.005565</td>\n",
       "      <td>-0.008860</td>\n",
       "      <td>-0.011758</td>\n",
       "      <td>...</td>\n",
       "      <td>-0.023671</td>\n",
       "      <td>-0.054993</td>\n",
       "      <td>-0.039415</td>\n",
       "      <td>0.107684</td>\n",
       "      <td>-0.084148</td>\n",
       "      <td>-0.080130</td>\n",
       "      <td>-0.049490</td>\n",
       "      <td>0.004317</td>\n",
       "      <td>0.041051</td>\n",
       "      <td>0.036569</td>\n",
       "    </tr>\n",
       "    <tr>\n",
       "      <td>redd_gun_score_mean</td>\n",
       "      <td>-0.072387</td>\n",
       "      <td>0.056017</td>\n",
       "      <td>-0.073360</td>\n",
       "      <td>0.077156</td>\n",
       "      <td>0.023456</td>\n",
       "      <td>-0.004415</td>\n",
       "      <td>1.000000</td>\n",
       "      <td>0.653561</td>\n",
       "      <td>-0.154799</td>\n",
       "      <td>0.856044</td>\n",
       "      <td>...</td>\n",
       "      <td>0.283621</td>\n",
       "      <td>0.001207</td>\n",
       "      <td>-0.000177</td>\n",
       "      <td>-0.000472</td>\n",
       "      <td>0.018032</td>\n",
       "      <td>0.029961</td>\n",
       "      <td>0.142170</td>\n",
       "      <td>-0.004070</td>\n",
       "      <td>-0.006604</td>\n",
       "      <td>-0.014263</td>\n",
       "    </tr>\n",
       "    <tr>\n",
       "      <td>redd_gun_comment_mean</td>\n",
       "      <td>-0.077501</td>\n",
       "      <td>0.119796</td>\n",
       "      <td>-0.124456</td>\n",
       "      <td>0.134752</td>\n",
       "      <td>0.021793</td>\n",
       "      <td>-0.005565</td>\n",
       "      <td>0.653561</td>\n",
       "      <td>1.000000</td>\n",
       "      <td>-0.401528</td>\n",
       "      <td>0.509226</td>\n",
       "      <td>...</td>\n",
       "      <td>0.487152</td>\n",
       "      <td>0.013626</td>\n",
       "      <td>0.006805</td>\n",
       "      <td>-0.016292</td>\n",
       "      <td>0.109662</td>\n",
       "      <td>0.085781</td>\n",
       "      <td>0.178472</td>\n",
       "      <td>-0.015432</td>\n",
       "      <td>-0.026837</td>\n",
       "      <td>-0.024275</td>\n",
       "    </tr>\n",
       "    <tr>\n",
       "      <td>redd_gun_compound_mean</td>\n",
       "      <td>0.057869</td>\n",
       "      <td>-0.171733</td>\n",
       "      <td>0.170887</td>\n",
       "      <td>-0.181553</td>\n",
       "      <td>0.007803</td>\n",
       "      <td>-0.008860</td>\n",
       "      <td>-0.154799</td>\n",
       "      <td>-0.401528</td>\n",
       "      <td>1.000000</td>\n",
       "      <td>-0.096785</td>\n",
       "      <td>...</td>\n",
       "      <td>-0.578294</td>\n",
       "      <td>-0.023338</td>\n",
       "      <td>-0.031021</td>\n",
       "      <td>0.020938</td>\n",
       "      <td>-0.097044</td>\n",
       "      <td>-0.113691</td>\n",
       "      <td>-0.211706</td>\n",
       "      <td>0.021886</td>\n",
       "      <td>0.044557</td>\n",
       "      <td>0.035850</td>\n",
       "    </tr>\n",
       "    <tr>\n",
       "      <td>redd_gun_score_sum</td>\n",
       "      <td>-0.042843</td>\n",
       "      <td>0.091387</td>\n",
       "      <td>-0.123904</td>\n",
       "      <td>0.131022</td>\n",
       "      <td>-0.006249</td>\n",
       "      <td>-0.011758</td>\n",
       "      <td>0.856044</td>\n",
       "      <td>0.509226</td>\n",
       "      <td>-0.096785</td>\n",
       "      <td>1.000000</td>\n",
       "      <td>...</td>\n",
       "      <td>0.362226</td>\n",
       "      <td>-0.003203</td>\n",
       "      <td>-0.004823</td>\n",
       "      <td>-0.009688</td>\n",
       "      <td>0.020552</td>\n",
       "      <td>0.046079</td>\n",
       "      <td>0.250240</td>\n",
       "      <td>-0.003465</td>\n",
       "      <td>-0.005887</td>\n",
       "      <td>-0.012244</td>\n",
       "    </tr>\n",
       "    <tr>\n",
       "      <td>redd_gun_comment_sum</td>\n",
       "      <td>-0.075388</td>\n",
       "      <td>0.163116</td>\n",
       "      <td>-0.190856</td>\n",
       "      <td>0.204183</td>\n",
       "      <td>-0.000463</td>\n",
       "      <td>-0.010552</td>\n",
       "      <td>0.844504</td>\n",
       "      <td>0.827055</td>\n",
       "      <td>-0.267081</td>\n",
       "      <td>0.881831</td>\n",
       "      <td>...</td>\n",
       "      <td>0.557671</td>\n",
       "      <td>0.008388</td>\n",
       "      <td>0.000265</td>\n",
       "      <td>-0.021809</td>\n",
       "      <td>0.107555</td>\n",
       "      <td>0.103882</td>\n",
       "      <td>0.315964</td>\n",
       "      <td>-0.010749</td>\n",
       "      <td>-0.018693</td>\n",
       "      <td>-0.011299</td>\n",
       "    </tr>\n",
       "    <tr>\n",
       "      <td>redd_gun_post_count</td>\n",
       "      <td>-0.096421</td>\n",
       "      <td>0.393387</td>\n",
       "      <td>-0.431669</td>\n",
       "      <td>0.450789</td>\n",
       "      <td>0.004640</td>\n",
       "      <td>-0.023671</td>\n",
       "      <td>0.283621</td>\n",
       "      <td>0.487152</td>\n",
       "      <td>-0.578294</td>\n",
       "      <td>0.362226</td>\n",
       "      <td>...</td>\n",
       "      <td>1.000000</td>\n",
       "      <td>0.069271</td>\n",
       "      <td>0.050279</td>\n",
       "      <td>-0.062788</td>\n",
       "      <td>0.298667</td>\n",
       "      <td>0.284248</td>\n",
       "      <td>0.533915</td>\n",
       "      <td>-0.026126</td>\n",
       "      <td>-0.025214</td>\n",
       "      <td>0.017914</td>\n",
       "    </tr>\n",
       "    <tr>\n",
       "      <td>redd_pol_score_mean</td>\n",
       "      <td>-0.073797</td>\n",
       "      <td>0.124053</td>\n",
       "      <td>-0.119072</td>\n",
       "      <td>0.119805</td>\n",
       "      <td>0.115416</td>\n",
       "      <td>-0.054993</td>\n",
       "      <td>0.001207</td>\n",
       "      <td>0.013626</td>\n",
       "      <td>-0.023338</td>\n",
       "      <td>-0.003203</td>\n",
       "      <td>...</td>\n",
       "      <td>0.069271</td>\n",
       "      <td>1.000000</td>\n",
       "      <td>0.876700</td>\n",
       "      <td>-0.189115</td>\n",
       "      <td>0.554770</td>\n",
       "      <td>0.653323</td>\n",
       "      <td>0.121333</td>\n",
       "      <td>-0.004339</td>\n",
       "      <td>-0.019505</td>\n",
       "      <td>-0.022499</td>\n",
       "    </tr>\n",
       "    <tr>\n",
       "      <td>redd_pol_comment_mean</td>\n",
       "      <td>-0.035015</td>\n",
       "      <td>0.066885</td>\n",
       "      <td>-0.064712</td>\n",
       "      <td>0.065124</td>\n",
       "      <td>0.117569</td>\n",
       "      <td>-0.039415</td>\n",
       "      <td>-0.000177</td>\n",
       "      <td>0.006805</td>\n",
       "      <td>-0.031021</td>\n",
       "      <td>-0.004823</td>\n",
       "      <td>...</td>\n",
       "      <td>0.050279</td>\n",
       "      <td>0.876700</td>\n",
       "      <td>1.000000</td>\n",
       "      <td>-0.204533</td>\n",
       "      <td>0.452065</td>\n",
       "      <td>0.695728</td>\n",
       "      <td>0.074146</td>\n",
       "      <td>-0.003971</td>\n",
       "      <td>-0.009408</td>\n",
       "      <td>-0.013912</td>\n",
       "    </tr>\n",
       "    <tr>\n",
       "      <td>redd_pol_compound_mean</td>\n",
       "      <td>0.051776</td>\n",
       "      <td>-0.145858</td>\n",
       "      <td>0.138033</td>\n",
       "      <td>-0.143675</td>\n",
       "      <td>-0.192321</td>\n",
       "      <td>0.107684</td>\n",
       "      <td>-0.000472</td>\n",
       "      <td>-0.016292</td>\n",
       "      <td>0.020938</td>\n",
       "      <td>-0.009688</td>\n",
       "      <td>...</td>\n",
       "      <td>-0.062788</td>\n",
       "      <td>-0.189115</td>\n",
       "      <td>-0.204533</td>\n",
       "      <td>1.000000</td>\n",
       "      <td>-0.138682</td>\n",
       "      <td>-0.168345</td>\n",
       "      <td>-0.199471</td>\n",
       "      <td>0.014325</td>\n",
       "      <td>0.014461</td>\n",
       "      <td>0.016034</td>\n",
       "    </tr>\n",
       "    <tr>\n",
       "      <td>redd_pol_score_sum</td>\n",
       "      <td>-0.155701</td>\n",
       "      <td>0.644708</td>\n",
       "      <td>-0.652388</td>\n",
       "      <td>0.651378</td>\n",
       "      <td>0.131155</td>\n",
       "      <td>-0.084148</td>\n",
       "      <td>0.018032</td>\n",
       "      <td>0.109662</td>\n",
       "      <td>-0.097044</td>\n",
       "      <td>0.020552</td>\n",
       "      <td>...</td>\n",
       "      <td>0.298667</td>\n",
       "      <td>0.554770</td>\n",
       "      <td>0.452065</td>\n",
       "      <td>-0.138682</td>\n",
       "      <td>1.000000</td>\n",
       "      <td>0.856435</td>\n",
       "      <td>0.628107</td>\n",
       "      <td>0.037642</td>\n",
       "      <td>-0.021141</td>\n",
       "      <td>0.018230</td>\n",
       "    </tr>\n",
       "    <tr>\n",
       "      <td>redd_pol_comment_sum</td>\n",
       "      <td>-0.119151</td>\n",
       "      <td>0.539890</td>\n",
       "      <td>-0.568352</td>\n",
       "      <td>0.569451</td>\n",
       "      <td>0.131982</td>\n",
       "      <td>-0.080130</td>\n",
       "      <td>0.029961</td>\n",
       "      <td>0.085781</td>\n",
       "      <td>-0.113691</td>\n",
       "      <td>0.046079</td>\n",
       "      <td>...</td>\n",
       "      <td>0.284248</td>\n",
       "      <td>0.653323</td>\n",
       "      <td>0.695728</td>\n",
       "      <td>-0.168345</td>\n",
       "      <td>0.856435</td>\n",
       "      <td>1.000000</td>\n",
       "      <td>0.545352</td>\n",
       "      <td>0.061347</td>\n",
       "      <td>-0.021990</td>\n",
       "      <td>0.029044</td>\n",
       "    </tr>\n",
       "    <tr>\n",
       "      <td>redd_pol_post_count</td>\n",
       "      <td>-0.208403</td>\n",
       "      <td>0.776482</td>\n",
       "      <td>-0.772492</td>\n",
       "      <td>0.805812</td>\n",
       "      <td>0.166879</td>\n",
       "      <td>-0.049490</td>\n",
       "      <td>0.142170</td>\n",
       "      <td>0.178472</td>\n",
       "      <td>-0.211706</td>\n",
       "      <td>0.250240</td>\n",
       "      <td>...</td>\n",
       "      <td>0.533915</td>\n",
       "      <td>0.121333</td>\n",
       "      <td>0.074146</td>\n",
       "      <td>-0.199471</td>\n",
       "      <td>0.628107</td>\n",
       "      <td>0.545352</td>\n",
       "      <td>1.000000</td>\n",
       "      <td>0.132240</td>\n",
       "      <td>-0.035304</td>\n",
       "      <td>0.082783</td>\n",
       "    </tr>\n",
       "    <tr>\n",
       "      <td>10-k</td>\n",
       "      <td>-0.026421</td>\n",
       "      <td>0.081154</td>\n",
       "      <td>-0.064012</td>\n",
       "      <td>0.074949</td>\n",
       "      <td>0.008224</td>\n",
       "      <td>0.004317</td>\n",
       "      <td>-0.004070</td>\n",
       "      <td>-0.015432</td>\n",
       "      <td>0.021886</td>\n",
       "      <td>-0.003465</td>\n",
       "      <td>...</td>\n",
       "      <td>-0.026126</td>\n",
       "      <td>-0.004339</td>\n",
       "      <td>-0.003971</td>\n",
       "      <td>0.014325</td>\n",
       "      <td>0.037642</td>\n",
       "      <td>0.061347</td>\n",
       "      <td>0.132240</td>\n",
       "      <td>1.000000</td>\n",
       "      <td>-0.006956</td>\n",
       "      <td>0.278218</td>\n",
       "    </tr>\n",
       "    <tr>\n",
       "      <td>10-q</td>\n",
       "      <td>0.048007</td>\n",
       "      <td>-0.018459</td>\n",
       "      <td>0.018281</td>\n",
       "      <td>-0.018614</td>\n",
       "      <td>-0.011260</td>\n",
       "      <td>0.041051</td>\n",
       "      <td>-0.006604</td>\n",
       "      <td>-0.026837</td>\n",
       "      <td>0.044557</td>\n",
       "      <td>-0.005887</td>\n",
       "      <td>...</td>\n",
       "      <td>-0.025214</td>\n",
       "      <td>-0.019505</td>\n",
       "      <td>-0.009408</td>\n",
       "      <td>0.014461</td>\n",
       "      <td>-0.021141</td>\n",
       "      <td>-0.021990</td>\n",
       "      <td>-0.035304</td>\n",
       "      <td>-0.006956</td>\n",
       "      <td>1.000000</td>\n",
       "      <td>0.483827</td>\n",
       "    </tr>\n",
       "    <tr>\n",
       "      <td>8-k</td>\n",
       "      <td>0.080915</td>\n",
       "      <td>0.047724</td>\n",
       "      <td>-0.052341</td>\n",
       "      <td>0.059423</td>\n",
       "      <td>-0.039173</td>\n",
       "      <td>0.036569</td>\n",
       "      <td>-0.014263</td>\n",
       "      <td>-0.024275</td>\n",
       "      <td>0.035850</td>\n",
       "      <td>-0.012244</td>\n",
       "      <td>...</td>\n",
       "      <td>0.017914</td>\n",
       "      <td>-0.022499</td>\n",
       "      <td>-0.013912</td>\n",
       "      <td>0.016034</td>\n",
       "      <td>0.018230</td>\n",
       "      <td>0.029044</td>\n",
       "      <td>0.082783</td>\n",
       "      <td>0.278218</td>\n",
       "      <td>0.483827</td>\n",
       "      <td>1.000000</td>\n",
       "    </tr>\n",
       "  </tbody>\n",
       "</table>\n",
       "<p>21 rows × 21 columns</p>\n",
       "</div>"
      ],
      "text/plain": [
       "                           open_price  tweet_word_count_sum  \\\n",
       "open_price                   1.000000             -0.167241   \n",
       "tweet_word_count_sum        -0.167241              1.000000   \n",
       "tweet_compound_score_sum     0.147320             -0.976781   \n",
       "tweets_sum                  -0.154642              0.980468   \n",
       "tweet_word_count_mean       -0.054772              0.213864   \n",
       "tweet_compound_score_mean    0.184227             -0.131202   \n",
       "redd_gun_score_mean         -0.072387              0.056017   \n",
       "redd_gun_comment_mean       -0.077501              0.119796   \n",
       "redd_gun_compound_mean       0.057869             -0.171733   \n",
       "redd_gun_score_sum          -0.042843              0.091387   \n",
       "redd_gun_comment_sum        -0.075388              0.163116   \n",
       "redd_gun_post_count         -0.096421              0.393387   \n",
       "redd_pol_score_mean         -0.073797              0.124053   \n",
       "redd_pol_comment_mean       -0.035015              0.066885   \n",
       "redd_pol_compound_mean       0.051776             -0.145858   \n",
       "redd_pol_score_sum          -0.155701              0.644708   \n",
       "redd_pol_comment_sum        -0.119151              0.539890   \n",
       "redd_pol_post_count         -0.208403              0.776482   \n",
       "10-k                        -0.026421              0.081154   \n",
       "10-q                         0.048007             -0.018459   \n",
       "8-k                          0.080915              0.047724   \n",
       "\n",
       "                           tweet_compound_score_sum  tweets_sum  \\\n",
       "open_price                                 0.147320   -0.154642   \n",
       "tweet_word_count_sum                      -0.976781    0.980468   \n",
       "tweet_compound_score_sum                   1.000000   -0.996692   \n",
       "tweets_sum                                -0.996692    1.000000   \n",
       "tweet_word_count_mean                     -0.155085    0.167730   \n",
       "tweet_compound_score_mean                  0.164066   -0.137549   \n",
       "redd_gun_score_mean                       -0.073360    0.077156   \n",
       "redd_gun_comment_mean                     -0.124456    0.134752   \n",
       "redd_gun_compound_mean                     0.170887   -0.181553   \n",
       "redd_gun_score_sum                        -0.123904    0.131022   \n",
       "redd_gun_comment_sum                      -0.190856    0.204183   \n",
       "redd_gun_post_count                       -0.431669    0.450789   \n",
       "redd_pol_score_mean                       -0.119072    0.119805   \n",
       "redd_pol_comment_mean                     -0.064712    0.065124   \n",
       "redd_pol_compound_mean                     0.138033   -0.143675   \n",
       "redd_pol_score_sum                        -0.652388    0.651378   \n",
       "redd_pol_comment_sum                      -0.568352    0.569451   \n",
       "redd_pol_post_count                       -0.772492    0.805812   \n",
       "10-k                                      -0.064012    0.074949   \n",
       "10-q                                       0.018281   -0.018614   \n",
       "8-k                                       -0.052341    0.059423   \n",
       "\n",
       "                           tweet_word_count_mean  tweet_compound_score_mean  \\\n",
       "open_price                             -0.054772                   0.184227   \n",
       "tweet_word_count_sum                    0.213864                  -0.131202   \n",
       "tweet_compound_score_sum               -0.155085                   0.164066   \n",
       "tweets_sum                              0.167730                  -0.137549   \n",
       "tweet_word_count_mean                   1.000000                   0.044520   \n",
       "tweet_compound_score_mean               0.044520                   1.000000   \n",
       "redd_gun_score_mean                     0.023456                  -0.004415   \n",
       "redd_gun_comment_mean                   0.021793                  -0.005565   \n",
       "redd_gun_compound_mean                  0.007803                  -0.008860   \n",
       "redd_gun_score_sum                     -0.006249                  -0.011758   \n",
       "redd_gun_comment_sum                   -0.000463                  -0.010552   \n",
       "redd_gun_post_count                     0.004640                  -0.023671   \n",
       "redd_pol_score_mean                     0.115416                  -0.054993   \n",
       "redd_pol_comment_mean                   0.117569                  -0.039415   \n",
       "redd_pol_compound_mean                 -0.192321                   0.107684   \n",
       "redd_pol_score_sum                      0.131155                  -0.084148   \n",
       "redd_pol_comment_sum                    0.131982                  -0.080130   \n",
       "redd_pol_post_count                     0.166879                  -0.049490   \n",
       "10-k                                    0.008224                   0.004317   \n",
       "10-q                                   -0.011260                   0.041051   \n",
       "8-k                                    -0.039173                   0.036569   \n",
       "\n",
       "                           redd_gun_score_mean  redd_gun_comment_mean  \\\n",
       "open_price                           -0.072387              -0.077501   \n",
       "tweet_word_count_sum                  0.056017               0.119796   \n",
       "tweet_compound_score_sum             -0.073360              -0.124456   \n",
       "tweets_sum                            0.077156               0.134752   \n",
       "tweet_word_count_mean                 0.023456               0.021793   \n",
       "tweet_compound_score_mean            -0.004415              -0.005565   \n",
       "redd_gun_score_mean                   1.000000               0.653561   \n",
       "redd_gun_comment_mean                 0.653561               1.000000   \n",
       "redd_gun_compound_mean               -0.154799              -0.401528   \n",
       "redd_gun_score_sum                    0.856044               0.509226   \n",
       "redd_gun_comment_sum                  0.844504               0.827055   \n",
       "redd_gun_post_count                   0.283621               0.487152   \n",
       "redd_pol_score_mean                   0.001207               0.013626   \n",
       "redd_pol_comment_mean                -0.000177               0.006805   \n",
       "redd_pol_compound_mean               -0.000472              -0.016292   \n",
       "redd_pol_score_sum                    0.018032               0.109662   \n",
       "redd_pol_comment_sum                  0.029961               0.085781   \n",
       "redd_pol_post_count                   0.142170               0.178472   \n",
       "10-k                                 -0.004070              -0.015432   \n",
       "10-q                                 -0.006604              -0.026837   \n",
       "8-k                                  -0.014263              -0.024275   \n",
       "\n",
       "                           redd_gun_compound_mean  redd_gun_score_sum  ...  \\\n",
       "open_price                               0.057869           -0.042843  ...   \n",
       "tweet_word_count_sum                    -0.171733            0.091387  ...   \n",
       "tweet_compound_score_sum                 0.170887           -0.123904  ...   \n",
       "tweets_sum                              -0.181553            0.131022  ...   \n",
       "tweet_word_count_mean                    0.007803           -0.006249  ...   \n",
       "tweet_compound_score_mean               -0.008860           -0.011758  ...   \n",
       "redd_gun_score_mean                     -0.154799            0.856044  ...   \n",
       "redd_gun_comment_mean                   -0.401528            0.509226  ...   \n",
       "redd_gun_compound_mean                   1.000000           -0.096785  ...   \n",
       "redd_gun_score_sum                      -0.096785            1.000000  ...   \n",
       "redd_gun_comment_sum                    -0.267081            0.881831  ...   \n",
       "redd_gun_post_count                     -0.578294            0.362226  ...   \n",
       "redd_pol_score_mean                     -0.023338           -0.003203  ...   \n",
       "redd_pol_comment_mean                   -0.031021           -0.004823  ...   \n",
       "redd_pol_compound_mean                   0.020938           -0.009688  ...   \n",
       "redd_pol_score_sum                      -0.097044            0.020552  ...   \n",
       "redd_pol_comment_sum                    -0.113691            0.046079  ...   \n",
       "redd_pol_post_count                     -0.211706            0.250240  ...   \n",
       "10-k                                     0.021886           -0.003465  ...   \n",
       "10-q                                     0.044557           -0.005887  ...   \n",
       "8-k                                      0.035850           -0.012244  ...   \n",
       "\n",
       "                           redd_gun_post_count  redd_pol_score_mean  \\\n",
       "open_price                           -0.096421            -0.073797   \n",
       "tweet_word_count_sum                  0.393387             0.124053   \n",
       "tweet_compound_score_sum             -0.431669            -0.119072   \n",
       "tweets_sum                            0.450789             0.119805   \n",
       "tweet_word_count_mean                 0.004640             0.115416   \n",
       "tweet_compound_score_mean            -0.023671            -0.054993   \n",
       "redd_gun_score_mean                   0.283621             0.001207   \n",
       "redd_gun_comment_mean                 0.487152             0.013626   \n",
       "redd_gun_compound_mean               -0.578294            -0.023338   \n",
       "redd_gun_score_sum                    0.362226            -0.003203   \n",
       "redd_gun_comment_sum                  0.557671             0.008388   \n",
       "redd_gun_post_count                   1.000000             0.069271   \n",
       "redd_pol_score_mean                   0.069271             1.000000   \n",
       "redd_pol_comment_mean                 0.050279             0.876700   \n",
       "redd_pol_compound_mean               -0.062788            -0.189115   \n",
       "redd_pol_score_sum                    0.298667             0.554770   \n",
       "redd_pol_comment_sum                  0.284248             0.653323   \n",
       "redd_pol_post_count                   0.533915             0.121333   \n",
       "10-k                                 -0.026126            -0.004339   \n",
       "10-q                                 -0.025214            -0.019505   \n",
       "8-k                                   0.017914            -0.022499   \n",
       "\n",
       "                           redd_pol_comment_mean  redd_pol_compound_mean  \\\n",
       "open_price                             -0.035015                0.051776   \n",
       "tweet_word_count_sum                    0.066885               -0.145858   \n",
       "tweet_compound_score_sum               -0.064712                0.138033   \n",
       "tweets_sum                              0.065124               -0.143675   \n",
       "tweet_word_count_mean                   0.117569               -0.192321   \n",
       "tweet_compound_score_mean              -0.039415                0.107684   \n",
       "redd_gun_score_mean                    -0.000177               -0.000472   \n",
       "redd_gun_comment_mean                   0.006805               -0.016292   \n",
       "redd_gun_compound_mean                 -0.031021                0.020938   \n",
       "redd_gun_score_sum                     -0.004823               -0.009688   \n",
       "redd_gun_comment_sum                    0.000265               -0.021809   \n",
       "redd_gun_post_count                     0.050279               -0.062788   \n",
       "redd_pol_score_mean                     0.876700               -0.189115   \n",
       "redd_pol_comment_mean                   1.000000               -0.204533   \n",
       "redd_pol_compound_mean                 -0.204533                1.000000   \n",
       "redd_pol_score_sum                      0.452065               -0.138682   \n",
       "redd_pol_comment_sum                    0.695728               -0.168345   \n",
       "redd_pol_post_count                     0.074146               -0.199471   \n",
       "10-k                                   -0.003971                0.014325   \n",
       "10-q                                   -0.009408                0.014461   \n",
       "8-k                                    -0.013912                0.016034   \n",
       "\n",
       "                           redd_pol_score_sum  redd_pol_comment_sum  \\\n",
       "open_price                          -0.155701             -0.119151   \n",
       "tweet_word_count_sum                 0.644708              0.539890   \n",
       "tweet_compound_score_sum            -0.652388             -0.568352   \n",
       "tweets_sum                           0.651378              0.569451   \n",
       "tweet_word_count_mean                0.131155              0.131982   \n",
       "tweet_compound_score_mean           -0.084148             -0.080130   \n",
       "redd_gun_score_mean                  0.018032              0.029961   \n",
       "redd_gun_comment_mean                0.109662              0.085781   \n",
       "redd_gun_compound_mean              -0.097044             -0.113691   \n",
       "redd_gun_score_sum                   0.020552              0.046079   \n",
       "redd_gun_comment_sum                 0.107555              0.103882   \n",
       "redd_gun_post_count                  0.298667              0.284248   \n",
       "redd_pol_score_mean                  0.554770              0.653323   \n",
       "redd_pol_comment_mean                0.452065              0.695728   \n",
       "redd_pol_compound_mean              -0.138682             -0.168345   \n",
       "redd_pol_score_sum                   1.000000              0.856435   \n",
       "redd_pol_comment_sum                 0.856435              1.000000   \n",
       "redd_pol_post_count                  0.628107              0.545352   \n",
       "10-k                                 0.037642              0.061347   \n",
       "10-q                                -0.021141             -0.021990   \n",
       "8-k                                  0.018230              0.029044   \n",
       "\n",
       "                           redd_pol_post_count      10-k      10-q       8-k  \n",
       "open_price                           -0.208403 -0.026421  0.048007  0.080915  \n",
       "tweet_word_count_sum                  0.776482  0.081154 -0.018459  0.047724  \n",
       "tweet_compound_score_sum             -0.772492 -0.064012  0.018281 -0.052341  \n",
       "tweets_sum                            0.805812  0.074949 -0.018614  0.059423  \n",
       "tweet_word_count_mean                 0.166879  0.008224 -0.011260 -0.039173  \n",
       "tweet_compound_score_mean            -0.049490  0.004317  0.041051  0.036569  \n",
       "redd_gun_score_mean                   0.142170 -0.004070 -0.006604 -0.014263  \n",
       "redd_gun_comment_mean                 0.178472 -0.015432 -0.026837 -0.024275  \n",
       "redd_gun_compound_mean               -0.211706  0.021886  0.044557  0.035850  \n",
       "redd_gun_score_sum                    0.250240 -0.003465 -0.005887 -0.012244  \n",
       "redd_gun_comment_sum                  0.315964 -0.010749 -0.018693 -0.011299  \n",
       "redd_gun_post_count                   0.533915 -0.026126 -0.025214  0.017914  \n",
       "redd_pol_score_mean                   0.121333 -0.004339 -0.019505 -0.022499  \n",
       "redd_pol_comment_mean                 0.074146 -0.003971 -0.009408 -0.013912  \n",
       "redd_pol_compound_mean               -0.199471  0.014325  0.014461  0.016034  \n",
       "redd_pol_score_sum                    0.628107  0.037642 -0.021141  0.018230  \n",
       "redd_pol_comment_sum                  0.545352  0.061347 -0.021990  0.029044  \n",
       "redd_pol_post_count                   1.000000  0.132240 -0.035304  0.082783  \n",
       "10-k                                  0.132240  1.000000 -0.006956  0.278218  \n",
       "10-q                                 -0.035304 -0.006956  1.000000  0.483827  \n",
       "8-k                                   0.082783  0.278218  0.483827  1.000000  \n",
       "\n",
       "[21 rows x 21 columns]"
      ]
     },
     "execution_count": 261,
     "metadata": {},
     "output_type": "execute_result"
    }
   ],
   "source": [
    "train.corr()"
   ]
  },
  {
   "cell_type": "code",
   "execution_count": 260,
   "metadata": {},
   "outputs": [
    {
     "data": {
      "text/plain": [
       "<matplotlib.axes._subplots.AxesSubplot at 0x12c3187b8>"
      ]
     },
     "execution_count": 260,
     "metadata": {},
     "output_type": "execute_result"
    },
    {
     "data": {
      "image/png": "[encoded data removed]",
      "text/plain": [
       "<Figure size 432x288 with 2 Axes>"
      ]
     },
     "metadata": {},
     "output_type": "display_data"
    }
   ],
   "source": [
    "sns.heatmap(train.corr(), cmap = 'coolwarm', vmin = -1, vmax = 1)"
   ]
  },
  {
   "cell_type": "code",
   "execution_count": 266,
   "metadata": {},
   "outputs": [
    {
     "data": {
      "text/plain": [
       "[(0, 0, 0, 5),\n",
       " (0, 0, 1, 5),\n",
       " (0, 1, 0, 5),\n",
       " (0, 1, 1, 5),\n",
       " (1, 0, 0, 5),\n",
       " (1, 0, 1, 5),\n",
       " (1, 1, 0, 5),\n",
       " (1, 1, 1, 5)]"
      ]
     },
     "execution_count": 266,
     "metadata": {},
     "output_type": "execute_result"
    }
   ],
   "source": [
    "p = d = q = range(0, 2)\n",
    "pdq = list(itertools.product(p, d, q))\n",
    "seasonal_pdq = [(x[0], x[1], x[2], 5) for x in list(itertools.product(p, d, q))]\n",
    "\n",
    "seasonal_pdq"
   ]
  },
  {
   "cell_type": "code",
   "execution_count": 270,
   "metadata": {},
   "outputs": [
    {
     "name": "stderr",
     "output_type": "stream",
     "text": [
      "/Users/jackwang/anaconda3/lib/python3.7/site-packages/statsmodels/tsa/base/tsa_model.py:219: ValueWarning: A date index has been provided, but it has no associated frequency information and so will be ignored when e.g. forecasting.\n",
      "  ' ignored when e.g. forecasting.', ValueWarning)\n"
     ]
    },
    {
     "name": "stdout",
     "output_type": "stream",
     "text": [
      "ARIMA(0, 0, 0)x(0, 0, 0, 5)5 - AIC:9526.023213012943\n"
     ]
    },
    {
     "name": "stderr",
     "output_type": "stream",
     "text": [
      "/Users/jackwang/anaconda3/lib/python3.7/site-packages/statsmodels/tsa/base/tsa_model.py:219: ValueWarning: A date index has been provided, but it has no associated frequency information and so will be ignored when e.g. forecasting.\n",
      "  ' ignored when e.g. forecasting.', ValueWarning)\n",
      "/Users/jackwang/anaconda3/lib/python3.7/site-packages/statsmodels/base/model.py:512: ConvergenceWarning: Maximum Likelihood optimization failed to converge. Check mle_retvals\n",
      "  \"Check mle_retvals\", ConvergenceWarning)\n",
      "/Users/jackwang/anaconda3/lib/python3.7/site-packages/statsmodels/tsa/base/tsa_model.py:219: ValueWarning: A date index has been provided, but it has no associated frequency information and so will be ignored when e.g. forecasting.\n",
      "  ' ignored when e.g. forecasting.', ValueWarning)\n"
     ]
    },
    {
     "name": "stdout",
     "output_type": "stream",
     "text": [
      "ARIMA(0, 0, 0)x(0, 0, 1, 5)5 - AIC:5091.75211057128\n"
     ]
    },
    {
     "name": "stderr",
     "output_type": "stream",
     "text": [
      "/Users/jackwang/anaconda3/lib/python3.7/site-packages/statsmodels/base/model.py:512: ConvergenceWarning: Maximum Likelihood optimization failed to converge. Check mle_retvals\n",
      "  \"Check mle_retvals\", ConvergenceWarning)\n",
      "/Users/jackwang/anaconda3/lib/python3.7/site-packages/statsmodels/tsa/base/tsa_model.py:219: ValueWarning: A date index has been provided, but it has no associated frequency information and so will be ignored when e.g. forecasting.\n",
      "  ' ignored when e.g. forecasting.', ValueWarning)\n"
     ]
    },
    {
     "name": "stdout",
     "output_type": "stream",
     "text": [
      "ARIMA(0, 0, 0)x(0, 1, 0, 5)5 - AIC:7690.797122898065\n"
     ]
    },
    {
     "name": "stderr",
     "output_type": "stream",
     "text": [
      "/Users/jackwang/anaconda3/lib/python3.7/site-packages/statsmodels/base/model.py:512: ConvergenceWarning: Maximum Likelihood optimization failed to converge. Check mle_retvals\n",
      "  \"Check mle_retvals\", ConvergenceWarning)\n",
      "/Users/jackwang/anaconda3/lib/python3.7/site-packages/statsmodels/tsa/base/tsa_model.py:219: ValueWarning: A date index has been provided, but it has no associated frequency information and so will be ignored when e.g. forecasting.\n",
      "  ' ignored when e.g. forecasting.', ValueWarning)\n"
     ]
    },
    {
     "name": "stdout",
     "output_type": "stream",
     "text": [
      "ARIMA(0, 0, 0)x(0, 1, 1, 5)5 - AIC:3480.3586721059164\n"
     ]
    },
    {
     "name": "stderr",
     "output_type": "stream",
     "text": [
      "/Users/jackwang/anaconda3/lib/python3.7/site-packages/statsmodels/base/model.py:512: ConvergenceWarning: Maximum Likelihood optimization failed to converge. Check mle_retvals\n",
      "  \"Check mle_retvals\", ConvergenceWarning)\n",
      "/Users/jackwang/anaconda3/lib/python3.7/site-packages/statsmodels/tsa/base/tsa_model.py:219: ValueWarning: A date index has been provided, but it has no associated frequency information and so will be ignored when e.g. forecasting.\n",
      "  ' ignored when e.g. forecasting.', ValueWarning)\n"
     ]
    },
    {
     "name": "stdout",
     "output_type": "stream",
     "text": [
      "ARIMA(0, 0, 0)x(1, 0, 0, 5)5 - AIC:4842.02082139909\n",
      "ARIMA(0, 0, 0)x(1, 0, 1, 5)5 - AIC:4849.9026539182305\n"
     ]
    },
    {
     "name": "stderr",
     "output_type": "stream",
     "text": [
      "/Users/jackwang/anaconda3/lib/python3.7/site-packages/statsmodels/tsa/base/tsa_model.py:219: ValueWarning: A date index has been provided, but it has no associated frequency information and so will be ignored when e.g. forecasting.\n",
      "  ' ignored when e.g. forecasting.', ValueWarning)\n",
      "/Users/jackwang/anaconda3/lib/python3.7/site-packages/statsmodels/base/model.py:512: ConvergenceWarning: Maximum Likelihood optimization failed to converge. Check mle_retvals\n",
      "  \"Check mle_retvals\", ConvergenceWarning)\n",
      "/Users/jackwang/anaconda3/lib/python3.7/site-packages/statsmodels/tsa/base/tsa_model.py:219: ValueWarning: A date index has been provided, but it has no associated frequency information and so will be ignored when e.g. forecasting.\n",
      "  ' ignored when e.g. forecasting.', ValueWarning)\n"
     ]
    },
    {
     "name": "stdout",
     "output_type": "stream",
     "text": [
      "ARIMA(0, 0, 0)x(1, 1, 0, 5)5 - AIC:3479.3987947969486\n"
     ]
    },
    {
     "name": "stderr",
     "output_type": "stream",
     "text": [
      "/Users/jackwang/anaconda3/lib/python3.7/site-packages/statsmodels/base/model.py:512: ConvergenceWarning: Maximum Likelihood optimization failed to converge. Check mle_retvals\n",
      "  \"Check mle_retvals\", ConvergenceWarning)\n",
      "/Users/jackwang/anaconda3/lib/python3.7/site-packages/statsmodels/tsa/base/tsa_model.py:219: ValueWarning: A date index has been provided, but it has no associated frequency information and so will be ignored when e.g. forecasting.\n",
      "  ' ignored when e.g. forecasting.', ValueWarning)\n"
     ]
    },
    {
     "name": "stdout",
     "output_type": "stream",
     "text": [
      "ARIMA(0, 0, 0)x(1, 1, 1, 5)5 - AIC:3482.358010387235\n"
     ]
    },
    {
     "name": "stderr",
     "output_type": "stream",
     "text": [
      "/Users/jackwang/anaconda3/lib/python3.7/site-packages/statsmodels/base/model.py:512: ConvergenceWarning: Maximum Likelihood optimization failed to converge. Check mle_retvals\n",
      "  \"Check mle_retvals\", ConvergenceWarning)\n",
      "/Users/jackwang/anaconda3/lib/python3.7/site-packages/statsmodels/tsa/base/tsa_model.py:219: ValueWarning: A date index has been provided, but it has no associated frequency information and so will be ignored when e.g. forecasting.\n",
      "  ' ignored when e.g. forecasting.', ValueWarning)\n"
     ]
    },
    {
     "name": "stdout",
     "output_type": "stream",
     "text": [
      "ARIMA(0, 0, 1)x(0, 0, 0, 5)5 - AIC:4973.970001664589\n"
     ]
    },
    {
     "name": "stderr",
     "output_type": "stream",
     "text": [
      "/Users/jackwang/anaconda3/lib/python3.7/site-packages/statsmodels/base/model.py:512: ConvergenceWarning: Maximum Likelihood optimization failed to converge. Check mle_retvals\n",
      "  \"Check mle_retvals\", ConvergenceWarning)\n",
      "/Users/jackwang/anaconda3/lib/python3.7/site-packages/statsmodels/tsa/base/tsa_model.py:219: ValueWarning: A date index has been provided, but it has no associated frequency information and so will be ignored when e.g. forecasting.\n",
      "  ' ignored when e.g. forecasting.', ValueWarning)\n"
     ]
    },
    {
     "name": "stdout",
     "output_type": "stream",
     "text": [
      "ARIMA(0, 0, 1)x(0, 0, 1, 5)5 - AIC:4880.723875250326\n"
     ]
    },
    {
     "name": "stderr",
     "output_type": "stream",
     "text": [
      "/Users/jackwang/anaconda3/lib/python3.7/site-packages/statsmodels/base/model.py:512: ConvergenceWarning: Maximum Likelihood optimization failed to converge. Check mle_retvals\n",
      "  \"Check mle_retvals\", ConvergenceWarning)\n",
      "/Users/jackwang/anaconda3/lib/python3.7/site-packages/statsmodels/tsa/base/tsa_model.py:219: ValueWarning: A date index has been provided, but it has no associated frequency information and so will be ignored when e.g. forecasting.\n",
      "  ' ignored when e.g. forecasting.', ValueWarning)\n"
     ]
    },
    {
     "name": "stdout",
     "output_type": "stream",
     "text": [
      "ARIMA(0, 0, 1)x(0, 1, 0, 5)5 - AIC:3240.068046521347\n"
     ]
    },
    {
     "name": "stderr",
     "output_type": "stream",
     "text": [
      "/Users/jackwang/anaconda3/lib/python3.7/site-packages/statsmodels/base/model.py:512: ConvergenceWarning: Maximum Likelihood optimization failed to converge. Check mle_retvals\n",
      "  \"Check mle_retvals\", ConvergenceWarning)\n",
      "/Users/jackwang/anaconda3/lib/python3.7/site-packages/statsmodels/tsa/base/tsa_model.py:219: ValueWarning: A date index has been provided, but it has no associated frequency information and so will be ignored when e.g. forecasting.\n",
      "  ' ignored when e.g. forecasting.', ValueWarning)\n"
     ]
    },
    {
     "name": "stdout",
     "output_type": "stream",
     "text": [
      "ARIMA(0, 0, 1)x(0, 1, 1, 5)5 - AIC:3181.129988819135\n"
     ]
    },
    {
     "name": "stderr",
     "output_type": "stream",
     "text": [
      "/Users/jackwang/anaconda3/lib/python3.7/site-packages/statsmodels/base/model.py:512: ConvergenceWarning: Maximum Likelihood optimization failed to converge. Check mle_retvals\n",
      "  \"Check mle_retvals\", ConvergenceWarning)\n",
      "/Users/jackwang/anaconda3/lib/python3.7/site-packages/statsmodels/tsa/base/tsa_model.py:219: ValueWarning: A date index has been provided, but it has no associated frequency information and so will be ignored when e.g. forecasting.\n",
      "  ' ignored when e.g. forecasting.', ValueWarning)\n"
     ]
    },
    {
     "name": "stdout",
     "output_type": "stream",
     "text": [
      "ARIMA(0, 0, 1)x(1, 0, 0, 5)5 - AIC:4877.345873837738\n",
      "ARIMA(0, 0, 1)x(1, 0, 1, 5)5 - AIC:4810.688009342613\n"
     ]
    },
    {
     "name": "stderr",
     "output_type": "stream",
     "text": [
      "/Users/jackwang/anaconda3/lib/python3.7/site-packages/statsmodels/tsa/base/tsa_model.py:219: ValueWarning: A date index has been provided, but it has no associated frequency information and so will be ignored when e.g. forecasting.\n",
      "  ' ignored when e.g. forecasting.', ValueWarning)\n",
      "/Users/jackwang/anaconda3/lib/python3.7/site-packages/statsmodels/base/model.py:512: ConvergenceWarning: Maximum Likelihood optimization failed to converge. Check mle_retvals\n",
      "  \"Check mle_retvals\", ConvergenceWarning)\n",
      "/Users/jackwang/anaconda3/lib/python3.7/site-packages/statsmodels/tsa/base/tsa_model.py:219: ValueWarning: A date index has been provided, but it has no associated frequency information and so will be ignored when e.g. forecasting.\n",
      "  ' ignored when e.g. forecasting.', ValueWarning)\n"
     ]
    },
    {
     "name": "stdout",
     "output_type": "stream",
     "text": [
      "ARIMA(0, 0, 1)x(1, 1, 0, 5)5 - AIC:3214.3921727156517\n"
     ]
    },
    {
     "name": "stderr",
     "output_type": "stream",
     "text": [
      "/Users/jackwang/anaconda3/lib/python3.7/site-packages/statsmodels/base/model.py:512: ConvergenceWarning: Maximum Likelihood optimization failed to converge. Check mle_retvals\n",
      "  \"Check mle_retvals\", ConvergenceWarning)\n",
      "/Users/jackwang/anaconda3/lib/python3.7/site-packages/statsmodels/tsa/base/tsa_model.py:219: ValueWarning: A date index has been provided, but it has no associated frequency information and so will be ignored when e.g. forecasting.\n",
      "  ' ignored when e.g. forecasting.', ValueWarning)\n"
     ]
    },
    {
     "name": "stdout",
     "output_type": "stream",
     "text": [
      "ARIMA(0, 0, 1)x(1, 1, 1, 5)5 - AIC:3183.338050184001\n"
     ]
    },
    {
     "name": "stderr",
     "output_type": "stream",
     "text": [
      "/Users/jackwang/anaconda3/lib/python3.7/site-packages/statsmodels/base/model.py:512: ConvergenceWarning: Maximum Likelihood optimization failed to converge. Check mle_retvals\n",
      "  \"Check mle_retvals\", ConvergenceWarning)\n",
      "/Users/jackwang/anaconda3/lib/python3.7/site-packages/statsmodels/tsa/base/tsa_model.py:219: ValueWarning: A date index has been provided, but it has no associated frequency information and so will be ignored when e.g. forecasting.\n",
      "  ' ignored when e.g. forecasting.', ValueWarning)\n"
     ]
    },
    {
     "name": "stdout",
     "output_type": "stream",
     "text": [
      "ARIMA(0, 1, 0)x(0, 0, 0, 5)5 - AIC:6531.842256776279\n"
     ]
    },
    {
     "name": "stderr",
     "output_type": "stream",
     "text": [
      "/Users/jackwang/anaconda3/lib/python3.7/site-packages/statsmodels/base/model.py:512: ConvergenceWarning: Maximum Likelihood optimization failed to converge. Check mle_retvals\n",
      "  \"Check mle_retvals\", ConvergenceWarning)\n",
      "/Users/jackwang/anaconda3/lib/python3.7/site-packages/statsmodels/tsa/base/tsa_model.py:219: ValueWarning: A date index has been provided, but it has no associated frequency information and so will be ignored when e.g. forecasting.\n",
      "  ' ignored when e.g. forecasting.', ValueWarning)\n"
     ]
    },
    {
     "name": "stdout",
     "output_type": "stream",
     "text": [
      "ARIMA(0, 1, 0)x(0, 0, 1, 5)5 - AIC:2298.0700932421387\n",
      "ARIMA(0, 1, 0)x(0, 1, 0, 5)5 - AIC:7008.967719270667\n"
     ]
    },
    {
     "name": "stderr",
     "output_type": "stream",
     "text": [
      "/Users/jackwang/anaconda3/lib/python3.7/site-packages/statsmodels/tsa/base/tsa_model.py:219: ValueWarning: A date index has been provided, but it has no associated frequency information and so will be ignored when e.g. forecasting.\n",
      "  ' ignored when e.g. forecasting.', ValueWarning)\n",
      "/Users/jackwang/anaconda3/lib/python3.7/site-packages/statsmodels/base/model.py:512: ConvergenceWarning: Maximum Likelihood optimization failed to converge. Check mle_retvals\n",
      "  \"Check mle_retvals\", ConvergenceWarning)\n",
      "/Users/jackwang/anaconda3/lib/python3.7/site-packages/statsmodels/tsa/base/tsa_model.py:219: ValueWarning: A date index has been provided, but it has no associated frequency information and so will be ignored when e.g. forecasting.\n",
      "  ' ignored when e.g. forecasting.', ValueWarning)\n"
     ]
    },
    {
     "name": "stdout",
     "output_type": "stream",
     "text": [
      "ARIMA(0, 1, 0)x(0, 1, 1, 5)5 - AIC:2356.212930351505\n"
     ]
    },
    {
     "name": "stderr",
     "output_type": "stream",
     "text": [
      "/Users/jackwang/anaconda3/lib/python3.7/site-packages/statsmodels/base/model.py:512: ConvergenceWarning: Maximum Likelihood optimization failed to converge. Check mle_retvals\n",
      "  \"Check mle_retvals\", ConvergenceWarning)\n",
      "/Users/jackwang/anaconda3/lib/python3.7/site-packages/statsmodels/tsa/base/tsa_model.py:219: ValueWarning: A date index has been provided, but it has no associated frequency information and so will be ignored when e.g. forecasting.\n",
      "  ' ignored when e.g. forecasting.', ValueWarning)\n"
     ]
    },
    {
     "name": "stdout",
     "output_type": "stream",
     "text": [
      "ARIMA(0, 1, 0)x(1, 0, 0, 5)5 - AIC:2300.1864282898505\n"
     ]
    },
    {
     "name": "stderr",
     "output_type": "stream",
     "text": [
      "/Users/jackwang/anaconda3/lib/python3.7/site-packages/statsmodels/base/model.py:512: ConvergenceWarning: Maximum Likelihood optimization failed to converge. Check mle_retvals\n",
      "  \"Check mle_retvals\", ConvergenceWarning)\n",
      "/Users/jackwang/anaconda3/lib/python3.7/site-packages/statsmodels/tsa/base/tsa_model.py:219: ValueWarning: A date index has been provided, but it has no associated frequency information and so will be ignored when e.g. forecasting.\n",
      "  ' ignored when e.g. forecasting.', ValueWarning)\n"
     ]
    },
    {
     "name": "stdout",
     "output_type": "stream",
     "text": [
      "ARIMA(0, 1, 0)x(1, 0, 1, 5)5 - AIC:2299.8718445445325\n"
     ]
    },
    {
     "name": "stderr",
     "output_type": "stream",
     "text": [
      "/Users/jackwang/anaconda3/lib/python3.7/site-packages/statsmodels/base/model.py:512: ConvergenceWarning: Maximum Likelihood optimization failed to converge. Check mle_retvals\n",
      "  \"Check mle_retvals\", ConvergenceWarning)\n",
      "/Users/jackwang/anaconda3/lib/python3.7/site-packages/statsmodels/tsa/base/tsa_model.py:219: ValueWarning: A date index has been provided, but it has no associated frequency information and so will be ignored when e.g. forecasting.\n",
      "  ' ignored when e.g. forecasting.', ValueWarning)\n"
     ]
    },
    {
     "name": "stdout",
     "output_type": "stream",
     "text": [
      "ARIMA(0, 1, 0)x(1, 1, 0, 5)5 - AIC:2563.4733981308786\n"
     ]
    },
    {
     "name": "stderr",
     "output_type": "stream",
     "text": [
      "/Users/jackwang/anaconda3/lib/python3.7/site-packages/statsmodels/base/model.py:512: ConvergenceWarning: Maximum Likelihood optimization failed to converge. Check mle_retvals\n",
      "  \"Check mle_retvals\", ConvergenceWarning)\n",
      "/Users/jackwang/anaconda3/lib/python3.7/site-packages/statsmodels/tsa/base/tsa_model.py:219: ValueWarning: A date index has been provided, but it has no associated frequency information and so will be ignored when e.g. forecasting.\n",
      "  ' ignored when e.g. forecasting.', ValueWarning)\n"
     ]
    },
    {
     "name": "stdout",
     "output_type": "stream",
     "text": [
      "ARIMA(0, 1, 0)x(1, 1, 1, 5)5 - AIC:2374.205907145363\n"
     ]
    },
    {
     "name": "stderr",
     "output_type": "stream",
     "text": [
      "/Users/jackwang/anaconda3/lib/python3.7/site-packages/statsmodels/base/model.py:512: ConvergenceWarning: Maximum Likelihood optimization failed to converge. Check mle_retvals\n",
      "  \"Check mle_retvals\", ConvergenceWarning)\n",
      "/Users/jackwang/anaconda3/lib/python3.7/site-packages/statsmodels/tsa/base/tsa_model.py:219: ValueWarning: A date index has been provided, but it has no associated frequency information and so will be ignored when e.g. forecasting.\n",
      "  ' ignored when e.g. forecasting.', ValueWarning)\n"
     ]
    },
    {
     "name": "stdout",
     "output_type": "stream",
     "text": [
      "ARIMA(0, 1, 1)x(0, 0, 0, 5)5 - AIC:2306.803208347781\n"
     ]
    },
    {
     "name": "stderr",
     "output_type": "stream",
     "text": [
      "/Users/jackwang/anaconda3/lib/python3.7/site-packages/statsmodels/base/model.py:512: ConvergenceWarning: Maximum Likelihood optimization failed to converge. Check mle_retvals\n",
      "  \"Check mle_retvals\", ConvergenceWarning)\n",
      "/Users/jackwang/anaconda3/lib/python3.7/site-packages/statsmodels/tsa/base/tsa_model.py:219: ValueWarning: A date index has been provided, but it has no associated frequency information and so will be ignored when e.g. forecasting.\n",
      "  ' ignored when e.g. forecasting.', ValueWarning)\n"
     ]
    },
    {
     "name": "stdout",
     "output_type": "stream",
     "text": [
      "ARIMA(0, 1, 1)x(0, 0, 1, 5)5 - AIC:2295.3517542193094\n"
     ]
    },
    {
     "name": "stderr",
     "output_type": "stream",
     "text": [
      "/Users/jackwang/anaconda3/lib/python3.7/site-packages/statsmodels/base/model.py:512: ConvergenceWarning: Maximum Likelihood optimization failed to converge. Check mle_retvals\n",
      "  \"Check mle_retvals\", ConvergenceWarning)\n",
      "/Users/jackwang/anaconda3/lib/python3.7/site-packages/statsmodels/tsa/base/tsa_model.py:219: ValueWarning: A date index has been provided, but it has no associated frequency information and so will be ignored when e.g. forecasting.\n",
      "  ' ignored when e.g. forecasting.', ValueWarning)\n"
     ]
    },
    {
     "name": "stdout",
     "output_type": "stream",
     "text": [
      "ARIMA(0, 1, 1)x(0, 1, 0, 5)5 - AIC:2813.604896492062\n"
     ]
    },
    {
     "name": "stderr",
     "output_type": "stream",
     "text": [
      "/Users/jackwang/anaconda3/lib/python3.7/site-packages/statsmodels/base/model.py:512: ConvergenceWarning: Maximum Likelihood optimization failed to converge. Check mle_retvals\n",
      "  \"Check mle_retvals\", ConvergenceWarning)\n",
      "/Users/jackwang/anaconda3/lib/python3.7/site-packages/statsmodels/tsa/base/tsa_model.py:219: ValueWarning: A date index has been provided, but it has no associated frequency information and so will be ignored when e.g. forecasting.\n",
      "  ' ignored when e.g. forecasting.', ValueWarning)\n"
     ]
    },
    {
     "name": "stdout",
     "output_type": "stream",
     "text": [
      "ARIMA(0, 1, 1)x(0, 1, 1, 5)5 - AIC:2461.773137775911\n"
     ]
    },
    {
     "name": "stderr",
     "output_type": "stream",
     "text": [
      "/Users/jackwang/anaconda3/lib/python3.7/site-packages/statsmodels/base/model.py:512: ConvergenceWarning: Maximum Likelihood optimization failed to converge. Check mle_retvals\n",
      "  \"Check mle_retvals\", ConvergenceWarning)\n",
      "/Users/jackwang/anaconda3/lib/python3.7/site-packages/statsmodels/tsa/base/tsa_model.py:219: ValueWarning: A date index has been provided, but it has no associated frequency information and so will be ignored when e.g. forecasting.\n",
      "  ' ignored when e.g. forecasting.', ValueWarning)\n"
     ]
    },
    {
     "name": "stdout",
     "output_type": "stream",
     "text": [
      "ARIMA(0, 1, 1)x(1, 0, 0, 5)5 - AIC:2299.990811565831\n"
     ]
    },
    {
     "name": "stderr",
     "output_type": "stream",
     "text": [
      "/Users/jackwang/anaconda3/lib/python3.7/site-packages/statsmodels/base/model.py:512: ConvergenceWarning: Maximum Likelihood optimization failed to converge. Check mle_retvals\n",
      "  \"Check mle_retvals\", ConvergenceWarning)\n",
      "/Users/jackwang/anaconda3/lib/python3.7/site-packages/statsmodels/tsa/base/tsa_model.py:219: ValueWarning: A date index has been provided, but it has no associated frequency information and so will be ignored when e.g. forecasting.\n",
      "  ' ignored when e.g. forecasting.', ValueWarning)\n"
     ]
    },
    {
     "name": "stdout",
     "output_type": "stream",
     "text": [
      "ARIMA(0, 1, 1)x(1, 0, 1, 5)5 - AIC:2296.892567429568\n"
     ]
    },
    {
     "name": "stderr",
     "output_type": "stream",
     "text": [
      "/Users/jackwang/anaconda3/lib/python3.7/site-packages/statsmodels/base/model.py:512: ConvergenceWarning: Maximum Likelihood optimization failed to converge. Check mle_retvals\n",
      "  \"Check mle_retvals\", ConvergenceWarning)\n",
      "/Users/jackwang/anaconda3/lib/python3.7/site-packages/statsmodels/tsa/base/tsa_model.py:219: ValueWarning: A date index has been provided, but it has no associated frequency information and so will be ignored when e.g. forecasting.\n",
      "  ' ignored when e.g. forecasting.', ValueWarning)\n"
     ]
    },
    {
     "name": "stdout",
     "output_type": "stream",
     "text": [
      "ARIMA(0, 1, 1)x(1, 1, 0, 5)5 - AIC:2600.740833412651\n"
     ]
    },
    {
     "name": "stderr",
     "output_type": "stream",
     "text": [
      "/Users/jackwang/anaconda3/lib/python3.7/site-packages/statsmodels/base/model.py:512: ConvergenceWarning: Maximum Likelihood optimization failed to converge. Check mle_retvals\n",
      "  \"Check mle_retvals\", ConvergenceWarning)\n"
     ]
    },
    {
     "name": "stdout",
     "output_type": "stream",
     "text": [
      "ARIMA(0, 1, 1)x(1, 1, 1, 5)5 - AIC:2473.931283119668\n"
     ]
    },
    {
     "name": "stderr",
     "output_type": "stream",
     "text": [
      "/Users/jackwang/anaconda3/lib/python3.7/site-packages/statsmodels/tsa/base/tsa_model.py:219: ValueWarning: A date index has been provided, but it has no associated frequency information and so will be ignored when e.g. forecasting.\n",
      "  ' ignored when e.g. forecasting.', ValueWarning)\n",
      "/Users/jackwang/anaconda3/lib/python3.7/site-packages/statsmodels/base/model.py:512: ConvergenceWarning: Maximum Likelihood optimization failed to converge. Check mle_retvals\n",
      "  \"Check mle_retvals\", ConvergenceWarning)\n",
      "/Users/jackwang/anaconda3/lib/python3.7/site-packages/statsmodels/tsa/base/tsa_model.py:219: ValueWarning: A date index has been provided, but it has no associated frequency information and so will be ignored when e.g. forecasting.\n",
      "  ' ignored when e.g. forecasting.', ValueWarning)\n"
     ]
    },
    {
     "name": "stdout",
     "output_type": "stream",
     "text": [
      "ARIMA(1, 0, 0)x(0, 0, 0, 5)5 - AIC:4591.2685712671455\n",
      "ARIMA(1, 0, 0)x(0, 0, 1, 5)5 - AIC:4586.241558137399\n"
     ]
    },
    {
     "name": "stderr",
     "output_type": "stream",
     "text": [
      "/Users/jackwang/anaconda3/lib/python3.7/site-packages/statsmodels/tsa/base/tsa_model.py:219: ValueWarning: A date index has been provided, but it has no associated frequency information and so will be ignored when e.g. forecasting.\n",
      "  ' ignored when e.g. forecasting.', ValueWarning)\n",
      "/Users/jackwang/anaconda3/lib/python3.7/site-packages/statsmodels/base/model.py:512: ConvergenceWarning: Maximum Likelihood optimization failed to converge. Check mle_retvals\n",
      "  \"Check mle_retvals\", ConvergenceWarning)\n",
      "/Users/jackwang/anaconda3/lib/python3.7/site-packages/statsmodels/tsa/base/tsa_model.py:219: ValueWarning: A date index has been provided, but it has no associated frequency information and so will be ignored when e.g. forecasting.\n",
      "  ' ignored when e.g. forecasting.', ValueWarning)\n"
     ]
    },
    {
     "name": "stdout",
     "output_type": "stream",
     "text": [
      "ARIMA(1, 0, 0)x(0, 1, 0, 5)5 - AIC:2859.149934060671\n"
     ]
    },
    {
     "name": "stderr",
     "output_type": "stream",
     "text": [
      "/Users/jackwang/anaconda3/lib/python3.7/site-packages/statsmodels/base/model.py:512: ConvergenceWarning: Maximum Likelihood optimization failed to converge. Check mle_retvals\n",
      "  \"Check mle_retvals\", ConvergenceWarning)\n",
      "/Users/jackwang/anaconda3/lib/python3.7/site-packages/statsmodels/tsa/base/tsa_model.py:219: ValueWarning: A date index has been provided, but it has no associated frequency information and so will be ignored when e.g. forecasting.\n",
      "  ' ignored when e.g. forecasting.', ValueWarning)\n"
     ]
    },
    {
     "name": "stdout",
     "output_type": "stream",
     "text": [
      "ARIMA(1, 0, 0)x(0, 1, 1, 5)5 - AIC:2780.893738982132\n"
     ]
    },
    {
     "name": "stderr",
     "output_type": "stream",
     "text": [
      "/Users/jackwang/anaconda3/lib/python3.7/site-packages/statsmodels/base/model.py:512: ConvergenceWarning: Maximum Likelihood optimization failed to converge. Check mle_retvals\n",
      "  \"Check mle_retvals\", ConvergenceWarning)\n",
      "/Users/jackwang/anaconda3/lib/python3.7/site-packages/statsmodels/tsa/base/tsa_model.py:219: ValueWarning: A date index has been provided, but it has no associated frequency information and so will be ignored when e.g. forecasting.\n",
      "  ' ignored when e.g. forecasting.', ValueWarning)\n"
     ]
    },
    {
     "name": "stdout",
     "output_type": "stream",
     "text": [
      "ARIMA(1, 0, 0)x(1, 0, 0, 5)5 - AIC:4819.00895903092\n"
     ]
    },
    {
     "name": "stderr",
     "output_type": "stream",
     "text": [
      "/Users/jackwang/anaconda3/lib/python3.7/site-packages/statsmodels/base/model.py:512: ConvergenceWarning: Maximum Likelihood optimization failed to converge. Check mle_retvals\n",
      "  \"Check mle_retvals\", ConvergenceWarning)\n",
      "/Users/jackwang/anaconda3/lib/python3.7/site-packages/statsmodels/tsa/base/tsa_model.py:219: ValueWarning: A date index has been provided, but it has no associated frequency information and so will be ignored when e.g. forecasting.\n",
      "  ' ignored when e.g. forecasting.', ValueWarning)\n"
     ]
    },
    {
     "name": "stdout",
     "output_type": "stream",
     "text": [
      "ARIMA(1, 0, 0)x(1, 0, 1, 5)5 - AIC:4584.632516257963\n"
     ]
    },
    {
     "name": "stderr",
     "output_type": "stream",
     "text": [
      "/Users/jackwang/anaconda3/lib/python3.7/site-packages/statsmodels/base/model.py:512: ConvergenceWarning: Maximum Likelihood optimization failed to converge. Check mle_retvals\n",
      "  \"Check mle_retvals\", ConvergenceWarning)\n",
      "/Users/jackwang/anaconda3/lib/python3.7/site-packages/statsmodels/tsa/base/tsa_model.py:219: ValueWarning: A date index has been provided, but it has no associated frequency information and so will be ignored when e.g. forecasting.\n",
      "  ' ignored when e.g. forecasting.', ValueWarning)\n"
     ]
    },
    {
     "name": "stdout",
     "output_type": "stream",
     "text": [
      "ARIMA(1, 0, 0)x(1, 1, 0, 5)5 - AIC:2819.8841346318704\n"
     ]
    },
    {
     "name": "stderr",
     "output_type": "stream",
     "text": [
      "/Users/jackwang/anaconda3/lib/python3.7/site-packages/statsmodels/base/model.py:512: ConvergenceWarning: Maximum Likelihood optimization failed to converge. Check mle_retvals\n",
      "  \"Check mle_retvals\", ConvergenceWarning)\n"
     ]
    },
    {
     "name": "stdout",
     "output_type": "stream",
     "text": [
      "ARIMA(1, 0, 0)x(1, 1, 1, 5)5 - AIC:2783.02770505866\n"
     ]
    },
    {
     "name": "stderr",
     "output_type": "stream",
     "text": [
      "/Users/jackwang/anaconda3/lib/python3.7/site-packages/statsmodels/tsa/base/tsa_model.py:219: ValueWarning: A date index has been provided, but it has no associated frequency information and so will be ignored when e.g. forecasting.\n",
      "  ' ignored when e.g. forecasting.', ValueWarning)\n",
      "/Users/jackwang/anaconda3/lib/python3.7/site-packages/statsmodels/base/model.py:512: ConvergenceWarning: Maximum Likelihood optimization failed to converge. Check mle_retvals\n",
      "  \"Check mle_retvals\", ConvergenceWarning)\n",
      "/Users/jackwang/anaconda3/lib/python3.7/site-packages/statsmodels/tsa/base/tsa_model.py:219: ValueWarning: A date index has been provided, but it has no associated frequency information and so will be ignored when e.g. forecasting.\n",
      "  ' ignored when e.g. forecasting.', ValueWarning)\n"
     ]
    },
    {
     "name": "stdout",
     "output_type": "stream",
     "text": [
      "ARIMA(1, 0, 1)x(0, 0, 0, 5)5 - AIC:4497.923140401601\n"
     ]
    },
    {
     "name": "stderr",
     "output_type": "stream",
     "text": [
      "/Users/jackwang/anaconda3/lib/python3.7/site-packages/statsmodels/base/model.py:512: ConvergenceWarning: Maximum Likelihood optimization failed to converge. Check mle_retvals\n",
      "  \"Check mle_retvals\", ConvergenceWarning)\n",
      "/Users/jackwang/anaconda3/lib/python3.7/site-packages/statsmodels/tsa/base/tsa_model.py:219: ValueWarning: A date index has been provided, but it has no associated frequency information and so will be ignored when e.g. forecasting.\n",
      "  ' ignored when e.g. forecasting.', ValueWarning)\n"
     ]
    },
    {
     "name": "stdout",
     "output_type": "stream",
     "text": [
      "ARIMA(1, 0, 1)x(0, 0, 1, 5)5 - AIC:4514.111196205204\n"
     ]
    },
    {
     "name": "stderr",
     "output_type": "stream",
     "text": [
      "/Users/jackwang/anaconda3/lib/python3.7/site-packages/statsmodels/base/model.py:512: ConvergenceWarning: Maximum Likelihood optimization failed to converge. Check mle_retvals\n",
      "  \"Check mle_retvals\", ConvergenceWarning)\n",
      "/Users/jackwang/anaconda3/lib/python3.7/site-packages/statsmodels/tsa/base/tsa_model.py:219: ValueWarning: A date index has been provided, but it has no associated frequency information and so will be ignored when e.g. forecasting.\n",
      "  ' ignored when e.g. forecasting.', ValueWarning)\n"
     ]
    },
    {
     "name": "stdout",
     "output_type": "stream",
     "text": [
      "ARIMA(1, 0, 1)x(0, 1, 0, 5)5 - AIC:2857.1222924808276\n"
     ]
    },
    {
     "name": "stderr",
     "output_type": "stream",
     "text": [
      "/Users/jackwang/anaconda3/lib/python3.7/site-packages/statsmodels/base/model.py:512: ConvergenceWarning: Maximum Likelihood optimization failed to converge. Check mle_retvals\n",
      "  \"Check mle_retvals\", ConvergenceWarning)\n"
     ]
    },
    {
     "name": "stdout",
     "output_type": "stream",
     "text": [
      "ARIMA(1, 0, 1)x(0, 1, 1, 5)5 - AIC:2780.302313965698\n"
     ]
    },
    {
     "name": "stderr",
     "output_type": "stream",
     "text": [
      "/Users/jackwang/anaconda3/lib/python3.7/site-packages/statsmodels/tsa/base/tsa_model.py:219: ValueWarning: A date index has been provided, but it has no associated frequency information and so will be ignored when e.g. forecasting.\n",
      "  ' ignored when e.g. forecasting.', ValueWarning)\n",
      "/Users/jackwang/anaconda3/lib/python3.7/site-packages/statsmodels/base/model.py:512: ConvergenceWarning: Maximum Likelihood optimization failed to converge. Check mle_retvals\n",
      "  \"Check mle_retvals\", ConvergenceWarning)\n",
      "/Users/jackwang/anaconda3/lib/python3.7/site-packages/statsmodels/tsa/base/tsa_model.py:219: ValueWarning: A date index has been provided, but it has no associated frequency information and so will be ignored when e.g. forecasting.\n",
      "  ' ignored when e.g. forecasting.', ValueWarning)\n"
     ]
    },
    {
     "name": "stdout",
     "output_type": "stream",
     "text": [
      "ARIMA(1, 0, 1)x(1, 0, 0, 5)5 - AIC:4795.19120893949\n"
     ]
    },
    {
     "name": "stderr",
     "output_type": "stream",
     "text": [
      "/Users/jackwang/anaconda3/lib/python3.7/site-packages/statsmodels/base/model.py:512: ConvergenceWarning: Maximum Likelihood optimization failed to converge. Check mle_retvals\n",
      "  \"Check mle_retvals\", ConvergenceWarning)\n",
      "/Users/jackwang/anaconda3/lib/python3.7/site-packages/statsmodels/tsa/base/tsa_model.py:219: ValueWarning: A date index has been provided, but it has no associated frequency information and so will be ignored when e.g. forecasting.\n",
      "  ' ignored when e.g. forecasting.', ValueWarning)\n"
     ]
    },
    {
     "name": "stdout",
     "output_type": "stream",
     "text": [
      "ARIMA(1, 0, 1)x(1, 0, 1, 5)5 - AIC:4548.3675923747\n"
     ]
    },
    {
     "name": "stderr",
     "output_type": "stream",
     "text": [
      "/Users/jackwang/anaconda3/lib/python3.7/site-packages/statsmodels/base/model.py:512: ConvergenceWarning: Maximum Likelihood optimization failed to converge. Check mle_retvals\n",
      "  \"Check mle_retvals\", ConvergenceWarning)\n",
      "/Users/jackwang/anaconda3/lib/python3.7/site-packages/statsmodels/tsa/base/tsa_model.py:219: ValueWarning: A date index has been provided, but it has no associated frequency information and so will be ignored when e.g. forecasting.\n",
      "  ' ignored when e.g. forecasting.', ValueWarning)\n"
     ]
    },
    {
     "name": "stdout",
     "output_type": "stream",
     "text": [
      "ARIMA(1, 0, 1)x(1, 1, 0, 5)5 - AIC:2821.5682855571763\n"
     ]
    },
    {
     "name": "stderr",
     "output_type": "stream",
     "text": [
      "/Users/jackwang/anaconda3/lib/python3.7/site-packages/statsmodels/base/model.py:512: ConvergenceWarning: Maximum Likelihood optimization failed to converge. Check mle_retvals\n",
      "  \"Check mle_retvals\", ConvergenceWarning)\n",
      "/Users/jackwang/anaconda3/lib/python3.7/site-packages/statsmodels/tsa/base/tsa_model.py:219: ValueWarning: A date index has been provided, but it has no associated frequency information and so will be ignored when e.g. forecasting.\n",
      "  ' ignored when e.g. forecasting.', ValueWarning)\n"
     ]
    },
    {
     "name": "stdout",
     "output_type": "stream",
     "text": [
      "ARIMA(1, 0, 1)x(1, 1, 1, 5)5 - AIC:2782.435064177847\n"
     ]
    },
    {
     "name": "stderr",
     "output_type": "stream",
     "text": [
      "/Users/jackwang/anaconda3/lib/python3.7/site-packages/statsmodels/base/model.py:512: ConvergenceWarning: Maximum Likelihood optimization failed to converge. Check mle_retvals\n",
      "  \"Check mle_retvals\", ConvergenceWarning)\n",
      "/Users/jackwang/anaconda3/lib/python3.7/site-packages/statsmodels/tsa/base/tsa_model.py:219: ValueWarning: A date index has been provided, but it has no associated frequency information and so will be ignored when e.g. forecasting.\n",
      "  ' ignored when e.g. forecasting.', ValueWarning)\n"
     ]
    },
    {
     "name": "stdout",
     "output_type": "stream",
     "text": [
      "ARIMA(1, 1, 0)x(0, 0, 0, 5)5 - AIC:2308.7995266502335\n"
     ]
    },
    {
     "name": "stderr",
     "output_type": "stream",
     "text": [
      "/Users/jackwang/anaconda3/lib/python3.7/site-packages/statsmodels/base/model.py:512: ConvergenceWarning: Maximum Likelihood optimization failed to converge. Check mle_retvals\n",
      "  \"Check mle_retvals\", ConvergenceWarning)\n",
      "/Users/jackwang/anaconda3/lib/python3.7/site-packages/statsmodels/tsa/base/tsa_model.py:219: ValueWarning: A date index has been provided, but it has no associated frequency information and so will be ignored when e.g. forecasting.\n",
      "  ' ignored when e.g. forecasting.', ValueWarning)\n"
     ]
    },
    {
     "name": "stdout",
     "output_type": "stream",
     "text": [
      "ARIMA(1, 1, 0)x(0, 0, 1, 5)5 - AIC:2297.796935770449\n"
     ]
    },
    {
     "name": "stderr",
     "output_type": "stream",
     "text": [
      "/Users/jackwang/anaconda3/lib/python3.7/site-packages/statsmodels/base/model.py:512: ConvergenceWarning: Maximum Likelihood optimization failed to converge. Check mle_retvals\n",
      "  \"Check mle_retvals\", ConvergenceWarning)\n",
      "/Users/jackwang/anaconda3/lib/python3.7/site-packages/statsmodels/tsa/base/tsa_model.py:219: ValueWarning: A date index has been provided, but it has no associated frequency information and so will be ignored when e.g. forecasting.\n",
      "  ' ignored when e.g. forecasting.', ValueWarning)\n"
     ]
    },
    {
     "name": "stdout",
     "output_type": "stream",
     "text": [
      "ARIMA(1, 1, 0)x(0, 1, 0, 5)5 - AIC:2816.401033562841\n"
     ]
    },
    {
     "name": "stderr",
     "output_type": "stream",
     "text": [
      "/Users/jackwang/anaconda3/lib/python3.7/site-packages/statsmodels/base/model.py:512: ConvergenceWarning: Maximum Likelihood optimization failed to converge. Check mle_retvals\n",
      "  \"Check mle_retvals\", ConvergenceWarning)\n",
      "/Users/jackwang/anaconda3/lib/python3.7/site-packages/statsmodels/tsa/base/tsa_model.py:219: ValueWarning: A date index has been provided, but it has no associated frequency information and so will be ignored when e.g. forecasting.\n",
      "  ' ignored when e.g. forecasting.', ValueWarning)\n"
     ]
    },
    {
     "name": "stdout",
     "output_type": "stream",
     "text": [
      "ARIMA(1, 1, 0)x(0, 1, 1, 5)5 - AIC:2464.0600439952327\n"
     ]
    },
    {
     "name": "stderr",
     "output_type": "stream",
     "text": [
      "/Users/jackwang/anaconda3/lib/python3.7/site-packages/statsmodels/base/model.py:512: ConvergenceWarning: Maximum Likelihood optimization failed to converge. Check mle_retvals\n",
      "  \"Check mle_retvals\", ConvergenceWarning)\n",
      "/Users/jackwang/anaconda3/lib/python3.7/site-packages/statsmodels/tsa/base/tsa_model.py:219: ValueWarning: A date index has been provided, but it has no associated frequency information and so will be ignored when e.g. forecasting.\n",
      "  ' ignored when e.g. forecasting.', ValueWarning)\n"
     ]
    },
    {
     "name": "stdout",
     "output_type": "stream",
     "text": [
      "ARIMA(1, 1, 0)x(1, 0, 0, 5)5 - AIC:2297.7670575156644\n"
     ]
    },
    {
     "name": "stderr",
     "output_type": "stream",
     "text": [
      "/Users/jackwang/anaconda3/lib/python3.7/site-packages/statsmodels/base/model.py:512: ConvergenceWarning: Maximum Likelihood optimization failed to converge. Check mle_retvals\n",
      "  \"Check mle_retvals\", ConvergenceWarning)\n",
      "/Users/jackwang/anaconda3/lib/python3.7/site-packages/statsmodels/tsa/base/tsa_model.py:219: ValueWarning: A date index has been provided, but it has no associated frequency information and so will be ignored when e.g. forecasting.\n",
      "  ' ignored when e.g. forecasting.', ValueWarning)\n"
     ]
    },
    {
     "name": "stdout",
     "output_type": "stream",
     "text": [
      "ARIMA(1, 1, 0)x(1, 0, 1, 5)5 - AIC:2299.399996442011\n"
     ]
    },
    {
     "name": "stderr",
     "output_type": "stream",
     "text": [
      "/Users/jackwang/anaconda3/lib/python3.7/site-packages/statsmodels/base/model.py:512: ConvergenceWarning: Maximum Likelihood optimization failed to converge. Check mle_retvals\n",
      "  \"Check mle_retvals\", ConvergenceWarning)\n",
      "/Users/jackwang/anaconda3/lib/python3.7/site-packages/statsmodels/tsa/base/tsa_model.py:219: ValueWarning: A date index has been provided, but it has no associated frequency information and so will be ignored when e.g. forecasting.\n",
      "  ' ignored when e.g. forecasting.', ValueWarning)\n"
     ]
    },
    {
     "name": "stdout",
     "output_type": "stream",
     "text": [
      "ARIMA(1, 1, 0)x(1, 1, 0, 5)5 - AIC:2596.1635219949294\n"
     ]
    },
    {
     "name": "stderr",
     "output_type": "stream",
     "text": [
      "/Users/jackwang/anaconda3/lib/python3.7/site-packages/statsmodels/base/model.py:512: ConvergenceWarning: Maximum Likelihood optimization failed to converge. Check mle_retvals\n",
      "  \"Check mle_retvals\", ConvergenceWarning)\n",
      "/Users/jackwang/anaconda3/lib/python3.7/site-packages/statsmodels/tsa/base/tsa_model.py:219: ValueWarning: A date index has been provided, but it has no associated frequency information and so will be ignored when e.g. forecasting.\n",
      "  ' ignored when e.g. forecasting.', ValueWarning)\n"
     ]
    },
    {
     "name": "stdout",
     "output_type": "stream",
     "text": [
      "ARIMA(1, 1, 0)x(1, 1, 1, 5)5 - AIC:2476.404813645102\n"
     ]
    },
    {
     "name": "stderr",
     "output_type": "stream",
     "text": [
      "/Users/jackwang/anaconda3/lib/python3.7/site-packages/statsmodels/base/model.py:512: ConvergenceWarning: Maximum Likelihood optimization failed to converge. Check mle_retvals\n",
      "  \"Check mle_retvals\", ConvergenceWarning)\n",
      "/Users/jackwang/anaconda3/lib/python3.7/site-packages/statsmodels/tsa/base/tsa_model.py:219: ValueWarning: A date index has been provided, but it has no associated frequency information and so will be ignored when e.g. forecasting.\n",
      "  ' ignored when e.g. forecasting.', ValueWarning)\n"
     ]
    },
    {
     "name": "stdout",
     "output_type": "stream",
     "text": [
      "ARIMA(1, 1, 1)x(0, 0, 0, 5)5 - AIC:2308.7345114858394\n"
     ]
    },
    {
     "name": "stderr",
     "output_type": "stream",
     "text": [
      "/Users/jackwang/anaconda3/lib/python3.7/site-packages/statsmodels/base/model.py:512: ConvergenceWarning: Maximum Likelihood optimization failed to converge. Check mle_retvals\n",
      "  \"Check mle_retvals\", ConvergenceWarning)\n",
      "/Users/jackwang/anaconda3/lib/python3.7/site-packages/statsmodels/tsa/base/tsa_model.py:219: ValueWarning: A date index has been provided, but it has no associated frequency information and so will be ignored when e.g. forecasting.\n",
      "  ' ignored when e.g. forecasting.', ValueWarning)\n"
     ]
    },
    {
     "name": "stdout",
     "output_type": "stream",
     "text": [
      "ARIMA(1, 1, 1)x(0, 0, 1, 5)5 - AIC:2297.2748218728348\n"
     ]
    },
    {
     "name": "stderr",
     "output_type": "stream",
     "text": [
      "/Users/jackwang/anaconda3/lib/python3.7/site-packages/statsmodels/base/model.py:512: ConvergenceWarning: Maximum Likelihood optimization failed to converge. Check mle_retvals\n",
      "  \"Check mle_retvals\", ConvergenceWarning)\n"
     ]
    },
    {
     "name": "stdout",
     "output_type": "stream",
     "text": [
      "ARIMA(1, 1, 1)x(0, 1, 0, 5)5 - AIC:2815.42183656119\n"
     ]
    },
    {
     "name": "stderr",
     "output_type": "stream",
     "text": [
      "/Users/jackwang/anaconda3/lib/python3.7/site-packages/statsmodels/tsa/base/tsa_model.py:219: ValueWarning: A date index has been provided, but it has no associated frequency information and so will be ignored when e.g. forecasting.\n",
      "  ' ignored when e.g. forecasting.', ValueWarning)\n",
      "/Users/jackwang/anaconda3/lib/python3.7/site-packages/statsmodels/base/model.py:512: ConvergenceWarning: Maximum Likelihood optimization failed to converge. Check mle_retvals\n",
      "  \"Check mle_retvals\", ConvergenceWarning)\n"
     ]
    },
    {
     "name": "stdout",
     "output_type": "stream",
     "text": [
      "ARIMA(1, 1, 1)x(0, 1, 1, 5)5 - AIC:2463.7269348919085\n"
     ]
    },
    {
     "name": "stderr",
     "output_type": "stream",
     "text": [
      "/Users/jackwang/anaconda3/lib/python3.7/site-packages/statsmodels/tsa/base/tsa_model.py:219: ValueWarning: A date index has been provided, but it has no associated frequency information and so will be ignored when e.g. forecasting.\n",
      "  ' ignored when e.g. forecasting.', ValueWarning)\n",
      "/Users/jackwang/anaconda3/lib/python3.7/site-packages/statsmodels/base/model.py:512: ConvergenceWarning: Maximum Likelihood optimization failed to converge. Check mle_retvals\n",
      "  \"Check mle_retvals\", ConvergenceWarning)\n",
      "/Users/jackwang/anaconda3/lib/python3.7/site-packages/statsmodels/tsa/base/tsa_model.py:219: ValueWarning: A date index has been provided, but it has no associated frequency information and so will be ignored when e.g. forecasting.\n",
      "  ' ignored when e.g. forecasting.', ValueWarning)\n"
     ]
    },
    {
     "name": "stdout",
     "output_type": "stream",
     "text": [
      "ARIMA(1, 1, 1)x(1, 0, 0, 5)5 - AIC:2299.7153378616063\n"
     ]
    },
    {
     "name": "stderr",
     "output_type": "stream",
     "text": [
      "/Users/jackwang/anaconda3/lib/python3.7/site-packages/statsmodels/base/model.py:512: ConvergenceWarning: Maximum Likelihood optimization failed to converge. Check mle_retvals\n",
      "  \"Check mle_retvals\", ConvergenceWarning)\n",
      "/Users/jackwang/anaconda3/lib/python3.7/site-packages/statsmodels/tsa/base/tsa_model.py:219: ValueWarning: A date index has been provided, but it has no associated frequency information and so will be ignored when e.g. forecasting.\n",
      "  ' ignored when e.g. forecasting.', ValueWarning)\n"
     ]
    },
    {
     "name": "stdout",
     "output_type": "stream",
     "text": [
      "ARIMA(1, 1, 1)x(1, 0, 1, 5)5 - AIC:2298.7869699871007\n"
     ]
    },
    {
     "name": "stderr",
     "output_type": "stream",
     "text": [
      "/Users/jackwang/anaconda3/lib/python3.7/site-packages/statsmodels/base/model.py:512: ConvergenceWarning: Maximum Likelihood optimization failed to converge. Check mle_retvals\n",
      "  \"Check mle_retvals\", ConvergenceWarning)\n",
      "/Users/jackwang/anaconda3/lib/python3.7/site-packages/statsmodels/tsa/base/tsa_model.py:219: ValueWarning: A date index has been provided, but it has no associated frequency information and so will be ignored when e.g. forecasting.\n",
      "  ' ignored when e.g. forecasting.', ValueWarning)\n"
     ]
    },
    {
     "name": "stdout",
     "output_type": "stream",
     "text": [
      "ARIMA(1, 1, 1)x(1, 1, 0, 5)5 - AIC:2598.3059255940325\n"
     ]
    },
    {
     "name": "stderr",
     "output_type": "stream",
     "text": [
      "/Users/jackwang/anaconda3/lib/python3.7/site-packages/statsmodels/base/model.py:512: ConvergenceWarning: Maximum Likelihood optimization failed to converge. Check mle_retvals\n",
      "  \"Check mle_retvals\", ConvergenceWarning)\n"
     ]
    },
    {
     "name": "stdout",
     "output_type": "stream",
     "text": [
      "ARIMA(1, 1, 1)x(1, 1, 1, 5)5 - AIC:2475.822908532642\n"
     ]
    }
   ],
   "source": [
    "for param in pdq:\n",
    "    for param_seasonal in seasonal_pdq:\n",
    "        try:\n",
    "            mod = sm.tsa.statespace.SARIMAX(train['open_price'],\n",
    "                                            train.drop(columns='open_price'),\n",
    "                                            order=param,\n",
    "                                            seasonal_order=param_seasonal,\n",
    "                                            enforce_stationarity=False,\n",
    "                                            enforce_invertibility=False)\n",
    "\n",
    "            results = mod.fit()\n",
    "            print('ARIMA{}x{} - AIC: {}'.format(param, param_seasonal, results.aic))\n",
    "        except:\n",
    "            continue"
   ]
  },
  {
   "cell_type": "markdown",
   "metadata": {},
   "source": [
    "The best SARIMAX model based on AIC score is with (0, 1, 1)X(0, 0, 1, 5)"
   ]
  },
  {
   "cell_type": "code",
   "execution_count": 320,
   "metadata": {},
   "outputs": [
    {
     "name": "stderr",
     "output_type": "stream",
     "text": [
      "/Users/jackwang/anaconda3/lib/python3.7/site-packages/statsmodels/tsa/base/tsa_model.py:219: ValueWarning: A date index has been provided, but it has no associated frequency information and so will be ignored when e.g. forecasting.\n",
      "  ' ignored when e.g. forecasting.', ValueWarning)\n"
     ]
    },
    {
     "name": "stdout",
     "output_type": "stream",
     "text": [
      "=============================================================================================\n",
      "                                coef    std err          z      P>|z|      [0.025      0.975]\n",
      "---------------------------------------------------------------------------------------------\n",
      "tweet_word_count_sum       1.833e-07   1.36e-06      0.134      0.893   -2.49e-06    2.86e-06\n",
      "tweet_compound_score_sum  -3.886e-05      0.000     -0.158      0.875      -0.001       0.000\n",
      "tweets_sum                -1.533e-06   9.91e-05     -0.015      0.988      -0.000       0.000\n",
      "tweet_word_count_mean        -0.0316      0.059     -0.534      0.593      -0.148       0.084\n",
      "tweet_compound_score_mean     0.8533      1.210      0.705      0.481      -1.518       3.225\n",
      "redd_gun_score_mean           0.0018      0.005      0.389      0.698      -0.007       0.011\n",
      "redd_gun_comment_mean         0.0641      0.021      3.048      0.002       0.023       0.105\n",
      "redd_gun_compound_mean        0.3961      0.256      1.546      0.122      -0.106       0.898\n",
      "redd_gun_score_sum            0.0069      0.002      3.052      0.002       0.002       0.011\n",
      "redd_gun_comment_sum         -0.0763      0.019     -3.936      0.000      -0.114      -0.038\n",
      "redd_gun_post_count           0.2700      0.114      2.365      0.018       0.046       0.494\n",
      "redd_pol_score_mean          -0.0003      0.000     -1.212      0.225      -0.001       0.000\n",
      "redd_pol_comment_mean         0.0011      0.001      1.331      0.183      -0.000       0.003\n",
      "redd_pol_compound_mean        0.0308      0.127      0.243      0.808      -0.218       0.280\n",
      "redd_pol_score_sum         5.333e-05   3.02e-05      1.763      0.078   -5.95e-06       0.000\n",
      "redd_pol_comment_sum         -0.0003      0.000     -1.554      0.120      -0.001    7.75e-05\n",
      "redd_pol_post_count          -0.0090      0.014     -0.658      0.511      -0.036       0.018\n",
      "10-k                         -0.4296      0.460     -0.933      0.351      -1.332       0.473\n",
      "10-q                          1.4695      0.176      8.369      0.000       1.125       1.814\n",
      "8-k                           0.0496      0.112      0.442      0.659      -0.171       0.270\n",
      "ma.L1                         0.0546      0.032      1.717      0.086      -0.008       0.117\n",
      "ma.S.L5                      -0.0149      0.045     -0.327      0.743      -0.104       0.074\n",
      "sigma2                        1.1980      0.034     35.087      0.000       1.131       1.265\n",
      "=============================================================================================\n"
     ]
    },
    {
     "name": "stderr",
     "output_type": "stream",
     "text": [
      "/Users/jackwang/anaconda3/lib/python3.7/site-packages/statsmodels/base/model.py:512: ConvergenceWarning: Maximum Likelihood optimization failed to converge. Check mle_retvals\n",
      "  \"Check mle_retvals\", ConvergenceWarning)\n"
     ]
    }
   ],
   "source": [
    "mod = sm.tsa.statespace.SARIMAX(train['open_price'],\n",
    "                                train.drop(columns='open_price'),\n",
    "                                order=(0, 1, 1),\n",
    "                                seasonal_order=(0, 0, 1, 5),\n",
    "                                enforce_stationarity=False,\n",
    "                                enforce_invertibility=False)\n",
    "\n",
    "results = mod.fit()\n",
    "\n",
    "print(results.summary().tables[1])"
   ]
  },
  {
   "cell_type": "markdown",
   "metadata": {},
   "source": [
    "**As we can see, the p-value for all features are pretty high. We can conclude this model is performing poorly.**"
   ]
  },
  {
   "cell_type": "code",
   "execution_count": 321,
   "metadata": {},
   "outputs": [
    {
     "data": {
      "image/png": "[encoded data removed]",
      "text/plain": [
       "<Figure size 1080x864 with 4 Axes>"
      ]
     },
     "metadata": {},
     "output_type": "display_data"
    }
   ],
   "source": [
    "results.plot_diagnostics(figsize=(15, 12))\n",
    "plt.show()"
   ]
  },
  {
   "cell_type": "markdown",
   "metadata": {},
   "source": [
    "**The above plot shows that the residuals of our model are not normally distributed well. We should improve on our model. Our ultimate goal is to have uncorrelated residuals and normally distributed residuals.**"
   ]
  },
  {
   "cell_type": "code",
   "execution_count": 322,
   "metadata": {},
   "outputs": [],
   "source": [
    "test_dates = test.index"
   ]
  },
  {
   "cell_type": "code",
   "execution_count": 323,
   "metadata": {},
   "outputs": [
    {
     "data": {
      "text/plain": [
       "date\n",
       "2019-01-02    50.724806\n",
       "2019-01-03    53.737968\n",
       "2019-01-04    49.239034\n",
       "2019-01-07    58.241796\n",
       "2019-01-08    55.854023\n",
       "                ...    \n",
       "2019-09-24    38.686285\n",
       "2019-09-25    41.416525\n",
       "2019-09-26    42.199152\n",
       "2019-09-27    36.433593\n",
       "2019-09-30    42.961223\n",
       "Length: 188, dtype: float64"
      ]
     },
     "execution_count": 323,
     "metadata": {},
     "output_type": "execute_result"
    }
   ],
   "source": [
    "sarima_preds"
   ]
  },
  {
   "cell_type": "code",
   "execution_count": 324,
   "metadata": {},
   "outputs": [],
   "source": [
    "sarima_preds = results.predict(start = test_dates[0], end = test_dates[-1])"
   ]
  },
  {
   "cell_type": "code",
   "execution_count": 325,
   "metadata": {},
   "outputs": [
    {
     "data": {
      "image/png": "[encoded data removed]",
      "text/plain": [
       "<Figure size 1440x720 with 1 Axes>"
      ]
     },
     "metadata": {},
     "output_type": "display_data"
    }
   ],
   "source": [
    "# Set figure size.\n",
    "plt.figure(figsize=(20,10))\n",
    "\n",
    "# Plot training data.\n",
    "#plt.plot(train.index, pd.DataFrame(train['open_price']), color = 'blue')\n",
    "\n",
    "# Plot testing data.\n",
    "plt.plot(test.index, pd.DataFrame(test['open_price']), color = 'orange')\n",
    "\n",
    "# Plot predicted test values.\n",
    "plt.plot(test.index, pd.DataFrame(sarima_preds), color = 'green')\n",
    "\n",
    "# Set label.\n",
    "plt.title(label = 'SARIMAX(1,0,0) Predictions', fontsize=24)\n",
    "\n",
    "# Resize tick marks.\n",
    "plt.xticks(fontsize=20)\n",
    "plt.yticks(fontsize=20);"
   ]
  },
  {
   "cell_type": "code",
   "execution_count": 326,
   "metadata": {},
   "outputs": [
    {
     "data": {
      "text/plain": [
       "0.7492546117387755"
      ]
     },
     "execution_count": 326,
     "metadata": {},
     "output_type": "execute_result"
    }
   ],
   "source": [
    "# MSE\n",
    "mean_squared_error(pd.DataFrame(test['open_price']), sarima_preds)"
   ]
  },
  {
   "cell_type": "code",
   "execution_count": null,
   "metadata": {},
   "outputs": [],
   "source": []
  }
 ],
 "metadata": {
  "kernelspec": {
   "display_name": "Python 3",
   "language": "python",
   "name": "python3"
  },
  "language_info": {
   "codemirror_mode": {
    "name": "ipython",
    "version": 3
   },
   "file_extension": ".py",
   "mimetype": "text/x-python",
   "name": "python",
   "nbconvert_exporter": "python",
   "pygments_lexer": "ipython3",
   "version": "3.7.3"
  }
 },
 "nbformat": 4,
 "nbformat_minor": 2
}
